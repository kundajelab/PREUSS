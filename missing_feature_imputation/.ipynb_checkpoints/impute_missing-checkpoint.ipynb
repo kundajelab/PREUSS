{
 "cells": [
  {
   "cell_type": "code",
   "execution_count": 39,
   "metadata": {
    "ExecuteTime": {
     "end_time": "2020-04-24T21:57:52.198241Z",
     "start_time": "2020-04-24T21:57:48.312Z"
    }
   },
   "outputs": [],
   "source": [
    "rm(list=ls())\n",
    "library(caret)\n",
    "library(pcaMethods)\n"
   ]
  },
  {
   "cell_type": "code",
   "execution_count": 40,
   "metadata": {
    "ExecuteTime": {
     "end_time": "2020-04-24T21:57:52.940179Z",
     "start_time": "2020-04-24T21:57:49.065Z"
    }
   },
   "outputs": [],
   "source": [
    "data=read.table(\"../xin_feature_matrices/neil1_computational.features.csv\",header=TRUE,sep=',')"
   ]
  },
  {
   "cell_type": "code",
   "execution_count": 41,
   "metadata": {
    "ExecuteTime": {
     "end_time": "2020-04-24T21:57:53.277369Z",
     "start_time": "2020-04-24T21:57:49.387Z"
    }
   },
   "outputs": [
    {
     "data": {
      "text/html": [
       "<table>\n",
       "<caption>A data.frame: 6 × 124</caption>\n",
       "<thead>\n",
       "\t<tr><th></th><th scope=col>rna_id</th><th scope=col>editing_value</th><th scope=col>free_energy</th><th scope=col>sim_nor_score</th><th scope=col>probability_active_conf</th><th scope=col>num_mutations</th><th scope=col>mut_exist</th><th scope=col>mut_type</th><th scope=col>mut_pos</th><th scope=col>mut_site_dist</th><th scope=col>⋯</th><th scope=col>d3_length_stem</th><th scope=col>d3_length_hairpin</th><th scope=col>d3_length_bulge</th><th scope=col>d3_length_internal_es</th><th scope=col>d3_length_internal_ecs</th><th scope=col>d3_5prm_cp_hairpin</th><th scope=col>d3_5prm_cp_bulge</th><th scope=col>d3_3prm_cp_bulge</th><th scope=col>d3_5prm_cp_internal</th><th scope=col>d3_3prm_cp_internal</th></tr>\n",
       "\t<tr><th></th><th scope=col>&lt;int&gt;</th><th scope=col>&lt;dbl&gt;</th><th scope=col>&lt;dbl&gt;</th><th scope=col>&lt;dbl&gt;</th><th scope=col>&lt;dbl&gt;</th><th scope=col>&lt;int&gt;</th><th scope=col>&lt;int&gt;</th><th scope=col>&lt;fct&gt;</th><th scope=col>&lt;int&gt;</th><th scope=col>&lt;int&gt;</th><th scope=col>⋯</th><th scope=col>&lt;int&gt;</th><th scope=col>&lt;lgl&gt;</th><th scope=col>&lt;lgl&gt;</th><th scope=col>&lt;lgl&gt;</th><th scope=col>&lt;lgl&gt;</th><th scope=col>&lt;lgl&gt;</th><th scope=col>&lt;lgl&gt;</th><th scope=col>&lt;lgl&gt;</th><th scope=col>&lt;lgl&gt;</th><th scope=col>&lt;lgl&gt;</th></tr>\n",
       "</thead>\n",
       "<tbody>\n",
       "\t<tr><th scope=row>1</th><td>1</td><td>0.58</td><td>-41.29</td><td>0.9930</td><td>0.13760977</td><td>1</td><td>1</td><td>mismatch</td><td>41</td><td>-6</td><td>⋯</td><td>5</td><td>NA</td><td>NA</td><td>NA</td><td>NA</td><td>NA</td><td>NA</td><td>NA</td><td>NA</td><td>NA</td></tr>\n",
       "\t<tr><th scope=row>2</th><td>2</td><td>0.46</td><td>-39.30</td><td>0.9125</td><td>0.13179857</td><td>1</td><td>1</td><td>mismatch</td><td>42</td><td>-5</td><td>⋯</td><td>5</td><td>NA</td><td>NA</td><td>NA</td><td>NA</td><td>NA</td><td>NA</td><td>NA</td><td>NA</td><td>NA</td></tr>\n",
       "\t<tr><th scope=row>3</th><td>3</td><td>0.49</td><td>-40.32</td><td>0.9301</td><td>0.06544923</td><td>1</td><td>1</td><td>mismatch</td><td>43</td><td>-4</td><td>⋯</td><td>5</td><td>NA</td><td>NA</td><td>NA</td><td>NA</td><td>NA</td><td>NA</td><td>NA</td><td>NA</td><td>NA</td></tr>\n",
       "\t<tr><th scope=row>4</th><td>4</td><td>0.48</td><td>-44.78</td><td>1.0000</td><td>0.32195827</td><td>1</td><td>1</td><td>mismatch</td><td>44</td><td>-3</td><td>⋯</td><td>5</td><td>NA</td><td>NA</td><td>NA</td><td>NA</td><td>NA</td><td>NA</td><td>NA</td><td>NA</td><td>NA</td></tr>\n",
       "\t<tr><th scope=row>5</th><td>5</td><td>0.59</td><td>-41.45</td><td>0.7448</td><td>0.16923271</td><td>1</td><td>1</td><td>mismatch</td><td>45</td><td>-2</td><td>⋯</td><td>9</td><td>NA</td><td>NA</td><td>NA</td><td>NA</td><td>NA</td><td>NA</td><td>NA</td><td>NA</td><td>NA</td></tr>\n",
       "\t<tr><th scope=row>6</th><td>6</td><td>0.39</td><td>-40.44</td><td>0.9853</td><td>0.12329848</td><td>1</td><td>1</td><td>mismatch</td><td>49</td><td> 2</td><td>⋯</td><td>5</td><td>NA</td><td>NA</td><td>NA</td><td>NA</td><td>NA</td><td>NA</td><td>NA</td><td>NA</td><td>NA</td></tr>\n",
       "</tbody>\n",
       "</table>\n"
      ],
      "text/latex": [
       "A data.frame: 6 × 124\n",
       "\\begin{tabular}{r|lllllllllllllllllllll}\n",
       "  & rna\\_id & editing\\_value & free\\_energy & sim\\_nor\\_score & probability\\_active\\_conf & num\\_mutations & mut\\_exist & mut\\_type & mut\\_pos & mut\\_site\\_dist & ⋯ & d3\\_length\\_stem & d3\\_length\\_hairpin & d3\\_length\\_bulge & d3\\_length\\_internal\\_es & d3\\_length\\_internal\\_ecs & d3\\_5prm\\_cp\\_hairpin & d3\\_5prm\\_cp\\_bulge & d3\\_3prm\\_cp\\_bulge & d3\\_5prm\\_cp\\_internal & d3\\_3prm\\_cp\\_internal\\\\\n",
       "  & <int> & <dbl> & <dbl> & <dbl> & <dbl> & <int> & <int> & <fct> & <int> & <int> & ⋯ & <int> & <lgl> & <lgl> & <lgl> & <lgl> & <lgl> & <lgl> & <lgl> & <lgl> & <lgl>\\\\\n",
       "\\hline\n",
       "\t1 & 1 & 0.58 & -41.29 & 0.9930 & 0.13760977 & 1 & 1 & mismatch & 41 & -6 & ⋯ & 5 & NA & NA & NA & NA & NA & NA & NA & NA & NA\\\\\n",
       "\t2 & 2 & 0.46 & -39.30 & 0.9125 & 0.13179857 & 1 & 1 & mismatch & 42 & -5 & ⋯ & 5 & NA & NA & NA & NA & NA & NA & NA & NA & NA\\\\\n",
       "\t3 & 3 & 0.49 & -40.32 & 0.9301 & 0.06544923 & 1 & 1 & mismatch & 43 & -4 & ⋯ & 5 & NA & NA & NA & NA & NA & NA & NA & NA & NA\\\\\n",
       "\t4 & 4 & 0.48 & -44.78 & 1.0000 & 0.32195827 & 1 & 1 & mismatch & 44 & -3 & ⋯ & 5 & NA & NA & NA & NA & NA & NA & NA & NA & NA\\\\\n",
       "\t5 & 5 & 0.59 & -41.45 & 0.7448 & 0.16923271 & 1 & 1 & mismatch & 45 & -2 & ⋯ & 9 & NA & NA & NA & NA & NA & NA & NA & NA & NA\\\\\n",
       "\t6 & 6 & 0.39 & -40.44 & 0.9853 & 0.12329848 & 1 & 1 & mismatch & 49 &  2 & ⋯ & 5 & NA & NA & NA & NA & NA & NA & NA & NA & NA\\\\\n",
       "\\end{tabular}\n"
      ],
      "text/markdown": [
       "\n",
       "A data.frame: 6 × 124\n",
       "\n",
       "| <!--/--> | rna_id &lt;int&gt; | editing_value &lt;dbl&gt; | free_energy &lt;dbl&gt; | sim_nor_score &lt;dbl&gt; | probability_active_conf &lt;dbl&gt; | num_mutations &lt;int&gt; | mut_exist &lt;int&gt; | mut_type &lt;fct&gt; | mut_pos &lt;int&gt; | mut_site_dist &lt;int&gt; | ⋯ ⋯ | d3_length_stem &lt;int&gt; | d3_length_hairpin &lt;lgl&gt; | d3_length_bulge &lt;lgl&gt; | d3_length_internal_es &lt;lgl&gt; | d3_length_internal_ecs &lt;lgl&gt; | d3_5prm_cp_hairpin &lt;lgl&gt; | d3_5prm_cp_bulge &lt;lgl&gt; | d3_3prm_cp_bulge &lt;lgl&gt; | d3_5prm_cp_internal &lt;lgl&gt; | d3_3prm_cp_internal &lt;lgl&gt; |\n",
       "|---|---|---|---|---|---|---|---|---|---|---|---|---|---|---|---|---|---|---|---|---|---|\n",
       "| 1 | 1 | 0.58 | -41.29 | 0.9930 | 0.13760977 | 1 | 1 | mismatch | 41 | -6 | ⋯ | 5 | NA | NA | NA | NA | NA | NA | NA | NA | NA |\n",
       "| 2 | 2 | 0.46 | -39.30 | 0.9125 | 0.13179857 | 1 | 1 | mismatch | 42 | -5 | ⋯ | 5 | NA | NA | NA | NA | NA | NA | NA | NA | NA |\n",
       "| 3 | 3 | 0.49 | -40.32 | 0.9301 | 0.06544923 | 1 | 1 | mismatch | 43 | -4 | ⋯ | 5 | NA | NA | NA | NA | NA | NA | NA | NA | NA |\n",
       "| 4 | 4 | 0.48 | -44.78 | 1.0000 | 0.32195827 | 1 | 1 | mismatch | 44 | -3 | ⋯ | 5 | NA | NA | NA | NA | NA | NA | NA | NA | NA |\n",
       "| 5 | 5 | 0.59 | -41.45 | 0.7448 | 0.16923271 | 1 | 1 | mismatch | 45 | -2 | ⋯ | 9 | NA | NA | NA | NA | NA | NA | NA | NA | NA |\n",
       "| 6 | 6 | 0.39 | -40.44 | 0.9853 | 0.12329848 | 1 | 1 | mismatch | 49 |  2 | ⋯ | 5 | NA | NA | NA | NA | NA | NA | NA | NA | NA |\n",
       "\n"
      ],
      "text/plain": [
       "  rna_id editing_value free_energy sim_nor_score probability_active_conf\n",
       "1 1      0.58          -41.29      0.9930        0.13760977             \n",
       "2 2      0.46          -39.30      0.9125        0.13179857             \n",
       "3 3      0.49          -40.32      0.9301        0.06544923             \n",
       "4 4      0.48          -44.78      1.0000        0.32195827             \n",
       "5 5      0.59          -41.45      0.7448        0.16923271             \n",
       "6 6      0.39          -40.44      0.9853        0.12329848             \n",
       "  num_mutations mut_exist mut_type mut_pos mut_site_dist ⋯ d3_length_stem\n",
       "1 1             1         mismatch 41      -6            ⋯ 5             \n",
       "2 1             1         mismatch 42      -5            ⋯ 5             \n",
       "3 1             1         mismatch 43      -4            ⋯ 5             \n",
       "4 1             1         mismatch 44      -3            ⋯ 5             \n",
       "5 1             1         mismatch 45      -2            ⋯ 9             \n",
       "6 1             1         mismatch 49       2            ⋯ 5             \n",
       "  d3_length_hairpin d3_length_bulge d3_length_internal_es\n",
       "1 NA                NA              NA                   \n",
       "2 NA                NA              NA                   \n",
       "3 NA                NA              NA                   \n",
       "4 NA                NA              NA                   \n",
       "5 NA                NA              NA                   \n",
       "6 NA                NA              NA                   \n",
       "  d3_length_internal_ecs d3_5prm_cp_hairpin d3_5prm_cp_bulge d3_3prm_cp_bulge\n",
       "1 NA                     NA                 NA               NA              \n",
       "2 NA                     NA                 NA               NA              \n",
       "3 NA                     NA                 NA               NA              \n",
       "4 NA                     NA                 NA               NA              \n",
       "5 NA                     NA                 NA               NA              \n",
       "6 NA                     NA                 NA               NA              \n",
       "  d3_5prm_cp_internal d3_3prm_cp_internal\n",
       "1 NA                  NA                 \n",
       "2 NA                  NA                 \n",
       "3 NA                  NA                 \n",
       "4 NA                  NA                 \n",
       "5 NA                  NA                 \n",
       "6 NA                  NA                 "
      ]
     },
     "metadata": {},
     "output_type": "display_data"
    }
   ],
   "source": [
    "head(data)"
   ]
  },
  {
   "cell_type": "code",
   "execution_count": 42,
   "metadata": {
    "ExecuteTime": {
     "end_time": "2020-04-24T21:57:55.511454Z",
     "start_time": "2020-04-24T21:57:51.641Z"
    }
   },
   "outputs": [
    {
     "data": {
      "text/html": [
       "460"
      ],
      "text/latex": [
       "460"
      ],
      "text/markdown": [
       "460"
      ],
      "text/plain": [
       "[1] 460"
      ]
     },
     "metadata": {},
     "output_type": "display_data"
    },
    {
     "data": {
      "text/html": [
       "124"
      ],
      "text/latex": [
       "124"
      ],
      "text/markdown": [
       "124"
      ],
      "text/plain": [
       "[1] 124"
      ]
     },
     "metadata": {},
     "output_type": "display_data"
    }
   ],
   "source": [
    "nrow(data)\n",
    "ncol(data)"
   ]
  },
  {
   "cell_type": "code",
   "execution_count": 43,
   "metadata": {
    "ExecuteTime": {
     "end_time": "2020-04-24T21:57:58.709318Z",
     "start_time": "2020-04-24T21:57:54.845Z"
    }
   },
   "outputs": [],
   "source": [
    "## get null columns \n",
    "all_null=data[,colSums(is.na(data))==nrow(data)]"
   ]
  },
  {
   "cell_type": "code",
   "execution_count": 22,
   "metadata": {
    "ExecuteTime": {
     "end_time": "2020-04-24T21:47:52.929003Z",
     "start_time": "2020-04-24T21:47:49.057Z"
    }
   },
   "outputs": [
    {
     "data": {
      "text/html": [
       "<style>\n",
       ".list-inline {list-style: none; margin:0; padding: 0}\n",
       ".list-inline>li {display: inline-block}\n",
       ".list-inline>li:not(:last-child)::after {content: \"\\00b7\"; padding: 0 .5ex}\n",
       "</style>\n",
       "<ol class=list-inline><li>'u1_length_hairpin'</li><li>'u1_length_bulge'</li><li>'u1_length_internal_es'</li><li>'u1_length_internal_ecs'</li><li>'u1_5prm_cp_hairpin'</li><li>'u1_5prm_cp_bulge'</li><li>'u1_3prm_cp_bulge'</li><li>'u1_5prm_cp_internal'</li><li>'u1_3prm_cp_internal'</li><li>'u2_length_stem'</li><li>'u3_length_hairpin'</li><li>'u3_length_bulge'</li><li>'u3_length_internal_es'</li><li>'u3_length_internal_ecs'</li><li>'u3_5prm_cp_hairpin'</li><li>'u3_5prm_cp_bulge'</li><li>'u3_3prm_cp_bulge'</li><li>'u3_5prm_cp_internal'</li><li>'u3_3prm_cp_internal'</li><li>'d1_length_hairpin'</li><li>'d1_length_bulge'</li><li>'d1_length_internal_es'</li><li>'d1_length_internal_ecs'</li><li>'d1_5prm_cp_hairpin'</li><li>'d1_5prm_cp_bulge'</li><li>'d1_3prm_cp_bulge'</li><li>'d1_5prm_cp_internal'</li><li>'d1_3prm_cp_internal'</li><li>'d2_length_stem'</li><li>'d2_length_hairpin'</li><li>'d2_5prm_cp_hairpin'</li><li>'d3_length_hairpin'</li><li>'d3_length_bulge'</li><li>'d3_length_internal_es'</li><li>'d3_length_internal_ecs'</li><li>'d3_5prm_cp_hairpin'</li><li>'d3_5prm_cp_bulge'</li><li>'d3_3prm_cp_bulge'</li><li>'d3_5prm_cp_internal'</li><li>'d3_3prm_cp_internal'</li></ol>\n"
      ],
      "text/latex": [
       "\\begin{enumerate*}\n",
       "\\item 'u1\\_length\\_hairpin'\n",
       "\\item 'u1\\_length\\_bulge'\n",
       "\\item 'u1\\_length\\_internal\\_es'\n",
       "\\item 'u1\\_length\\_internal\\_ecs'\n",
       "\\item 'u1\\_5prm\\_cp\\_hairpin'\n",
       "\\item 'u1\\_5prm\\_cp\\_bulge'\n",
       "\\item 'u1\\_3prm\\_cp\\_bulge'\n",
       "\\item 'u1\\_5prm\\_cp\\_internal'\n",
       "\\item 'u1\\_3prm\\_cp\\_internal'\n",
       "\\item 'u2\\_length\\_stem'\n",
       "\\item 'u3\\_length\\_hairpin'\n",
       "\\item 'u3\\_length\\_bulge'\n",
       "\\item 'u3\\_length\\_internal\\_es'\n",
       "\\item 'u3\\_length\\_internal\\_ecs'\n",
       "\\item 'u3\\_5prm\\_cp\\_hairpin'\n",
       "\\item 'u3\\_5prm\\_cp\\_bulge'\n",
       "\\item 'u3\\_3prm\\_cp\\_bulge'\n",
       "\\item 'u3\\_5prm\\_cp\\_internal'\n",
       "\\item 'u3\\_3prm\\_cp\\_internal'\n",
       "\\item 'd1\\_length\\_hairpin'\n",
       "\\item 'd1\\_length\\_bulge'\n",
       "\\item 'd1\\_length\\_internal\\_es'\n",
       "\\item 'd1\\_length\\_internal\\_ecs'\n",
       "\\item 'd1\\_5prm\\_cp\\_hairpin'\n",
       "\\item 'd1\\_5prm\\_cp\\_bulge'\n",
       "\\item 'd1\\_3prm\\_cp\\_bulge'\n",
       "\\item 'd1\\_5prm\\_cp\\_internal'\n",
       "\\item 'd1\\_3prm\\_cp\\_internal'\n",
       "\\item 'd2\\_length\\_stem'\n",
       "\\item 'd2\\_length\\_hairpin'\n",
       "\\item 'd2\\_5prm\\_cp\\_hairpin'\n",
       "\\item 'd3\\_length\\_hairpin'\n",
       "\\item 'd3\\_length\\_bulge'\n",
       "\\item 'd3\\_length\\_internal\\_es'\n",
       "\\item 'd3\\_length\\_internal\\_ecs'\n",
       "\\item 'd3\\_5prm\\_cp\\_hairpin'\n",
       "\\item 'd3\\_5prm\\_cp\\_bulge'\n",
       "\\item 'd3\\_3prm\\_cp\\_bulge'\n",
       "\\item 'd3\\_5prm\\_cp\\_internal'\n",
       "\\item 'd3\\_3prm\\_cp\\_internal'\n",
       "\\end{enumerate*}\n"
      ],
      "text/markdown": [
       "1. 'u1_length_hairpin'\n",
       "2. 'u1_length_bulge'\n",
       "3. 'u1_length_internal_es'\n",
       "4. 'u1_length_internal_ecs'\n",
       "5. 'u1_5prm_cp_hairpin'\n",
       "6. 'u1_5prm_cp_bulge'\n",
       "7. 'u1_3prm_cp_bulge'\n",
       "8. 'u1_5prm_cp_internal'\n",
       "9. 'u1_3prm_cp_internal'\n",
       "10. 'u2_length_stem'\n",
       "11. 'u3_length_hairpin'\n",
       "12. 'u3_length_bulge'\n",
       "13. 'u3_length_internal_es'\n",
       "14. 'u3_length_internal_ecs'\n",
       "15. 'u3_5prm_cp_hairpin'\n",
       "16. 'u3_5prm_cp_bulge'\n",
       "17. 'u3_3prm_cp_bulge'\n",
       "18. 'u3_5prm_cp_internal'\n",
       "19. 'u3_3prm_cp_internal'\n",
       "20. 'd1_length_hairpin'\n",
       "21. 'd1_length_bulge'\n",
       "22. 'd1_length_internal_es'\n",
       "23. 'd1_length_internal_ecs'\n",
       "24. 'd1_5prm_cp_hairpin'\n",
       "25. 'd1_5prm_cp_bulge'\n",
       "26. 'd1_3prm_cp_bulge'\n",
       "27. 'd1_5prm_cp_internal'\n",
       "28. 'd1_3prm_cp_internal'\n",
       "29. 'd2_length_stem'\n",
       "30. 'd2_length_hairpin'\n",
       "31. 'd2_5prm_cp_hairpin'\n",
       "32. 'd3_length_hairpin'\n",
       "33. 'd3_length_bulge'\n",
       "34. 'd3_length_internal_es'\n",
       "35. 'd3_length_internal_ecs'\n",
       "36. 'd3_5prm_cp_hairpin'\n",
       "37. 'd3_5prm_cp_bulge'\n",
       "38. 'd3_3prm_cp_bulge'\n",
       "39. 'd3_5prm_cp_internal'\n",
       "40. 'd3_3prm_cp_internal'\n",
       "\n",
       "\n"
      ],
      "text/plain": [
       " [1] \"u1_length_hairpin\"      \"u1_length_bulge\"        \"u1_length_internal_es\" \n",
       " [4] \"u1_length_internal_ecs\" \"u1_5prm_cp_hairpin\"     \"u1_5prm_cp_bulge\"      \n",
       " [7] \"u1_3prm_cp_bulge\"       \"u1_5prm_cp_internal\"    \"u1_3prm_cp_internal\"   \n",
       "[10] \"u2_length_stem\"         \"u3_length_hairpin\"      \"u3_length_bulge\"       \n",
       "[13] \"u3_length_internal_es\"  \"u3_length_internal_ecs\" \"u3_5prm_cp_hairpin\"    \n",
       "[16] \"u3_5prm_cp_bulge\"       \"u3_3prm_cp_bulge\"       \"u3_5prm_cp_internal\"   \n",
       "[19] \"u3_3prm_cp_internal\"    \"d1_length_hairpin\"      \"d1_length_bulge\"       \n",
       "[22] \"d1_length_internal_es\"  \"d1_length_internal_ecs\" \"d1_5prm_cp_hairpin\"    \n",
       "[25] \"d1_5prm_cp_bulge\"       \"d1_3prm_cp_bulge\"       \"d1_5prm_cp_internal\"   \n",
       "[28] \"d1_3prm_cp_internal\"    \"d2_length_stem\"         \"d2_length_hairpin\"     \n",
       "[31] \"d2_5prm_cp_hairpin\"     \"d3_length_hairpin\"      \"d3_length_bulge\"       \n",
       "[34] \"d3_length_internal_es\"  \"d3_length_internal_ecs\" \"d3_5prm_cp_hairpin\"    \n",
       "[37] \"d3_5prm_cp_bulge\"       \"d3_3prm_cp_bulge\"       \"d3_5prm_cp_internal\"   \n",
       "[40] \"d3_3prm_cp_internal\"   "
      ]
     },
     "metadata": {},
     "output_type": "display_data"
    }
   ],
   "source": [
    "names(all_null)"
   ]
  },
  {
   "cell_type": "code",
   "execution_count": 44,
   "metadata": {
    "ExecuteTime": {
     "end_time": "2020-04-24T21:58:33.102064Z",
     "start_time": "2020-04-24T21:58:29.223Z"
    }
   },
   "outputs": [
    {
     "data": {
      "text/html": [
       "460"
      ],
      "text/latex": [
       "460"
      ],
      "text/markdown": [
       "460"
      ],
      "text/plain": [
       "[1] 460"
      ]
     },
     "metadata": {},
     "output_type": "display_data"
    },
    {
     "data": {
      "text/html": [
       "84"
      ],
      "text/latex": [
       "84"
      ],
      "text/markdown": [
       "84"
      ],
      "text/plain": [
       "[1] 84"
      ]
     },
     "metadata": {},
     "output_type": "display_data"
    }
   ],
   "source": [
    "## remove all NA columns \n",
    "non_null_data <- data[,colSums(is.na(data))<nrow(data)]\n",
    "nrow(non_null_data)\n",
    "ncol(non_null_data)"
   ]
  },
  {
   "cell_type": "code",
   "execution_count": 55,
   "metadata": {
    "ExecuteTime": {
     "end_time": "2020-04-24T22:03:13.064952Z",
     "start_time": "2020-04-24T22:03:09.192Z"
    }
   },
   "outputs": [
    {
     "data": {
      "text/html": [
       "460"
      ],
      "text/latex": [
       "460"
      ],
      "text/markdown": [
       "460"
      ],
      "text/plain": [
       "[1] 460"
      ]
     },
     "metadata": {},
     "output_type": "display_data"
    },
    {
     "data": {
      "text/html": [
       "51"
      ],
      "text/latex": [
       "51"
      ],
      "text/markdown": [
       "51"
      ],
      "text/plain": [
       "[1] 51"
      ]
     },
     "metadata": {},
     "output_type": "display_data"
    }
   ],
   "source": [
    "## select all numeric columns for imputation \n",
    "nums <- unlist(lapply(non_null_data, is.numeric))  \n",
    "categorical=non_null_data[,!nums]\n",
    "numerical=non_null_data[,nums]\n",
    "nrow(numerical)\n",
    "ncol(numerical)"
   ]
  },
  {
   "cell_type": "code",
   "execution_count": 56,
   "metadata": {
    "ExecuteTime": {
     "end_time": "2020-04-24T22:03:26.147188Z",
     "start_time": "2020-04-24T22:03:22.256Z"
    }
   },
   "outputs": [
    {
     "data": {
      "text/html": [
       "460"
      ],
      "text/latex": [
       "460"
      ],
      "text/markdown": [
       "460"
      ],
      "text/plain": [
       "[1] 460"
      ]
     },
     "metadata": {},
     "output_type": "display_data"
    },
    {
     "data": {
      "text/html": [
       "33"
      ],
      "text/latex": [
       "33"
      ],
      "text/markdown": [
       "33"
      ],
      "text/plain": [
       "[1] 33"
      ]
     },
     "metadata": {},
     "output_type": "display_data"
    }
   ],
   "source": [
    "nrow(categorical)\n",
    "ncol(categorical)"
   ]
  },
  {
   "cell_type": "code",
   "execution_count": 46,
   "metadata": {
    "ExecuteTime": {
     "end_time": "2020-04-24T21:59:12.188586Z",
     "start_time": "2020-04-24T21:59:08.315Z"
    }
   },
   "outputs": [
    {
     "data": {
      "text/html": [
       "TRUE"
      ],
      "text/latex": [
       "TRUE"
      ],
      "text/markdown": [
       "TRUE"
      ],
      "text/plain": [
       "[1] TRUE\n",
       "attr(,\"isNumeric\")\n",
       "[1] TRUE\n",
       "attr(,\"isInfinite\")\n",
       "[1] FALSE\n",
       "attr(,\"isNaN\")\n",
       "[1] FALSE\n",
       "attr(,\"isMatrix\")\n",
       "[1] TRUE\n",
       "attr(,\"naRows\")\n",
       "[1] FALSE\n",
       "attr(,\"naCols\")\n",
       "[1] FALSE"
      ]
     },
     "metadata": {},
     "output_type": "display_data"
    }
   ],
   "source": [
    "## validate the data matrix \n",
    "checkData(as.matrix(numerical),verbose=TRUE)\n"
   ]
  },
  {
   "cell_type": "code",
   "execution_count": 47,
   "metadata": {
    "ExecuteTime": {
     "end_time": "2020-04-24T22:01:24.293124Z",
     "start_time": "2020-04-24T22:01:20.321Z"
    }
   },
   "outputs": [],
   "source": [
    "#perform svdImpute to get missing values \n",
    "result <- pca(as.matrix(numerical), method=\"svdImpute\", nPcs=10, center = FALSE)"
   ]
  },
  {
   "cell_type": "code",
   "execution_count": 48,
   "metadata": {
    "ExecuteTime": {
     "end_time": "2020-04-24T22:01:25.945345Z",
     "start_time": "2020-04-24T22:01:22.085Z"
    }
   },
   "outputs": [],
   "source": [
    "imputed_data=completeObs(result)"
   ]
  },
  {
   "cell_type": "code",
   "execution_count": 50,
   "metadata": {
    "ExecuteTime": {
     "end_time": "2020-04-24T22:01:40.107168Z",
     "start_time": "2020-04-24T22:01:36.226Z"
    }
   },
   "outputs": [
    {
     "data": {
      "text/html": [
       "<table>\n",
       "<caption>A matrix: 6 × 51 of type dbl</caption>\n",
       "<thead>\n",
       "\t<tr><th scope=col>rna_id</th><th scope=col>editing_value</th><th scope=col>free_energy</th><th scope=col>sim_nor_score</th><th scope=col>probability_active_conf</th><th scope=col>num_mutations</th><th scope=col>mut_exist</th><th scope=col>mut_pos</th><th scope=col>mut_site_dist</th><th scope=col>mut_same_as_site</th><th scope=col>⋯</th><th scope=col>d2_exist</th><th scope=col>d2_distance</th><th scope=col>d2_length</th><th scope=col>d2_length_bulge</th><th scope=col>d2_length_internal_es</th><th scope=col>d2_length_internal_ecs</th><th scope=col>d3_exist</th><th scope=col>d3_distance</th><th scope=col>d3_length</th><th scope=col>d3_length_stem</th></tr>\n",
       "</thead>\n",
       "<tbody>\n",
       "\t<tr><td>1</td><td>0.58</td><td>-41.29</td><td>0.9930</td><td>0.13760977</td><td>1</td><td>1</td><td>41</td><td>-6</td><td>0</td><td>⋯</td><td>1</td><td>4</td><td>1</td><td>0.9413652</td><td>1</td><td>2</td><td>1</td><td>5</td><td>5</td><td>5</td></tr>\n",
       "\t<tr><td>2</td><td>0.46</td><td>-39.30</td><td>0.9125</td><td>0.13179857</td><td>1</td><td>1</td><td>42</td><td>-5</td><td>0</td><td>⋯</td><td>1</td><td>4</td><td>1</td><td>1.2188062</td><td>1</td><td>2</td><td>1</td><td>5</td><td>5</td><td>5</td></tr>\n",
       "\t<tr><td>3</td><td>0.49</td><td>-40.32</td><td>0.9301</td><td>0.06544923</td><td>1</td><td>1</td><td>43</td><td>-4</td><td>0</td><td>⋯</td><td>1</td><td>4</td><td>1</td><td>1.1563744</td><td>1</td><td>2</td><td>1</td><td>5</td><td>5</td><td>5</td></tr>\n",
       "\t<tr><td>4</td><td>0.48</td><td>-44.78</td><td>1.0000</td><td>0.32195827</td><td>1</td><td>1</td><td>44</td><td>-3</td><td>0</td><td>⋯</td><td>1</td><td>4</td><td>1</td><td>1.0109168</td><td>1</td><td>2</td><td>1</td><td>5</td><td>5</td><td>5</td></tr>\n",
       "\t<tr><td>5</td><td>0.59</td><td>-41.45</td><td>0.7448</td><td>0.16923271</td><td>1</td><td>1</td><td>45</td><td>-2</td><td>0</td><td>⋯</td><td>1</td><td>5</td><td>2</td><td>0.7832809</td><td>2</td><td>3</td><td>1</td><td>7</td><td>9</td><td>9</td></tr>\n",
       "\t<tr><td>6</td><td>0.39</td><td>-40.44</td><td>0.9853</td><td>0.12329848</td><td>1</td><td>1</td><td>49</td><td> 2</td><td>0</td><td>⋯</td><td>1</td><td>3</td><td>2</td><td>1.0102217</td><td>2</td><td>2</td><td>1</td><td>5</td><td>5</td><td>5</td></tr>\n",
       "</tbody>\n",
       "</table>\n"
      ],
      "text/latex": [
       "A matrix: 6 × 51 of type dbl\n",
       "\\begin{tabular}{lllllllllllllllllllll}\n",
       " rna\\_id & editing\\_value & free\\_energy & sim\\_nor\\_score & probability\\_active\\_conf & num\\_mutations & mut\\_exist & mut\\_pos & mut\\_site\\_dist & mut\\_same\\_as\\_site & ⋯ & d2\\_exist & d2\\_distance & d2\\_length & d2\\_length\\_bulge & d2\\_length\\_internal\\_es & d2\\_length\\_internal\\_ecs & d3\\_exist & d3\\_distance & d3\\_length & d3\\_length\\_stem\\\\\n",
       "\\hline\n",
       "\t 1 & 0.58 & -41.29 & 0.9930 & 0.13760977 & 1 & 1 & 41 & -6 & 0 & ⋯ & 1 & 4 & 1 & 0.9413652 & 1 & 2 & 1 & 5 & 5 & 5\\\\\n",
       "\t 2 & 0.46 & -39.30 & 0.9125 & 0.13179857 & 1 & 1 & 42 & -5 & 0 & ⋯ & 1 & 4 & 1 & 1.2188062 & 1 & 2 & 1 & 5 & 5 & 5\\\\\n",
       "\t 3 & 0.49 & -40.32 & 0.9301 & 0.06544923 & 1 & 1 & 43 & -4 & 0 & ⋯ & 1 & 4 & 1 & 1.1563744 & 1 & 2 & 1 & 5 & 5 & 5\\\\\n",
       "\t 4 & 0.48 & -44.78 & 1.0000 & 0.32195827 & 1 & 1 & 44 & -3 & 0 & ⋯ & 1 & 4 & 1 & 1.0109168 & 1 & 2 & 1 & 5 & 5 & 5\\\\\n",
       "\t 5 & 0.59 & -41.45 & 0.7448 & 0.16923271 & 1 & 1 & 45 & -2 & 0 & ⋯ & 1 & 5 & 2 & 0.7832809 & 2 & 3 & 1 & 7 & 9 & 9\\\\\n",
       "\t 6 & 0.39 & -40.44 & 0.9853 & 0.12329848 & 1 & 1 & 49 &  2 & 0 & ⋯ & 1 & 3 & 2 & 1.0102217 & 2 & 2 & 1 & 5 & 5 & 5\\\\\n",
       "\\end{tabular}\n"
      ],
      "text/markdown": [
       "\n",
       "A matrix: 6 × 51 of type dbl\n",
       "\n",
       "| rna_id | editing_value | free_energy | sim_nor_score | probability_active_conf | num_mutations | mut_exist | mut_pos | mut_site_dist | mut_same_as_site | ⋯ | d2_exist | d2_distance | d2_length | d2_length_bulge | d2_length_internal_es | d2_length_internal_ecs | d3_exist | d3_distance | d3_length | d3_length_stem |\n",
       "|---|---|---|---|---|---|---|---|---|---|---|---|---|---|---|---|---|---|---|---|---|\n",
       "| 1 | 0.58 | -41.29 | 0.9930 | 0.13760977 | 1 | 1 | 41 | -6 | 0 | ⋯ | 1 | 4 | 1 | 0.9413652 | 1 | 2 | 1 | 5 | 5 | 5 |\n",
       "| 2 | 0.46 | -39.30 | 0.9125 | 0.13179857 | 1 | 1 | 42 | -5 | 0 | ⋯ | 1 | 4 | 1 | 1.2188062 | 1 | 2 | 1 | 5 | 5 | 5 |\n",
       "| 3 | 0.49 | -40.32 | 0.9301 | 0.06544923 | 1 | 1 | 43 | -4 | 0 | ⋯ | 1 | 4 | 1 | 1.1563744 | 1 | 2 | 1 | 5 | 5 | 5 |\n",
       "| 4 | 0.48 | -44.78 | 1.0000 | 0.32195827 | 1 | 1 | 44 | -3 | 0 | ⋯ | 1 | 4 | 1 | 1.0109168 | 1 | 2 | 1 | 5 | 5 | 5 |\n",
       "| 5 | 0.59 | -41.45 | 0.7448 | 0.16923271 | 1 | 1 | 45 | -2 | 0 | ⋯ | 1 | 5 | 2 | 0.7832809 | 2 | 3 | 1 | 7 | 9 | 9 |\n",
       "| 6 | 0.39 | -40.44 | 0.9853 | 0.12329848 | 1 | 1 | 49 |  2 | 0 | ⋯ | 1 | 3 | 2 | 1.0102217 | 2 | 2 | 1 | 5 | 5 | 5 |\n",
       "\n"
      ],
      "text/plain": [
       "     rna_id editing_value free_energy sim_nor_score probability_active_conf\n",
       "[1,] 1      0.58          -41.29      0.9930        0.13760977             \n",
       "[2,] 2      0.46          -39.30      0.9125        0.13179857             \n",
       "[3,] 3      0.49          -40.32      0.9301        0.06544923             \n",
       "[4,] 4      0.48          -44.78      1.0000        0.32195827             \n",
       "[5,] 5      0.59          -41.45      0.7448        0.16923271             \n",
       "[6,] 6      0.39          -40.44      0.9853        0.12329848             \n",
       "     num_mutations mut_exist mut_pos mut_site_dist mut_same_as_site ⋯ d2_exist\n",
       "[1,] 1             1         41      -6            0                ⋯ 1       \n",
       "[2,] 1             1         42      -5            0                ⋯ 1       \n",
       "[3,] 1             1         43      -4            0                ⋯ 1       \n",
       "[4,] 1             1         44      -3            0                ⋯ 1       \n",
       "[5,] 1             1         45      -2            0                ⋯ 1       \n",
       "[6,] 1             1         49       2            0                ⋯ 1       \n",
       "     d2_distance d2_length d2_length_bulge d2_length_internal_es\n",
       "[1,] 4           1         0.9413652       1                    \n",
       "[2,] 4           1         1.2188062       1                    \n",
       "[3,] 4           1         1.1563744       1                    \n",
       "[4,] 4           1         1.0109168       1                    \n",
       "[5,] 5           2         0.7832809       2                    \n",
       "[6,] 3           2         1.0102217       2                    \n",
       "     d2_length_internal_ecs d3_exist d3_distance d3_length d3_length_stem\n",
       "[1,] 2                      1        5           5         5             \n",
       "[2,] 2                      1        5           5         5             \n",
       "[3,] 2                      1        5           5         5             \n",
       "[4,] 2                      1        5           5         5             \n",
       "[5,] 3                      1        7           9         9             \n",
       "[6,] 2                      1        5           5         5             "
      ]
     },
     "metadata": {},
     "output_type": "display_data"
    },
    {
     "data": {
      "text/html": [
       "460"
      ],
      "text/latex": [
       "460"
      ],
      "text/markdown": [
       "460"
      ],
      "text/plain": [
       "[1] 460"
      ]
     },
     "metadata": {},
     "output_type": "display_data"
    },
    {
     "data": {
      "text/html": [
       "51"
      ],
      "text/latex": [
       "51"
      ],
      "text/markdown": [
       "51"
      ],
      "text/plain": [
       "[1] 51"
      ]
     },
     "metadata": {},
     "output_type": "display_data"
    }
   ],
   "source": [
    "head(imputed_data)\n",
    "nrow(imputed_data)\n",
    "ncol(imputed_data)"
   ]
  },
  {
   "cell_type": "code",
   "execution_count": 57,
   "metadata": {
    "ExecuteTime": {
     "end_time": "2020-04-24T22:03:29.831332Z",
     "start_time": "2020-04-24T22:03:25.954Z"
    }
   },
   "outputs": [
    {
     "data": {
      "text/html": [
       "460"
      ],
      "text/latex": [
       "460"
      ],
      "text/markdown": [
       "460"
      ],
      "text/plain": [
       "[1] 460"
      ]
     },
     "metadata": {},
     "output_type": "display_data"
    },
    {
     "data": {
      "text/html": [
       "84"
      ],
      "text/latex": [
       "84"
      ],
      "text/markdown": [
       "84"
      ],
      "text/plain": [
       "[1] 84"
      ]
     },
     "metadata": {},
     "output_type": "display_data"
    }
   ],
   "source": [
    "#add back the categorical features \n",
    "complete_data=cbind(imputed_data,categorical)\n",
    "nrow(complete_data)\n",
    "ncol(complete_data)"
   ]
  },
  {
   "cell_type": "code",
   "execution_count": 62,
   "metadata": {
    "ExecuteTime": {
     "end_time": "2020-04-24T22:15:51.815161Z",
     "start_time": "2020-04-24T22:15:47.845Z"
    }
   },
   "outputs": [],
   "source": [
    "write.table(complete_data,\"neil1.computational.imputed.tsv\",sep='\\t',quote=FALSE,col.names=TRUE,row.names=FALSE)"
   ]
  },
  {
   "cell_type": "code",
   "execution_count": null,
   "metadata": {},
   "outputs": [],
   "source": []
  }
 ],
 "metadata": {
  "kernelspec": {
   "display_name": "R 3.6.2",
   "language": "R",
   "name": "ir36"
  },
  "language_info": {
   "codemirror_mode": "r",
   "file_extension": ".r",
   "mimetype": "text/x-r-source",
   "name": "R",
   "pygments_lexer": "r",
   "version": "3.6.2"
  }
 },
 "nbformat": 4,
 "nbformat_minor": 4
}
