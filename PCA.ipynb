{
 "cells": [
  {
   "cell_type": "code",
   "execution_count": 35,
   "metadata": {},
   "outputs": [
    {
     "data": {
      "text/html": [
       "124"
      ],
      "text/latex": [
       "124"
      ],
      "text/markdown": [
       "124"
      ],
      "text/plain": [
       "[1] 124"
      ]
     },
     "metadata": {},
     "output_type": "display_data"
    }
   ],
   "source": [
    "neil1_comp=read.table(\"xin_feature_matrices/neil1_computational.features.csv\",header=TRUE,sep=',')\n",
    "neil1_comp$label=\"NEIL1_COMP\"\n",
    "neil1_comp$probability_active_conf=NULL\n",
    "ncol(neil1_comp)"
   ]
  },
  {
   "cell_type": "code",
   "execution_count": 36,
   "metadata": {},
   "outputs": [
    {
     "data": {
      "text/html": [
       "124"
      ],
      "text/latex": [
       "124"
      ],
      "text/markdown": [
       "124"
      ],
      "text/plain": [
       "[1] 124"
      ]
     },
     "metadata": {},
     "output_type": "display_data"
    }
   ],
   "source": [
    "neil1_degen=read.table(\"xin_feature_matrices/neil1_degenerate_computational.features.csv\",header=TRUE,sep=',')\n",
    "neil1_degen$label=\"NEIL1_DEGEN\"\n",
    "ncol(neil1_degen)"
   ]
  },
  {
   "cell_type": "code",
   "execution_count": 37,
   "metadata": {},
   "outputs": [
    {
     "data": {
      "text/html": [
       "124"
      ],
      "text/latex": [
       "124"
      ],
      "text/markdown": [
       "124"
      ],
      "text/plain": [
       "[1] 124"
      ]
     },
     "metadata": {},
     "output_type": "display_data"
    }
   ],
   "source": [
    "ttyh2_comp=read.table(\"xin_feature_matrices/ttyh2_bc_computational.features.csv\",header=TRUE,sep=',')\n",
    "ttyh2_comp$label=\"TTYH2_COMP\"\n",
    "ncol(ttyh2_comp)"
   ]
  },
  {
   "cell_type": "code",
   "execution_count": 38,
   "metadata": {},
   "outputs": [
    {
     "data": {
      "text/html": [
       "124"
      ],
      "text/latex": [
       "124"
      ],
      "text/markdown": [
       "124"
      ],
      "text/plain": [
       "[1] 124"
      ]
     },
     "metadata": {},
     "output_type": "display_data"
    }
   ],
   "source": [
    "ttyh2_degen=read.table(\"xin_feature_matrices/ttyh2_bc_degenerate_computational.features.csv\",header=TRUE,sep=',')\n",
    "ttyh2_degen$label=\"TTYH2_DEGEN\"\n",
    "ncol(ttyh2_degen)"
   ]
  },
  {
   "cell_type": "code",
   "execution_count": 39,
   "metadata": {},
   "outputs": [
    {
     "data": {
      "text/html": [
       "124"
      ],
      "text/latex": [
       "124"
      ],
      "text/markdown": [
       "124"
      ],
      "text/plain": [
       "[1] 124"
      ]
     },
     "metadata": {},
     "output_type": "display_data"
    }
   ],
   "source": [
    "ajuba=read.table(\"xin_feature_matrices/ajuba_bc_computational.features.csv\",header=TRUE,sep=',')\n",
    "ajuba$label=\"AJUBA\"\n",
    "ajuba$probability_active_conf=NULL\n",
    "ncol(ajuba)"
   ]
  },
  {
   "cell_type": "code",
   "execution_count": 40,
   "metadata": {},
   "outputs": [
    {
     "data": {
      "text/html": [],
      "text/latex": [],
      "text/markdown": [],
      "text/plain": [
       "character(0)"
      ]
     },
     "metadata": {},
     "output_type": "display_data"
    }
   ],
   "source": [
    "setdiff(names(neil1_comp),names(ttyh2_degen))"
   ]
  },
  {
   "cell_type": "code",
   "execution_count": 44,
   "metadata": {},
   "outputs": [],
   "source": [
    "data=rbind(neil1_comp,neil1_degen,ttyh2_comp,ttyh2_degen,ajuba)"
   ]
  },
  {
   "cell_type": "code",
   "execution_count": 45,
   "metadata": {},
   "outputs": [
    {
     "data": {
      "text/html": [
       "2482"
      ],
      "text/latex": [
       "2482"
      ],
      "text/markdown": [
       "2482"
      ],
      "text/plain": [
       "[1] 2482"
      ]
     },
     "metadata": {},
     "output_type": "display_data"
    }
   ],
   "source": [
    "nrow(data)"
   ]
  },
  {
   "cell_type": "code",
   "execution_count": 46,
   "metadata": {},
   "outputs": [
    {
     "data": {
      "text/html": [
       "124"
      ],
      "text/latex": [
       "124"
      ],
      "text/markdown": [
       "124"
      ],
      "text/plain": [
       "[1] 124"
      ]
     },
     "metadata": {},
     "output_type": "display_data"
    }
   ],
   "source": [
    "ncol(data)"
   ]
  },
  {
   "cell_type": "code",
   "execution_count": 49,
   "metadata": {},
   "outputs": [],
   "source": [
    "data$rna_id=NULL\n",
    "data$editing_value=NULL\n",
    "labels=data$label\n",
    "data$label=NULL"
   ]
  },
  {
   "cell_type": "code",
   "execution_count": 50,
   "metadata": {},
   "outputs": [],
   "source": [
    "library(ggplot2)"
   ]
  },
  {
   "cell_type": "code",
   "execution_count": 55,
   "metadata": {
    "scrolled": false
   },
   "outputs": [
    {
     "name": "stderr",
     "output_type": "stream",
     "text": [
      "Warning message in prcomp(as.numeric(as.matrix(t(data)))):\n",
      "“NAs introduced by coercion”"
     ]
    },
    {
     "ename": "ERROR",
     "evalue": "Error in svd(x, nu = 0, nv = k): infinite or missing values in 'x'\n",
     "output_type": "error",
     "traceback": [
      "Error in svd(x, nu = 0, nv = k): infinite or missing values in 'x'\nTraceback:\n",
      "1. prcomp(as.numeric(as.matrix(t(data))))",
      "2. prcomp.default(as.numeric(as.matrix(t(data))))",
      "3. svd(x, nu = 0, nv = k)",
      "4. stop(\"infinite or missing values in 'x'\")"
     ]
    }
   ],
   "source": [
    "data.pca=prcomp(as.numeric(as.matrix(t(data))))"
   ]
  },
  {
   "cell_type": "code",
   "execution_count": null,
   "metadata": {},
   "outputs": [],
   "source": []
  }
 ],
 "metadata": {
  "kernelspec": {
   "display_name": "R 3.5",
   "language": "R",
   "name": "ir35"
  },
  "language_info": {
   "codemirror_mode": "r",
   "file_extension": ".r",
   "mimetype": "text/x-r-source",
   "name": "R",
   "pygments_lexer": "r",
   "version": "3.5.1"
  }
 },
 "nbformat": 4,
 "nbformat_minor": 2
}
