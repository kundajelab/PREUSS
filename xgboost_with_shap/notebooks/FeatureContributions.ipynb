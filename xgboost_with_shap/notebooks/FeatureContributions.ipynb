{
 "cells": [
  {
   "cell_type": "code",
   "execution_count": 12,
   "metadata": {
    "ExecuteTime": {
     "end_time": "2021-03-01T03:43:03.095683Z",
     "start_time": "2021-03-01T03:43:01.894Z"
    }
   },
   "outputs": [],
   "source": [
    "library(ggplot2)\n",
    "data=read.table(\"subset_contrib.txt\",header=TRUE,sep='\\t')\n",
    "data$Subset=factor(data$Subset)"
   ]
  },
  {
   "cell_type": "code",
   "execution_count": 13,
   "metadata": {
    "ExecuteTime": {
     "end_time": "2021-03-01T03:43:03.117972Z",
     "start_time": "2021-03-01T03:43:02.301Z"
    }
   },
   "outputs": [
    {
     "data": {
      "text/html": [
       "<table class=\"dataframe\">\n",
       "<caption>A data.frame: 6 × 2</caption>\n",
       "<thead>\n",
       "\t<tr><th></th><th scope=col>Subset</th><th scope=col>Contribution</th></tr>\n",
       "\t<tr><th></th><th scope=col>&lt;fct&gt;</th><th scope=col>&lt;dbl&gt;</th></tr>\n",
       "</thead>\n",
       "<tbody>\n",
       "\t<tr><th scope=row>1</th><td>d</td><td>10.03347</td></tr>\n",
       "\t<tr><th scope=row>2</th><td>d</td><td>11.64519</td></tr>\n",
       "\t<tr><th scope=row>3</th><td>d</td><td>12.52180</td></tr>\n",
       "\t<tr><th scope=row>4</th><td>d</td><td>12.69576</td></tr>\n",
       "\t<tr><th scope=row>5</th><td>d</td><td>13.08916</td></tr>\n",
       "\t<tr><th scope=row>6</th><td>d</td><td>16.32882</td></tr>\n",
       "</tbody>\n",
       "</table>\n"
      ],
      "text/latex": [
       "A data.frame: 6 × 2\n",
       "\\begin{tabular}{r|ll}\n",
       "  & Subset & Contribution\\\\\n",
       "  & <fct> & <dbl>\\\\\n",
       "\\hline\n",
       "\t1 & d & 10.03347\\\\\n",
       "\t2 & d & 11.64519\\\\\n",
       "\t3 & d & 12.52180\\\\\n",
       "\t4 & d & 12.69576\\\\\n",
       "\t5 & d & 13.08916\\\\\n",
       "\t6 & d & 16.32882\\\\\n",
       "\\end{tabular}\n"
      ],
      "text/markdown": [
       "\n",
       "A data.frame: 6 × 2\n",
       "\n",
       "| <!--/--> | Subset &lt;fct&gt; | Contribution &lt;dbl&gt; |\n",
       "|---|---|---|\n",
       "| 1 | d | 10.03347 |\n",
       "| 2 | d | 11.64519 |\n",
       "| 3 | d | 12.52180 |\n",
       "| 4 | d | 12.69576 |\n",
       "| 5 | d | 13.08916 |\n",
       "| 6 | d | 16.32882 |\n",
       "\n"
      ],
      "text/plain": [
       "  Subset Contribution\n",
       "1 d      10.03347    \n",
       "2 d      11.64519    \n",
       "3 d      12.52180    \n",
       "4 d      12.69576    \n",
       "5 d      13.08916    \n",
       "6 d      16.32882    "
      ]
     },
     "metadata": {},
     "output_type": "display_data"
    }
   ],
   "source": [
    "head(data)"
   ]
  },
  {
   "cell_type": "code",
   "execution_count": 20,
   "metadata": {
    "ExecuteTime": {
     "end_time": "2021-03-01T04:06:10.349703Z",
     "start_time": "2021-03-01T04:06:10.314Z"
    }
   },
   "outputs": [],
   "source": [
    "data$Subset=factor(data$Subset,levels=c(\"no_num_mutations\",\n",
    "                                        \"no_up\",\n",
    "                                        \"no_down\",\n",
    "                                        \"no_mut\",\n",
    "                                        \"mut_site\",\n",
    "                                        \"u_d\",\n",
    "                                        \"overall_structure\",\n",
    "                                        \"mut\",\n",
    "                                        \"site\",\n",
    "                                        \"d\",\n",
    "                                        \"site_struct\",\n",
    "                                        \"mut_seq_site\",\n",
    "                                        \"u\",\n",
    "                                        \"mut_seq\",\n",
    "                                        \"site_seq\"))"
   ]
  },
  {
   "cell_type": "code",
   "execution_count": 23,
   "metadata": {
    "ExecuteTime": {
     "end_time": "2021-03-01T04:12:03.989098Z",
     "start_time": "2021-03-01T04:12:03.704Z"
    }
   },
   "outputs": [
    {
     "data": {
      "text/html": [
       "<strong>png:</strong> 2"
      ],
      "text/latex": [
       "\\textbf{png:} 2"
      ],
      "text/markdown": [
       "**png:** 2"
      ],
      "text/plain": [
       "png \n",
       "  2 "
      ]
     },
     "metadata": {},
     "output_type": "display_data"
    }
   ],
   "source": [
    "svg(\"feature_subset_contributions_10d.svg\",height=5,width=5)\n",
    "ggplot(data,\n",
    "      aes(x=Subset,\n",
    "         y=Contribution))+\n",
    "geom_boxplot()+\n",
    "ggtitle(\"XGBoost on n=20\\nTraining/Validation Sets\")+\n",
    "theme_bw(20)+\n",
    "theme(axis.text.x = element_text(angle = 90,hjust=1))\n",
    "dev.off()"
   ]
  },
  {
   "cell_type": "code",
   "execution_count": 19,
   "metadata": {
    "ExecuteTime": {
     "end_time": "2021-03-01T04:06:02.544027Z",
     "start_time": "2021-03-01T04:06:02.520Z"
    }
   },
   "outputs": [],
   "source": []
  },
  {
   "cell_type": "code",
   "execution_count": null,
   "metadata": {},
   "outputs": [],
   "source": [
    " "
   ]
  }
 ],
 "metadata": {
  "kernelspec": {
   "display_name": "R",
   "language": "R",
   "name": "ir"
  },
  "language_info": {
   "codemirror_mode": "r",
   "file_extension": ".r",
   "mimetype": "text/x-r-source",
   "name": "R",
   "pygments_lexer": "r",
   "version": "4.0.3"
  }
 },
 "nbformat": 4,
 "nbformat_minor": 4
}
