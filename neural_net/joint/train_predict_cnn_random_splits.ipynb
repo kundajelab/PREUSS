{
 "cells": [
  {
   "cell_type": "code",
   "execution_count": 1,
   "metadata": {
    "ExecuteTime": {
     "end_time": "2020-06-04T03:50:16.876238Z",
     "start_time": "2020-06-04T03:50:12.548011Z"
    }
   },
   "outputs": [],
   "source": [
    "%load_ext autoreload\n",
    "%autoreload 2\n",
    "import pickle\n",
    "import numpy as np\n",
    "import pandas as pd \n",
    "import random\n",
    "import plotnine\n",
    "from plotnine import * \n",
    "np.random.seed(1234)\n",
    "random.seed(1234)\n"
   ]
  },
  {
   "cell_type": "code",
   "execution_count": 2,
   "metadata": {
    "ExecuteTime": {
     "end_time": "2020-06-04T03:50:22.273597Z",
     "start_time": "2020-06-04T03:50:16.880481Z"
    }
   },
   "outputs": [],
   "source": [
    "import tensorflow\n",
    "tensorflow.compat.v1.enable_eager_execution()\n",
    "from tensorflow.compat.v1.keras.backend import get_session\n",
    "#tensorflow.compat.v1.disable_v2_behavior()\n"
   ]
  },
  {
   "cell_type": "code",
   "execution_count": 3,
   "metadata": {
    "ExecuteTime": {
     "end_time": "2020-06-04T03:50:22.357969Z",
     "start_time": "2020-06-04T03:50:22.277435Z"
    }
   },
   "outputs": [],
   "source": [
    "#load the data \n",
    "entries=pickle.load(open('../cnn_inputs.p','rb'))\n",
    "X=entries['X']\n",
    "y=entries['y']"
   ]
  },
  {
   "cell_type": "code",
   "execution_count": 4,
   "metadata": {
    "ExecuteTime": {
     "end_time": "2020-06-04T03:50:22.426455Z",
     "start_time": "2020-06-04T03:50:22.361715Z"
    }
   },
   "outputs": [
    {
     "name": "stdout",
     "output_type": "stream",
     "text": [
      "924\n",
      "924\n",
      "['NEIL1_1', 'NEIL1_2', 'NEIL1_3', 'NEIL1_4', 'NEIL1_5', 'NEIL1_6', 'NEIL1_7', 'NEIL1_8', 'NEIL1_9', 'NEIL1_10']\n"
     ]
    }
   ],
   "source": [
    "#create train,test,validate splits \n",
    "indices=list(X.keys())\n",
    "print(len(indices))\n",
    "print(len(y.keys()))\n",
    "print(indices[0:10])\n",
    "random.shuffle(indices)\n",
    "num_items=len(indices)\n",
    "#split 70% train, 15% validate, 15% test \n",
    "num_train=int(round(0.7*num_items))\n",
    "num_validate=int(round(0.15*num_items))\n",
    "num_test=num_items-num_train-num_validate "
   ]
  },
  {
   "cell_type": "code",
   "execution_count": 5,
   "metadata": {
    "ExecuteTime": {
     "end_time": "2020-06-04T03:50:22.484009Z",
     "start_time": "2020-06-04T03:50:22.428021Z"
    }
   },
   "outputs": [
    {
     "name": "stdout",
     "output_type": "stream",
     "text": [
      "647\n",
      "139\n",
      "138\n"
     ]
    }
   ],
   "source": [
    "print(num_train)\n",
    "print(num_validate)\n",
    "print(num_test)"
   ]
  },
  {
   "cell_type": "code",
   "execution_count": 6,
   "metadata": {
    "ExecuteTime": {
     "end_time": "2020-06-04T03:50:22.538111Z",
     "start_time": "2020-06-04T03:50:22.485417Z"
    }
   },
   "outputs": [],
   "source": [
    "train_indices=indices[0:num_train]\n",
    "validate_indices=indices[num_train:num_train+num_validate]\n",
    "test_indices=indices[num_train+num_validate::]\n"
   ]
  },
  {
   "cell_type": "code",
   "execution_count": 7,
   "metadata": {
    "ExecuteTime": {
     "end_time": "2020-06-04T03:50:22.603665Z",
     "start_time": "2020-06-04T03:50:22.539722Z"
    }
   },
   "outputs": [],
   "source": [
    "train_X_seq=np.array([X[i][0] for i in train_indices])\n",
    "train_X_struct=np.array([X[i][1] for i in train_indices])\n",
    "train_X=[train_X_seq,train_X_struct]\n",
    "\n",
    "validate_X_seq=np.array([X[i][0] for i in validate_indices])\n",
    "validate_X_struct=np.array([X[i][1] for i in validate_indices])\n",
    "validate_X=[validate_X_seq,validate_X_struct]\n",
    "\n",
    "test_X_seq=np.array([X[i][0] for i in test_indices])\n",
    "test_X_struct=np.array([X[i][1] for i in test_indices])\n",
    "test_X=[test_X_seq,test_X_struct]"
   ]
  },
  {
   "cell_type": "code",
   "execution_count": 8,
   "metadata": {
    "ExecuteTime": {
     "end_time": "2020-06-04T03:50:22.659966Z",
     "start_time": "2020-06-04T03:50:22.606416Z"
    }
   },
   "outputs": [],
   "source": [
    "train_y=np.asarray([y[i] for i in train_indices])\n",
    "validate_y=np.asarray([y[i] for i in validate_indices])\n",
    "test_y=np.asarray([y[i] for i in test_indices])"
   ]
  },
  {
   "cell_type": "code",
   "execution_count": 9,
   "metadata": {
    "ExecuteTime": {
     "end_time": "2020-06-04T03:50:22.715018Z",
     "start_time": "2020-06-04T03:50:22.662222Z"
    }
   },
   "outputs": [
    {
     "data": {
      "text/plain": [
       "(647, 166, 4)"
      ]
     },
     "execution_count": 9,
     "metadata": {},
     "output_type": "execute_result"
    }
   ],
   "source": [
    "train_X_seq.shape"
   ]
  },
  {
   "cell_type": "code",
   "execution_count": 10,
   "metadata": {
    "ExecuteTime": {
     "end_time": "2020-06-04T03:50:22.768926Z",
     "start_time": "2020-06-04T03:50:22.716449Z"
    }
   },
   "outputs": [
    {
     "data": {
      "text/plain": [
       "(647, 166, 6)"
      ]
     },
     "execution_count": 10,
     "metadata": {},
     "output_type": "execute_result"
    }
   ],
   "source": [
    "train_X_struct.shape"
   ]
  },
  {
   "cell_type": "code",
   "execution_count": 11,
   "metadata": {
    "ExecuteTime": {
     "end_time": "2020-06-04T03:50:22.822379Z",
     "start_time": "2020-06-04T03:50:22.770740Z"
    }
   },
   "outputs": [
    {
     "data": {
      "text/plain": [
       "(647,)"
      ]
     },
     "execution_count": 11,
     "metadata": {},
     "output_type": "execute_result"
    }
   ],
   "source": [
    "train_y.shape"
   ]
  },
  {
   "cell_type": "markdown",
   "metadata": {
    "ExecuteTime": {
     "end_time": "2020-05-30T05:32:13.111744Z",
     "start_time": "2020-05-30T05:32:13.071081Z"
    }
   },
   "source": [
    "## Create keras model "
   ]
  },
  {
   "cell_type": "code",
   "execution_count": 12,
   "metadata": {
    "ExecuteTime": {
     "end_time": "2020-06-04T03:50:23.862759Z",
     "start_time": "2020-06-04T03:50:22.824142Z"
    }
   },
   "outputs": [
    {
     "name": "stderr",
     "output_type": "stream",
     "text": [
      "Using TensorFlow backend.\n"
     ]
    }
   ],
   "source": [
    "#import keras dependencies \n",
    "import tensorflow as tf\n",
    "import keras\n",
    "from keras.models import Model\n",
    "from keras.layers import Input, Concatenate\n",
    "from keras.layers.core import  Dropout, Reshape, Dense, Activation, Flatten\n",
    "from keras.layers.convolutional import Conv1D, MaxPooling1D\n",
    "from keras.optimizers import Adadelta, SGD, RMSprop;\n",
    "import keras.losses;\n",
    "from keras.constraints import maxnorm;\n",
    "from keras.layers.normalization import BatchNormalization\n",
    "from keras.regularizers import l1, l2\n",
    "from keras import backend as K\n",
    "from kerasAC.custom_losses import * "
   ]
  },
  {
   "cell_type": "code",
   "execution_count": 13,
   "metadata": {
    "ExecuteTime": {
     "end_time": "2020-06-04T03:50:29.117251Z",
     "start_time": "2020-06-04T03:50:23.866232Z"
    }
   },
   "outputs": [],
   "source": [
    "#define a keras model \n",
    "K.set_image_data_format('channels_last')\n",
    "padding='same'\n",
    "seq_input=Input(shape=(166,4),name='seq_input')\n",
    "struct_input=Input(shape=(166,6),name='struct_input')\n",
    "x_seq=Conv1D(filters=1,kernel_size=6,input_shape=(166,4),padding=padding,name='conv_seq')(seq_input)\n",
    "x_struct=Conv1D(filters=1,kernel_size=6,input_shape=(166,6),padding=padding,name='conv_struct')(struct_input)\n",
    "x_seq=Activation('relu',name='activation_1')(x_seq)\n",
    "x_struct=Activation('relu',name='activation_2')(x_struct)\n",
    "x_seq=Flatten(name='flatten1')(x_seq)\n",
    "x_struct=Flatten(name='flatten2')(x_struct)\n",
    "aggregated=Concatenate(axis=-1)([x_struct,x_seq])\n",
    "x=Dense(32,name='dense1')(aggregated)\n",
    "x=Activation('relu',name='activation_3')(x)\n",
    "outputs=Dense(1,name='final')(x)\n",
    "model=Model(inputs=[seq_input,struct_input],outputs=outputs)\n",
    "adam = keras.optimizers.Adam(lr=0.001, beta_1=0.9, beta_2=0.999, epsilon=1e-08)\n",
    "model.compile(optimizer=adam,loss=ambig_mean_squared_error)\n"
   ]
  },
  {
   "cell_type": "code",
   "execution_count": 14,
   "metadata": {
    "ExecuteTime": {
     "end_time": "2020-06-04T03:50:29.184376Z",
     "start_time": "2020-06-04T03:50:29.119925Z"
    }
   },
   "outputs": [
    {
     "name": "stdout",
     "output_type": "stream",
     "text": [
      "Model: \"model_1\"\n",
      "__________________________________________________________________________________________________\n",
      "Layer (type)                    Output Shape         Param #     Connected to                     \n",
      "==================================================================================================\n",
      "struct_input (InputLayer)       (None, 166, 6)       0                                            \n",
      "__________________________________________________________________________________________________\n",
      "seq_input (InputLayer)          (None, 166, 4)       0                                            \n",
      "__________________________________________________________________________________________________\n",
      "conv_struct (Conv1D)            (None, 166, 1)       37          struct_input[0][0]               \n",
      "__________________________________________________________________________________________________\n",
      "conv_seq (Conv1D)               (None, 166, 1)       25          seq_input[0][0]                  \n",
      "__________________________________________________________________________________________________\n",
      "activation_2 (Activation)       (None, 166, 1)       0           conv_struct[0][0]                \n",
      "__________________________________________________________________________________________________\n",
      "activation_1 (Activation)       (None, 166, 1)       0           conv_seq[0][0]                   \n",
      "__________________________________________________________________________________________________\n",
      "flatten2 (Flatten)              (None, 166)          0           activation_2[0][0]               \n",
      "__________________________________________________________________________________________________\n",
      "flatten1 (Flatten)              (None, 166)          0           activation_1[0][0]               \n",
      "__________________________________________________________________________________________________\n",
      "concatenate_1 (Concatenate)     (None, 332)          0           flatten2[0][0]                   \n",
      "                                                                 flatten1[0][0]                   \n",
      "__________________________________________________________________________________________________\n",
      "dense1 (Dense)                  (None, 32)           10656       concatenate_1[0][0]              \n",
      "__________________________________________________________________________________________________\n",
      "activation_3 (Activation)       (None, 32)           0           dense1[0][0]                     \n",
      "__________________________________________________________________________________________________\n",
      "final (Dense)                   (None, 1)            33          activation_3[0][0]               \n",
      "==================================================================================================\n",
      "Total params: 10,751\n",
      "Trainable params: 10,751\n",
      "Non-trainable params: 0\n",
      "__________________________________________________________________________________________________\n"
     ]
    }
   ],
   "source": [
    "model.summary()"
   ]
  },
  {
   "cell_type": "markdown",
   "metadata": {},
   "source": [
    "## Train the model "
   ]
  },
  {
   "cell_type": "code",
   "execution_count": 15,
   "metadata": {
    "ExecuteTime": {
     "end_time": "2020-06-04T03:50:29.251932Z",
     "start_time": "2020-06-04T03:50:29.186131Z"
    }
   },
   "outputs": [],
   "source": [
    "from keras.callbacks import * \n",
    "from kerasAC.custom_callbacks import * \n"
   ]
  },
  {
   "cell_type": "code",
   "execution_count": 16,
   "metadata": {
    "ExecuteTime": {
     "end_time": "2020-06-04T03:50:29.312372Z",
     "start_time": "2020-06-04T03:50:29.253502Z"
    }
   },
   "outputs": [],
   "source": [
    "#define callbacks \n",
    "checkpointer = ModelCheckpoint(filepath=\"model.hdf5\", verbose=1, save_best_only=True)\n",
    "earlystopper = EarlyStopping(monitor='val_loss', patience=3, verbose=1,restore_best_weights=True)\n",
    "history=LossHistory(\"logs.batch\",['loss','val_loss'])\n",
    "csvlogger = CSVLogger(\"logs.epoch.csv\", append = False)\n",
    "reduce_lr = ReduceLROnPlateau(monitor='val_loss', factor=0.4,patience=2, min_lr=0.00000001)\n",
    "cur_callbacks=[checkpointer,earlystopper,csvlogger,reduce_lr,history]\n"
   ]
  },
  {
   "cell_type": "code",
   "execution_count": 17,
   "metadata": {
    "ExecuteTime": {
     "end_time": "2020-06-04T03:50:39.416512Z",
     "start_time": "2020-06-04T03:50:29.313870Z"
    }
   },
   "outputs": [
    {
     "name": "stdout",
     "output_type": "stream",
     "text": [
      "Train on 647 samples, validate on 139 samples\n",
      "Epoch 1/40\n",
      "647/647 [==============================] - 2s 3ms/step - loss: 0.0562 - val_loss: 0.0311\n",
      "\n",
      "Epoch 00001: val_loss improved from inf to 0.03111, saving model to model.hdf5\n",
      "Epoch 2/40\n",
      "647/647 [==============================] - 0s 334us/step - loss: 0.0276 - val_loss: 0.0317\n",
      "\n",
      "Epoch 00002: val_loss did not improve from 0.03111\n",
      "Epoch 3/40\n",
      "647/647 [==============================] - 0s 331us/step - loss: 0.0237 - val_loss: 0.0296\n",
      "\n",
      "Epoch 00003: val_loss improved from 0.03111 to 0.02958, saving model to model.hdf5\n",
      "Epoch 4/40\n",
      "647/647 [==============================] - 0s 336us/step - loss: 0.0225 - val_loss: 0.0294\n",
      "\n",
      "Epoch 00004: val_loss improved from 0.02958 to 0.02935, saving model to model.hdf5\n",
      "Epoch 5/40\n",
      "647/647 [==============================] - 0s 309us/step - loss: 0.0203 - val_loss: 0.0262\n",
      "\n",
      "Epoch 00005: val_loss improved from 0.02935 to 0.02621, saving model to model.hdf5\n",
      "Epoch 6/40\n",
      "647/647 [==============================] - 0s 311us/step - loss: 0.0186 - val_loss: 0.0248\n",
      "\n",
      "Epoch 00006: val_loss improved from 0.02621 to 0.02484, saving model to model.hdf5\n",
      "Epoch 7/40\n",
      "647/647 [==============================] - 0s 324us/step - loss: 0.0172 - val_loss: 0.0245\n",
      "\n",
      "Epoch 00007: val_loss improved from 0.02484 to 0.02446, saving model to model.hdf5\n",
      "Epoch 8/40\n",
      "647/647 [==============================] - 0s 346us/step - loss: 0.0158 - val_loss: 0.0221\n",
      "\n",
      "Epoch 00008: val_loss improved from 0.02446 to 0.02213, saving model to model.hdf5\n",
      "Epoch 9/40\n",
      "647/647 [==============================] - 0s 326us/step - loss: 0.0146 - val_loss: 0.0211\n",
      "\n",
      "Epoch 00009: val_loss improved from 0.02213 to 0.02112, saving model to model.hdf5\n",
      "Epoch 10/40\n",
      "647/647 [==============================] - 0s 312us/step - loss: 0.0133 - val_loss: 0.0212\n",
      "\n",
      "Epoch 00010: val_loss did not improve from 0.02112\n",
      "Epoch 11/40\n",
      "647/647 [==============================] - 0s 316us/step - loss: 0.0127 - val_loss: 0.0213\n",
      "\n",
      "Epoch 00011: val_loss did not improve from 0.02112\n",
      "Epoch 12/40\n",
      "647/647 [==============================] - 0s 317us/step - loss: 0.0122 - val_loss: 0.0194\n",
      "\n",
      "Epoch 00012: val_loss improved from 0.02112 to 0.01938, saving model to model.hdf5\n",
      "Epoch 13/40\n",
      "647/647 [==============================] - 0s 307us/step - loss: 0.0112 - val_loss: 0.0189\n",
      "\n",
      "Epoch 00013: val_loss improved from 0.01938 to 0.01891, saving model to model.hdf5\n",
      "Epoch 14/40\n",
      "647/647 [==============================] - 0s 301us/step - loss: 0.0107 - val_loss: 0.0196\n",
      "\n",
      "Epoch 00014: val_loss did not improve from 0.01891\n",
      "Epoch 15/40\n",
      "647/647 [==============================] - 0s 314us/step - loss: 0.0105 - val_loss: 0.0184\n",
      "\n",
      "Epoch 00015: val_loss improved from 0.01891 to 0.01838, saving model to model.hdf5\n",
      "Epoch 16/40\n",
      "647/647 [==============================] - 0s 314us/step - loss: 0.0101 - val_loss: 0.0185\n",
      "\n",
      "Epoch 00016: val_loss did not improve from 0.01838\n",
      "Epoch 17/40\n",
      "647/647 [==============================] - 0s 316us/step - loss: 0.0100 - val_loss: 0.0191\n",
      "\n",
      "Epoch 00017: val_loss did not improve from 0.01838\n",
      "Epoch 18/40\n",
      "647/647 [==============================] - 0s 355us/step - loss: 0.0099 - val_loss: 0.0177\n",
      "\n",
      "Epoch 00018: val_loss improved from 0.01838 to 0.01769, saving model to model.hdf5\n",
      "Epoch 19/40\n",
      "647/647 [==============================] - 0s 318us/step - loss: 0.0095 - val_loss: 0.0180\n",
      "\n",
      "Epoch 00019: val_loss did not improve from 0.01769\n",
      "Epoch 20/40\n",
      "647/647 [==============================] - 0s 327us/step - loss: 0.0094 - val_loss: 0.0174\n",
      "\n",
      "Epoch 00020: val_loss improved from 0.01769 to 0.01744, saving model to model.hdf5\n",
      "Epoch 21/40\n",
      "647/647 [==============================] - 0s 321us/step - loss: 0.0093 - val_loss: 0.0183\n",
      "\n",
      "Epoch 00021: val_loss did not improve from 0.01744\n",
      "Epoch 22/40\n",
      "647/647 [==============================] - 0s 329us/step - loss: 0.0095 - val_loss: 0.0174\n",
      "\n",
      "Epoch 00022: val_loss improved from 0.01744 to 0.01740, saving model to model.hdf5\n",
      "Epoch 23/40\n",
      "647/647 [==============================] - 0s 321us/step - loss: 0.0090 - val_loss: 0.0174\n",
      "\n",
      "Epoch 00023: val_loss improved from 0.01740 to 0.01738, saving model to model.hdf5\n",
      "Epoch 24/40\n",
      "647/647 [==============================] - 0s 311us/step - loss: 0.0090 - val_loss: 0.0175\n",
      "\n",
      "Epoch 00024: val_loss did not improve from 0.01738\n",
      "Epoch 25/40\n",
      "647/647 [==============================] - 0s 318us/step - loss: 0.0090 - val_loss: 0.0175\n",
      "\n",
      "Epoch 00025: val_loss did not improve from 0.01738\n",
      "Epoch 26/40\n",
      "647/647 [==============================] - 0s 327us/step - loss: 0.0089 - val_loss: 0.0174\n",
      "\n",
      "Epoch 00026: val_loss improved from 0.01738 to 0.01737, saving model to model.hdf5\n",
      "Epoch 27/40\n",
      "647/647 [==============================] - 0s 331us/step - loss: 0.0089 - val_loss: 0.0173\n",
      "\n",
      "Epoch 00027: val_loss improved from 0.01737 to 0.01734, saving model to model.hdf5\n",
      "Epoch 28/40\n",
      "647/647 [==============================] - 0s 317us/step - loss: 0.0089 - val_loss: 0.0173\n",
      "\n",
      "Epoch 00028: val_loss improved from 0.01734 to 0.01732, saving model to model.hdf5\n",
      "Epoch 29/40\n",
      "647/647 [==============================] - 0s 325us/step - loss: 0.0089 - val_loss: 0.0174\n",
      "\n",
      "Epoch 00029: val_loss did not improve from 0.01732\n",
      "Epoch 30/40\n",
      "647/647 [==============================] - 0s 328us/step - loss: 0.0089 - val_loss: 0.0174\n",
      "\n",
      "Epoch 00030: val_loss did not improve from 0.01732\n",
      "Epoch 31/40\n",
      "647/647 [==============================] - 0s 319us/step - loss: 0.0089 - val_loss: 0.0174\n",
      "\n",
      "Epoch 00031: val_loss did not improve from 0.01732\n",
      "Restoring model weights from the end of the best epoch\n",
      "Epoch 00031: early stopping\n"
     ]
    },
    {
     "data": {
      "text/plain": [
       "<keras.callbacks.callbacks.History at 0x7f12500f5b50>"
      ]
     },
     "execution_count": 17,
     "metadata": {},
     "output_type": "execute_result"
    }
   ],
   "source": [
    "#fit the model \n",
    "model.fit(x=train_X,\n",
    "          y=train_y,\n",
    "          batch_size=32,\n",
    "          epochs=40,\n",
    "          verbose=1,\n",
    "          callbacks=cur_callbacks,\n",
    "          validation_data=(validate_X,validate_y),\n",
    "          shuffle=True,\n",
    "          max_queue_size=100,\n",
    "          use_multiprocessing=True,\n",
    "          workers=12)\n"
   ]
  },
  {
   "cell_type": "markdown",
   "metadata": {},
   "source": [
    "## plot the loss curves "
   ]
  },
  {
   "cell_type": "code",
   "execution_count": 18,
   "metadata": {
    "ExecuteTime": {
     "end_time": "2020-06-04T03:50:39.874872Z",
     "start_time": "2020-06-04T03:50:39.420800Z"
    }
   },
   "outputs": [
    {
     "name": "stderr",
     "output_type": "stream",
     "text": [
      "/users/annashch/miniconda3/lib/python3.7/site-packages/ipykernel_launcher.py:6: SettingWithCopyWarning: \n",
      "A value is trying to be set on a copy of a slice from a DataFrame\n",
      "\n",
      "See the caveats in the documentation: https://pandas.pydata.org/pandas-docs/stable/user_guide/indexing.html#returning-a-view-versus-a-copy\n",
      "  \n",
      "/users/annashch/miniconda3/lib/python3.7/site-packages/ipykernel_launcher.py:7: SettingWithCopyWarning: \n",
      "A value is trying to be set on a copy of a slice from a DataFrame\n",
      "\n",
      "See the caveats in the documentation: https://pandas.pydata.org/pandas-docs/stable/user_guide/indexing.html#returning-a-view-versus-a-copy\n",
      "  import sys\n",
      "/users/annashch/miniconda3/lib/python3.7/site-packages/plotnine/ggplot.py:729: PlotnineWarning: Saving 6 x 6 in image.\n",
      "  from_inches(height, units), units), PlotnineWarning)\n",
      "/users/annashch/miniconda3/lib/python3.7/site-packages/plotnine/ggplot.py:730: PlotnineWarning: Filename: Loss.svg\n",
      "  warn('Filename: {}'.format(filename), PlotnineWarning)\n"
     ]
    }
   ],
   "source": [
    "## plot the losses\n",
    "losses=pd.read_csv(\"logs.epoch.csv\",header=0,sep=',')\n",
    "losses.shape\n",
    "batch_losses=pd.read_csv(\"logs.batch\",header=0,sep='\\t')\n",
    "losses=pd.melt(losses,id_vars='epoch')\n",
    "losses['variable'][losses['variable']=='loss']='TrainingLoss'\n",
    "losses['variable'][losses['variable']=='val_loss']='ValidationLoss'\n",
    "plotnine.options.figure_size = (6, 6)\n",
    "(ggplot(losses,aes(x='epoch',\n",
    "                   y='value',\n",
    "                   group='variable',\n",
    "                   color='variable'))+geom_line(size=2)+theme_bw(20)).save(\"Loss.svg\",format='svg')\n"
   ]
  },
  {
   "cell_type": "code",
   "execution_count": 19,
   "metadata": {
    "ExecuteTime": {
     "end_time": "2020-06-04T03:50:40.209494Z",
     "start_time": "2020-06-04T03:50:39.876703Z"
    }
   },
   "outputs": [
    {
     "data": {
      "image/png": "[encoded data removed]",
      "text/plain": [
       "<Figure size 600x600 with 1 Axes>"
      ]
     },
     "metadata": {},
     "output_type": "display_data"
    },
    {
     "data": {
      "text/plain": [
       "<ggplot: (8732289291889)>"
      ]
     },
     "execution_count": 19,
     "metadata": {},
     "output_type": "execute_result"
    }
   ],
   "source": [
    "batch_losses['sequence']=batch_losses.index\n",
    "plotnine.options.figure_size = (6, 6)\n",
    "\n",
    "\n",
    "(ggplot(batch_losses,aes(x=\"sequence\",y=\"loss\"))+geom_line()+ylab(\"Training Loss MSE\"))"
   ]
  },
  {
   "cell_type": "markdown",
   "metadata": {},
   "source": [
    "## get predictions"
   ]
  },
  {
   "cell_type": "code",
   "execution_count": 20,
   "metadata": {
    "ExecuteTime": {
     "end_time": "2020-06-04T03:50:40.411736Z",
     "start_time": "2020-06-04T03:50:40.211578Z"
    }
   },
   "outputs": [],
   "source": [
    "predictions_test=model.predict(test_X,batch_size=128,max_queue_size=100,use_multiprocessing=True,workers=4)"
   ]
  },
  {
   "cell_type": "code",
   "execution_count": 21,
   "metadata": {
    "ExecuteTime": {
     "end_time": "2020-06-04T03:50:40.507023Z",
     "start_time": "2020-06-04T03:50:40.415114Z"
    }
   },
   "outputs": [],
   "source": [
    "predictions_train=model.predict(train_X,batch_size=128,max_queue_size=100,use_multiprocessing=True,workers=4)"
   ]
  },
  {
   "cell_type": "code",
   "execution_count": 22,
   "metadata": {
    "ExecuteTime": {
     "end_time": "2020-06-04T03:50:40.580785Z",
     "start_time": "2020-06-04T03:50:40.508953Z"
    }
   },
   "outputs": [],
   "source": [
    "predictions_validate=model.predict(validate_X,batch_size=128,max_queue_size=100,use_multiprocessing=True,workers=4)"
   ]
  },
  {
   "cell_type": "code",
   "execution_count": 23,
   "metadata": {
    "ExecuteTime": {
     "end_time": "2020-06-04T03:50:40.754762Z",
     "start_time": "2020-06-04T03:50:40.589194Z"
    }
   },
   "outputs": [
    {
     "name": "stdout",
     "output_type": "stream",
     "text": [
      "predictions shape:(138, 1)\n",
      "true labels shape:(138, 1)\n"
     ]
    },
    {
     "data": {
      "text/plain": [
       "{'spearmanr': [SpearmanrResult(correlation=0.7268944189137835, pvalue=5.801440994309172e-23)],\n",
       " 'pearsonr': [(0.776104432010404, 8.32677148965234e-28)],\n",
       " 'spearmanr_nonzerobins': [SpearmanrResult(correlation=0.7291411988933152, pvalue=5.396386930528056e-23)],\n",
       " 'pearsonr_nonzerobins': [(0.7754646777274672, 1.5579662362243697e-27)]}"
      ]
     },
     "execution_count": 23,
     "metadata": {},
     "output_type": "execute_result"
    }
   ],
   "source": [
    "#get performance metrics \n",
    "from kerasAC.performance_metrics.regression_performance_metrics import *\n",
    "test_perf=get_performance_metrics_regression(predictions_test,np.expand_dims(test_y,axis=1))\n",
    "test_perf"
   ]
  },
  {
   "cell_type": "code",
   "execution_count": 24,
   "metadata": {
    "ExecuteTime": {
     "end_time": "2020-06-04T03:50:40.897848Z",
     "start_time": "2020-06-04T03:50:40.759104Z"
    }
   },
   "outputs": [
    {
     "name": "stdout",
     "output_type": "stream",
     "text": [
      "predictions shape:(647, 1)\n",
      "true labels shape:(647, 1)\n"
     ]
    },
    {
     "data": {
      "text/plain": [
       "{'spearmanr': [SpearmanrResult(correlation=0.8032603250895054, pvalue=6.780049392587134e-144)],\n",
       " 'pearsonr': [(0.8752573721281696, 6.58596967624591e-201)],\n",
       " 'spearmanr_nonzerobins': [SpearmanrResult(correlation=0.803952718464136, pvalue=9.625939095857012e-143)],\n",
       " 'pearsonr_nonzerobins': [(0.8747011505739861, 3.902093437378813e-198)]}"
      ]
     },
     "execution_count": 24,
     "metadata": {},
     "output_type": "execute_result"
    }
   ],
   "source": [
    "train_perf=get_performance_metrics_regression(predictions_train,np.expand_dims(train_y,axis=1))\n",
    "train_perf"
   ]
  },
  {
   "cell_type": "code",
   "execution_count": 25,
   "metadata": {
    "ExecuteTime": {
     "end_time": "2020-06-04T03:50:40.965447Z",
     "start_time": "2020-06-04T03:50:40.899545Z"
    }
   },
   "outputs": [
    {
     "name": "stdout",
     "output_type": "stream",
     "text": [
      "predictions shape:(139, 1)\n",
      "true labels shape:(139, 1)\n"
     ]
    },
    {
     "data": {
      "text/plain": [
       "{'spearmanr': [SpearmanrResult(correlation=0.7052142646599521, pvalue=1.8798796687964092e-21)],\n",
       " 'pearsonr': [(0.7397944607200918, 1.7899212279985244e-24)],\n",
       " 'spearmanr_nonzerobins': [SpearmanrResult(correlation=0.7228076693150244, pvalue=1.313176362908531e-22)],\n",
       " 'pearsonr_nonzerobins': [(0.7448913448718626, 1.3228844284677046e-24)]}"
      ]
     },
     "execution_count": 25,
     "metadata": {},
     "output_type": "execute_result"
    }
   ],
   "source": [
    "valid_perf=get_performance_metrics_regression(predictions_validate,np.expand_dims(validate_y,axis=1))\n",
    "valid_perf"
   ]
  },
  {
   "cell_type": "code",
   "execution_count": 26,
   "metadata": {
    "ExecuteTime": {
     "end_time": "2020-06-04T03:50:41.045524Z",
     "start_time": "2020-06-04T03:50:40.967092Z"
    }
   },
   "outputs": [],
   "source": [
    "#plot the predictions \n",
    "%matplotlib inline\n",
    "import matplotlib.pyplot as plt\n",
    "from matplotlib import cm\n",
    "from matplotlib.colors import Normalize \n",
    "from scipy.interpolate import interpn\n",
    "\n",
    "def density_scatter( x , y, title, ax = None, sort = True, bins = 20, **kwargs )   :\n",
    "    \"\"\"\n",
    "    Scatter plot colored by 2d histogram\n",
    "    \"\"\"\n",
    "    nan_indices=[i[0] for i in np.argwhere(np.isnan(x))]\n",
    "    y= np.delete(y, nan_indices, 0)\n",
    "    x=np.delete(x,nan_indices,0)\n",
    "\n",
    "    if ax is None :\n",
    "        fig , ax = plt.subplots(figsize=(4, 3), dpi= 80, facecolor='w', edgecolor='k')\n",
    "    data , x_e, y_e = np.histogram2d( x, y, bins = bins, density = True )\n",
    "    z = interpn( ( 0.5*(x_e[1:] + x_e[:-1]) , 0.5*(y_e[1:]+y_e[:-1]) ) , data , np.vstack([x,y]).T , method = \"splinef2d\", bounds_error = False)\n",
    "\n",
    "    #To be sure to plot all data\n",
    "    z[np.where(np.isnan(z))] = 0.0\n",
    "\n",
    "    # Sort the points by density, so that the densest points are plotted last\n",
    "    if sort :\n",
    "        idx = z.argsort()\n",
    "        x, y, z = x[idx], y[idx], z[idx]\n",
    "\n",
    "    ax.scatter( x, y, c=z, **kwargs,s=1 )\n",
    "    lims = [\n",
    "    np.min([ax.get_xlim(), ax.get_ylim()]),  # min of both axes\n",
    "    np.max([ax.get_xlim(), ax.get_ylim()]),  # max of both axes\n",
    "    ]\n",
    "\n",
    "    # now plot both limits against eachother\n",
    "    ax.plot(lims, lims, 'k-', alpha=0.75, zorder=0)\n",
    "    ax.set_aspect('equal')\n",
    "    ax.set_xlim(lims)\n",
    "    ax.set_ylim(lims)\n",
    "\n",
    "    plt.title(title)\n",
    "    plt.xlabel(\"Observed\")\n",
    "    plt.ylabel(\"Predicted\")\n",
    "    norm = Normalize(vmin = np.min(z), vmax = np.max(z))\n",
    "    cbar = fig.colorbar(cm.ScalarMappable(norm = norm), ax=ax)\n",
    "    cbar.ax.set_ylabel('Density')\n",
    "\n",
    "    return ax"
   ]
  },
  {
   "cell_type": "code",
   "execution_count": 27,
   "metadata": {
    "ExecuteTime": {
     "end_time": "2020-06-04T03:50:41.504776Z",
     "start_time": "2020-06-04T03:50:41.048166Z"
    }
   },
   "outputs": [
    {
     "data": {
      "image/png": "[encoded data removed]",
      "text/plain": [
       "<Figure size 320x240 with 2 Axes>"
      ]
     },
     "metadata": {},
     "output_type": "display_data"
    }
   ],
   "source": [
    "density_scatter(train_y,np.squeeze(predictions_train),'Joint Training: Training',bins=[30,30])\n",
    "plt.savefig(\"training.svg\")"
   ]
  },
  {
   "cell_type": "code",
   "execution_count": 28,
   "metadata": {
    "ExecuteTime": {
     "end_time": "2020-06-04T03:50:41.757245Z",
     "start_time": "2020-06-04T03:50:41.506420Z"
    }
   },
   "outputs": [
    {
     "data": {
      "text/plain": [
       "<matplotlib.axes._subplots.AxesSubplot at 0x7f1366874b50>"
      ]
     },
     "execution_count": 28,
     "metadata": {},
     "output_type": "execute_result"
    },
    {
     "data": {
      "image/png": "[encoded data removed]",
      "text/plain": [
       "<Figure size 320x240 with 2 Axes>"
      ]
     },
     "metadata": {},
     "output_type": "display_data"
    }
   ],
   "source": [
    "density_scatter(validate_y,np.squeeze(predictions_validate),'Joint Training: Validation',bins=[30,30])"
   ]
  },
  {
   "cell_type": "code",
   "execution_count": 29,
   "metadata": {
    "ExecuteTime": {
     "end_time": "2020-06-04T03:50:42.154042Z",
     "start_time": "2020-06-04T03:50:41.759846Z"
    }
   },
   "outputs": [
    {
     "data": {
      "image/png": "[encoded data removed]",
      "text/plain": [
       "<Figure size 320x240 with 2 Axes>"
      ]
     },
     "metadata": {},
     "output_type": "display_data"
    }
   ],
   "source": [
    "density_scatter(test_y,np.squeeze(predictions_test),'Joint Training: Test',bins=[30,30])\n",
    "plt.savefig(\"test.svg\")"
   ]
  },
  {
   "cell_type": "code",
   "execution_count": 30,
   "metadata": {
    "ExecuteTime": {
     "end_time": "2020-06-04T03:50:42.234016Z",
     "start_time": "2020-06-04T03:50:42.155647Z"
    }
   },
   "outputs": [],
   "source": [
    "# select a set of background examples to take an expectation over\n",
    "background=train_X\n",
    "import pickle\n",
    "pickle.dump(background,open('background.random.p','wb'))\n",
    "pickle.dump(test_X,open('test_X.random.p','wb'))\n",
    "pickle.dump(test_y,open('test_y.random.p','wb'))\n",
    "pickle.dump(test_indices,open('test_indices.random.p','wb'))\n"
   ]
  },
  {
   "cell_type": "code",
   "execution_count": null,
   "metadata": {},
   "outputs": [],
   "source": []
  }
 ],
 "metadata": {
  "kernelspec": {
   "display_name": "Python 3",
   "language": "python",
   "name": "python3"
  },
  "language_info": {
   "codemirror_mode": {
    "name": "ipython",
    "version": 3
   },
   "file_extension": ".py",
   "mimetype": "text/x-python",
   "name": "python",
   "nbconvert_exporter": "python",
   "pygments_lexer": "ipython3",
   "version": "3.7.6"
  }
 },
 "nbformat": 4,
 "nbformat_minor": 4
}
