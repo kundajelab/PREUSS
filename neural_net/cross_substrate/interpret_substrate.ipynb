{
 "cells": [
  {
   "cell_type": "code",
   "execution_count": 1,
   "metadata": {
    "ExecuteTime": {
     "end_time": "2020-06-03T22:17:51.628980Z",
     "start_time": "2020-06-03T22:17:49.310920Z"
    }
   },
   "outputs": [],
   "source": [
    "%load_ext autoreload\n",
    "%autoreload 2\n",
    "# standard imports\n",
    "import numpy as np\n",
    "import pandas as pd\n",
    "import matplotlib.pyplot as plt\n",
    "\n",
    "# displays logos inline within the notebook;\n",
    "# remove if using a python interpreter instead\n",
    "%matplotlib inline\n",
    "\n",
    "# logomaker import\n",
    "import logomaker\n",
    "from vis import * "
   ]
  },
  {
   "cell_type": "code",
   "execution_count": 2,
   "metadata": {
    "ExecuteTime": {
     "end_time": "2020-06-03T22:17:57.679483Z",
     "start_time": "2020-06-03T22:17:51.632704Z"
    }
   },
   "outputs": [
    {
     "name": "stdout",
     "output_type": "stream",
     "text": [
      "WARNING:tensorflow:From /users/annashch/miniconda3/lib/python3.7/site-packages/tensorflow_core/python/compat/v2_compat.py:88: disable_resource_variables (from tensorflow.python.ops.variable_scope) is deprecated and will be removed in a future version.\n",
      "Instructions for updating:\n",
      "non-resource variables are not supported in the long term\n"
     ]
    }
   ],
   "source": [
    "import tensorflow as tf \n",
    "from tensorflow.compat.v1.keras.backend import get_session\n",
    "tf.compat.v1.disable_v2_behavior()"
   ]
  },
  {
   "cell_type": "code",
   "execution_count": 3,
   "metadata": {
    "ExecuteTime": {
     "end_time": "2020-06-03T22:17:58.847841Z",
     "start_time": "2020-06-03T22:17:57.684823Z"
    }
   },
   "outputs": [
    {
     "name": "stderr",
     "output_type": "stream",
     "text": [
      "Using TensorFlow backend.\n"
     ]
    }
   ],
   "source": [
    "from keras.models import load_model\n",
    "from keras.utils.generic_utils import get_custom_objects\n",
    "from kerasAC.metrics import * \n",
    "from kerasAC.custom_losses import * \n",
    "custom_objects={\"recall\":recall,\n",
    "                    \"sensitivity\":recall,\n",
    "                    \"specificity\":specificity,\n",
    "                    \"fpr\":fpr,\n",
    "                    \"fnr\":fnr,\n",
    "                    \"precision\":precision,\n",
    "                    \"f1\":f1,\n",
    "                    \"ambig_binary_crossentropy\":ambig_binary_crossentropy,\n",
    "                    \"ambig_mean_absolute_error\":ambig_mean_absolute_error,\n",
    "                    \"ambig_mean_squared_error\":ambig_mean_squared_error,\n",
    "                    \"MultichannelMultinomialNLL\":MultichannelMultinomialNLL}\n",
    "get_custom_objects().update(custom_objects)\n"
   ]
  },
  {
   "cell_type": "code",
   "execution_count": null,
   "metadata": {
    "ExecuteTime": {
     "start_time": "2020-06-03T22:17:49.313Z"
    }
   },
   "outputs": [
    {
     "name": "stdout",
     "output_type": "stream",
     "text": [
      "WARNING:tensorflow:From /users/annashch/miniconda3/lib/python3.7/site-packages/tensorflow_core/python/ops/resource_variable_ops.py:1635: calling BaseResourceVariable.__init__ (from tensorflow.python.ops.resource_variable_ops) with constraint is deprecated and will be removed in a future version.\n",
      "Instructions for updating:\n",
      "If using Keras pass *_constraint arguments to layers.\n"
     ]
    }
   ],
   "source": [
    "model=load_model(\"model.hdf5\")"
   ]
  },
  {
   "cell_type": "code",
   "execution_count": null,
   "metadata": {
    "ExecuteTime": {
     "start_time": "2020-06-03T22:17:49.315Z"
    }
   },
   "outputs": [],
   "source": [
    "import pickle \n",
    "background=pickle.load(open('background.random.p','rb'))"
   ]
  },
  {
   "cell_type": "code",
   "execution_count": null,
   "metadata": {
    "ExecuteTime": {
     "start_time": "2020-06-03T22:17:49.316Z"
    }
   },
   "outputs": [],
   "source": [
    "import shap\n",
    "\n",
    "# explain predictions of the model on four images\n",
    "e = shap.DeepExplainer(model, background,session=tf.compat.v1.keras.backend.get_session())\n"
   ]
  },
  {
   "cell_type": "code",
   "execution_count": null,
   "metadata": {
    "ExecuteTime": {
     "start_time": "2020-06-03T22:17:49.317Z"
    }
   },
   "outputs": [],
   "source": [
    "test_X=pickle.load(open(\"test_X.random.p\",'rb'))\n",
    "test_y=pickle.load(open(\"test_y.random.p\",'rb'))\n",
    "test_index=pickle.load(open(\"test_indices.random.p\",'rb'))\n",
    "shap_vals=e.shap_values(test_X)[0]"
   ]
  },
  {
   "cell_type": "code",
   "execution_count": null,
   "metadata": {
    "ExecuteTime": {
     "start_time": "2020-06-03T22:17:49.319Z"
    }
   },
   "outputs": [],
   "source": [
    "test_index[0]"
   ]
  },
  {
   "cell_type": "code",
   "execution_count": null,
   "metadata": {
    "ExecuteTime": {
     "start_time": "2020-06-03T22:17:49.320Z"
    },
    "scrolled": true
   },
   "outputs": [],
   "source": [
    "#maximum predition value \n",
    "plot_wrapper(test_X[0][127],shap_vals[0][122],test_X[1][127],shap_vals[1][127],figsize=(12,6),title=test_index[127]+\", Obs=0.60, pred=0.67\",mut_pos=20+42, editing_site_pos=47+42,xlim=(42,124))"
   ]
  },
  {
   "cell_type": "code",
   "execution_count": null,
   "metadata": {
    "ExecuteTime": {
     "start_time": "2020-06-03T22:17:49.321Z"
    }
   },
   "outputs": [],
   "source": [
    "plot_wrapper(test_X[0][68],shap_vals[0][68],test_X[1][68],shap_vals[1][68],figsize=(12,6),title=test_index[68]+\", Obs=0.22, pred=-0.13\",mut_pos=20+42, editing_site_pos=47+42,xlim=(42,124))"
   ]
  },
  {
   "cell_type": "code",
   "execution_count": null,
   "metadata": {
    "ExecuteTime": {
     "start_time": "2020-06-03T22:17:49.323Z"
    }
   },
   "outputs": [],
   "source": [
    "test_index[122]"
   ]
  },
  {
   "cell_type": "code",
   "execution_count": null,
   "metadata": {
    "ExecuteTime": {
     "start_time": "2020-06-03T22:17:49.324Z"
    }
   },
   "outputs": [],
   "source": [
    "np.nanargmax(test_y)"
   ]
  },
  {
   "cell_type": "code",
   "execution_count": null,
   "metadata": {
    "ExecuteTime": {
     "start_time": "2020-06-03T22:17:49.325Z"
    }
   },
   "outputs": [],
   "source": [
    "preds=model.predict(test_X)"
   ]
  },
  {
   "cell_type": "code",
   "execution_count": null,
   "metadata": {
    "ExecuteTime": {
     "start_time": "2020-06-03T22:17:49.326Z"
    }
   },
   "outputs": [],
   "source": [
    "preds.shape"
   ]
  },
  {
   "cell_type": "code",
   "execution_count": null,
   "metadata": {
    "ExecuteTime": {
     "start_time": "2020-06-03T22:17:49.327Z"
    }
   },
   "outputs": [],
   "source": [
    "test_y.shape"
   ]
  },
  {
   "cell_type": "code",
   "execution_count": null,
   "metadata": {
    "ExecuteTime": {
     "start_time": "2020-06-03T22:17:49.329Z"
    }
   },
   "outputs": [],
   "source": [
    "test_X[0].shape"
   ]
  },
  {
   "cell_type": "code",
   "execution_count": null,
   "metadata": {
    "ExecuteTime": {
     "start_time": "2020-06-03T22:17:49.330Z"
    }
   },
   "outputs": [],
   "source": [
    "np.nanargmin(preds)"
   ]
  },
  {
   "cell_type": "code",
   "execution_count": null,
   "metadata": {
    "ExecuteTime": {
     "start_time": "2020-06-03T22:17:49.331Z"
    }
   },
   "outputs": [],
   "source": [
    "preds[68]"
   ]
  },
  {
   "cell_type": "code",
   "execution_count": null,
   "metadata": {
    "ExecuteTime": {
     "start_time": "2020-06-03T22:17:49.332Z"
    }
   },
   "outputs": [],
   "source": [
    "test_y[68]"
   ]
  },
  {
   "cell_type": "code",
   "execution_count": null,
   "metadata": {
    "ExecuteTime": {
     "start_time": "2020-06-03T22:17:49.334Z"
    }
   },
   "outputs": [],
   "source": [
    "test_index[68]"
   ]
  },
  {
   "cell_type": "code",
   "execution_count": null,
   "metadata": {},
   "outputs": [],
   "source": []
  },
  {
   "cell_type": "code",
   "execution_count": null,
   "metadata": {},
   "outputs": [],
   "source": []
  }
 ],
 "metadata": {
  "kernelspec": {
   "display_name": "Python 3",
   "language": "python",
   "name": "python3"
  },
  "language_info": {
   "codemirror_mode": {
    "name": "ipython",
    "version": 3
   },
   "file_extension": ".py",
   "mimetype": "text/x-python",
   "name": "python",
   "nbconvert_exporter": "python",
   "pygments_lexer": "ipython3",
   "version": "3.7.6"
  }
 },
 "nbformat": 4,
 "nbformat_minor": 4
}
