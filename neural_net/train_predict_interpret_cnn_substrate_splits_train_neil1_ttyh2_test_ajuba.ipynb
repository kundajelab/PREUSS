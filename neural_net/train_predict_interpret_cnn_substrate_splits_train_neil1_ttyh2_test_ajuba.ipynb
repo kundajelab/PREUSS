{
 "cells": [
  {
   "cell_type": "code",
   "execution_count": 1,
   "metadata": {
    "ExecuteTime": {
     "end_time": "2020-05-31T05:36:53.477645Z",
     "start_time": "2020-05-31T05:36:41.231196Z"
    }
   },
   "outputs": [],
   "source": [
    "%load_ext autoreload\n",
    "%autoreload 2\n",
    "import pickle\n",
    "import numpy as np\n",
    "import pandas as pd \n",
    "import random\n",
    "import plotnine\n",
    "from plotnine import * \n",
    "np.random.seed(1234)\n",
    "random.seed(1234)\n"
   ]
  },
  {
   "cell_type": "code",
   "execution_count": 2,
   "metadata": {
    "ExecuteTime": {
     "end_time": "2020-05-31T05:36:53.833371Z",
     "start_time": "2020-05-31T05:36:53.481656Z"
    }
   },
   "outputs": [],
   "source": [
    "#load the data \n",
    "entries=pickle.load(open('cnn_inputs.p','rb'))\n",
    "X=entries['X']\n",
    "y=entries['y']"
   ]
  },
  {
   "cell_type": "code",
   "execution_count": 4,
   "metadata": {
    "ExecuteTime": {
     "end_time": "2020-05-31T06:06:38.193550Z",
     "start_time": "2020-05-31T06:06:37.000240Z"
    }
   },
   "outputs": [
    {
     "data": {
      "text/plain": [
       "['NEIL1_57',\n",
       " 'TTYH2_BC_116',\n",
       " 'TTYH2_BC_51',\n",
       " 'AJUBA_32',\n",
       " 'TTYH2_ECS_142',\n",
       " 'AJUBA_54',\n",
       " 'NEIL1_229',\n",
       " 'AJUBA_192',\n",
       " 'AJUBA_80',\n",
       " 'NEIL1_130',\n",
       " 'TTYH2_BC_100',\n",
       " 'TTYH2_BC_25',\n",
       " 'TTYH2_ECS_56',\n",
       " 'AJUBA_36',\n",
       " 'NEIL1_125',\n",
       " 'TTYH2_BC_26',\n",
       " 'AJUBA_21',\n",
       " 'TTYH2_BC_22',\n",
       " 'NEIL1_219',\n",
       " 'NEIL1_154',\n",
       " 'TTYH2_BC_162',\n",
       " 'NEIL1_233',\n",
       " 'TTYH2_ECS_60',\n",
       " 'TTYH2_ECS_124',\n",
       " 'NEIL1_215',\n",
       " 'AJUBA_214',\n",
       " 'NEIL1_38',\n",
       " 'TTYH2_ECS_100',\n",
       " 'TTYH2_ECS_147',\n",
       " 'AJUBA_120',\n",
       " 'NEIL1_61',\n",
       " 'TTYH2_BC_5',\n",
       " 'NEIL1_142',\n",
       " 'AJUBA_244',\n",
       " 'AJUBA_239',\n",
       " 'TTYH2_BC_181',\n",
       " 'TTYH2_ECS_92',\n",
       " 'TTYH2_BC_160',\n",
       " 'NEIL1_180',\n",
       " 'NEIL1_27',\n",
       " 'TTYH2_ECS_44',\n",
       " 'TTYH2_BC_106',\n",
       " 'TTYH2_ECS_78',\n",
       " 'TTYH2_BC_164',\n",
       " 'NEIL1_110',\n",
       " 'NEIL1_292',\n",
       " 'NEIL1_265',\n",
       " 'NEIL1_121',\n",
       " 'TTYH2_BC_44',\n",
       " 'NEIL1_22',\n",
       " 'NEIL1_139',\n",
       " 'TTYH2_ECS_55',\n",
       " 'TTYH2_BC_58',\n",
       " 'TTYH2_ECS_88',\n",
       " 'AJUBA_160',\n",
       " 'AJUBA_92',\n",
       " 'NEIL1_7',\n",
       " 'TTYH2_BC_91',\n",
       " 'NEIL1_177',\n",
       " 'TTYH2_ECS_63',\n",
       " 'TTYH2_ECS_168',\n",
       " 'TTYH2_BC_9',\n",
       " 'TTYH2_BC_70',\n",
       " 'TTYH2_BC_150',\n",
       " 'AJUBA_229',\n",
       " 'NEIL1_88',\n",
       " 'TTYH2_ECS_57',\n",
       " 'TTYH2_BC_155',\n",
       " 'TTYH2_BC_148',\n",
       " 'AJUBA_166',\n",
       " 'AJUBA_24',\n",
       " 'NEIL1_181',\n",
       " 'AJUBA_228',\n",
       " 'TTYH2_BC_79',\n",
       " 'TTYH2_BC_66',\n",
       " 'AJUBA_124',\n",
       " 'NEIL1_171',\n",
       " 'AJUBA_35',\n",
       " 'TTYH2_BC_170',\n",
       " 'TTYH2_ECS_71',\n",
       " 'AJUBA_65',\n",
       " 'AJUBA_97',\n",
       " 'NEIL1_4',\n",
       " 'NEIL1_245',\n",
       " 'TTYH2_BC_138',\n",
       " 'NEIL1_184',\n",
       " 'TTYH2_ECS_80',\n",
       " 'TTYH2_ECS_104',\n",
       " 'AJUBA_254',\n",
       " 'AJUBA_69',\n",
       " 'TTYH2_BC_45',\n",
       " 'NEIL1_119',\n",
       " 'TTYH2_BC_30',\n",
       " 'TTYH2_ECS_148',\n",
       " 'NEIL1_230',\n",
       " 'TTYH2_ECS_86',\n",
       " 'NEIL1_244',\n",
       " 'AJUBA_258',\n",
       " 'NEIL1_270',\n",
       " 'TTYH2_BC_184',\n",
       " 'AJUBA_234',\n",
       " 'NEIL1_40',\n",
       " 'TTYH2_BC_107',\n",
       " 'NEIL1_183',\n",
       " 'TTYH2_ECS_25',\n",
       " 'TTYH2_BC_67',\n",
       " 'AJUBA_243',\n",
       " 'AJUBA_221',\n",
       " 'TTYH2_ECS_91',\n",
       " 'TTYH2_BC_129',\n",
       " 'TTYH2_BC_171',\n",
       " 'TTYH2_ECS_128',\n",
       " 'TTYH2_BC_54',\n",
       " 'AJUBA_202',\n",
       " 'NEIL1_58',\n",
       " 'NEIL1_278',\n",
       " 'TTYH2_BC_89',\n",
       " 'TTYH2_BC_27',\n",
       " 'NEIL1_199',\n",
       " 'NEIL1_198',\n",
       " 'TTYH2_BC_48',\n",
       " 'AJUBA_45',\n",
       " 'TTYH2_ECS_39',\n",
       " 'TTYH2_ECS_14',\n",
       " 'NEIL1_113',\n",
       " 'TTYH2_ECS_170',\n",
       " 'AJUBA_201',\n",
       " 'AJUBA_250',\n",
       " 'TTYH2_BC_161',\n",
       " 'AJUBA_208',\n",
       " 'NEIL1_190',\n",
       " 'TTYH2_BC_120',\n",
       " 'TTYH2_ECS_169',\n",
       " 'TTYH2_ECS_102',\n",
       " 'AJUBA_149',\n",
       " 'AJUBA_91',\n",
       " 'NEIL1_82',\n",
       " 'NEIL1_23',\n",
       " 'TTYH2_ECS_61',\n",
       " 'NEIL1_26',\n",
       " 'AJUBA_182',\n",
       " 'AJUBA_99',\n",
       " 'TTYH2_ECS_131',\n",
       " 'TTYH2_BC_99',\n",
       " 'TTYH2_ECS_106',\n",
       " 'AJUBA_232',\n",
       " 'TTYH2_BC_180',\n",
       " 'TTYH2_ECS_162',\n",
       " 'AJUBA_96',\n",
       " 'TTYH2_BC_69',\n",
       " 'AJUBA_71',\n",
       " 'AJUBA_185',\n",
       " 'NEIL1_105',\n",
       " 'AJUBA_238',\n",
       " 'AJUBA_81',\n",
       " 'TTYH2_BC_113',\n",
       " 'TTYH2_BC_6',\n",
       " 'TTYH2_ECS_99',\n",
       " 'AJUBA_104',\n",
       " 'AJUBA_130',\n",
       " 'NEIL1_21',\n",
       " 'NEIL1_25',\n",
       " 'NEIL1_231',\n",
       " 'AJUBA_102',\n",
       " 'AJUBA_135',\n",
       " 'TTYH2_BC_101',\n",
       " 'TTYH2_BC_153',\n",
       " 'NEIL1_189',\n",
       " 'AJUBA_222',\n",
       " 'TTYH2_ECS_141',\n",
       " 'AJUBA_42',\n",
       " 'TTYH2_ECS_107',\n",
       " 'TTYH2_BC_7',\n",
       " 'AJUBA_196',\n",
       " 'NEIL1_204',\n",
       " 'NEIL1_222',\n",
       " 'AJUBA_225',\n",
       " 'TTYH2_BC_168',\n",
       " 'AJUBA_245',\n",
       " 'AJUBA_4',\n",
       " 'TTYH2_BC_60',\n",
       " 'TTYH2_BC_33',\n",
       " 'NEIL1_283',\n",
       " 'AJUBA_15',\n",
       " 'AJUBA_164',\n",
       " 'NEIL1_291',\n",
       " 'AJUBA_194',\n",
       " 'AJUBA_6',\n",
       " 'TTYH2_ECS_84',\n",
       " 'TTYH2_ECS_166',\n",
       " 'TTYH2_ECS_146',\n",
       " 'TTYH2_BC_104',\n",
       " 'NEIL1_275',\n",
       " 'NEIL1_254',\n",
       " 'AJUBA_16',\n",
       " 'TTYH2_BC_75',\n",
       " 'AJUBA_189',\n",
       " 'AJUBA_64',\n",
       " 'NEIL1_160',\n",
       " 'NEIL1_60',\n",
       " 'AJUBA_156',\n",
       " 'TTYH2_BC_169',\n",
       " 'AJUBA_262',\n",
       " 'TTYH2_BC_133',\n",
       " 'AJUBA_49',\n",
       " 'TTYH2_ECS_34',\n",
       " 'NEIL1_260',\n",
       " 'NEIL1_12',\n",
       " 'TTYH2_BC_90',\n",
       " 'TTYH2_ECS_130',\n",
       " 'NEIL1_187',\n",
       " 'AJUBA_89',\n",
       " 'AJUBA_240',\n",
       " 'TTYH2_ECS_132',\n",
       " 'NEIL1_131',\n",
       " 'AJUBA_220',\n",
       " 'AJUBA_267',\n",
       " 'NEIL1_129',\n",
       " 'TTYH2_ECS_72',\n",
       " 'TTYH2_ECS_1',\n",
       " 'TTYH2_BC_52',\n",
       " 'NEIL1_259',\n",
       " 'TTYH2_ECS_30',\n",
       " 'TTYH2_BC_149',\n",
       " 'AJUBA_252',\n",
       " 'TTYH2_BC_163',\n",
       " 'NEIL1_59',\n",
       " 'AJUBA_248',\n",
       " 'NEIL1_192',\n",
       " 'TTYH2_ECS_46',\n",
       " 'NEIL1_235',\n",
       " 'TTYH2_ECS_29',\n",
       " 'NEIL1_185',\n",
       " 'AJUBA_47',\n",
       " 'AJUBA_237',\n",
       " 'TTYH2_ECS_54',\n",
       " 'TTYH2_ECS_152',\n",
       " 'NEIL1_45',\n",
       " 'AJUBA_170',\n",
       " 'AJUBA_86',\n",
       " 'TTYH2_ECS_138',\n",
       " 'TTYH2_BC_105',\n",
       " 'AJUBA_259',\n",
       " 'AJUBA_128',\n",
       " 'NEIL1_258',\n",
       " 'AJUBA_46',\n",
       " 'NEIL1_108',\n",
       " 'TTYH2_BC_122',\n",
       " 'AJUBA_59',\n",
       " 'TTYH2_ECS_20',\n",
       " 'TTYH2_BC_21',\n",
       " 'AJUBA_233',\n",
       " 'NEIL1_116',\n",
       " 'AJUBA_132',\n",
       " 'NEIL1_237',\n",
       " 'NEIL1_64',\n",
       " 'AJUBA_161',\n",
       " 'NEIL1_11',\n",
       " 'AJUBA_230',\n",
       " 'TTYH2_BC_157',\n",
       " 'AJUBA_242',\n",
       " 'AJUBA_51',\n",
       " 'AJUBA_112',\n",
       " 'AJUBA_213',\n",
       " 'NEIL1_216',\n",
       " 'NEIL1_255',\n",
       " 'NEIL1_217',\n",
       " 'AJUBA_50',\n",
       " 'AJUBA_205',\n",
       " 'TTYH2_ECS_137',\n",
       " 'NEIL1_226',\n",
       " 'TTYH2_ECS_26',\n",
       " 'NEIL1_10',\n",
       " 'AJUBA_223',\n",
       " 'NEIL1_115',\n",
       " 'NEIL1_98',\n",
       " 'NEIL1_178',\n",
       " 'TTYH2_BC_31',\n",
       " 'NEIL1_1',\n",
       " 'TTYH2_ECS_171',\n",
       " 'AJUBA_107',\n",
       " 'NEIL1_109',\n",
       " 'NEIL1_290',\n",
       " 'TTYH2_BC_142',\n",
       " 'TTYH2_ECS_139',\n",
       " 'NEIL1_112',\n",
       " 'TTYH2_ECS_52',\n",
       " 'TTYH2_ECS_144',\n",
       " 'AJUBA_2',\n",
       " 'NEIL1_288',\n",
       " 'AJUBA_180',\n",
       " 'AJUBA_48',\n",
       " 'NEIL1_35',\n",
       " 'TTYH2_BC_82',\n",
       " 'TTYH2_BC_130',\n",
       " 'AJUBA_241',\n",
       " 'TTYH2_ECS_109',\n",
       " 'NEIL1_34',\n",
       " 'AJUBA_139',\n",
       " 'AJUBA_218',\n",
       " 'AJUBA_72',\n",
       " 'AJUBA_90',\n",
       " 'AJUBA_73',\n",
       " 'NEIL1_137',\n",
       " 'NEIL1_69',\n",
       " 'AJUBA_211',\n",
       " 'TTYH2_BC_127',\n",
       " 'NEIL1_251',\n",
       " 'AJUBA_113',\n",
       " 'TTYH2_BC_35',\n",
       " 'AJUBA_75',\n",
       " 'TTYH2_ECS_85',\n",
       " 'AJUBA_53',\n",
       " 'AJUBA_27',\n",
       " 'AJUBA_29',\n",
       " 'AJUBA_14',\n",
       " 'NEIL1_74',\n",
       " 'AJUBA_266',\n",
       " 'TTYH2_BC_74',\n",
       " 'NEIL1_14',\n",
       " 'AJUBA_40',\n",
       " 'TTYH2_BC_43',\n",
       " 'AJUBA_137',\n",
       " 'AJUBA_106',\n",
       " 'NEIL1_266',\n",
       " 'AJUBA_193',\n",
       " 'NEIL1_263',\n",
       " 'NEIL1_155',\n",
       " 'NEIL1_122',\n",
       " 'NEIL1_195',\n",
       " 'AJUBA_167',\n",
       " 'NEIL1_196',\n",
       " 'TTYH2_BC_38',\n",
       " 'NEIL1_126',\n",
       " 'TTYH2_BC_146',\n",
       " 'NEIL1_33',\n",
       " 'AJUBA_263',\n",
       " 'AJUBA_85',\n",
       " 'AJUBA_145',\n",
       " 'NEIL1_13',\n",
       " 'TTYH2_BC_76',\n",
       " 'AJUBA_190',\n",
       " 'AJUBA_186',\n",
       " 'TTYH2_ECS_13',\n",
       " 'TTYH2_ECS_77',\n",
       " 'AJUBA_43',\n",
       " 'AJUBA_140',\n",
       " 'TTYH2_BC_95',\n",
       " 'AJUBA_268',\n",
       " 'AJUBA_255',\n",
       " 'AJUBA_163',\n",
       " 'AJUBA_88',\n",
       " 'NEIL1_84',\n",
       " 'TTYH2_BC_111',\n",
       " 'NEIL1_147',\n",
       " 'AJUBA_168',\n",
       " 'AJUBA_151',\n",
       " 'NEIL1_253',\n",
       " 'TTYH2_BC_2',\n",
       " 'TTYH2_BC_59',\n",
       " 'TTYH2_ECS_87',\n",
       " 'TTYH2_ECS_103',\n",
       " 'AJUBA_17',\n",
       " 'NEIL1_138',\n",
       " 'TTYH2_BC_186',\n",
       " 'NEIL1_173',\n",
       " 'NEIL1_257',\n",
       " 'TTYH2_ECS_120',\n",
       " 'TTYH2_BC_175',\n",
       " 'TTYH2_BC_136',\n",
       " 'NEIL1_232',\n",
       " 'TTYH2_ECS_161',\n",
       " 'NEIL1_100',\n",
       " 'NEIL1_80',\n",
       " 'NEIL1_128',\n",
       " 'AJUBA_226',\n",
       " 'NEIL1_163',\n",
       " 'AJUBA_79',\n",
       " 'NEIL1_146',\n",
       " 'AJUBA_26',\n",
       " 'TTYH2_ECS_153',\n",
       " 'AJUBA_67',\n",
       " 'NEIL1_5',\n",
       " 'TTYH2_ECS_75',\n",
       " 'NEIL1_193',\n",
       " 'AJUBA_260',\n",
       " 'TTYH2_ECS_94',\n",
       " 'TTYH2_ECS_43',\n",
       " 'TTYH2_BC_167',\n",
       " 'AJUBA_55',\n",
       " 'TTYH2_BC_11',\n",
       " 'NEIL1_158',\n",
       " 'AJUBA_152',\n",
       " 'NEIL1_166',\n",
       " 'TTYH2_ECS_73',\n",
       " 'NEIL1_134',\n",
       " 'TTYH2_ECS_140',\n",
       " 'TTYH2_ECS_165',\n",
       " 'NEIL1_24',\n",
       " 'NEIL1_52',\n",
       " 'TTYH2_BC_16',\n",
       " 'NEIL1_162',\n",
       " 'TTYH2_ECS_151',\n",
       " 'AJUBA_116',\n",
       " 'NEIL1_16',\n",
       " 'TTYH2_ECS_49',\n",
       " 'NEIL1_103',\n",
       " 'TTYH2_ECS_21',\n",
       " 'TTYH2_ECS_160',\n",
       " 'NEIL1_194',\n",
       " 'NEIL1_89',\n",
       " 'TTYH2_BC_145',\n",
       " 'AJUBA_44',\n",
       " 'TTYH2_ECS_19',\n",
       " 'NEIL1_102',\n",
       " 'TTYH2_ECS_157',\n",
       " 'NEIL1_44',\n",
       " 'NEIL1_238',\n",
       " 'TTYH2_BC_123',\n",
       " 'AJUBA_224',\n",
       " 'AJUBA_197',\n",
       " 'NEIL1_269',\n",
       " 'NEIL1_227',\n",
       " 'NEIL1_164',\n",
       " 'AJUBA_200',\n",
       " 'TTYH2_ECS_6',\n",
       " 'TTYH2_ECS_68',\n",
       " 'AJUBA_256',\n",
       " 'TTYH2_BC_18',\n",
       " 'NEIL1_97',\n",
       " 'AJUBA_209',\n",
       " 'NEIL1_208',\n",
       " 'AJUBA_253',\n",
       " 'AJUBA_41',\n",
       " 'AJUBA_133',\n",
       " 'NEIL1_151',\n",
       " 'NEIL1_201',\n",
       " 'AJUBA_198',\n",
       " 'TTYH2_ECS_50',\n",
       " 'TTYH2_ECS_155',\n",
       " 'TTYH2_ECS_10',\n",
       " 'NEIL1_132',\n",
       " 'TTYH2_BC_102',\n",
       " 'TTYH2_BC_121',\n",
       " 'AJUBA_103',\n",
       " 'TTYH2_ECS_145',\n",
       " 'NEIL1_280',\n",
       " 'AJUBA_70',\n",
       " 'TTYH2_ECS_93',\n",
       " 'NEIL1_241',\n",
       " 'TTYH2_BC_109',\n",
       " 'NEIL1_55',\n",
       " 'NEIL1_66',\n",
       " 'TTYH2_ECS_154',\n",
       " 'TTYH2_BC_135',\n",
       " 'NEIL1_206',\n",
       " 'TTYH2_BC_143',\n",
       " 'NEIL1_271',\n",
       " 'TTYH2_BC_53',\n",
       " 'TTYH2_ECS_133',\n",
       " 'NEIL1_53',\n",
       " 'TTYH2_BC_24',\n",
       " 'AJUBA_8',\n",
       " 'AJUBA_207',\n",
       " 'TTYH2_BC_119',\n",
       " 'TTYH2_BC_81',\n",
       " 'TTYH2_ECS_45',\n",
       " 'TTYH2_ECS_8',\n",
       " 'TTYH2_ECS_127',\n",
       " 'NEIL1_246',\n",
       " 'TTYH2_BC_131',\n",
       " 'NEIL1_247',\n",
       " 'TTYH2_ECS_0',\n",
       " 'TTYH2_BC_14',\n",
       " 'AJUBA_199',\n",
       " 'NEIL1_249',\n",
       " 'NEIL1_272',\n",
       " 'AJUBA_9',\n",
       " 'TTYH2_BC_141',\n",
       " 'TTYH2_BC_124',\n",
       " 'TTYH2_ECS_143',\n",
       " 'TTYH2_BC_87',\n",
       " 'AJUBA_265',\n",
       " 'AJUBA_57',\n",
       " 'TTYH2_BC_80',\n",
       " 'TTYH2_ECS_115',\n",
       " 'AJUBA_141',\n",
       " 'TTYH2_ECS_23',\n",
       " 'NEIL1_228',\n",
       " 'NEIL1_99',\n",
       " 'AJUBA_153',\n",
       " 'NEIL1_210',\n",
       " 'TTYH2_ECS_108',\n",
       " 'AJUBA_175',\n",
       " 'AJUBA_62',\n",
       " 'AJUBA_147',\n",
       " 'AJUBA_58',\n",
       " 'TTYH2_BC_174',\n",
       " 'TTYH2_ECS_76',\n",
       " 'NEIL1_91',\n",
       " 'TTYH2_BC_37',\n",
       " 'TTYH2_BC_63',\n",
       " 'TTYH2_BC_72',\n",
       " 'NEIL1_140',\n",
       " 'AJUBA_246',\n",
       " 'TTYH2_BC_137',\n",
       " 'NEIL1_186',\n",
       " 'TTYH2_ECS_95',\n",
       " 'NEIL1_165',\n",
       " 'NEIL1_95',\n",
       " 'AJUBA_123',\n",
       " 'AJUBA_1',\n",
       " 'NEIL1_224',\n",
       " 'NEIL1_37',\n",
       " 'NEIL1_124',\n",
       " 'AJUBA_215',\n",
       " 'AJUBA_83',\n",
       " 'NEIL1_9',\n",
       " 'TTYH2_BC_0',\n",
       " 'NEIL1_240',\n",
       " 'TTYH2_BC_84',\n",
       " 'TTYH2_BC_125',\n",
       " 'AJUBA_95',\n",
       " 'TTYH2_BC_3',\n",
       " 'AJUBA_61',\n",
       " 'TTYH2_BC_78',\n",
       " 'TTYH2_ECS_164',\n",
       " 'NEIL1_51',\n",
       " 'NEIL1_261',\n",
       " 'NEIL1_136',\n",
       " 'TTYH2_ECS_33',\n",
       " 'AJUBA_183',\n",
       " 'NEIL1_202',\n",
       " 'NEIL1_218',\n",
       " 'TTYH2_ECS_105',\n",
       " 'NEIL1_77',\n",
       " 'AJUBA_118',\n",
       " 'TTYH2_BC_132',\n",
       " 'TTYH2_ECS_83',\n",
       " 'TTYH2_BC_73',\n",
       " 'TTYH2_ECS_69',\n",
       " 'NEIL1_248',\n",
       " 'TTYH2_ECS_110',\n",
       " 'AJUBA_261',\n",
       " 'TTYH2_BC_56',\n",
       " 'AJUBA_150',\n",
       " 'TTYH2_ECS_149',\n",
       " 'NEIL1_83',\n",
       " 'TTYH2_BC_166',\n",
       " 'NEIL1_31',\n",
       " 'AJUBA_23',\n",
       " 'TTYH2_ECS_24',\n",
       " 'TTYH2_BC_96',\n",
       " 'TTYH2_ECS_53',\n",
       " 'TTYH2_ECS_172',\n",
       " 'NEIL1_203',\n",
       " 'NEIL1_234',\n",
       " 'TTYH2_BC_29',\n",
       " 'AJUBA_117',\n",
       " 'AJUBA_176',\n",
       " 'TTYH2_BC_126',\n",
       " 'TTYH2_BC_85',\n",
       " 'TTYH2_ECS_113',\n",
       " 'TTYH2_ECS_126',\n",
       " 'AJUBA_174',\n",
       " 'AJUBA_119',\n",
       " 'AJUBA_78',\n",
       " 'NEIL1_133',\n",
       " 'TTYH2_BC_42',\n",
       " 'TTYH2_BC_110',\n",
       " 'TTYH2_ECS_37',\n",
       " 'AJUBA_109',\n",
       " 'NEIL1_169',\n",
       " 'NEIL1_250',\n",
       " 'TTYH2_ECS_64',\n",
       " 'NEIL1_150',\n",
       " 'NEIL1_70',\n",
       " 'AJUBA_39',\n",
       " 'AJUBA_249',\n",
       " 'AJUBA_76',\n",
       " 'AJUBA_5',\n",
       " 'NEIL1_167',\n",
       " 'NEIL1_236',\n",
       " 'TTYH2_ECS_97',\n",
       " 'TTYH2_ECS_156',\n",
       " 'NEIL1_19',\n",
       " 'NEIL1_85',\n",
       " 'TTYH2_ECS_36',\n",
       " 'TTYH2_BC_64',\n",
       " 'AJUBA_110',\n",
       " 'TTYH2_ECS_17',\n",
       " 'NEIL1_268',\n",
       " 'AJUBA_105',\n",
       " 'AJUBA_231',\n",
       " 'AJUBA_87',\n",
       " 'TTYH2_BC_152',\n",
       " 'AJUBA_216',\n",
       " 'TTYH2_ECS_48',\n",
       " 'TTYH2_BC_28',\n",
       " 'AJUBA_122',\n",
       " 'NEIL1_214',\n",
       " 'NEIL1_46',\n",
       " 'AJUBA_111',\n",
       " 'AJUBA_12',\n",
       " 'NEIL1_30',\n",
       " 'NEIL1_141',\n",
       " 'TTYH2_BC_88',\n",
       " 'AJUBA_101',\n",
       " 'NEIL1_252',\n",
       " 'AJUBA_138',\n",
       " 'TTYH2_ECS_81',\n",
       " 'AJUBA_159',\n",
       " 'TTYH2_ECS_123',\n",
       " 'TTYH2_ECS_59',\n",
       " 'NEIL1_87',\n",
       " 'NEIL1_274',\n",
       " 'TTYH2_BC_177',\n",
       " 'TTYH2_BC_36',\n",
       " 'TTYH2_BC_50',\n",
       " 'TTYH2_ECS_42',\n",
       " 'TTYH2_BC_55',\n",
       " 'AJUBA_82',\n",
       " 'TTYH2_ECS_136',\n",
       " 'TTYH2_ECS_66',\n",
       " 'AJUBA_100',\n",
       " 'NEIL1_286',\n",
       " 'TTYH2_ECS_41',\n",
       " 'AJUBA_94',\n",
       " 'AJUBA_247',\n",
       " 'TTYH2_BC_8',\n",
       " 'AJUBA_165',\n",
       " 'TTYH2_BC_46',\n",
       " 'TTYH2_ECS_117',\n",
       " 'AJUBA_11',\n",
       " 'TTYH2_BC_4',\n",
       " 'AJUBA_22',\n",
       " 'TTYH2_BC_47',\n",
       " 'TTYH2_ECS_122',\n",
       " 'NEIL1_144',\n",
       " 'AJUBA_235',\n",
       " 'AJUBA_157',\n",
       " 'TTYH2_BC_83',\n",
       " 'AJUBA_188',\n",
       " 'NEIL1_107',\n",
       " 'AJUBA_158',\n",
       " 'NEIL1_29',\n",
       " 'TTYH2_ECS_5',\n",
       " 'TTYH2_BC_176',\n",
       " 'TTYH2_ECS_101',\n",
       " 'AJUBA_155',\n",
       " 'NEIL1_174',\n",
       " 'NEIL1_212',\n",
       " 'AJUBA_187',\n",
       " 'TTYH2_ECS_134',\n",
       " 'TTYH2_BC_86',\n",
       " 'TTYH2_ECS_125',\n",
       " 'NEIL1_289',\n",
       " 'AJUBA_125',\n",
       " 'TTYH2_ECS_9',\n",
       " 'TTYH2_ECS_163',\n",
       " 'TTYH2_BC_118',\n",
       " 'AJUBA_142',\n",
       " 'AJUBA_13',\n",
       " 'TTYH2_BC_147',\n",
       " 'TTYH2_BC_13',\n",
       " 'AJUBA_115',\n",
       " 'TTYH2_ECS_11',\n",
       " 'NEIL1_76',\n",
       " 'NEIL1_3',\n",
       " 'TTYH2_BC_23',\n",
       " 'TTYH2_BC_97',\n",
       " 'AJUBA_93',\n",
       " 'TTYH2_ECS_22',\n",
       " 'NEIL1_239',\n",
       " 'AJUBA_269',\n",
       " 'AJUBA_162',\n",
       " 'NEIL1_54',\n",
       " 'TTYH2_BC_115',\n",
       " 'AJUBA_195',\n",
       " 'TTYH2_BC_12',\n",
       " 'AJUBA_114',\n",
       " 'NEIL1_281',\n",
       " 'TTYH2_BC_92',\n",
       " 'NEIL1_117',\n",
       " 'TTYH2_ECS_58',\n",
       " 'AJUBA_177',\n",
       " 'TTYH2_ECS_98',\n",
       " 'TTYH2_BC_117',\n",
       " 'TTYH2_BC_128',\n",
       " 'NEIL1_285',\n",
       " 'NEIL1_267',\n",
       " 'NEIL1_96',\n",
       " 'TTYH2_ECS_65',\n",
       " 'NEIL1_156',\n",
       " 'TTYH2_ECS_111',\n",
       " 'TTYH2_BC_34',\n",
       " 'TTYH2_BC_140',\n",
       " 'TTYH2_BC_19',\n",
       " 'TTYH2_ECS_167',\n",
       " 'TTYH2_ECS_70',\n",
       " 'NEIL1_287',\n",
       " 'TTYH2_BC_98',\n",
       " 'AJUBA_60',\n",
       " 'NEIL1_213',\n",
       " 'TTYH2_BC_40',\n",
       " 'TTYH2_BC_108',\n",
       " 'TTYH2_BC_151',\n",
       " 'AJUBA_179',\n",
       " 'NEIL1_223',\n",
       " 'NEIL1_152',\n",
       " 'AJUBA_108',\n",
       " 'AJUBA_0',\n",
       " 'NEIL1_63',\n",
       " 'AJUBA_37',\n",
       " 'AJUBA_31',\n",
       " 'NEIL1_2',\n",
       " 'NEIL1_176',\n",
       " 'TTYH2_BC_41',\n",
       " 'NEIL1_72',\n",
       " 'TTYH2_ECS_79',\n",
       " 'NEIL1_149',\n",
       " 'NEIL1_170',\n",
       " 'TTYH2_ECS_159',\n",
       " 'NEIL1_50',\n",
       " 'NEIL1_135',\n",
       " 'NEIL1_143',\n",
       " 'AJUBA_204',\n",
       " 'TTYH2_ECS_3',\n",
       " 'TTYH2_ECS_82',\n",
       " 'TTYH2_ECS_31',\n",
       " 'NEIL1_157',\n",
       " 'TTYH2_ECS_67',\n",
       " 'TTYH2_BC_68',\n",
       " 'NEIL1_62',\n",
       " 'AJUBA_219',\n",
       " 'NEIL1_209',\n",
       " 'TTYH2_ECS_118',\n",
       " 'NEIL1_179',\n",
       " 'TTYH2_BC_139',\n",
       " 'AJUBA_127',\n",
       " 'AJUBA_227',\n",
       " 'NEIL1_211',\n",
       " 'TTYH2_BC_77',\n",
       " 'NEIL1_242',\n",
       " 'TTYH2_ECS_32',\n",
       " 'TTYH2_BC_178',\n",
       " 'AJUBA_68',\n",
       " 'NEIL1_200',\n",
       " 'TTYH2_BC_114',\n",
       " 'NEIL1_104',\n",
       " 'NEIL1_207',\n",
       " 'TTYH2_BC_144',\n",
       " 'AJUBA_52',\n",
       " 'NEIL1_75',\n",
       " 'NEIL1_264',\n",
       " 'TTYH2_ECS_119',\n",
       " 'NEIL1_68',\n",
       " 'TTYH2_BC_179',\n",
       " 'AJUBA_181',\n",
       " 'TTYH2_BC_32',\n",
       " 'AJUBA_126',\n",
       " 'NEIL1_90',\n",
       " 'TTYH2_ECS_38',\n",
       " 'NEIL1_225',\n",
       " 'NEIL1_39',\n",
       " 'TTYH2_BC_1',\n",
       " 'NEIL1_49',\n",
       " 'NEIL1_220',\n",
       " 'TTYH2_BC_112',\n",
       " 'NEIL1_81',\n",
       " 'AJUBA_206',\n",
       " 'AJUBA_121',\n",
       " 'TTYH2_BC_165',\n",
       " 'TTYH2_BC_39',\n",
       " 'AJUBA_84',\n",
       " 'AJUBA_169',\n",
       " 'NEIL1_276',\n",
       " 'TTYH2_ECS_114',\n",
       " 'NEIL1_161',\n",
       " 'AJUBA_63',\n",
       " 'AJUBA_66',\n",
       " 'NEIL1_111',\n",
       " 'TTYH2_BC_61',\n",
       " 'NEIL1_197',\n",
       " 'AJUBA_3',\n",
       " 'NEIL1_262',\n",
       " 'AJUBA_19',\n",
       " 'TTYH2_BC_93',\n",
       " 'TTYH2_ECS_16',\n",
       " 'NEIL1_106',\n",
       " 'AJUBA_184',\n",
       " 'NEIL1_123',\n",
       " 'AJUBA_134',\n",
       " 'TTYH2_BC_154',\n",
       " 'AJUBA_178',\n",
       " 'NEIL1_191',\n",
       " 'AJUBA_270',\n",
       " 'NEIL1_127',\n",
       " 'NEIL1_282',\n",
       " 'TTYH2_BC_10',\n",
       " 'TTYH2_BC_156',\n",
       " 'TTYH2_ECS_51',\n",
       " 'AJUBA_146',\n",
       " 'AJUBA_98',\n",
       " 'TTYH2_BC_158',\n",
       " 'NEIL1_175',\n",
       " 'TTYH2_ECS_129',\n",
       " 'TTYH2_ECS_2',\n",
       " 'AJUBA_148',\n",
       " 'NEIL1_47',\n",
       " 'TTYH2_ECS_7',\n",
       " 'TTYH2_BC_187',\n",
       " 'AJUBA_264',\n",
       " 'TTYH2_BC_57',\n",
       " 'TTYH2_ECS_27',\n",
       " 'TTYH2_BC_65',\n",
       " 'AJUBA_129',\n",
       " 'TTYH2_BC_103',\n",
       " 'TTYH2_ECS_96',\n",
       " 'NEIL1_43',\n",
       " 'TTYH2_BC_183',\n",
       " 'AJUBA_144',\n",
       " 'AJUBA_171',\n",
       " 'TTYH2_BC_15',\n",
       " 'NEIL1_159',\n",
       " 'NEIL1_279',\n",
       " 'NEIL1_182',\n",
       " 'NEIL1_42',\n",
       " 'AJUBA_172',\n",
       " 'AJUBA_25',\n",
       " 'NEIL1_284',\n",
       " 'TTYH2_BC_134',\n",
       " 'NEIL1_41',\n",
       " 'TTYH2_BC_173',\n",
       " 'TTYH2_BC_20',\n",
       " 'AJUBA_33',\n",
       " 'NEIL1_145',\n",
       " 'AJUBA_210',\n",
       " 'NEIL1_114',\n",
       " 'AJUBA_136',\n",
       " 'AJUBA_251',\n",
       " 'NEIL1_28',\n",
       " 'AJUBA_203',\n",
       " 'NEIL1_221',\n",
       " 'TTYH2_ECS_90',\n",
       " 'NEIL1_78',\n",
       " 'NEIL1_168',\n",
       " 'TTYH2_ECS_28',\n",
       " 'TTYH2_ECS_121',\n",
       " 'NEIL1_79',\n",
       " 'NEIL1_56',\n",
       " 'NEIL1_172',\n",
       " 'TTYH2_BC_94',\n",
       " 'AJUBA_20',\n",
       " 'TTYH2_ECS_4',\n",
       " 'AJUBA_74',\n",
       " 'NEIL1_148',\n",
       " 'TTYH2_BC_49',\n",
       " 'NEIL1_6',\n",
       " 'NEIL1_73',\n",
       " 'TTYH2_ECS_40',\n",
       " 'NEIL1_20',\n",
       " 'AJUBA_28',\n",
       " 'TTYH2_ECS_62',\n",
       " 'TTYH2_BC_172',\n",
       " 'NEIL1_205',\n",
       " 'AJUBA_18',\n",
       " 'AJUBA_236',\n",
       " 'NEIL1_273',\n",
       " 'AJUBA_257',\n",
       " 'AJUBA_217',\n",
       " 'TTYH2_ECS_12',\n",
       " 'TTYH2_BC_17',\n",
       " 'AJUBA_7',\n",
       " 'NEIL1_65',\n",
       " 'TTYH2_ECS_89',\n",
       " 'AJUBA_191',\n",
       " 'NEIL1_277',\n",
       " 'NEIL1_48',\n",
       " 'TTYH2_ECS_112',\n",
       " 'TTYH2_ECS_47',\n",
       " 'NEIL1_92',\n",
       " 'AJUBA_38',\n",
       " 'TTYH2_ECS_135',\n",
       " 'NEIL1_71',\n",
       " 'TTYH2_BC_185',\n",
       " 'TTYH2_ECS_74',\n",
       " 'AJUBA_30',\n",
       " 'NEIL1_67',\n",
       " 'NEIL1_256',\n",
       " 'TTYH2_ECS_18',\n",
       " 'TTYH2_ECS_35',\n",
       " 'NEIL1_15',\n",
       " 'AJUBA_212',\n",
       " 'NEIL1_118',\n",
       " 'AJUBA_77',\n",
       " 'NEIL1_188',\n",
       " 'NEIL1_94',\n",
       " 'NEIL1_153',\n",
       " 'TTYH2_BC_182',\n",
       " 'TTYH2_ECS_150',\n",
       " 'TTYH2_ECS_15',\n",
       " 'TTYH2_ECS_158',\n",
       " 'AJUBA_10',\n",
       " 'TTYH2_BC_62',\n",
       " 'NEIL1_17',\n",
       " 'AJUBA_154',\n",
       " 'NEIL1_32',\n",
       " 'NEIL1_18',\n",
       " 'NEIL1_243',\n",
       " 'TTYH2_BC_71',\n",
       " 'AJUBA_131',\n",
       " 'NEIL1_101',\n",
       " 'NEIL1_86',\n",
       " 'AJUBA_56',\n",
       " 'AJUBA_34',\n",
       " 'NEIL1_36',\n",
       " 'TTYH2_ECS_116',\n",
       " 'AJUBA_173',\n",
       " 'NEIL1_93',\n",
       " 'NEIL1_8',\n",
       " 'NEIL1_120',\n",
       " 'TTYH2_BC_159',\n",
       " 'AJUBA_143']"
      ]
     },
     "execution_count": 4,
     "metadata": {},
     "output_type": "execute_result"
    }
   ],
   "source": [
    "neil1_indices=[i for i in indices if i.startswith('NEIL')]\n",
    "ttyh2_indices=[i for i in indices if i.start]"
   ]
  },
  {
   "cell_type": "code",
   "execution_count": 3,
   "metadata": {
    "ExecuteTime": {
     "end_time": "2020-05-31T05:36:53.873165Z",
     "start_time": "2020-05-31T05:36:53.836116Z"
    }
   },
   "outputs": [
    {
     "name": "stdout",
     "output_type": "stream",
     "text": [
      "924\n",
      "924\n",
      "['NEIL1_1', 'NEIL1_2', 'NEIL1_3', 'NEIL1_4', 'NEIL1_5', 'NEIL1_6', 'NEIL1_7', 'NEIL1_8', 'NEIL1_9', 'NEIL1_10']\n"
     ]
    }
   ],
   "source": [
    "#create train,test,validate splits \n",
    "indices=list(X.keys())\n",
    "print(len(indices))\n",
    "print(len(y.keys()))\n",
    "print(indices[0:10])\n",
    "random.shuffle(indices)\n",
    "num_items=len(indices)\n",
    "#split 70% train, 15% validate, 15% test \n",
    "num_train=int(round(0.7*num_items))\n",
    "num_validate=int(round(0.15*num_items))\n",
    "num_test=num_items-num_train-num_validate "
   ]
  },
  {
   "cell_type": "code",
   "execution_count": 4,
   "metadata": {
    "ExecuteTime": {
     "end_time": "2020-05-30T06:22:09.379465Z",
     "start_time": "2020-05-30T06:22:09.355926Z"
    }
   },
   "outputs": [
    {
     "name": "stdout",
     "output_type": "stream",
     "text": [
      "647\n",
      "139\n",
      "138\n"
     ]
    }
   ],
   "source": [
    "print(num_train)\n",
    "print(num_validate)\n",
    "print(num_test)"
   ]
  },
  {
   "cell_type": "code",
   "execution_count": 5,
   "metadata": {
    "ExecuteTime": {
     "end_time": "2020-05-30T06:22:09.402705Z",
     "start_time": "2020-05-30T06:22:09.380911Z"
    }
   },
   "outputs": [],
   "source": [
    "train_indices=indices[0:num_train]\n",
    "validate_indices=indices[num_train:num_train+num_validate]\n",
    "test_indices=indices[num_train+num_validate::]\n"
   ]
  },
  {
   "cell_type": "code",
   "execution_count": 6,
   "metadata": {
    "ExecuteTime": {
     "end_time": "2020-05-30T06:22:09.437861Z",
     "start_time": "2020-05-30T06:22:09.404158Z"
    }
   },
   "outputs": [],
   "source": [
    "train_X_seq=np.array([X[i][0] for i in train_indices])\n",
    "train_X_struct=np.array([X[i][1] for i in train_indices])\n",
    "train_X=[train_X_seq,train_X_struct]\n",
    "\n",
    "validate_X_seq=np.array([X[i][0] for i in validate_indices])\n",
    "validate_X_struct=np.array([X[i][1] for i in validate_indices])\n",
    "validate_X=[validate_X_seq,validate_X_struct]\n",
    "\n",
    "test_X_seq=np.array([X[i][0] for i in test_indices])\n",
    "test_X_struct=np.array([X[i][1] for i in test_indices])\n",
    "test_X=[test_X_seq,test_X_struct]"
   ]
  },
  {
   "cell_type": "code",
   "execution_count": 7,
   "metadata": {
    "ExecuteTime": {
     "end_time": "2020-05-30T06:22:09.462642Z",
     "start_time": "2020-05-30T06:22:09.439397Z"
    }
   },
   "outputs": [],
   "source": [
    "train_y=np.asarray([y[i] for i in train_indices])\n",
    "validate_y=np.asarray([y[i] for i in validate_indices])\n",
    "test_y=np.asarray([y[i] for i in test_indices])"
   ]
  },
  {
   "cell_type": "code",
   "execution_count": 8,
   "metadata": {
    "ExecuteTime": {
     "end_time": "2020-05-30T06:22:09.488582Z",
     "start_time": "2020-05-30T06:22:09.464986Z"
    }
   },
   "outputs": [
    {
     "data": {
      "text/plain": [
       "(647, 166, 4)"
      ]
     },
     "execution_count": 8,
     "metadata": {},
     "output_type": "execute_result"
    }
   ],
   "source": [
    "train_X_seq.shape"
   ]
  },
  {
   "cell_type": "code",
   "execution_count": 9,
   "metadata": {
    "ExecuteTime": {
     "end_time": "2020-05-30T06:22:09.512133Z",
     "start_time": "2020-05-30T06:22:09.490399Z"
    }
   },
   "outputs": [
    {
     "data": {
      "text/plain": [
       "(647, 166, 6)"
      ]
     },
     "execution_count": 9,
     "metadata": {},
     "output_type": "execute_result"
    }
   ],
   "source": [
    "train_X_struct.shape"
   ]
  },
  {
   "cell_type": "code",
   "execution_count": 10,
   "metadata": {
    "ExecuteTime": {
     "end_time": "2020-05-30T06:22:09.535447Z",
     "start_time": "2020-05-30T06:22:09.513594Z"
    }
   },
   "outputs": [
    {
     "data": {
      "text/plain": [
       "(647,)"
      ]
     },
     "execution_count": 10,
     "metadata": {},
     "output_type": "execute_result"
    }
   ],
   "source": [
    "train_y.shape"
   ]
  },
  {
   "cell_type": "markdown",
   "metadata": {
    "ExecuteTime": {
     "end_time": "2020-05-30T05:32:13.111744Z",
     "start_time": "2020-05-30T05:32:13.071081Z"
    }
   },
   "source": [
    "## Create keras model "
   ]
  },
  {
   "cell_type": "code",
   "execution_count": 35,
   "metadata": {
    "ExecuteTime": {
     "end_time": "2020-05-30T06:45:12.749572Z",
     "start_time": "2020-05-30T06:45:11.725255Z"
    }
   },
   "outputs": [],
   "source": [
    "#import keras dependencies \n",
    "import keras\n",
    "from keras.models import Model\n",
    "from keras.layers import Input, Concatenate\n",
    "from keras.layers.core import  Dropout, Reshape, Dense, Activation, Flatten\n",
    "from keras.layers.convolutional import Conv1D, MaxPooling1D\n",
    "from keras.optimizers import Adadelta, SGD, RMSprop;\n",
    "import keras.losses;\n",
    "from keras.constraints import maxnorm;\n",
    "from keras.layers.normalization import BatchNormalization\n",
    "from keras.regularizers import l1, l2\n",
    "from keras import backend as K\n",
    "from kerasAC.custom_losses import * "
   ]
  },
  {
   "cell_type": "code",
   "execution_count": 36,
   "metadata": {
    "ExecuteTime": {
     "end_time": "2020-05-30T06:45:12.942789Z",
     "start_time": "2020-05-30T06:45:12.754031Z"
    }
   },
   "outputs": [
    {
     "name": "stdout",
     "output_type": "stream",
     "text": [
      "WARNING:tensorflow:From /users/annashch/miniconda3/lib/python3.7/site-packages/tensorflow_core/python/ops/resource_variable_ops.py:1635: calling BaseResourceVariable.__init__ (from tensorflow.python.ops.resource_variable_ops) with constraint is deprecated and will be removed in a future version.\n",
      "Instructions for updating:\n",
      "If using Keras pass *_constraint arguments to layers.\n"
     ]
    }
   ],
   "source": [
    "#define a keras model \n",
    "K.set_image_data_format('channels_last')\n",
    "padding='same'\n",
    "seq_input=Input(shape=(166,4),name='seq_input')\n",
    "struct_input=Input(shape=(166,6),name='struct_input')\n",
    "x_seq=Conv1D(filters=1,kernel_size=6,input_shape=(166,4),padding=padding,name='conv_seq')(seq_input)\n",
    "x_struct=Conv1D(filters=1,kernel_size=6,input_shape=(166,6),padding=padding,name='conv_struct')(struct_input)\n",
    "x_seq=Activation('relu',name='activation_1')(x_seq)\n",
    "x_struct=Activation('relu',name='activation_2')(x_struct)\n",
    "x_seq=Flatten(name='flatten1')(x_seq)\n",
    "x_struct=Flatten(name='flatten2')(x_struct)\n",
    "aggregated=Concatenate(axis=-1)([x_struct,x_seq])\n",
    "x=Dense(32,name='dense1')(aggregated)\n",
    "x=Activation('relu',name='activation_3')(x)\n",
    "outputs=Dense(1,name='final')(x)\n",
    "model=Model(inputs=[seq_input,struct_input],outputs=outputs)\n",
    "adam = keras.optimizers.Adam(lr=0.001, beta_1=0.9, beta_2=0.999, epsilon=1e-08)\n",
    "model.compile(optimizer=adam,loss=ambig_mean_squared_error)\n"
   ]
  },
  {
   "cell_type": "code",
   "execution_count": 37,
   "metadata": {
    "ExecuteTime": {
     "end_time": "2020-05-30T06:45:13.016165Z",
     "start_time": "2020-05-30T06:45:12.944740Z"
    }
   },
   "outputs": [
    {
     "name": "stdout",
     "output_type": "stream",
     "text": [
      "Model: \"model_1\"\n",
      "__________________________________________________________________________________________________\n",
      "Layer (type)                    Output Shape         Param #     Connected to                     \n",
      "==================================================================================================\n",
      "struct_input (InputLayer)       (None, 166, 6)       0                                            \n",
      "__________________________________________________________________________________________________\n",
      "seq_input (InputLayer)          (None, 166, 4)       0                                            \n",
      "__________________________________________________________________________________________________\n",
      "conv_struct (Conv1D)            (None, 166, 1)       37          struct_input[0][0]               \n",
      "__________________________________________________________________________________________________\n",
      "conv_seq (Conv1D)               (None, 166, 1)       25          seq_input[0][0]                  \n",
      "__________________________________________________________________________________________________\n",
      "activation_2 (Activation)       (None, 166, 1)       0           conv_struct[0][0]                \n",
      "__________________________________________________________________________________________________\n",
      "activation_1 (Activation)       (None, 166, 1)       0           conv_seq[0][0]                   \n",
      "__________________________________________________________________________________________________\n",
      "flatten2 (Flatten)              (None, 166)          0           activation_2[0][0]               \n",
      "__________________________________________________________________________________________________\n",
      "flatten1 (Flatten)              (None, 166)          0           activation_1[0][0]               \n",
      "__________________________________________________________________________________________________\n",
      "concatenate_1 (Concatenate)     (None, 332)          0           flatten2[0][0]                   \n",
      "                                                                 flatten1[0][0]                   \n",
      "__________________________________________________________________________________________________\n",
      "dense1 (Dense)                  (None, 32)           10656       concatenate_1[0][0]              \n",
      "__________________________________________________________________________________________________\n",
      "activation_3 (Activation)       (None, 32)           0           dense1[0][0]                     \n",
      "__________________________________________________________________________________________________\n",
      "final (Dense)                   (None, 1)            33          activation_3[0][0]               \n",
      "==================================================================================================\n",
      "Total params: 10,751\n",
      "Trainable params: 10,751\n",
      "Non-trainable params: 0\n",
      "__________________________________________________________________________________________________\n"
     ]
    }
   ],
   "source": [
    "model.summary()"
   ]
  },
  {
   "cell_type": "markdown",
   "metadata": {},
   "source": [
    "## Train the model "
   ]
  },
  {
   "cell_type": "code",
   "execution_count": 38,
   "metadata": {
    "ExecuteTime": {
     "end_time": "2020-05-30T06:45:13.771844Z",
     "start_time": "2020-05-30T06:45:13.694830Z"
    }
   },
   "outputs": [],
   "source": [
    "from keras.callbacks import * \n",
    "from kerasAC.custom_callbacks import * \n"
   ]
  },
  {
   "cell_type": "code",
   "execution_count": 39,
   "metadata": {
    "ExecuteTime": {
     "end_time": "2020-05-30T06:45:14.015172Z",
     "start_time": "2020-05-30T06:45:13.936996Z"
    }
   },
   "outputs": [],
   "source": [
    "#define callbacks \n",
    "checkpointer = ModelCheckpoint(filepath=\"model.hdf5\", verbose=1, save_best_only=True)\n",
    "earlystopper = EarlyStopping(monitor='val_loss', patience=3, verbose=1,restore_best_weights=True)\n",
    "history=LossHistory(\"logs.batch\",['loss','val_loss'])\n",
    "csvlogger = CSVLogger(\"logs.epoch.csv\", append = False)\n",
    "reduce_lr = ReduceLROnPlateau(monitor='val_loss', factor=0.4,patience=2, min_lr=0.00000001)\n",
    "cur_callbacks=[checkpointer,earlystopper,csvlogger,reduce_lr,history]\n"
   ]
  },
  {
   "cell_type": "code",
   "execution_count": 40,
   "metadata": {
    "ExecuteTime": {
     "end_time": "2020-05-30T06:45:16.329799Z",
     "start_time": "2020-05-30T06:45:14.409767Z"
    }
   },
   "outputs": [
    {
     "name": "stdout",
     "output_type": "stream",
     "text": [
      "Train on 647 samples, validate on 139 samples\n",
      "Epoch 1/40\n",
      "647/647 [==============================] - 1s 1ms/step - loss: 0.0409 - val_loss: 0.0357\n",
      "\n",
      "Epoch 00001: val_loss improved from inf to 0.03575, saving model to model.hdf5\n"
     ]
    },
    {
     "ename": "NotImplementedError",
     "evalue": "numpy() is only available when eager execution is enabled.",
     "output_type": "error",
     "traceback": [
      "\u001b[0;31m---------------------------------------------------------------------------\u001b[0m",
      "\u001b[0;31mNotImplementedError\u001b[0m                       Traceback (most recent call last)",
      "\u001b[0;32m<ipython-input-40-00b41bdc50d4>\u001b[0m in \u001b[0;36m<module>\u001b[0;34m\u001b[0m\n\u001b[1;32m     10\u001b[0m           \u001b[0mmax_queue_size\u001b[0m\u001b[0;34m=\u001b[0m\u001b[0;36m100\u001b[0m\u001b[0;34m,\u001b[0m\u001b[0;34m\u001b[0m\u001b[0;34m\u001b[0m\u001b[0m\n\u001b[1;32m     11\u001b[0m           \u001b[0muse_multiprocessing\u001b[0m\u001b[0;34m=\u001b[0m\u001b[0;32mTrue\u001b[0m\u001b[0;34m,\u001b[0m\u001b[0;34m\u001b[0m\u001b[0;34m\u001b[0m\u001b[0m\n\u001b[0;32m---> 12\u001b[0;31m           workers=12)\n\u001b[0m",
      "\u001b[0;32m~/miniconda3/lib/python3.7/site-packages/keras/engine/training.py\u001b[0m in \u001b[0;36mfit\u001b[0;34m(self, x, y, batch_size, epochs, verbose, callbacks, validation_split, validation_data, shuffle, class_weight, sample_weight, initial_epoch, steps_per_epoch, validation_steps, validation_freq, max_queue_size, workers, use_multiprocessing, **kwargs)\u001b[0m\n\u001b[1;32m   1237\u001b[0m                                         \u001b[0msteps_per_epoch\u001b[0m\u001b[0;34m=\u001b[0m\u001b[0msteps_per_epoch\u001b[0m\u001b[0;34m,\u001b[0m\u001b[0;34m\u001b[0m\u001b[0;34m\u001b[0m\u001b[0m\n\u001b[1;32m   1238\u001b[0m                                         \u001b[0mvalidation_steps\u001b[0m\u001b[0;34m=\u001b[0m\u001b[0mvalidation_steps\u001b[0m\u001b[0;34m,\u001b[0m\u001b[0;34m\u001b[0m\u001b[0;34m\u001b[0m\u001b[0m\n\u001b[0;32m-> 1239\u001b[0;31m                                         validation_freq=validation_freq)\n\u001b[0m\u001b[1;32m   1240\u001b[0m \u001b[0;34m\u001b[0m\u001b[0m\n\u001b[1;32m   1241\u001b[0m     def evaluate(self,\n",
      "\u001b[0;32m~/miniconda3/lib/python3.7/site-packages/keras/engine/training_arrays.py\u001b[0m in \u001b[0;36mfit_loop\u001b[0;34m(model, fit_function, fit_inputs, out_labels, batch_size, epochs, verbose, callbacks, val_function, val_inputs, shuffle, initial_epoch, steps_per_epoch, validation_steps, validation_freq)\u001b[0m\n\u001b[1;32m    214\u001b[0m                         \u001b[0mepoch_logs\u001b[0m\u001b[0;34m[\u001b[0m\u001b[0;34m'val_'\u001b[0m \u001b[0;34m+\u001b[0m \u001b[0ml\u001b[0m\u001b[0;34m]\u001b[0m \u001b[0;34m=\u001b[0m \u001b[0mo\u001b[0m\u001b[0;34m\u001b[0m\u001b[0;34m\u001b[0m\u001b[0m\n\u001b[1;32m    215\u001b[0m \u001b[0;34m\u001b[0m\u001b[0m\n\u001b[0;32m--> 216\u001b[0;31m         \u001b[0mcallbacks\u001b[0m\u001b[0;34m.\u001b[0m\u001b[0mon_epoch_end\u001b[0m\u001b[0;34m(\u001b[0m\u001b[0mepoch\u001b[0m\u001b[0;34m,\u001b[0m \u001b[0mepoch_logs\u001b[0m\u001b[0;34m)\u001b[0m\u001b[0;34m\u001b[0m\u001b[0;34m\u001b[0m\u001b[0m\n\u001b[0m\u001b[1;32m    217\u001b[0m         \u001b[0;32mif\u001b[0m \u001b[0mcallbacks\u001b[0m\u001b[0;34m.\u001b[0m\u001b[0mmodel\u001b[0m\u001b[0;34m.\u001b[0m\u001b[0mstop_training\u001b[0m\u001b[0;34m:\u001b[0m\u001b[0;34m\u001b[0m\u001b[0;34m\u001b[0m\u001b[0m\n\u001b[1;32m    218\u001b[0m             \u001b[0;32mbreak\u001b[0m\u001b[0;34m\u001b[0m\u001b[0;34m\u001b[0m\u001b[0m\n",
      "\u001b[0;32m~/miniconda3/lib/python3.7/site-packages/keras/callbacks/callbacks.py\u001b[0m in \u001b[0;36mon_epoch_end\u001b[0;34m(self, epoch, logs)\u001b[0m\n\u001b[1;32m    150\u001b[0m         \u001b[0mlogs\u001b[0m \u001b[0;34m=\u001b[0m \u001b[0mlogs\u001b[0m \u001b[0;32mor\u001b[0m \u001b[0;34m{\u001b[0m\u001b[0;34m}\u001b[0m\u001b[0;34m\u001b[0m\u001b[0;34m\u001b[0m\u001b[0m\n\u001b[1;32m    151\u001b[0m         \u001b[0;32mfor\u001b[0m \u001b[0mcallback\u001b[0m \u001b[0;32min\u001b[0m \u001b[0mself\u001b[0m\u001b[0;34m.\u001b[0m\u001b[0mcallbacks\u001b[0m\u001b[0;34m:\u001b[0m\u001b[0;34m\u001b[0m\u001b[0;34m\u001b[0m\u001b[0m\n\u001b[0;32m--> 152\u001b[0;31m             \u001b[0mcallback\u001b[0m\u001b[0;34m.\u001b[0m\u001b[0mon_epoch_end\u001b[0m\u001b[0;34m(\u001b[0m\u001b[0mepoch\u001b[0m\u001b[0;34m,\u001b[0m \u001b[0mlogs\u001b[0m\u001b[0;34m)\u001b[0m\u001b[0;34m\u001b[0m\u001b[0;34m\u001b[0m\u001b[0m\n\u001b[0m\u001b[1;32m    153\u001b[0m \u001b[0;34m\u001b[0m\u001b[0m\n\u001b[1;32m    154\u001b[0m     \u001b[0;32mdef\u001b[0m \u001b[0mon_train_batch_begin\u001b[0m\u001b[0;34m(\u001b[0m\u001b[0mself\u001b[0m\u001b[0;34m,\u001b[0m \u001b[0mbatch\u001b[0m\u001b[0;34m,\u001b[0m \u001b[0mlogs\u001b[0m\u001b[0;34m=\u001b[0m\u001b[0;32mNone\u001b[0m\u001b[0;34m)\u001b[0m\u001b[0;34m:\u001b[0m\u001b[0;34m\u001b[0m\u001b[0;34m\u001b[0m\u001b[0m\n",
      "\u001b[0;32m~/miniconda3/lib/python3.7/site-packages/keras/callbacks/callbacks.py\u001b[0m in \u001b[0;36mon_epoch_end\u001b[0;34m(self, epoch, logs)\u001b[0m\n\u001b[1;32m    717\u001b[0m                             \u001b[0mself\u001b[0m\u001b[0;34m.\u001b[0m\u001b[0mmodel\u001b[0m\u001b[0;34m.\u001b[0m\u001b[0msave_weights\u001b[0m\u001b[0;34m(\u001b[0m\u001b[0mfilepath\u001b[0m\u001b[0;34m,\u001b[0m \u001b[0moverwrite\u001b[0m\u001b[0;34m=\u001b[0m\u001b[0;32mTrue\u001b[0m\u001b[0;34m)\u001b[0m\u001b[0;34m\u001b[0m\u001b[0;34m\u001b[0m\u001b[0m\n\u001b[1;32m    718\u001b[0m                         \u001b[0;32melse\u001b[0m\u001b[0;34m:\u001b[0m\u001b[0;34m\u001b[0m\u001b[0;34m\u001b[0m\u001b[0m\n\u001b[0;32m--> 719\u001b[0;31m                             \u001b[0mself\u001b[0m\u001b[0;34m.\u001b[0m\u001b[0mmodel\u001b[0m\u001b[0;34m.\u001b[0m\u001b[0msave\u001b[0m\u001b[0;34m(\u001b[0m\u001b[0mfilepath\u001b[0m\u001b[0;34m,\u001b[0m \u001b[0moverwrite\u001b[0m\u001b[0;34m=\u001b[0m\u001b[0;32mTrue\u001b[0m\u001b[0;34m)\u001b[0m\u001b[0;34m\u001b[0m\u001b[0;34m\u001b[0m\u001b[0m\n\u001b[0m\u001b[1;32m    720\u001b[0m                     \u001b[0;32melse\u001b[0m\u001b[0;34m:\u001b[0m\u001b[0;34m\u001b[0m\u001b[0;34m\u001b[0m\u001b[0m\n\u001b[1;32m    721\u001b[0m                         \u001b[0;32mif\u001b[0m \u001b[0mself\u001b[0m\u001b[0;34m.\u001b[0m\u001b[0mverbose\u001b[0m \u001b[0;34m>\u001b[0m \u001b[0;36m0\u001b[0m\u001b[0;34m:\u001b[0m\u001b[0;34m\u001b[0m\u001b[0;34m\u001b[0m\u001b[0m\n",
      "\u001b[0;32m~/miniconda3/lib/python3.7/site-packages/keras/engine/network.py\u001b[0m in \u001b[0;36msave\u001b[0;34m(self, filepath, overwrite, include_optimizer)\u001b[0m\n\u001b[1;32m   1150\u001b[0m             \u001b[0;32mraise\u001b[0m \u001b[0mNotImplementedError\u001b[0m\u001b[0;34m\u001b[0m\u001b[0;34m\u001b[0m\u001b[0m\n\u001b[1;32m   1151\u001b[0m         \u001b[0;32mfrom\u001b[0m \u001b[0;34m.\u001b[0m\u001b[0;34m.\u001b[0m\u001b[0mmodels\u001b[0m \u001b[0;32mimport\u001b[0m \u001b[0msave_model\u001b[0m\u001b[0;34m\u001b[0m\u001b[0;34m\u001b[0m\u001b[0m\n\u001b[0;32m-> 1152\u001b[0;31m         \u001b[0msave_model\u001b[0m\u001b[0;34m(\u001b[0m\u001b[0mself\u001b[0m\u001b[0;34m,\u001b[0m \u001b[0mfilepath\u001b[0m\u001b[0;34m,\u001b[0m \u001b[0moverwrite\u001b[0m\u001b[0;34m,\u001b[0m \u001b[0minclude_optimizer\u001b[0m\u001b[0;34m)\u001b[0m\u001b[0;34m\u001b[0m\u001b[0;34m\u001b[0m\u001b[0m\n\u001b[0m\u001b[1;32m   1153\u001b[0m \u001b[0;34m\u001b[0m\u001b[0m\n\u001b[1;32m   1154\u001b[0m     \u001b[0;34m@\u001b[0m\u001b[0msaving\u001b[0m\u001b[0;34m.\u001b[0m\u001b[0mallow_write_to_gcs\u001b[0m\u001b[0;34m\u001b[0m\u001b[0;34m\u001b[0m\u001b[0m\n",
      "\u001b[0;32m~/miniconda3/lib/python3.7/site-packages/keras/engine/saving.py\u001b[0m in \u001b[0;36msave_wrapper\u001b[0;34m(obj, filepath, overwrite, *args, **kwargs)\u001b[0m\n\u001b[1;32m    447\u001b[0m                 \u001b[0mos\u001b[0m\u001b[0;34m.\u001b[0m\u001b[0mremove\u001b[0m\u001b[0;34m(\u001b[0m\u001b[0mtmp_filepath\u001b[0m\u001b[0;34m)\u001b[0m\u001b[0;34m\u001b[0m\u001b[0;34m\u001b[0m\u001b[0m\n\u001b[1;32m    448\u001b[0m         \u001b[0;32melse\u001b[0m\u001b[0;34m:\u001b[0m\u001b[0;34m\u001b[0m\u001b[0;34m\u001b[0m\u001b[0m\n\u001b[0;32m--> 449\u001b[0;31m             \u001b[0msave_function\u001b[0m\u001b[0;34m(\u001b[0m\u001b[0mobj\u001b[0m\u001b[0;34m,\u001b[0m \u001b[0mfilepath\u001b[0m\u001b[0;34m,\u001b[0m \u001b[0moverwrite\u001b[0m\u001b[0;34m,\u001b[0m \u001b[0;34m*\u001b[0m\u001b[0margs\u001b[0m\u001b[0;34m,\u001b[0m \u001b[0;34m**\u001b[0m\u001b[0mkwargs\u001b[0m\u001b[0;34m)\u001b[0m\u001b[0;34m\u001b[0m\u001b[0;34m\u001b[0m\u001b[0m\n\u001b[0m\u001b[1;32m    450\u001b[0m \u001b[0;34m\u001b[0m\u001b[0m\n\u001b[1;32m    451\u001b[0m     \u001b[0;32mreturn\u001b[0m \u001b[0msave_wrapper\u001b[0m\u001b[0;34m\u001b[0m\u001b[0;34m\u001b[0m\u001b[0m\n",
      "\u001b[0;32m~/miniconda3/lib/python3.7/site-packages/keras/engine/saving.py\u001b[0m in \u001b[0;36msave_model\u001b[0;34m(model, filepath, overwrite, include_optimizer)\u001b[0m\n\u001b[1;32m    539\u001b[0m                 \u001b[0;32mreturn\u001b[0m\u001b[0;34m\u001b[0m\u001b[0;34m\u001b[0m\u001b[0m\n\u001b[1;32m    540\u001b[0m         \u001b[0;32mwith\u001b[0m \u001b[0mH5Dict\u001b[0m\u001b[0;34m(\u001b[0m\u001b[0mfilepath\u001b[0m\u001b[0;34m,\u001b[0m \u001b[0mmode\u001b[0m\u001b[0;34m=\u001b[0m\u001b[0;34m'w'\u001b[0m\u001b[0;34m)\u001b[0m \u001b[0;32mas\u001b[0m \u001b[0mh5dict\u001b[0m\u001b[0;34m:\u001b[0m\u001b[0;34m\u001b[0m\u001b[0;34m\u001b[0m\u001b[0m\n\u001b[0;32m--> 541\u001b[0;31m             \u001b[0m_serialize_model\u001b[0m\u001b[0;34m(\u001b[0m\u001b[0mmodel\u001b[0m\u001b[0;34m,\u001b[0m \u001b[0mh5dict\u001b[0m\u001b[0;34m,\u001b[0m \u001b[0minclude_optimizer\u001b[0m\u001b[0;34m)\u001b[0m\u001b[0;34m\u001b[0m\u001b[0;34m\u001b[0m\u001b[0m\n\u001b[0m\u001b[1;32m    542\u001b[0m     \u001b[0;32melif\u001b[0m \u001b[0mhasattr\u001b[0m\u001b[0;34m(\u001b[0m\u001b[0mfilepath\u001b[0m\u001b[0;34m,\u001b[0m \u001b[0;34m'write'\u001b[0m\u001b[0;34m)\u001b[0m \u001b[0;32mand\u001b[0m \u001b[0mcallable\u001b[0m\u001b[0;34m(\u001b[0m\u001b[0mfilepath\u001b[0m\u001b[0;34m.\u001b[0m\u001b[0mwrite\u001b[0m\u001b[0;34m)\u001b[0m\u001b[0;34m:\u001b[0m\u001b[0;34m\u001b[0m\u001b[0;34m\u001b[0m\u001b[0m\n\u001b[1;32m    543\u001b[0m         \u001b[0;31m# write as binary stream\u001b[0m\u001b[0;34m\u001b[0m\u001b[0;34m\u001b[0m\u001b[0;34m\u001b[0m\u001b[0m\n",
      "\u001b[0;32m~/miniconda3/lib/python3.7/site-packages/keras/engine/saving.py\u001b[0m in \u001b[0;36m_serialize_model\u001b[0;34m(model, h5dict, include_optimizer)\u001b[0m\n\u001b[1;32m    177\u001b[0m                 'optimizer_config': {\n\u001b[1;32m    178\u001b[0m                     \u001b[0;34m'class_name'\u001b[0m\u001b[0;34m:\u001b[0m \u001b[0mmodel\u001b[0m\u001b[0;34m.\u001b[0m\u001b[0moptimizer\u001b[0m\u001b[0;34m.\u001b[0m\u001b[0m__class__\u001b[0m\u001b[0;34m.\u001b[0m\u001b[0m__name__\u001b[0m\u001b[0;34m,\u001b[0m\u001b[0;34m\u001b[0m\u001b[0;34m\u001b[0m\u001b[0m\n\u001b[0;32m--> 179\u001b[0;31m                     \u001b[0;34m'config'\u001b[0m\u001b[0;34m:\u001b[0m \u001b[0mmodel\u001b[0m\u001b[0;34m.\u001b[0m\u001b[0moptimizer\u001b[0m\u001b[0;34m.\u001b[0m\u001b[0mget_config\u001b[0m\u001b[0;34m(\u001b[0m\u001b[0;34m)\u001b[0m\u001b[0;34m\u001b[0m\u001b[0;34m\u001b[0m\u001b[0m\n\u001b[0m\u001b[1;32m    180\u001b[0m                 },\n\u001b[1;32m    181\u001b[0m                 \u001b[0;34m'loss'\u001b[0m\u001b[0;34m:\u001b[0m \u001b[0mmodel\u001b[0m\u001b[0;34m.\u001b[0m\u001b[0mloss\u001b[0m\u001b[0;34m,\u001b[0m\u001b[0;34m\u001b[0m\u001b[0;34m\u001b[0m\u001b[0m\n",
      "\u001b[0;32m~/miniconda3/lib/python3.7/site-packages/keras/optimizers.py\u001b[0m in \u001b[0;36mget_config\u001b[0;34m(self)\u001b[0m\n\u001b[1;32m    555\u001b[0m \u001b[0;34m\u001b[0m\u001b[0m\n\u001b[1;32m    556\u001b[0m     \u001b[0;32mdef\u001b[0m \u001b[0mget_config\u001b[0m\u001b[0;34m(\u001b[0m\u001b[0mself\u001b[0m\u001b[0;34m)\u001b[0m\u001b[0;34m:\u001b[0m\u001b[0;34m\u001b[0m\u001b[0;34m\u001b[0m\u001b[0m\n\u001b[0;32m--> 557\u001b[0;31m         config = {'learning_rate': float(K.get_value(self.learning_rate)),\n\u001b[0m\u001b[1;32m    558\u001b[0m                   \u001b[0;34m'beta_1'\u001b[0m\u001b[0;34m:\u001b[0m \u001b[0mfloat\u001b[0m\u001b[0;34m(\u001b[0m\u001b[0mK\u001b[0m\u001b[0;34m.\u001b[0m\u001b[0mget_value\u001b[0m\u001b[0;34m(\u001b[0m\u001b[0mself\u001b[0m\u001b[0;34m.\u001b[0m\u001b[0mbeta_1\u001b[0m\u001b[0;34m)\u001b[0m\u001b[0;34m)\u001b[0m\u001b[0;34m,\u001b[0m\u001b[0;34m\u001b[0m\u001b[0;34m\u001b[0m\u001b[0m\n\u001b[1;32m    559\u001b[0m                   \u001b[0;34m'beta_2'\u001b[0m\u001b[0;34m:\u001b[0m \u001b[0mfloat\u001b[0m\u001b[0;34m(\u001b[0m\u001b[0mK\u001b[0m\u001b[0;34m.\u001b[0m\u001b[0mget_value\u001b[0m\u001b[0;34m(\u001b[0m\u001b[0mself\u001b[0m\u001b[0;34m.\u001b[0m\u001b[0mbeta_2\u001b[0m\u001b[0;34m)\u001b[0m\u001b[0;34m)\u001b[0m\u001b[0;34m,\u001b[0m\u001b[0;34m\u001b[0m\u001b[0;34m\u001b[0m\u001b[0m\n",
      "\u001b[0;32m~/miniconda3/lib/python3.7/site-packages/keras/backend/tensorflow_backend.py\u001b[0m in \u001b[0;36mget_value\u001b[0;34m(x)\u001b[0m\n\u001b[1;32m   2925\u001b[0m         \u001b[0;32mreturn\u001b[0m \u001b[0mx\u001b[0m\u001b[0;34m.\u001b[0m\u001b[0meval\u001b[0m\u001b[0;34m(\u001b[0m\u001b[0msession\u001b[0m\u001b[0;34m=\u001b[0m\u001b[0mget_session\u001b[0m\u001b[0;34m(\u001b[0m\u001b[0;34m)\u001b[0m\u001b[0;34m)\u001b[0m\u001b[0;34m\u001b[0m\u001b[0;34m\u001b[0m\u001b[0m\n\u001b[1;32m   2926\u001b[0m     \u001b[0;32melse\u001b[0m\u001b[0;34m:\u001b[0m\u001b[0;34m\u001b[0m\u001b[0;34m\u001b[0m\u001b[0m\n\u001b[0;32m-> 2927\u001b[0;31m         \u001b[0;32mreturn\u001b[0m \u001b[0mx\u001b[0m\u001b[0;34m.\u001b[0m\u001b[0mnumpy\u001b[0m\u001b[0;34m(\u001b[0m\u001b[0;34m)\u001b[0m\u001b[0;34m\u001b[0m\u001b[0;34m\u001b[0m\u001b[0m\n\u001b[0m\u001b[1;32m   2928\u001b[0m \u001b[0;34m\u001b[0m\u001b[0m\n\u001b[1;32m   2929\u001b[0m \u001b[0;34m\u001b[0m\u001b[0m\n",
      "\u001b[0;32m~/miniconda3/lib/python3.7/site-packages/tensorflow_core/python/ops/resource_variable_ops.py\u001b[0m in \u001b[0;36mnumpy\u001b[0;34m(self)\u001b[0m\n\u001b[1;32m    582\u001b[0m       \u001b[0;32mreturn\u001b[0m \u001b[0mself\u001b[0m\u001b[0;34m.\u001b[0m\u001b[0mread_value\u001b[0m\u001b[0;34m(\u001b[0m\u001b[0;34m)\u001b[0m\u001b[0;34m.\u001b[0m\u001b[0mnumpy\u001b[0m\u001b[0;34m(\u001b[0m\u001b[0;34m)\u001b[0m\u001b[0;34m\u001b[0m\u001b[0;34m\u001b[0m\u001b[0m\n\u001b[1;32m    583\u001b[0m     raise NotImplementedError(\n\u001b[0;32m--> 584\u001b[0;31m         \"numpy() is only available when eager execution is enabled.\")\n\u001b[0m\u001b[1;32m    585\u001b[0m \u001b[0;34m\u001b[0m\u001b[0m\n\u001b[1;32m    586\u001b[0m   \u001b[0;34m@\u001b[0m\u001b[0mdeprecated\u001b[0m\u001b[0;34m(\u001b[0m\u001b[0;32mNone\u001b[0m\u001b[0;34m,\u001b[0m \u001b[0;34m\"Prefer Dataset.range instead.\"\u001b[0m\u001b[0;34m)\u001b[0m\u001b[0;34m\u001b[0m\u001b[0;34m\u001b[0m\u001b[0m\n",
      "\u001b[0;31mNotImplementedError\u001b[0m: numpy() is only available when eager execution is enabled."
     ]
    }
   ],
   "source": [
    "#fit the model \n",
    "model.fit(x=train_X,\n",
    "          y=train_y,\n",
    "          batch_size=32,\n",
    "          epochs=40,\n",
    "          verbose=1,\n",
    "          callbacks=cur_callbacks,\n",
    "          validation_data=(validate_X,validate_y),\n",
    "          shuffle=True,\n",
    "          max_queue_size=100,\n",
    "          use_multiprocessing=True,\n",
    "          workers=12)\n"
   ]
  },
  {
   "cell_type": "markdown",
   "metadata": {},
   "source": [
    "## plot the loss curves "
   ]
  },
  {
   "cell_type": "code",
   "execution_count": null,
   "metadata": {
    "ExecuteTime": {
     "end_time": "2020-05-30T06:45:16.332746Z",
     "start_time": "2020-05-30T06:45:14.944Z"
    }
   },
   "outputs": [],
   "source": [
    "## plot the losses\n",
    "losses=pd.read_csv(\"logs.epoch.csv\",header=0,sep=',')\n",
    "losses.shape\n",
    "batch_losses=pd.read_csv(\"logs.batch\",header=0,sep='\\t')\n",
    "losses=pd.melt(losses,id_vars='epoch')\n",
    "losses['variable'][losses['variable']=='loss']='TrainingLoss'\n",
    "losses['variable'][losses['variable']=='val_loss']='ValidationLoss'\n",
    "plotnine.options.figure_size = (6, 6)\n",
    "(ggplot(losses,aes(x='epoch',\n",
    "                   y='value',\n",
    "                   group='variable',\n",
    "                   color='variable'))+geom_line(size=2)+theme_bw(20))\n"
   ]
  },
  {
   "cell_type": "code",
   "execution_count": null,
   "metadata": {
    "ExecuteTime": {
     "end_time": "2020-05-30T06:45:16.333767Z",
     "start_time": "2020-05-30T06:45:15.433Z"
    }
   },
   "outputs": [],
   "source": [
    "batch_losses['sequence']=batch_losses.index\n",
    "plotnine.options.figure_size = (6, 6)\n",
    "\n",
    "\n",
    "(ggplot(batch_losses,aes(x=\"sequence\",y=\"loss\"))+geom_line()+ylab(\"Training Loss MSE\"))"
   ]
  },
  {
   "cell_type": "markdown",
   "metadata": {},
   "source": [
    "## get predictions"
   ]
  },
  {
   "cell_type": "code",
   "execution_count": null,
   "metadata": {
    "ExecuteTime": {
     "end_time": "2020-05-30T06:45:16.334980Z",
     "start_time": "2020-05-30T06:45:15.917Z"
    }
   },
   "outputs": [],
   "source": [
    "predictions_test=model.predict(test_X,batch_size=128,max_queue_size=100,use_multiprocessing=True,workers=4)"
   ]
  },
  {
   "cell_type": "code",
   "execution_count": null,
   "metadata": {
    "ExecuteTime": {
     "end_time": "2020-05-30T06:45:16.335920Z",
     "start_time": "2020-05-30T06:45:16.266Z"
    }
   },
   "outputs": [],
   "source": [
    "predictions_train=model.predict(train_X,batch_size=128,max_queue_size=100,use_multiprocessing=True,workers=4)"
   ]
  },
  {
   "cell_type": "code",
   "execution_count": 41,
   "metadata": {
    "ExecuteTime": {
     "end_time": "2020-05-30T06:45:16.625927Z",
     "start_time": "2020-05-30T06:45:16.486559Z"
    }
   },
   "outputs": [],
   "source": [
    "predictions_validate=model.predict(validate_X,batch_size=128,max_queue_size=100,use_multiprocessing=True,workers=4)"
   ]
  },
  {
   "cell_type": "code",
   "execution_count": 42,
   "metadata": {
    "ExecuteTime": {
     "end_time": "2020-05-30T06:45:16.954751Z",
     "start_time": "2020-05-30T06:45:16.866795Z"
    }
   },
   "outputs": [
    {
     "name": "stdout",
     "output_type": "stream",
     "text": [
      "predictions shape:(138, 1)\n",
      "true labels shape:(138, 1)\n"
     ]
    },
    {
     "data": {
      "text/plain": [
       "{'spearmanr': [SpearmanrResult(correlation=0.7320185566373393, pvalue=2.0395195328895518e-23)],\n",
       " 'pearsonr': [(0.7799227246631438, 3.1149445886678866e-28)],\n",
       " 'spearmanr_nonzerobins': [SpearmanrResult(correlation=0.7375893541937842, pvalue=9.465581194391311e-24)],\n",
       " 'pearsonr_nonzerobins': [(0.7798828231677826, 5.047643887468204e-28)]}"
      ]
     },
     "execution_count": 42,
     "metadata": {},
     "output_type": "execute_result"
    }
   ],
   "source": [
    "#get performance metrics \n",
    "from kerasAC.performance_metrics.regression_performance_metrics import *\n",
    "test_perf=get_performance_metrics_regression(predictions_test,np.expand_dims(test_y,axis=1))\n",
    "test_perf"
   ]
  },
  {
   "cell_type": "code",
   "execution_count": 43,
   "metadata": {
    "ExecuteTime": {
     "end_time": "2020-05-30T06:45:17.427209Z",
     "start_time": "2020-05-30T06:45:17.339071Z"
    }
   },
   "outputs": [
    {
     "name": "stdout",
     "output_type": "stream",
     "text": [
      "predictions shape:(647, 1)\n",
      "true labels shape:(647, 1)\n"
     ]
    },
    {
     "data": {
      "text/plain": [
       "{'spearmanr': [SpearmanrResult(correlation=0.8034571823754847, pvalue=5.118084775009291e-144)],\n",
       " 'pearsonr': [(0.8732539835346266, 7.128579152468945e-199)],\n",
       " 'spearmanr_nonzerobins': [SpearmanrResult(correlation=0.8062280017672417, pvalue=3.7454016738359503e-144)],\n",
       " 'pearsonr_nonzerobins': [(0.8732106176885885, 1.2140451803905308e-196)]}"
      ]
     },
     "execution_count": 43,
     "metadata": {},
     "output_type": "execute_result"
    }
   ],
   "source": [
    "train_perf=get_performance_metrics_regression(predictions_train,np.expand_dims(train_y,axis=1))\n",
    "train_perf"
   ]
  },
  {
   "cell_type": "code",
   "execution_count": 44,
   "metadata": {
    "ExecuteTime": {
     "end_time": "2020-05-30T06:45:17.850785Z",
     "start_time": "2020-05-30T06:45:17.765708Z"
    }
   },
   "outputs": [
    {
     "name": "stdout",
     "output_type": "stream",
     "text": [
      "predictions shape:(139, 1)\n",
      "true labels shape:(139, 1)\n"
     ]
    },
    {
     "data": {
      "text/plain": [
       "{'spearmanr': [SpearmanrResult(correlation=0.3954385339782177, pvalue=2.2579214493065893e-06)],\n",
       " 'pearsonr': [(0.39936707035090635, 1.7517551444802938e-06)],\n",
       " 'spearmanr_nonzerobins': [SpearmanrResult(correlation=0.41931595625842083, pvalue=5.60483113555239e-07)],\n",
       " 'pearsonr_nonzerobins': [(0.4077548576197013, 1.2173227997539127e-06)]}"
      ]
     },
     "execution_count": 44,
     "metadata": {},
     "output_type": "execute_result"
    }
   ],
   "source": [
    "valid_perf=get_performance_metrics_regression(predictions_validate,np.expand_dims(validate_y,axis=1))\n",
    "valid_perf"
   ]
  },
  {
   "cell_type": "code",
   "execution_count": 45,
   "metadata": {
    "ExecuteTime": {
     "end_time": "2020-05-30T06:45:18.448637Z",
     "start_time": "2020-05-30T06:45:18.357008Z"
    }
   },
   "outputs": [],
   "source": [
    "#plot the predictions \n",
    "%matplotlib inline\n",
    "import matplotlib.pyplot as plt\n",
    "from matplotlib import cm\n",
    "from matplotlib.colors import Normalize \n",
    "from scipy.interpolate import interpn\n",
    "\n",
    "def density_scatter( x , y, title, ax = None, sort = True, bins = 20, **kwargs )   :\n",
    "    \"\"\"\n",
    "    Scatter plot colored by 2d histogram\n",
    "    \"\"\"\n",
    "    nan_indices=[i[0] for i in np.argwhere(np.isnan(x))]\n",
    "    y= np.delete(y, nan_indices, 0)\n",
    "    x=np.delete(x,nan_indices,0)\n",
    "\n",
    "    if ax is None :\n",
    "        fig , ax = plt.subplots(figsize=(4, 3), dpi= 80, facecolor='w', edgecolor='k')\n",
    "    data , x_e, y_e = np.histogram2d( x, y, bins = bins, density = True )\n",
    "    z = interpn( ( 0.5*(x_e[1:] + x_e[:-1]) , 0.5*(y_e[1:]+y_e[:-1]) ) , data , np.vstack([x,y]).T , method = \"splinef2d\", bounds_error = False)\n",
    "\n",
    "    #To be sure to plot all data\n",
    "    z[np.where(np.isnan(z))] = 0.0\n",
    "\n",
    "    # Sort the points by density, so that the densest points are plotted last\n",
    "    if sort :\n",
    "        idx = z.argsort()\n",
    "        x, y, z = x[idx], y[idx], z[idx]\n",
    "\n",
    "    ax.scatter( x, y, c=z, **kwargs,s=1 )\n",
    "    lims = [\n",
    "    np.min([ax.get_xlim(), ax.get_ylim()]),  # min of both axes\n",
    "    np.max([ax.get_xlim(), ax.get_ylim()]),  # max of both axes\n",
    "    ]\n",
    "\n",
    "    # now plot both limits against eachother\n",
    "    ax.plot(lims, lims, 'k-', alpha=0.75, zorder=0)\n",
    "    ax.set_aspect('equal')\n",
    "    ax.set_xlim(lims)\n",
    "    ax.set_ylim(lims)\n",
    "\n",
    "    plt.title(title)\n",
    "    plt.xlabel(\"Observed\")\n",
    "    plt.ylabel(\"Predicted\")\n",
    "    norm = Normalize(vmin = np.min(z), vmax = np.max(z))\n",
    "    cbar = fig.colorbar(cm.ScalarMappable(norm = norm), ax=ax)\n",
    "    cbar.ax.set_ylabel('Density')\n",
    "\n",
    "    return ax"
   ]
  },
  {
   "cell_type": "code",
   "execution_count": 46,
   "metadata": {
    "ExecuteTime": {
     "end_time": "2020-05-30T06:45:19.067701Z",
     "start_time": "2020-05-30T06:45:18.798354Z"
    }
   },
   "outputs": [
    {
     "data": {
      "text/plain": [
       "<matplotlib.axes._subplots.AxesSubplot at 0x7fc7e62907d0>"
      ]
     },
     "execution_count": 46,
     "metadata": {},
     "output_type": "execute_result"
    },
    {
     "data": {
      "image/png": "[encoded data removed]",
      "text/plain": [
       "<Figure size 320x240 with 2 Axes>"
      ]
     },
     "metadata": {},
     "output_type": "display_data"
    }
   ],
   "source": [
    "density_scatter(train_y,np.squeeze(predictions_train),'Joint Training: Training',bins=[30,30])"
   ]
  },
  {
   "cell_type": "code",
   "execution_count": 47,
   "metadata": {
    "ExecuteTime": {
     "end_time": "2020-05-30T06:45:19.536330Z",
     "start_time": "2020-05-30T06:45:19.274482Z"
    }
   },
   "outputs": [
    {
     "data": {
      "text/plain": [
       "<matplotlib.axes._subplots.AxesSubplot at 0x7fc9c5739e90>"
      ]
     },
     "execution_count": 47,
     "metadata": {},
     "output_type": "execute_result"
    },
    {
     "data": {
      "image/png": "[encoded data removed]",
      "text/plain": [
       "<Figure size 320x240 with 2 Axes>"
      ]
     },
     "metadata": {},
     "output_type": "display_data"
    }
   ],
   "source": [
    "density_scatter(validate_y,np.squeeze(predictions_validate),'Joint Training: Validation',bins=[30,30])"
   ]
  },
  {
   "cell_type": "code",
   "execution_count": 48,
   "metadata": {
    "ExecuteTime": {
     "end_time": "2020-05-30T06:45:20.016210Z",
     "start_time": "2020-05-30T06:45:19.758816Z"
    }
   },
   "outputs": [
    {
     "data": {
      "text/plain": [
       "<matplotlib.axes._subplots.AxesSubplot at 0x7fc7e60fe6d0>"
      ]
     },
     "execution_count": 48,
     "metadata": {},
     "output_type": "execute_result"
    },
    {
     "data": {
      "image/png": "[encoded data removed]",
      "text/plain": [
       "<Figure size 320x240 with 2 Axes>"
      ]
     },
     "metadata": {},
     "output_type": "display_data"
    }
   ],
   "source": [
    "density_scatter(test_y,np.squeeze(predictions_test),'Joint Training: Test',bins=[30,30])"
   ]
  },
  {
   "cell_type": "code",
   "execution_count": 49,
   "metadata": {
    "ExecuteTime": {
     "end_time": "2020-05-30T06:45:20.499707Z",
     "start_time": "2020-05-30T06:45:20.420428Z"
    }
   },
   "outputs": [],
   "source": [
    "import tensorflow as tf \n",
    "from tensorflow.compat.v1.keras.backend import get_session\n",
    "tf.compat.v1.disable_v2_behavior()\n"
   ]
  },
  {
   "cell_type": "code",
   "execution_count": 50,
   "metadata": {
    "ExecuteTime": {
     "end_time": "2020-05-30T06:45:21.220590Z",
     "start_time": "2020-05-30T06:45:21.142638Z"
    }
   },
   "outputs": [],
   "source": [
    "# select a set of background examples to take an expectation over\n",
    "background=train_X"
   ]
  },
  {
   "cell_type": "code",
   "execution_count": 51,
   "metadata": {
    "ExecuteTime": {
     "end_time": "2020-05-30T06:45:22.416725Z",
     "start_time": "2020-05-30T06:45:22.193817Z"
    }
   },
   "outputs": [
    {
     "name": "stdout",
     "output_type": "stream",
     "text": [
      "Warning:  AddV2 used in model but handling of op is not specified by shap; will use original  gradients\n",
      "Warning:  AddV2 used in model but handling of op is not specified by shap; will use original  gradients\n"
     ]
    }
   ],
   "source": [
    "\n",
    "import shap\n",
    "\n",
    "# explain predictions of the model on four images\n",
    "e = shap.DeepExplainer(model, background)\n"
   ]
  },
  {
   "cell_type": "code",
   "execution_count": 57,
   "metadata": {
    "ExecuteTime": {
     "end_time": "2020-05-30T06:47:02.669574Z",
     "start_time": "2020-05-30T06:46:59.639640Z"
    }
   },
   "outputs": [],
   "source": [
    "shap_vals=e.shap_values(test_X)[0]"
   ]
  },
  {
   "cell_type": "code",
   "execution_count": 61,
   "metadata": {
    "ExecuteTime": {
     "end_time": "2020-05-30T06:47:22.602380Z",
     "start_time": "2020-05-30T06:47:22.522753Z"
    }
   },
   "outputs": [
    {
     "data": {
      "text/plain": [
       "(166, 4)"
      ]
     },
     "execution_count": 61,
     "metadata": {},
     "output_type": "execute_result"
    }
   ],
   "source": [
    "shap_vals[0][0].shape"
   ]
  },
  {
   "cell_type": "code",
   "execution_count": null,
   "metadata": {},
   "outputs": [],
   "source": []
  }
 ],
 "metadata": {
  "kernelspec": {
   "display_name": "Python 3",
   "language": "python",
   "name": "python3"
  },
  "language_info": {
   "codemirror_mode": {
    "name": "ipython",
    "version": 3
   },
   "file_extension": ".py",
   "mimetype": "text/x-python",
   "name": "python",
   "nbconvert_exporter": "python",
   "pygments_lexer": "ipython3",
   "version": "3.7.6"
  }
 },
 "nbformat": 4,
 "nbformat_minor": 4
}
