{
 "cells": [
  {
   "cell_type": "code",
   "execution_count": 1,
   "metadata": {
    "ExecuteTime": {
     "end_time": "2020-07-12T17:45:02.748563Z",
     "start_time": "2020-07-12T17:44:58.378311Z"
    }
   },
   "outputs": [],
   "source": [
    "%load_ext autoreload\n",
    "%autoreload 2\n",
    "import pickle\n",
    "import numpy as np\n",
    "import pandas as pd \n",
    "import random\n",
    "import plotnine\n",
    "from plotnine import * \n",
    "np.random.seed(1234)\n",
    "random.seed(1234)\n"
   ]
  },
  {
   "cell_type": "code",
   "execution_count": 2,
   "metadata": {
    "ExecuteTime": {
     "end_time": "2020-07-12T17:45:02.827031Z",
     "start_time": "2020-07-12T17:45:02.755712Z"
    }
   },
   "outputs": [],
   "source": [
    "#load the data \n",
    "entries=pickle.load(open('../cnn_inputs.p','rb'))\n",
    "X=entries['X']\n",
    "y=entries['y']"
   ]
  },
  {
   "cell_type": "code",
   "execution_count": 3,
   "metadata": {
    "ExecuteTime": {
     "end_time": "2020-07-12T17:45:02.858626Z",
     "start_time": "2020-07-12T17:45:02.831025Z"
    }
   },
   "outputs": [
    {
     "name": "stdout",
     "output_type": "stream",
     "text": [
      "924\n",
      "924\n",
      "['NEIL1_1', 'NEIL1_2', 'NEIL1_3', 'NEIL1_4', 'NEIL1_5', 'NEIL1_6', 'NEIL1_7', 'NEIL1_8', 'NEIL1_9', 'NEIL1_10']\n"
     ]
    }
   ],
   "source": [
    "#create train,test,validate splits \n",
    "indices=list(X.keys())\n",
    "print(len(indices))\n",
    "print(len(y.keys()))\n",
    "print(indices[0:10])\n"
   ]
  },
  {
   "cell_type": "code",
   "execution_count": 4,
   "metadata": {
    "ExecuteTime": {
     "end_time": "2020-07-12T17:45:02.909322Z",
     "start_time": "2020-07-12T17:45:02.860345Z"
    }
   },
   "outputs": [],
   "source": [
    "test_indices=[i for i in indices if i.startswith('NEIL1')]\n",
    "train_valid_indices=[i for i in indices if i.startswith('AJUBA')]+[i for i in indices if i.startswith('TTYH')]\n",
    "random.shuffle(train_valid_indices)\n",
    "num_train_valid=len(train_valid_indices)\n",
    "first_part=int(round(num_train_valid*.66))\n",
    "train_indices=train_valid_indices[0:first_part]\n",
    "validate_indices=train_valid_indices[first_part::]"
   ]
  },
  {
   "cell_type": "code",
   "execution_count": 5,
   "metadata": {
    "ExecuteTime": {
     "end_time": "2020-07-12T17:45:02.959157Z",
     "start_time": "2020-07-12T17:45:02.910968Z"
    }
   },
   "outputs": [],
   "source": [
    "train_X_seq=np.array([X[i][0] for i in train_indices])\n",
    "train_X_struct=np.array([X[i][1] for i in train_indices])\n",
    "train_X=[train_X_seq,train_X_struct]\n",
    "\n",
    "validate_X_seq=np.array([X[i][0] for i in validate_indices])\n",
    "validate_X_struct=np.array([X[i][1] for i in validate_indices])\n",
    "validate_X=[validate_X_seq,validate_X_struct]\n",
    "\n",
    "test_X_seq=np.array([X[i][0] for i in test_indices])\n",
    "test_X_struct=np.array([X[i][1] for i in test_indices])\n",
    "test_X=[test_X_seq,test_X_struct]"
   ]
  },
  {
   "cell_type": "code",
   "execution_count": 6,
   "metadata": {
    "ExecuteTime": {
     "end_time": "2020-07-12T17:45:02.993792Z",
     "start_time": "2020-07-12T17:45:02.960806Z"
    }
   },
   "outputs": [],
   "source": [
    "train_y=np.asarray([y[i] for i in train_indices])\n",
    "validate_y=np.asarray([y[i] for i in validate_indices])\n",
    "test_y=np.asarray([y[i] for i in test_indices])"
   ]
  },
  {
   "cell_type": "code",
   "execution_count": 7,
   "metadata": {
    "ExecuteTime": {
     "end_time": "2020-07-12T17:45:03.036591Z",
     "start_time": "2020-07-12T17:45:02.995390Z"
    }
   },
   "outputs": [
    {
     "data": {
      "text/plain": [
       "(215, 166, 4)"
      ]
     },
     "execution_count": 7,
     "metadata": {},
     "output_type": "execute_result"
    }
   ],
   "source": [
    "validate_X_seq.shape"
   ]
  },
  {
   "cell_type": "code",
   "execution_count": 8,
   "metadata": {
    "ExecuteTime": {
     "end_time": "2020-07-12T17:45:03.108584Z",
     "start_time": "2020-07-12T17:45:03.062835Z"
    }
   },
   "outputs": [
    {
     "data": {
      "text/plain": [
       "(417, 166, 6)"
      ]
     },
     "execution_count": 8,
     "metadata": {},
     "output_type": "execute_result"
    }
   ],
   "source": [
    "train_X_struct.shape"
   ]
  },
  {
   "cell_type": "code",
   "execution_count": 9,
   "metadata": {
    "ExecuteTime": {
     "end_time": "2020-07-12T17:45:03.179664Z",
     "start_time": "2020-07-12T17:45:03.122038Z"
    }
   },
   "outputs": [
    {
     "data": {
      "text/plain": [
       "(417,)"
      ]
     },
     "execution_count": 9,
     "metadata": {},
     "output_type": "execute_result"
    }
   ],
   "source": [
    "train_y.shape"
   ]
  },
  {
   "cell_type": "markdown",
   "metadata": {
    "ExecuteTime": {
     "end_time": "2020-05-30T05:32:13.111744Z",
     "start_time": "2020-05-30T05:32:13.071081Z"
    }
   },
   "source": [
    "## Create keras model "
   ]
  },
  {
   "cell_type": "code",
   "execution_count": 10,
   "metadata": {
    "ExecuteTime": {
     "end_time": "2020-07-12T17:45:08.057948Z",
     "start_time": "2020-07-12T17:45:03.182226Z"
    }
   },
   "outputs": [
    {
     "name": "stderr",
     "output_type": "stream",
     "text": [
      "Using TensorFlow backend.\n"
     ]
    }
   ],
   "source": [
    "#import keras dependencies \n",
    "import keras\n",
    "from keras.models import Model\n",
    "from keras.layers import Input, Concatenate\n",
    "from keras.layers.core import  Dropout, Reshape, Dense, Activation, Flatten\n",
    "from keras.layers.convolutional import Conv1D, MaxPooling1D\n",
    "from keras.optimizers import Adadelta, SGD, RMSprop;\n",
    "import keras.losses;\n",
    "from keras.constraints import maxnorm;\n",
    "from keras.layers.normalization import BatchNormalization\n",
    "from keras.regularizers import l1, l2\n",
    "from keras import backend as K\n",
    "from kerasAC.custom_losses import * "
   ]
  },
  {
   "cell_type": "code",
   "execution_count": 11,
   "metadata": {
    "ExecuteTime": {
     "end_time": "2020-07-12T17:45:10.688940Z",
     "start_time": "2020-07-12T17:45:08.060398Z"
    }
   },
   "outputs": [],
   "source": [
    "#define a keras model \n",
    "K.set_image_data_format('channels_last')\n",
    "padding='same'\n",
    "seq_input=Input(shape=(166,4),name='seq_input')\n",
    "struct_input=Input(shape=(166,6),name='struct_input')\n",
    "x_seq=Conv1D(filters=20,kernel_size=6,input_shape=(166,4),padding=padding,name='conv_seq')(seq_input)\n",
    "x_struct=Conv1D(filters=20,kernel_size=10,input_shape=(166,6),padding=padding,name='conv_struct')(struct_input)\n",
    "x_seq=Activation('relu',name='activation_1')(x_seq)\n",
    "x_struct=Activation('relu',name='activation_2')(x_struct)\n",
    "x_seq=Flatten(name='flatten1')(x_seq)\n",
    "x_struct=Flatten(name='flatten2')(x_struct)\n",
    "aggregated=Concatenate(axis=-1)([x_struct,x_seq])\n",
    "x=Dense(64,name='dense1')(aggregated)\n",
    "x=Dropout(0.7)(x)\n",
    "x=Activation('relu',name='activation_3')(x)\n",
    "outputs=Dense(1,name='final')(x)\n",
    "model=Model(inputs=[seq_input,struct_input],outputs=outputs)\n",
    "adam = keras.optimizers.Adam(lr=0.001, beta_1=0.9, beta_2=0.999, epsilon=1e-08)\n",
    "model.compile(optimizer=adam,loss=ambig_mean_squared_error)\n"
   ]
  },
  {
   "cell_type": "code",
   "execution_count": 12,
   "metadata": {
    "ExecuteTime": {
     "end_time": "2020-07-12T17:45:11.870892Z",
     "start_time": "2020-07-12T17:45:10.690704Z"
    }
   },
   "outputs": [
    {
     "name": "stdout",
     "output_type": "stream",
     "text": [
      "Model: \"model_1\"\n",
      "__________________________________________________________________________________________________\n",
      "Layer (type)                    Output Shape         Param #     Connected to                     \n",
      "==================================================================================================\n",
      "struct_input (InputLayer)       (None, 166, 6)       0                                            \n",
      "__________________________________________________________________________________________________\n",
      "seq_input (InputLayer)          (None, 166, 4)       0                                            \n",
      "__________________________________________________________________________________________________\n",
      "conv_struct (Conv1D)            (None, 166, 20)      1220        struct_input[0][0]               \n",
      "__________________________________________________________________________________________________\n",
      "conv_seq (Conv1D)               (None, 166, 20)      500         seq_input[0][0]                  \n",
      "__________________________________________________________________________________________________\n",
      "activation_2 (Activation)       (None, 166, 20)      0           conv_struct[0][0]                \n",
      "__________________________________________________________________________________________________\n",
      "activation_1 (Activation)       (None, 166, 20)      0           conv_seq[0][0]                   \n",
      "__________________________________________________________________________________________________\n",
      "flatten2 (Flatten)              (None, 3320)         0           activation_2[0][0]               \n",
      "__________________________________________________________________________________________________\n",
      "flatten1 (Flatten)              (None, 3320)         0           activation_1[0][0]               \n",
      "__________________________________________________________________________________________________\n",
      "concatenate_1 (Concatenate)     (None, 6640)         0           flatten2[0][0]                   \n",
      "                                                                 flatten1[0][0]                   \n",
      "__________________________________________________________________________________________________\n",
      "dense1 (Dense)                  (None, 64)           425024      concatenate_1[0][0]              \n",
      "__________________________________________________________________________________________________\n",
      "dropout_1 (Dropout)             (None, 64)           0           dense1[0][0]                     \n",
      "__________________________________________________________________________________________________\n",
      "activation_3 (Activation)       (None, 64)           0           dropout_1[0][0]                  \n",
      "__________________________________________________________________________________________________\n",
      "final (Dense)                   (None, 1)            65          activation_3[0][0]               \n",
      "==================================================================================================\n",
      "Total params: 426,809\n",
      "Trainable params: 426,809\n",
      "Non-trainable params: 0\n",
      "__________________________________________________________________________________________________\n"
     ]
    }
   ],
   "source": [
    "model.summary()"
   ]
  },
  {
   "cell_type": "markdown",
   "metadata": {},
   "source": [
    "## Train the model "
   ]
  },
  {
   "cell_type": "code",
   "execution_count": 13,
   "metadata": {
    "ExecuteTime": {
     "end_time": "2020-07-12T17:45:11.934827Z",
     "start_time": "2020-07-12T17:45:11.873558Z"
    }
   },
   "outputs": [],
   "source": [
    "from keras.callbacks import * \n",
    "from kerasAC.custom_callbacks import * \n"
   ]
  },
  {
   "cell_type": "code",
   "execution_count": 14,
   "metadata": {
    "ExecuteTime": {
     "end_time": "2020-07-12T17:45:12.000818Z",
     "start_time": "2020-07-12T17:45:11.938822Z"
    }
   },
   "outputs": [],
   "source": [
    "#define callbacks \n",
    "checkpointer = ModelCheckpoint(filepath=\"model.hdf5\", verbose=1, save_best_only=True)\n",
    "earlystopper = EarlyStopping(monitor='val_loss', patience=10, verbose=1,restore_best_weights=True)\n",
    "history=LossHistory(\"logs.batch\",['loss','val_loss'])\n",
    "csvlogger = CSVLogger(\"logs.epoch.csv\", append = False)\n",
    "reduce_lr = ReduceLROnPlateau(monitor='val_loss', factor=0.4,patience=2, min_lr=0.00000001)\n",
    "cur_callbacks=[checkpointer,earlystopper,csvlogger,reduce_lr,history]\n"
   ]
  },
  {
   "cell_type": "code",
   "execution_count": 15,
   "metadata": {
    "ExecuteTime": {
     "end_time": "2020-07-12T17:45:19.514207Z",
     "start_time": "2020-07-12T17:45:12.002640Z"
    }
   },
   "outputs": [
    {
     "name": "stdout",
     "output_type": "stream",
     "text": [
      "Train on 417 samples, validate on 215 samples\n",
      "Epoch 1/100\n",
      "417/417 [==============================] - 3s 8ms/step - loss: 0.0993 - val_loss: 0.0122\n",
      "\n",
      "Epoch 00001: val_loss improved from inf to 0.01225, saving model to model.hdf5\n",
      "Epoch 2/100\n",
      "417/417 [==============================] - 0s 385us/step - loss: 0.0177 - val_loss: 0.0130\n",
      "\n",
      "Epoch 00002: val_loss did not improve from 0.01225\n",
      "Epoch 3/100\n",
      "417/417 [==============================] - 0s 336us/step - loss: 0.0162 - val_loss: 0.0133\n",
      "\n",
      "Epoch 00003: val_loss did not improve from 0.01225\n",
      "Epoch 4/100\n",
      "417/417 [==============================] - 0s 327us/step - loss: 0.0173 - val_loss: 0.0119\n",
      "\n",
      "Epoch 00004: val_loss improved from 0.01225 to 0.01188, saving model to model.hdf5\n",
      "Epoch 5/100\n",
      "417/417 [==============================] - 0s 335us/step - loss: 0.0150 - val_loss: 0.0119\n",
      "\n",
      "Epoch 00005: val_loss improved from 0.01188 to 0.01186, saving model to model.hdf5\n",
      "Epoch 6/100\n",
      "417/417 [==============================] - 0s 359us/step - loss: 0.0161 - val_loss: 0.0127\n",
      "\n",
      "Epoch 00006: val_loss did not improve from 0.01186\n",
      "Epoch 7/100\n",
      "417/417 [==============================] - 0s 373us/step - loss: 0.0155 - val_loss: 0.0118\n",
      "\n",
      "Epoch 00007: val_loss improved from 0.01186 to 0.01178, saving model to model.hdf5\n",
      "Epoch 8/100\n",
      "417/417 [==============================] - 0s 308us/step - loss: 0.0152 - val_loss: 0.0115\n",
      "\n",
      "Epoch 00008: val_loss improved from 0.01178 to 0.01151, saving model to model.hdf5\n",
      "Epoch 9/100\n",
      "417/417 [==============================] - 0s 318us/step - loss: 0.0146 - val_loss: 0.0113\n",
      "\n",
      "Epoch 00009: val_loss improved from 0.01151 to 0.01127, saving model to model.hdf5\n",
      "Epoch 10/100\n",
      "417/417 [==============================] - 0s 328us/step - loss: 0.0149 - val_loss: 0.0111\n",
      "\n",
      "Epoch 00010: val_loss improved from 0.01127 to 0.01114, saving model to model.hdf5\n",
      "Epoch 11/100\n",
      "417/417 [==============================] - 0s 299us/step - loss: 0.0180 - val_loss: 0.0119\n",
      "\n",
      "Epoch 00011: val_loss did not improve from 0.01114\n",
      "Epoch 12/100\n",
      "417/417 [==============================] - 0s 331us/step - loss: 0.0161 - val_loss: 0.0122\n",
      "\n",
      "Epoch 00012: val_loss did not improve from 0.01114\n",
      "Epoch 13/100\n",
      "417/417 [==============================] - 0s 321us/step - loss: 0.0149 - val_loss: 0.0119\n",
      "\n",
      "Epoch 00013: val_loss did not improve from 0.01114\n",
      "Epoch 14/100\n",
      "417/417 [==============================] - 0s 265us/step - loss: 0.0133 - val_loss: 0.0113\n",
      "\n",
      "Epoch 00014: val_loss did not improve from 0.01114\n",
      "Epoch 15/100\n",
      "417/417 [==============================] - 0s 231us/step - loss: 0.0154 - val_loss: 0.0113\n",
      "\n",
      "Epoch 00015: val_loss did not improve from 0.01114\n",
      "Epoch 16/100\n",
      "417/417 [==============================] - 0s 253us/step - loss: 0.0138 - val_loss: 0.0113\n",
      "\n",
      "Epoch 00016: val_loss did not improve from 0.01114\n",
      "Epoch 17/100\n",
      "417/417 [==============================] - 0s 245us/step - loss: 0.0144 - val_loss: 0.0113\n",
      "\n",
      "Epoch 00017: val_loss did not improve from 0.01114\n",
      "Epoch 18/100\n",
      "417/417 [==============================] - 0s 269us/step - loss: 0.0140 - val_loss: 0.0113\n",
      "\n",
      "Epoch 00018: val_loss did not improve from 0.01114\n",
      "Epoch 19/100\n",
      "417/417 [==============================] - 0s 285us/step - loss: 0.0135 - val_loss: 0.0113\n",
      "\n",
      "Epoch 00019: val_loss did not improve from 0.01114\n",
      "Epoch 20/100\n",
      "417/417 [==============================] - 0s 270us/step - loss: 0.0136 - val_loss: 0.0113\n",
      "\n",
      "Epoch 00020: val_loss did not improve from 0.01114\n",
      "Restoring model weights from the end of the best epoch\n",
      "Epoch 00020: early stopping\n"
     ]
    },
    {
     "data": {
      "text/plain": [
       "<keras.callbacks.callbacks.History at 0x7ff52bb95990>"
      ]
     },
     "execution_count": 15,
     "metadata": {},
     "output_type": "execute_result"
    }
   ],
   "source": [
    "#fit the model \n",
    "model.fit(x=train_X,\n",
    "          y=train_y,\n",
    "          batch_size=32,\n",
    "          epochs=100,\n",
    "          verbose=1,\n",
    "          callbacks=cur_callbacks,\n",
    "          validation_data=(validate_X,validate_y),\n",
    "          shuffle=True,\n",
    "          max_queue_size=100,\n",
    "          use_multiprocessing=True,\n",
    "          workers=12)\n"
   ]
  },
  {
   "cell_type": "markdown",
   "metadata": {},
   "source": [
    "## plot the loss curves "
   ]
  },
  {
   "cell_type": "code",
   "execution_count": 16,
   "metadata": {
    "ExecuteTime": {
     "end_time": "2020-07-12T17:45:19.894611Z",
     "start_time": "2020-07-12T17:45:19.516276Z"
    }
   },
   "outputs": [
    {
     "name": "stderr",
     "output_type": "stream",
     "text": [
      "/users/annashch/miniconda3/lib/python3.7/site-packages/ipykernel_launcher.py:6: SettingWithCopyWarning: \n",
      "A value is trying to be set on a copy of a slice from a DataFrame\n",
      "\n",
      "See the caveats in the documentation: https://pandas.pydata.org/pandas-docs/stable/user_guide/indexing.html#returning-a-view-versus-a-copy\n",
      "  \n",
      "/users/annashch/miniconda3/lib/python3.7/site-packages/ipykernel_launcher.py:7: SettingWithCopyWarning: \n",
      "A value is trying to be set on a copy of a slice from a DataFrame\n",
      "\n",
      "See the caveats in the documentation: https://pandas.pydata.org/pandas-docs/stable/user_guide/indexing.html#returning-a-view-versus-a-copy\n",
      "  import sys\n"
     ]
    },
    {
     "data": {
      "image/png": "[encoded data removed]",
      "text/plain": [
       "<Figure size 600x600 with 1 Axes>"
      ]
     },
     "metadata": {},
     "output_type": "display_data"
    },
    {
     "data": {
      "text/plain": [
       "<ggplot: (8793615932121)>"
      ]
     },
     "execution_count": 16,
     "metadata": {},
     "output_type": "execute_result"
    }
   ],
   "source": [
    "## plot the losses\n",
    "losses=pd.read_csv(\"logs.epoch.csv\",header=0,sep=',')\n",
    "losses.shape\n",
    "batch_losses=pd.read_csv(\"logs.batch\",header=0,sep='\\t')\n",
    "losses=pd.melt(losses,id_vars='epoch')\n",
    "losses['variable'][losses['variable']=='loss']='TrainingLoss'\n",
    "losses['variable'][losses['variable']=='val_loss']='ValidationLoss'\n",
    "plotnine.options.figure_size = (6, 6)\n",
    "(ggplot(losses,aes(x='epoch',\n",
    "                   y='value',\n",
    "                   group='variable',\n",
    "                   color='variable'))+geom_line(size=2)+theme_bw(20))\n"
   ]
  },
  {
   "cell_type": "code",
   "execution_count": 17,
   "metadata": {
    "ExecuteTime": {
     "end_time": "2020-07-12T17:45:20.163919Z",
     "start_time": "2020-07-12T17:45:19.896309Z"
    }
   },
   "outputs": [
    {
     "data": {
      "image/png": "[encoded data removed]",
      "text/plain": [
       "<Figure size 600x600 with 1 Axes>"
      ]
     },
     "metadata": {},
     "output_type": "display_data"
    },
    {
     "data": {
      "text/plain": [
       "<ggplot: (8793186220677)>"
      ]
     },
     "execution_count": 17,
     "metadata": {},
     "output_type": "execute_result"
    }
   ],
   "source": [
    "batch_losses['sequence']=batch_losses.index\n",
    "plotnine.options.figure_size = (6, 6)\n",
    "\n",
    "\n",
    "(ggplot(batch_losses,aes(x=\"sequence\",y=\"loss\"))+geom_line()+ylab(\"Training Loss MSE\"))"
   ]
  },
  {
   "cell_type": "markdown",
   "metadata": {},
   "source": [
    "## get predictions"
   ]
  },
  {
   "cell_type": "code",
   "execution_count": 18,
   "metadata": {
    "ExecuteTime": {
     "end_time": "2020-07-12T17:45:20.399403Z",
     "start_time": "2020-07-12T17:45:20.165768Z"
    }
   },
   "outputs": [],
   "source": [
    "predictions_test=model.predict(test_X,batch_size=128,max_queue_size=100,use_multiprocessing=True,workers=4)"
   ]
  },
  {
   "cell_type": "code",
   "execution_count": 19,
   "metadata": {
    "ExecuteTime": {
     "end_time": "2020-07-12T17:45:20.493386Z",
     "start_time": "2020-07-12T17:45:20.401790Z"
    }
   },
   "outputs": [],
   "source": [
    "predictions_train=model.predict(train_X,batch_size=128,max_queue_size=100,use_multiprocessing=True,workers=4)"
   ]
  },
  {
   "cell_type": "code",
   "execution_count": 20,
   "metadata": {
    "ExecuteTime": {
     "end_time": "2020-07-12T17:45:20.633617Z",
     "start_time": "2020-07-12T17:45:20.496145Z"
    }
   },
   "outputs": [],
   "source": [
    "predictions_validate=model.predict(validate_X,batch_size=128,max_queue_size=100,use_multiprocessing=True,workers=4)"
   ]
  },
  {
   "cell_type": "code",
   "execution_count": 21,
   "metadata": {
    "ExecuteTime": {
     "end_time": "2020-07-12T17:45:20.750665Z",
     "start_time": "2020-07-12T17:45:20.636461Z"
    }
   },
   "outputs": [
    {
     "name": "stdout",
     "output_type": "stream",
     "text": [
      "predictions shape:(292, 1)\n",
      "true labels shape:(292, 1)\n"
     ]
    },
    {
     "data": {
      "text/plain": [
       "{'spearmanr': [SpearmanrResult(correlation=-0.03736206615409077, pvalue=0.5342807008320198)],\n",
       " 'pearsonr': [(-0.005066224744875775, 0.9328630242674392)],\n",
       " 'spearmanr_nonzerobins': [SpearmanrResult(correlation=-0.028798113982360728, pvalue=0.6325817244090844)],\n",
       " 'pearsonr_nonzerobins': [(-0.0001887794210472778, 0.9974999127587412)]}"
      ]
     },
     "execution_count": 21,
     "metadata": {},
     "output_type": "execute_result"
    }
   ],
   "source": [
    "#get performance metrics \n",
    "from kerasAC.performance_metrics.regression_performance_metrics import *\n",
    "test_perf=get_performance_metrics_regression(predictions_test,np.expand_dims(test_y,axis=1))\n",
    "test_perf"
   ]
  },
  {
   "cell_type": "code",
   "execution_count": 22,
   "metadata": {
    "ExecuteTime": {
     "end_time": "2020-07-12T17:45:20.864754Z",
     "start_time": "2020-07-12T17:45:20.753628Z"
    }
   },
   "outputs": [
    {
     "name": "stdout",
     "output_type": "stream",
     "text": [
      "predictions shape:(417, 1)\n",
      "true labels shape:(417, 1)\n"
     ]
    },
    {
     "data": {
      "text/plain": [
       "{'spearmanr': [SpearmanrResult(correlation=0.5908073728836737, pvalue=7.585073863165657e-40)],\n",
       " 'pearsonr': [(0.5899692380976467, 1.034738197287337e-39)],\n",
       " 'spearmanr_nonzerobins': [SpearmanrResult(correlation=0.590433600160879, pvalue=1.6633570759664894e-39)],\n",
       " 'pearsonr_nonzerobins': [(0.5898416570094839, 2.0675596818201116e-39)]}"
      ]
     },
     "execution_count": 22,
     "metadata": {},
     "output_type": "execute_result"
    }
   ],
   "source": [
    "train_perf=get_performance_metrics_regression(predictions_train,np.expand_dims(train_y,axis=1))\n",
    "train_perf"
   ]
  },
  {
   "cell_type": "code",
   "execution_count": 23,
   "metadata": {
    "ExecuteTime": {
     "end_time": "2020-07-12T17:45:20.938907Z",
     "start_time": "2020-07-12T17:45:20.872105Z"
    }
   },
   "outputs": [
    {
     "name": "stdout",
     "output_type": "stream",
     "text": [
      "predictions shape:(215, 1)\n",
      "true labels shape:(215, 1)\n"
     ]
    },
    {
     "data": {
      "text/plain": [
       "{'spearmanr': [SpearmanrResult(correlation=0.4539027177167222, pvalue=4.545112656725841e-12)],\n",
       " 'pearsonr': [(0.5007233059763162, 9.990145532312592e-15)],\n",
       " 'spearmanr_nonzerobins': [SpearmanrResult(correlation=0.5074190984089951, pvalue=9.534359562006148e-15)],\n",
       " 'pearsonr_nonzerobins': [(0.5262072012258023, 6.332478323620341e-16)]}"
      ]
     },
     "execution_count": 23,
     "metadata": {},
     "output_type": "execute_result"
    }
   ],
   "source": [
    "valid_perf=get_performance_metrics_regression(predictions_validate,np.expand_dims(validate_y,axis=1))\n",
    "valid_perf"
   ]
  },
  {
   "cell_type": "code",
   "execution_count": 24,
   "metadata": {
    "ExecuteTime": {
     "end_time": "2020-07-12T17:45:21.056368Z",
     "start_time": "2020-07-12T17:45:20.940706Z"
    }
   },
   "outputs": [],
   "source": [
    "#plot the predictions \n",
    "%matplotlib inline\n",
    "import matplotlib.pyplot as plt\n",
    "from matplotlib import cm\n",
    "from matplotlib.colors import Normalize \n",
    "from scipy.interpolate import interpn\n",
    "\n",
    "def density_scatter( x , y, title, ax = None, sort = True, bins = 20, **kwargs )   :\n",
    "    \"\"\"\n",
    "    Scatter plot colored by 2d histogram\n",
    "    \"\"\"\n",
    "    nan_indices=[i[0] for i in np.argwhere(np.isnan(x))]\n",
    "    y= np.delete(y, nan_indices, 0)\n",
    "    x=np.delete(x,nan_indices,0)\n",
    "\n",
    "    if ax is None :\n",
    "        fig , ax = plt.subplots(figsize=(4, 3), dpi= 80, facecolor='w', edgecolor='k')\n",
    "    data , x_e, y_e = np.histogram2d( x, y, bins = bins, density = True )\n",
    "    z = interpn( ( 0.5*(x_e[1:] + x_e[:-1]) , 0.5*(y_e[1:]+y_e[:-1]) ) , data , np.vstack([x,y]).T , method = \"splinef2d\", bounds_error = False)\n",
    "\n",
    "    #To be sure to plot all data\n",
    "    z[np.where(np.isnan(z))] = 0.0\n",
    "\n",
    "    # Sort the points by density, so that the densest points are plotted last\n",
    "    if sort :\n",
    "        idx = z.argsort()\n",
    "        x, y, z = x[idx], y[idx], z[idx]\n",
    "\n",
    "    ax.scatter( x, y, c=z, **kwargs,s=1 )\n",
    "    lims = [\n",
    "    np.min([ax.get_xlim(), ax.get_ylim()]),  # min of both axes\n",
    "    np.max([ax.get_xlim(), ax.get_ylim()]),  # max of both axes\n",
    "    ]\n",
    "\n",
    "    # now plot both limits against eachother\n",
    "    ax.plot(lims, lims, 'k-', alpha=0.75, zorder=0)\n",
    "    ax.set_aspect('equal')\n",
    "    ax.set_xlim(lims)\n",
    "    ax.set_ylim(lims)\n",
    "\n",
    "    plt.title(title)\n",
    "    plt.xlabel(\"Observed\")\n",
    "    plt.ylabel(\"Predicted\")\n",
    "    norm = Normalize(vmin = np.min(z), vmax = np.max(z))\n",
    "    cbar = fig.colorbar(cm.ScalarMappable(norm = norm), ax=ax)\n",
    "    cbar.ax.set_ylabel('Density')\n",
    "\n",
    "    return ax"
   ]
  },
  {
   "cell_type": "code",
   "execution_count": 25,
   "metadata": {
    "ExecuteTime": {
     "end_time": "2020-07-12T17:45:21.501302Z",
     "start_time": "2020-07-12T17:45:21.058036Z"
    }
   },
   "outputs": [
    {
     "data": {
      "image/png": "[encoded data removed]",
      "text/plain": [
       "<Figure size 320x240 with 2 Axes>"
      ]
     },
     "metadata": {},
     "output_type": "display_data"
    }
   ],
   "source": [
    "density_scatter(train_y,np.squeeze(predictions_train),'Joint Training: Training',bins=[30,30])\n",
    "plt.savefig('train.svg')"
   ]
  },
  {
   "cell_type": "code",
   "execution_count": 26,
   "metadata": {
    "ExecuteTime": {
     "end_time": "2020-07-12T17:45:21.824968Z",
     "start_time": "2020-07-12T17:45:21.504202Z"
    }
   },
   "outputs": [
    {
     "data": {
      "text/plain": [
       "<matplotlib.axes._subplots.AxesSubplot at 0x7ff6bb0beed0>"
      ]
     },
     "execution_count": 26,
     "metadata": {},
     "output_type": "execute_result"
    },
    {
     "data": {
      "image/png": "[encoded data removed]",
      "text/plain": [
       "<Figure size 320x240 with 2 Axes>"
      ]
     },
     "metadata": {},
     "output_type": "display_data"
    }
   ],
   "source": [
    "density_scatter(validate_y,np.squeeze(predictions_validate),'Joint Training: Validation',bins=[30,30])"
   ]
  },
  {
   "cell_type": "code",
   "execution_count": 27,
   "metadata": {
    "ExecuteTime": {
     "end_time": "2020-07-12T17:45:22.375975Z",
     "start_time": "2020-07-12T17:45:21.826530Z"
    }
   },
   "outputs": [
    {
     "data": {
      "image/png": "[encoded data removed]",
      "text/plain": [
       "<Figure size 320x240 with 2 Axes>"
      ]
     },
     "metadata": {},
     "output_type": "display_data"
    }
   ],
   "source": [
    "density_scatter(test_y,np.squeeze(predictions_test),'Joint Training: Test',bins=[30,30])\n",
    "plt.savefig('test.svg')"
   ]
  },
  {
   "cell_type": "code",
   "execution_count": 28,
   "metadata": {
    "ExecuteTime": {
     "end_time": "2020-07-12T17:45:22.521678Z",
     "start_time": "2020-07-12T17:45:22.378065Z"
    }
   },
   "outputs": [],
   "source": [
    "# select a set of background examples to take an expectation over\n",
    "background=train_X\n",
    "import pickle\n",
    "pickle.dump(background,open('background.random.p','wb'))\n",
    "pickle.dump(test_X,open('test_X.random.p','wb'))\n",
    "pickle.dump(test_y,open('test_y.random.p','wb'))\n",
    "pickle.dump(test_indices,open('test_indices.random.p','wb'))\n"
   ]
  },
  {
   "cell_type": "code",
   "execution_count": null,
   "metadata": {},
   "outputs": [],
   "source": []
  }
 ],
 "metadata": {
  "kernelspec": {
   "display_name": "Python 3",
   "language": "python",
   "name": "python3"
  },
  "language_info": {
   "codemirror_mode": {
    "name": "ipython",
    "version": 3
   },
   "file_extension": ".py",
   "mimetype": "text/x-python",
   "name": "python",
   "nbconvert_exporter": "python",
   "pygments_lexer": "ipython3",
   "version": "3.7.6"
  }
 },
 "nbformat": 4,
 "nbformat_minor": 4
}
