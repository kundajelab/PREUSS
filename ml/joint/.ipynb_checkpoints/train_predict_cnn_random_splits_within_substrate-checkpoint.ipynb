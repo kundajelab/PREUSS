{
 "cells": [
  {
   "cell_type": "code",
   "execution_count": 1,
   "metadata": {
    "ExecuteTime": {
     "end_time": "2020-07-12T18:17:25.193122Z",
     "start_time": "2020-07-12T18:17:21.209863Z"
    }
   },
   "outputs": [],
   "source": [
    "%load_ext autoreload\n",
    "%autoreload 2\n",
    "import pickle\n",
    "import numpy as np\n",
    "import pandas as pd \n",
    "import random\n",
    "import plotnine\n",
    "from plotnine import * \n",
    "np.random.seed(1234)\n",
    "random.seed(1234)\n"
   ]
  },
  {
   "cell_type": "code",
   "execution_count": 2,
   "metadata": {
    "ExecuteTime": {
     "end_time": "2020-07-12T18:17:28.479467Z",
     "start_time": "2020-07-12T18:17:25.196314Z"
    }
   },
   "outputs": [],
   "source": [
    "import tensorflow\n",
    "tensorflow.compat.v1.enable_eager_execution()\n",
    "from tensorflow.compat.v1.keras.backend import get_session\n",
    "#tensorflow.compat.v1.disable_v2_behavior()\n"
   ]
  },
  {
   "cell_type": "code",
   "execution_count": 3,
   "metadata": {
    "ExecuteTime": {
     "end_time": "2020-07-12T18:17:28.556803Z",
     "start_time": "2020-07-12T18:17:28.481985Z"
    }
   },
   "outputs": [],
   "source": [
    "#load the data \n",
    "entries=pickle.load(open('../cnn_inputs.p','rb'))\n",
    "X=entries['X']\n",
    "y=entries['y']"
   ]
  },
  {
   "cell_type": "code",
   "execution_count": 4,
   "metadata": {
    "ExecuteTime": {
     "end_time": "2020-07-12T18:17:28.608836Z",
     "start_time": "2020-07-12T18:17:28.558930Z"
    }
   },
   "outputs": [],
   "source": [
    "#create train,test,validate splits \n",
    "indices=list(X.keys())\n",
    "substrate=\"AJUBA\"\n",
    "indices_to_use=[i for i in indices if i.startswith(substrate)]\n",
    "random.shuffle(indices_to_use)\n",
    "num_items=len(indices_to_use)\n",
    "#split 70% train, 15% validate, 15% test \n",
    "num_train=int(round(0.7*num_items))\n",
    "num_validate=int(round(0.15*num_items))\n",
    "num_test=num_items-num_train-num_validate "
   ]
  },
  {
   "cell_type": "code",
   "execution_count": 5,
   "metadata": {
    "ExecuteTime": {
     "end_time": "2020-07-12T18:17:28.660294Z",
     "start_time": "2020-07-12T18:17:28.610534Z"
    }
   },
   "outputs": [
    {
     "name": "stdout",
     "output_type": "stream",
     "text": [
      "190\n",
      "41\n",
      "40\n"
     ]
    }
   ],
   "source": [
    "print(num_train)\n",
    "print(num_validate)\n",
    "print(num_test)"
   ]
  },
  {
   "cell_type": "code",
   "execution_count": 6,
   "metadata": {
    "ExecuteTime": {
     "end_time": "2020-07-12T18:17:28.711137Z",
     "start_time": "2020-07-12T18:17:28.662161Z"
    }
   },
   "outputs": [],
   "source": [
    "train_indices=indices_to_use[0:num_train]\n",
    "validate_indices=indices_to_use[num_train:num_train+num_validate]\n",
    "test_indices=indices_to_use[num_train+num_validate::]\n"
   ]
  },
  {
   "cell_type": "code",
   "execution_count": 7,
   "metadata": {
    "ExecuteTime": {
     "end_time": "2020-07-12T18:17:28.767716Z",
     "start_time": "2020-07-12T18:17:28.712801Z"
    }
   },
   "outputs": [],
   "source": [
    "train_X_seq=np.array([X[i][0] for i in train_indices])\n",
    "train_X_struct=np.array([X[i][1] for i in train_indices])\n",
    "train_X=[train_X_seq,train_X_struct]\n",
    "\n",
    "validate_X_seq=np.array([X[i][0] for i in validate_indices])\n",
    "validate_X_struct=np.array([X[i][1] for i in validate_indices])\n",
    "validate_X=[validate_X_seq,validate_X_struct]\n",
    "\n",
    "test_X_seq=np.array([X[i][0] for i in test_indices])\n",
    "test_X_struct=np.array([X[i][1] for i in test_indices])\n",
    "test_X=[test_X_seq,test_X_struct]"
   ]
  },
  {
   "cell_type": "code",
   "execution_count": 8,
   "metadata": {
    "ExecuteTime": {
     "end_time": "2020-07-12T18:17:28.823587Z",
     "start_time": "2020-07-12T18:17:28.770558Z"
    }
   },
   "outputs": [
    {
     "data": {
      "text/plain": [
       "['AJUBA_BC_086',\n",
       " 'AJUBA_BC_052',\n",
       " 'AJUBA_BC_002',\n",
       " 'AJUBA_BC_034',\n",
       " 'AJUBA_BC_212',\n",
       " 'AJUBA_BC_158',\n",
       " 'AJUBA_BC_083',\n",
       " 'AJUBA_BC_103',\n",
       " 'AJUBA_BC_254',\n",
       " 'AJUBA_BC_213',\n",
       " 'AJUBA_BC_093',\n",
       " 'AJUBA_BC_134',\n",
       " 'AJUBA_BC_173',\n",
       " 'AJUBA_BC_105',\n",
       " 'AJUBA_BC_221',\n",
       " 'AJUBA_BC_176',\n",
       " 'AJUBA_BC_251',\n",
       " 'AJUBA_BC_180',\n",
       " 'AJUBA_BC_062',\n",
       " 'AJUBA_BC_091',\n",
       " 'AJUBA_BC_161',\n",
       " 'AJUBA_BC_133',\n",
       " 'AJUBA_BC_228',\n",
       " 'AJUBA_BC_151',\n",
       " 'AJUBA_BC_057',\n",
       " 'AJUBA_BC_032',\n",
       " 'AJUBA_BC_157',\n",
       " 'AJUBA_BC_125',\n",
       " 'AJUBA_BC_227',\n",
       " 'AJUBA_BC_260',\n",
       " 'AJUBA_BC_140',\n",
       " 'AJUBA_BC_269',\n",
       " 'AJUBA_BC_107',\n",
       " 'AJUBA_BC_191',\n",
       " 'AJUBA_BC_215',\n",
       " 'AJUBA_BC_067',\n",
       " 'AJUBA_BC_072',\n",
       " 'AJUBA_BC_162',\n",
       " 'AJUBA_BC_250',\n",
       " 'AJUBA_BC_143',\n",
       " 'AJUBA_BC_220',\n",
       " 'AJUBA_BC_094',\n",
       " 'AJUBA_BC_258',\n",
       " 'AJUBA_BC_159',\n",
       " 'AJUBA_BC_014',\n",
       " 'AJUBA_BC_194',\n",
       " 'AJUBA_BC_156',\n",
       " 'AJUBA_BC_249',\n",
       " 'AJUBA_BC_061',\n",
       " 'AJUBA_BC_037',\n",
       " 'AJUBA_BC_099',\n",
       " 'AJUBA_BC_066',\n",
       " 'AJUBA_BC_205',\n",
       " 'AJUBA_BC_199',\n",
       " 'AJUBA_BC_178',\n",
       " 'AJUBA_BC_044',\n",
       " 'AJUBA_BC_235',\n",
       " 'AJUBA_BC_115',\n",
       " 'AJUBA_BC_092',\n",
       " 'AJUBA_BC_192',\n",
       " 'AJUBA_BC_095',\n",
       " 'AJUBA_BC_122',\n",
       " 'AJUBA_BC_136',\n",
       " 'AJUBA_BC_071',\n",
       " 'AJUBA_BC_033',\n",
       " 'AJUBA_BC_080',\n",
       " 'AJUBA_BC_097',\n",
       " 'AJUBA_BC_146',\n",
       " 'AJUBA_BC_226',\n",
       " 'AJUBA_BC_139',\n",
       " 'AJUBA_BC_175',\n",
       " 'AJUBA_BC_035',\n",
       " 'AJUBA_BC_048',\n",
       " 'AJUBA_BC_110',\n",
       " 'AJUBA_BC_084',\n",
       " 'AJUBA_BC_246',\n",
       " 'AJUBA_BC_198',\n",
       " 'AJUBA_BC_005',\n",
       " 'AJUBA_BC_147',\n",
       " 'AJUBA_BC_256',\n",
       " 'AJUBA_BC_208',\n",
       " 'AJUBA_BC_100',\n",
       " 'AJUBA_BC_000',\n",
       " 'AJUBA_BC_166',\n",
       " 'AJUBA_BC_201',\n",
       " 'AJUBA_BC_259',\n",
       " 'AJUBA_BC_252',\n",
       " 'AJUBA_BC_141',\n",
       " 'AJUBA_BC_021',\n",
       " 'AJUBA_BC_079',\n",
       " 'AJUBA_BC_196',\n",
       " 'AJUBA_BC_248',\n",
       " 'AJUBA_BC_239',\n",
       " 'AJUBA_BC_206',\n",
       " 'AJUBA_BC_060',\n",
       " 'AJUBA_BC_160',\n",
       " 'AJUBA_BC_222',\n",
       " 'AJUBA_BC_200',\n",
       " 'AJUBA_BC_145',\n",
       " 'AJUBA_BC_183',\n",
       " 'AJUBA_BC_007',\n",
       " 'AJUBA_BC_038',\n",
       " 'AJUBA_BC_108',\n",
       " 'AJUBA_BC_074',\n",
       " 'AJUBA_BC_163',\n",
       " 'AJUBA_BC_053',\n",
       " 'AJUBA_BC_174',\n",
       " 'AJUBA_BC_202',\n",
       " 'AJUBA_BC_238',\n",
       " 'AJUBA_BC_253',\n",
       " 'AJUBA_BC_102',\n",
       " 'AJUBA_BC_104',\n",
       " 'AJUBA_BC_155',\n",
       " 'AJUBA_BC_064',\n",
       " 'AJUBA_BC_058',\n",
       " 'AJUBA_BC_189',\n",
       " 'AJUBA_BC_113',\n",
       " 'AJUBA_BC_224',\n",
       " 'AJUBA_BC_024',\n",
       " 'AJUBA_BC_264',\n",
       " 'AJUBA_BC_137',\n",
       " 'AJUBA_BC_025',\n",
       " 'AJUBA_BC_185',\n",
       " 'AJUBA_BC_242',\n",
       " 'AJUBA_BC_234',\n",
       " 'AJUBA_BC_154',\n",
       " 'AJUBA_BC_109',\n",
       " 'AJUBA_BC_203',\n",
       " 'AJUBA_BC_229',\n",
       " 'AJUBA_BC_117',\n",
       " 'AJUBA_BC_190',\n",
       " 'AJUBA_BC_081',\n",
       " 'AJUBA_BC_236',\n",
       " 'AJUBA_BC_129',\n",
       " 'AJUBA_BC_056',\n",
       " 'AJUBA_BC_009',\n",
       " 'AJUBA_BC_073',\n",
       " 'AJUBA_BC_012',\n",
       " 'AJUBA_BC_054',\n",
       " 'AJUBA_BC_101',\n",
       " 'AJUBA_BC_020',\n",
       " 'AJUBA_BC_214',\n",
       " 'AJUBA_BC_114',\n",
       " 'AJUBA_BC_082',\n",
       " 'AJUBA_BC_179',\n",
       " 'AJUBA_BC_223',\n",
       " 'AJUBA_BC_040',\n",
       " 'AJUBA_BC_027',\n",
       " 'AJUBA_BC_195',\n",
       " 'AJUBA_BC_049',\n",
       " 'AJUBA_BC_065',\n",
       " 'AJUBA_BC_207',\n",
       " 'AJUBA_BC_257',\n",
       " 'AJUBA_BC_026',\n",
       " 'AJUBA_BC_193',\n",
       " 'AJUBA_BC_030',\n",
       " 'AJUBA_BC_111',\n",
       " 'AJUBA_BC_187',\n",
       " 'AJUBA_BC_047',\n",
       " 'AJUBA_BC_031',\n",
       " 'AJUBA_BC_186',\n",
       " 'AJUBA_BC_075',\n",
       " 'AJUBA_BC_164',\n",
       " 'AJUBA_BC_132',\n",
       " 'AJUBA_BC_112',\n",
       " 'AJUBA_BC_043',\n",
       " 'AJUBA_BC_152',\n",
       " 'AJUBA_BC_120',\n",
       " 'AJUBA_BC_241',\n",
       " 'AJUBA_BC_209',\n",
       " 'AJUBA_BC_240',\n",
       " 'AJUBA_BC_149',\n",
       " 'AJUBA_BC_087',\n",
       " 'AJUBA_BC_126',\n",
       " 'AJUBA_BC_089',\n",
       " 'AJUBA_BC_098',\n",
       " 'AJUBA_BC_144',\n",
       " 'AJUBA_BC_184',\n",
       " 'AJUBA_BC_118',\n",
       " 'AJUBA_BC_210',\n",
       " 'AJUBA_BC_255',\n",
       " 'AJUBA_BC_039',\n",
       " 'AJUBA_BC_232',\n",
       " 'AJUBA_BC_045',\n",
       " 'AJUBA_BC_188',\n",
       " 'AJUBA_BC_169',\n",
       " 'AJUBA_BC_070',\n",
       " 'AJUBA_BC_106',\n",
       " 'AJUBA_BC_010',\n",
       " 'AJUBA_BC_219']"
      ]
     },
     "execution_count": 8,
     "metadata": {},
     "output_type": "execute_result"
    }
   ],
   "source": [
    "train_indices"
   ]
  },
  {
   "cell_type": "code",
   "execution_count": 9,
   "metadata": {
    "ExecuteTime": {
     "end_time": "2020-07-12T18:17:28.877625Z",
     "start_time": "2020-07-12T18:17:28.826638Z"
    }
   },
   "outputs": [],
   "source": [
    "train_y=np.asarray([y[i] for i in train_indices])\n",
    "validate_y=np.asarray([y[i] for i in validate_indices])\n",
    "test_y=np.asarray([y[i] for i in test_indices])"
   ]
  },
  {
   "cell_type": "code",
   "execution_count": 10,
   "metadata": {
    "ExecuteTime": {
     "end_time": "2020-07-12T18:17:28.931720Z",
     "start_time": "2020-07-12T18:17:28.879669Z"
    }
   },
   "outputs": [
    {
     "data": {
      "text/plain": [
       "(190, 166, 4)"
      ]
     },
     "execution_count": 10,
     "metadata": {},
     "output_type": "execute_result"
    }
   ],
   "source": [
    "train_X_seq.shape"
   ]
  },
  {
   "cell_type": "code",
   "execution_count": 11,
   "metadata": {
    "ExecuteTime": {
     "end_time": "2020-07-12T18:17:28.985059Z",
     "start_time": "2020-07-12T18:17:28.933837Z"
    }
   },
   "outputs": [
    {
     "data": {
      "text/plain": [
       "(190, 166, 6)"
      ]
     },
     "execution_count": 11,
     "metadata": {},
     "output_type": "execute_result"
    }
   ],
   "source": [
    "train_X_struct.shape"
   ]
  },
  {
   "cell_type": "code",
   "execution_count": 12,
   "metadata": {
    "ExecuteTime": {
     "end_time": "2020-07-12T18:17:29.038697Z",
     "start_time": "2020-07-12T18:17:28.987415Z"
    }
   },
   "outputs": [
    {
     "data": {
      "text/plain": [
       "(190,)"
      ]
     },
     "execution_count": 12,
     "metadata": {},
     "output_type": "execute_result"
    }
   ],
   "source": [
    "train_y.shape"
   ]
  },
  {
   "cell_type": "markdown",
   "metadata": {
    "ExecuteTime": {
     "end_time": "2020-05-30T05:32:13.111744Z",
     "start_time": "2020-05-30T05:32:13.071081Z"
    }
   },
   "source": [
    "## Create keras model "
   ]
  },
  {
   "cell_type": "code",
   "execution_count": 13,
   "metadata": {
    "ExecuteTime": {
     "end_time": "2020-07-12T18:17:29.472061Z",
     "start_time": "2020-07-12T18:17:29.040918Z"
    }
   },
   "outputs": [
    {
     "name": "stderr",
     "output_type": "stream",
     "text": [
      "Using TensorFlow backend.\n"
     ]
    }
   ],
   "source": [
    "#import keras dependencies \n",
    "import tensorflow as tf\n",
    "import keras\n",
    "from keras.models import Model\n",
    "from keras.layers import Input, Concatenate\n",
    "from keras.layers.core import  Dropout, Reshape, Dense, Activation, Flatten\n",
    "from keras.layers.convolutional import Conv1D, MaxPooling1D\n",
    "from keras.optimizers import Adadelta, SGD, RMSprop;\n",
    "import keras.losses;\n",
    "from keras.constraints import maxnorm;\n",
    "from keras.layers.normalization import BatchNormalization\n",
    "from keras.regularizers import l1, l2\n",
    "from keras import backend as K\n",
    "from kerasAC.custom_losses import * "
   ]
  },
  {
   "cell_type": "code",
   "execution_count": 14,
   "metadata": {
    "ExecuteTime": {
     "end_time": "2020-07-12T18:17:32.396419Z",
     "start_time": "2020-07-12T18:17:29.478489Z"
    }
   },
   "outputs": [],
   "source": [
    "#define a keras model \n",
    "K.set_image_data_format('channels_last')\n",
    "padding='same'\n",
    "seq_input=Input(shape=(166,4),name='seq_input')\n",
    "struct_input=Input(shape=(166,6),name='struct_input')\n",
    "x_seq=Conv1D(filters=10,kernel_size=6,input_shape=(166,4),padding=padding,name='conv_seq')(seq_input)\n",
    "x_struct=Conv1D(filters=10,kernel_size=6,input_shape=(166,6),padding=padding,name='conv_struct')(struct_input)\n",
    "x_seq=BatchNormalization(name='batch_normalization_1')(x_seq)\n",
    "x_struct=BatchNormalization(name='batch_normalization_2')(x_struct)\n",
    "x_seq=Activation('relu',name='activation_1')(x_seq)\n",
    "x_struct=Activation('relu',name='activation_2')(x_struct)\n",
    "aggregated=Concatenate(axis=-1)([x_struct,x_seq])\n",
    "x=Flatten(name='flatten1')(aggregated)\n",
    "x=Dense(8,name='dense1')(x)\n",
    "x=Activation('relu',name='activation_3')(x)\n",
    "outputs=Dense(1,name='final')(x)\n",
    "model=Model(inputs=[seq_input,struct_input],outputs=outputs)\n",
    "adam = keras.optimizers.Adam(lr=0.001, beta_1=0.9, beta_2=0.999, epsilon=1e-08)\n",
    "model.compile(optimizer=adam,loss=ambig_mean_squared_error)\n"
   ]
  },
  {
   "cell_type": "code",
   "execution_count": 15,
   "metadata": {
    "ExecuteTime": {
     "end_time": "2020-07-12T18:17:32.464779Z",
     "start_time": "2020-07-12T18:17:32.398186Z"
    }
   },
   "outputs": [
    {
     "name": "stdout",
     "output_type": "stream",
     "text": [
      "Model: \"model_1\"\n",
      "__________________________________________________________________________________________________\n",
      "Layer (type)                    Output Shape         Param #     Connected to                     \n",
      "==================================================================================================\n",
      "struct_input (InputLayer)       (None, 166, 6)       0                                            \n",
      "__________________________________________________________________________________________________\n",
      "seq_input (InputLayer)          (None, 166, 4)       0                                            \n",
      "__________________________________________________________________________________________________\n",
      "conv_struct (Conv1D)            (None, 166, 10)      370         struct_input[0][0]               \n",
      "__________________________________________________________________________________________________\n",
      "conv_seq (Conv1D)               (None, 166, 10)      250         seq_input[0][0]                  \n",
      "__________________________________________________________________________________________________\n",
      "batch_normalization_2 (BatchNor (None, 166, 10)      40          conv_struct[0][0]                \n",
      "__________________________________________________________________________________________________\n",
      "batch_normalization_1 (BatchNor (None, 166, 10)      40          conv_seq[0][0]                   \n",
      "__________________________________________________________________________________________________\n",
      "activation_2 (Activation)       (None, 166, 10)      0           batch_normalization_2[0][0]      \n",
      "__________________________________________________________________________________________________\n",
      "activation_1 (Activation)       (None, 166, 10)      0           batch_normalization_1[0][0]      \n",
      "__________________________________________________________________________________________________\n",
      "concatenate_1 (Concatenate)     (None, 166, 20)      0           activation_2[0][0]               \n",
      "                                                                 activation_1[0][0]               \n",
      "__________________________________________________________________________________________________\n",
      "flatten1 (Flatten)              (None, 3320)         0           concatenate_1[0][0]              \n",
      "__________________________________________________________________________________________________\n",
      "dense1 (Dense)                  (None, 8)            26568       flatten1[0][0]                   \n",
      "__________________________________________________________________________________________________\n",
      "activation_3 (Activation)       (None, 8)            0           dense1[0][0]                     \n",
      "__________________________________________________________________________________________________\n",
      "final (Dense)                   (None, 1)            9           activation_3[0][0]               \n",
      "==================================================================================================\n",
      "Total params: 27,277\n",
      "Trainable params: 27,237\n",
      "Non-trainable params: 40\n",
      "__________________________________________________________________________________________________\n"
     ]
    }
   ],
   "source": [
    "model.summary()"
   ]
  },
  {
   "cell_type": "markdown",
   "metadata": {},
   "source": [
    "## Train the model "
   ]
  },
  {
   "cell_type": "code",
   "execution_count": 16,
   "metadata": {
    "ExecuteTime": {
     "end_time": "2020-07-12T18:17:32.529376Z",
     "start_time": "2020-07-12T18:17:32.466403Z"
    }
   },
   "outputs": [],
   "source": [
    "from keras.callbacks import * \n",
    "from kerasAC.custom_callbacks import * \n"
   ]
  },
  {
   "cell_type": "code",
   "execution_count": 17,
   "metadata": {
    "ExecuteTime": {
     "end_time": "2020-07-12T18:17:32.614165Z",
     "start_time": "2020-07-12T18:17:32.531463Z"
    }
   },
   "outputs": [],
   "source": [
    "#define callbacks \n",
    "checkpointer = ModelCheckpoint(filepath=\"model.hdf5\", verbose=1, save_best_only=True)\n",
    "earlystopper = EarlyStopping(monitor='val_loss', patience=3, verbose=1,restore_best_weights=True)\n",
    "history=LossHistory(\"logs.batch\",['loss','val_loss'])\n",
    "csvlogger = CSVLogger(\"logs.epoch.csv\", append = False)\n",
    "reduce_lr = ReduceLROnPlateau(monitor='val_loss', factor=0.4,patience=2, min_lr=0.00000001)\n",
    "cur_callbacks=[checkpointer,earlystopper,csvlogger,reduce_lr,history]\n"
   ]
  },
  {
   "cell_type": "code",
   "execution_count": 18,
   "metadata": {
    "ExecuteTime": {
     "end_time": "2020-07-12T18:17:43.285960Z",
     "start_time": "2020-07-12T18:17:32.615885Z"
    }
   },
   "outputs": [
    {
     "name": "stdout",
     "output_type": "stream",
     "text": [
      "Train on 190 samples, validate on 41 samples\n",
      "Epoch 1/40\n",
      "190/190 [==============================] - 4s 20ms/step - loss: 0.1586 - val_loss: 0.0105\n",
      "\n",
      "Epoch 00001: val_loss improved from inf to 0.01054, saving model to model.hdf5\n",
      "Epoch 2/40\n",
      "190/190 [==============================] - 0s 318us/step - loss: 0.0121 - val_loss: 0.0097\n",
      "\n",
      "Epoch 00002: val_loss improved from 0.01054 to 0.00973, saving model to model.hdf5\n",
      "Epoch 3/40\n",
      "190/190 [==============================] - 0s 343us/step - loss: 0.0064 - val_loss: 0.0096\n",
      "\n",
      "Epoch 00003: val_loss improved from 0.00973 to 0.00962, saving model to model.hdf5\n",
      "Epoch 4/40\n",
      "190/190 [==============================] - 0s 367us/step - loss: 0.0063 - val_loss: 0.0095\n",
      "\n",
      "Epoch 00004: val_loss improved from 0.00962 to 0.00948, saving model to model.hdf5\n",
      "Epoch 5/40\n",
      "190/190 [==============================] - 0s 338us/step - loss: 0.0062 - val_loss: 0.0093\n",
      "\n",
      "Epoch 00005: val_loss improved from 0.00948 to 0.00933, saving model to model.hdf5\n",
      "Epoch 6/40\n",
      "190/190 [==============================] - 0s 217us/step - loss: 0.0061 - val_loss: 0.0092\n",
      "\n",
      "Epoch 00006: val_loss improved from 0.00933 to 0.00916, saving model to model.hdf5\n",
      "Epoch 7/40\n",
      "190/190 [==============================] - 0s 296us/step - loss: 0.0059 - val_loss: 0.0090\n",
      "\n",
      "Epoch 00007: val_loss improved from 0.00916 to 0.00900, saving model to model.hdf5\n",
      "Epoch 8/40\n",
      "190/190 [==============================] - 0s 317us/step - loss: 0.0058 - val_loss: 0.0088\n",
      "\n",
      "Epoch 00008: val_loss improved from 0.00900 to 0.00883, saving model to model.hdf5\n",
      "Epoch 9/40\n",
      "190/190 [==============================] - 0s 306us/step - loss: 0.0057 - val_loss: 0.0087\n",
      "\n",
      "Epoch 00009: val_loss improved from 0.00883 to 0.00866, saving model to model.hdf5\n",
      "Epoch 10/40\n",
      "190/190 [==============================] - 0s 308us/step - loss: 0.0055 - val_loss: 0.0085\n",
      "\n",
      "Epoch 00010: val_loss improved from 0.00866 to 0.00849, saving model to model.hdf5\n",
      "Epoch 11/40\n",
      "190/190 [==============================] - 0s 301us/step - loss: 0.0054 - val_loss: 0.0083\n",
      "\n",
      "Epoch 00011: val_loss improved from 0.00849 to 0.00833, saving model to model.hdf5\n",
      "Epoch 12/40\n",
      "190/190 [==============================] - 0s 296us/step - loss: 0.0053 - val_loss: 0.0082\n",
      "\n",
      "Epoch 00012: val_loss improved from 0.00833 to 0.00818, saving model to model.hdf5\n",
      "Epoch 13/40\n",
      "190/190 [==============================] - 0s 328us/step - loss: 0.0052 - val_loss: 0.0080\n",
      "\n",
      "Epoch 00013: val_loss improved from 0.00818 to 0.00804, saving model to model.hdf5\n",
      "Epoch 14/40\n",
      "190/190 [==============================] - 0s 316us/step - loss: 0.0051 - val_loss: 0.0079\n",
      "\n",
      "Epoch 00014: val_loss improved from 0.00804 to 0.00790, saving model to model.hdf5\n",
      "Epoch 15/40\n",
      "190/190 [==============================] - 0s 310us/step - loss: 0.0050 - val_loss: 0.0078\n",
      "\n",
      "Epoch 00015: val_loss improved from 0.00790 to 0.00778, saving model to model.hdf5\n",
      "Epoch 16/40\n",
      "190/190 [==============================] - 0s 319us/step - loss: 0.0049 - val_loss: 0.0077\n",
      "\n",
      "Epoch 00016: val_loss improved from 0.00778 to 0.00766, saving model to model.hdf5\n",
      "Epoch 17/40\n",
      "190/190 [==============================] - 0s 291us/step - loss: 0.0048 - val_loss: 0.0075\n",
      "\n",
      "Epoch 00017: val_loss improved from 0.00766 to 0.00755, saving model to model.hdf5\n",
      "Epoch 18/40\n",
      "190/190 [==============================] - 0s 318us/step - loss: 0.0047 - val_loss: 0.0074\n",
      "\n",
      "Epoch 00018: val_loss improved from 0.00755 to 0.00745, saving model to model.hdf5\n",
      "Epoch 19/40\n",
      "190/190 [==============================] - 0s 348us/step - loss: 0.0047 - val_loss: 0.0073\n",
      "\n",
      "Epoch 00019: val_loss improved from 0.00745 to 0.00735, saving model to model.hdf5\n",
      "Epoch 20/40\n",
      "190/190 [==============================] - 0s 230us/step - loss: 0.0046 - val_loss: 0.0073\n",
      "\n",
      "Epoch 00020: val_loss improved from 0.00735 to 0.00727, saving model to model.hdf5\n",
      "Epoch 21/40\n",
      "190/190 [==============================] - 0s 273us/step - loss: 0.0045 - val_loss: 0.0072\n",
      "\n",
      "Epoch 00021: val_loss improved from 0.00727 to 0.00719, saving model to model.hdf5\n",
      "Epoch 22/40\n",
      "190/190 [==============================] - 0s 267us/step - loss: 0.0045 - val_loss: 0.0071\n",
      "\n",
      "Epoch 00022: val_loss improved from 0.00719 to 0.00712, saving model to model.hdf5\n",
      "Epoch 23/40\n",
      "190/190 [==============================] - 0s 297us/step - loss: 0.0045 - val_loss: 0.0071\n",
      "\n",
      "Epoch 00023: val_loss improved from 0.00712 to 0.00706, saving model to model.hdf5\n",
      "Epoch 24/40\n",
      "190/190 [==============================] - 0s 316us/step - loss: 0.0044 - val_loss: 0.0070\n",
      "\n",
      "Epoch 00024: val_loss improved from 0.00706 to 0.00700, saving model to model.hdf5\n",
      "Epoch 25/40\n",
      "190/190 [==============================] - 0s 260us/step - loss: 0.0044 - val_loss: 0.0069\n",
      "\n",
      "Epoch 00025: val_loss improved from 0.00700 to 0.00694, saving model to model.hdf5\n",
      "Epoch 26/40\n",
      "190/190 [==============================] - 0s 301us/step - loss: 0.0044 - val_loss: 0.0069\n",
      "\n",
      "Epoch 00026: val_loss improved from 0.00694 to 0.00690, saving model to model.hdf5\n",
      "Epoch 27/40\n",
      "190/190 [==============================] - 0s 288us/step - loss: 0.0043 - val_loss: 0.0069\n",
      "\n",
      "Epoch 00027: val_loss improved from 0.00690 to 0.00688, saving model to model.hdf5\n",
      "Epoch 28/40\n",
      "190/190 [==============================] - 0s 308us/step - loss: 0.0043 - val_loss: 0.0069\n",
      "\n",
      "Epoch 00028: val_loss improved from 0.00688 to 0.00686, saving model to model.hdf5\n",
      "Epoch 29/40\n",
      "190/190 [==============================] - 0s 329us/step - loss: 0.0043 - val_loss: 0.0068\n",
      "\n",
      "Epoch 00029: val_loss improved from 0.00686 to 0.00685, saving model to model.hdf5\n",
      "Epoch 30/40\n",
      "190/190 [==============================] - 0s 273us/step - loss: 0.0043 - val_loss: 0.0068\n",
      "\n",
      "Epoch 00030: val_loss improved from 0.00685 to 0.00684, saving model to model.hdf5\n",
      "Epoch 31/40\n",
      "190/190 [==============================] - 0s 480us/step - loss: 0.0043 - val_loss: 0.0068\n",
      "\n",
      "Epoch 00031: val_loss improved from 0.00684 to 0.00684, saving model to model.hdf5\n",
      "Epoch 32/40\n",
      "190/190 [==============================] - 0s 295us/step - loss: 0.0043 - val_loss: 0.0068\n",
      "\n",
      "Epoch 00032: val_loss improved from 0.00684 to 0.00683, saving model to model.hdf5\n",
      "Epoch 33/40\n",
      "190/190 [==============================] - 0s 329us/step - loss: 0.0043 - val_loss: 0.0068\n",
      "\n",
      "Epoch 00033: val_loss improved from 0.00683 to 0.00683, saving model to model.hdf5\n",
      "Epoch 34/40\n",
      "190/190 [==============================] - 0s 333us/step - loss: 0.0043 - val_loss: 0.0068\n",
      "\n",
      "Epoch 00034: val_loss improved from 0.00683 to 0.00683, saving model to model.hdf5\n",
      "Epoch 35/40\n",
      "190/190 [==============================] - 0s 305us/step - loss: 0.0043 - val_loss: 0.0068\n",
      "\n",
      "Epoch 00035: val_loss improved from 0.00683 to 0.00683, saving model to model.hdf5\n",
      "Epoch 36/40\n",
      "190/190 [==============================] - 0s 312us/step - loss: 0.0043 - val_loss: 0.0068\n",
      "\n",
      "Epoch 00036: val_loss improved from 0.00683 to 0.00683, saving model to model.hdf5\n",
      "Epoch 37/40\n",
      "190/190 [==============================] - 0s 295us/step - loss: 0.0043 - val_loss: 0.0068\n",
      "\n",
      "Epoch 00037: val_loss improved from 0.00683 to 0.00683, saving model to model.hdf5\n",
      "Epoch 38/40\n",
      "190/190 [==============================] - 0s 303us/step - loss: 0.0043 - val_loss: 0.0068\n",
      "\n",
      "Epoch 00038: val_loss improved from 0.00683 to 0.00682, saving model to model.hdf5\n",
      "Epoch 39/40\n",
      "190/190 [==============================] - 0s 314us/step - loss: 0.0043 - val_loss: 0.0068\n",
      "\n",
      "Epoch 00039: val_loss improved from 0.00682 to 0.00682, saving model to model.hdf5\n",
      "Epoch 40/40\n",
      "190/190 [==============================] - 0s 316us/step - loss: 0.0043 - val_loss: 0.0068\n",
      "\n",
      "Epoch 00040: val_loss improved from 0.00682 to 0.00682, saving model to model.hdf5\n"
     ]
    },
    {
     "data": {
      "text/plain": [
       "<keras.callbacks.callbacks.History at 0x7fcca892e050>"
      ]
     },
     "execution_count": 18,
     "metadata": {},
     "output_type": "execute_result"
    }
   ],
   "source": [
    "#fit the model \n",
    "model.fit(x=train_X,\n",
    "          y=train_y,\n",
    "          batch_size=32,\n",
    "          epochs=40,\n",
    "          verbose=1,\n",
    "          callbacks=cur_callbacks,\n",
    "          validation_data=(validate_X,validate_y),\n",
    "          shuffle=True,\n",
    "          max_queue_size=100,\n",
    "          use_multiprocessing=True,\n",
    "          workers=12)\n"
   ]
  },
  {
   "cell_type": "markdown",
   "metadata": {},
   "source": [
    "## plot the loss curves "
   ]
  },
  {
   "cell_type": "code",
   "execution_count": 19,
   "metadata": {
    "ExecuteTime": {
     "end_time": "2020-07-12T18:17:44.796412Z",
     "start_time": "2020-07-12T18:17:43.288313Z"
    }
   },
   "outputs": [
    {
     "name": "stderr",
     "output_type": "stream",
     "text": [
      "/users/annashch/miniconda3/lib/python3.7/site-packages/ipykernel_launcher.py:6: SettingWithCopyWarning: \n",
      "A value is trying to be set on a copy of a slice from a DataFrame\n",
      "\n",
      "See the caveats in the documentation: https://pandas.pydata.org/pandas-docs/stable/user_guide/indexing.html#returning-a-view-versus-a-copy\n",
      "  \n",
      "/users/annashch/miniconda3/lib/python3.7/site-packages/ipykernel_launcher.py:7: SettingWithCopyWarning: \n",
      "A value is trying to be set on a copy of a slice from a DataFrame\n",
      "\n",
      "See the caveats in the documentation: https://pandas.pydata.org/pandas-docs/stable/user_guide/indexing.html#returning-a-view-versus-a-copy\n",
      "  import sys\n",
      "/users/annashch/miniconda3/lib/python3.7/site-packages/plotnine/ggplot.py:729: PlotnineWarning: Saving 6 x 6 in image.\n",
      "  from_inches(height, units), units), PlotnineWarning)\n",
      "/users/annashch/miniconda3/lib/python3.7/site-packages/plotnine/ggplot.py:730: PlotnineWarning: Filename: Loss.svg\n",
      "  warn('Filename: {}'.format(filename), PlotnineWarning)\n"
     ]
    }
   ],
   "source": [
    "## plot the losses\n",
    "losses=pd.read_csv(\"logs.epoch.csv\",header=0,sep=',')\n",
    "losses.shape\n",
    "batch_losses=pd.read_csv(\"logs.batch\",header=0,sep='\\t')\n",
    "losses=pd.melt(losses,id_vars='epoch')\n",
    "losses['variable'][losses['variable']=='loss']='TrainingLoss'\n",
    "losses['variable'][losses['variable']=='val_loss']='ValidationLoss'\n",
    "plotnine.options.figure_size = (6, 6)\n",
    "(ggplot(losses,aes(x='epoch',\n",
    "                   y='value',\n",
    "                   group='variable',\n",
    "                   color='variable'))+geom_line(size=2)+theme_bw(20)).save(\"Loss.svg\",format='svg')\n"
   ]
  },
  {
   "cell_type": "markdown",
   "metadata": {},
   "source": [
    "## get predictions"
   ]
  },
  {
   "cell_type": "code",
   "execution_count": 20,
   "metadata": {
    "ExecuteTime": {
     "end_time": "2020-07-12T18:17:45.266816Z",
     "start_time": "2020-07-12T18:17:44.797976Z"
    }
   },
   "outputs": [],
   "source": [
    "predictions_test=model.predict(test_X,batch_size=128,max_queue_size=100,use_multiprocessing=True,workers=4)"
   ]
  },
  {
   "cell_type": "code",
   "execution_count": 21,
   "metadata": {
    "ExecuteTime": {
     "end_time": "2020-07-12T18:17:45.521673Z",
     "start_time": "2020-07-12T18:17:45.285221Z"
    }
   },
   "outputs": [],
   "source": [
    "predictions_train=model.predict(train_X,batch_size=128,max_queue_size=100,use_multiprocessing=True,workers=4)"
   ]
  },
  {
   "cell_type": "code",
   "execution_count": 22,
   "metadata": {
    "ExecuteTime": {
     "end_time": "2020-07-12T18:17:45.630638Z",
     "start_time": "2020-07-12T18:17:45.523774Z"
    }
   },
   "outputs": [],
   "source": [
    "predictions_validate=model.predict(validate_X,batch_size=128,max_queue_size=100,use_multiprocessing=True,workers=4)"
   ]
  },
  {
   "cell_type": "code",
   "execution_count": 23,
   "metadata": {
    "ExecuteTime": {
     "end_time": "2020-07-12T18:17:45.788737Z",
     "start_time": "2020-07-12T18:17:45.635613Z"
    }
   },
   "outputs": [
    {
     "name": "stdout",
     "output_type": "stream",
     "text": [
      "predictions shape:(40, 1)\n",
      "true labels shape:(40, 1)\n"
     ]
    },
    {
     "name": "stderr",
     "output_type": "stream",
     "text": [
      "/users/annashch/miniconda3/lib/python3.7/site-packages/numpy/lib/function_base.py:2534: RuntimeWarning: invalid value encountered in true_divide\n",
      "  c /= stddev[:, None]\n",
      "/users/annashch/miniconda3/lib/python3.7/site-packages/numpy/lib/function_base.py:2535: RuntimeWarning: invalid value encountered in true_divide\n",
      "  c /= stddev[None, :]\n",
      "/users/annashch/miniconda3/lib/python3.7/site-packages/scipy/stats/_distn_infrastructure.py:903: RuntimeWarning: invalid value encountered in greater\n",
      "  return (a < x) & (x < b)\n",
      "/users/annashch/miniconda3/lib/python3.7/site-packages/scipy/stats/_distn_infrastructure.py:903: RuntimeWarning: invalid value encountered in less\n",
      "  return (a < x) & (x < b)\n",
      "/users/annashch/miniconda3/lib/python3.7/site-packages/scipy/stats/_distn_infrastructure.py:1912: RuntimeWarning: invalid value encountered in less_equal\n",
      "  cond2 = cond0 & (x <= _a)\n",
      "/users/annashch/miniconda3/lib/python3.7/site-packages/scipy/stats/stats.py:3508: PearsonRConstantInputWarning: An input array is constant; the correlation coefficent is not defined.\n",
      "  warnings.warn(PearsonRConstantInputWarning())\n"
     ]
    },
    {
     "data": {
      "text/plain": [
       "{'spearmanr': [SpearmanrResult(correlation=nan, pvalue=nan)],\n",
       " 'pearsonr': [(nan, nan)],\n",
       " 'spearmanr_nonzerobins': [SpearmanrResult(correlation=nan, pvalue=nan)],\n",
       " 'pearsonr_nonzerobins': [(nan, nan)]}"
      ]
     },
     "execution_count": 23,
     "metadata": {},
     "output_type": "execute_result"
    }
   ],
   "source": [
    "#get performance metrics \n",
    "from kerasAC.performance_metrics.regression_performance_metrics import *\n",
    "test_perf=get_performance_metrics_regression(predictions_test,np.expand_dims(test_y,axis=1))\n",
    "test_perf"
   ]
  },
  {
   "cell_type": "code",
   "execution_count": 30,
   "metadata": {
    "ExecuteTime": {
     "end_time": "2020-07-12T18:18:09.158046Z",
     "start_time": "2020-07-12T18:18:09.010137Z"
    }
   },
   "outputs": [
    {
     "data": {
      "text/plain": [
       "array([[0.03662276],\n",
       "       [0.03662276],\n",
       "       [0.03662276],\n",
       "       [0.03662276],\n",
       "       [0.03662276],\n",
       "       [0.03662276],\n",
       "       [0.03662276],\n",
       "       [0.03662276],\n",
       "       [0.03662276],\n",
       "       [0.03662276],\n",
       "       [0.03662276],\n",
       "       [0.03662276],\n",
       "       [0.03662276],\n",
       "       [0.03662276],\n",
       "       [0.03662276],\n",
       "       [0.03662276],\n",
       "       [0.03662276],\n",
       "       [0.03662276],\n",
       "       [0.03662276],\n",
       "       [0.03662276],\n",
       "       [0.03662276],\n",
       "       [0.03662276],\n",
       "       [0.03662276],\n",
       "       [0.03662276],\n",
       "       [0.03662276],\n",
       "       [0.03662276],\n",
       "       [0.03662276],\n",
       "       [0.03662276],\n",
       "       [0.03662276],\n",
       "       [0.03662276],\n",
       "       [0.03662276],\n",
       "       [0.03662276],\n",
       "       [0.03662276],\n",
       "       [0.03662276],\n",
       "       [0.03662276],\n",
       "       [0.03662276],\n",
       "       [0.03662276],\n",
       "       [0.03662276],\n",
       "       [0.03662276],\n",
       "       [0.03662276]], dtype=float32)"
      ]
     },
     "execution_count": 30,
     "metadata": {},
     "output_type": "execute_result"
    }
   ],
   "source": [
    "predictions_test"
   ]
  },
  {
   "cell_type": "code",
   "execution_count": 24,
   "metadata": {
    "ExecuteTime": {
     "end_time": "2020-07-12T18:17:45.932413Z",
     "start_time": "2020-07-12T18:17:45.791757Z"
    }
   },
   "outputs": [
    {
     "name": "stdout",
     "output_type": "stream",
     "text": [
      "predictions shape:(190, 1)\n",
      "true labels shape:(190, 1)\n"
     ]
    },
    {
     "data": {
      "text/plain": [
       "{'spearmanr': [SpearmanrResult(correlation=-0.04509753427230914, pvalue=0.5366814839288306)],\n",
       " 'pearsonr': [(-0.03608856038119826, 0.6210767241409302)],\n",
       " 'spearmanr_nonzerobins': [SpearmanrResult(correlation=-0.047168243037180355, pvalue=0.5203649584654853)],\n",
       " 'pearsonr_nonzerobins': [(-0.03675658709946574, 0.6165196432131974)]}"
      ]
     },
     "execution_count": 24,
     "metadata": {},
     "output_type": "execute_result"
    }
   ],
   "source": [
    "train_perf=get_performance_metrics_regression(predictions_train,np.expand_dims(train_y,axis=1))\n",
    "train_perf"
   ]
  },
  {
   "cell_type": "code",
   "execution_count": 25,
   "metadata": {
    "ExecuteTime": {
     "end_time": "2020-07-12T18:17:46.028564Z",
     "start_time": "2020-07-12T18:17:45.937430Z"
    }
   },
   "outputs": [
    {
     "name": "stdout",
     "output_type": "stream",
     "text": [
      "predictions shape:(41, 1)\n",
      "true labels shape:(41, 1)\n"
     ]
    },
    {
     "data": {
      "text/plain": [
       "{'spearmanr': [SpearmanrResult(correlation=0.0668211313876853, pvalue=0.6780711452370154)],\n",
       " 'pearsonr': [(-0.05195320740769062, 0.7470034312909998)],\n",
       " 'spearmanr_nonzerobins': [SpearmanrResult(correlation=0.062429139066801365, pvalue=0.7019496663067399)],\n",
       " 'pearsonr_nonzerobins': [(-0.05515640294065728, 0.7353364290099728)]}"
      ]
     },
     "execution_count": 25,
     "metadata": {},
     "output_type": "execute_result"
    }
   ],
   "source": [
    "valid_perf=get_performance_metrics_regression(predictions_validate,np.expand_dims(validate_y,axis=1))\n",
    "valid_perf"
   ]
  },
  {
   "cell_type": "code",
   "execution_count": 26,
   "metadata": {
    "ExecuteTime": {
     "end_time": "2020-07-12T18:17:46.174379Z",
     "start_time": "2020-07-12T18:17:46.034608Z"
    }
   },
   "outputs": [],
   "source": [
    "#plot the predictions \n",
    "%matplotlib inline\n",
    "import matplotlib.pyplot as plt\n",
    "from matplotlib import cm\n",
    "from matplotlib.colors import Normalize \n",
    "from scipy.interpolate import interpn\n",
    "\n",
    "def density_scatter( x , y, title, ax = None, sort = True, bins = 20, **kwargs )   :\n",
    "    \"\"\"\n",
    "    Scatter plot colored by 2d histogram\n",
    "    \"\"\"\n",
    "    nan_indices=[i[0] for i in np.argwhere(np.isnan(x))]\n",
    "    y= np.delete(y, nan_indices, 0)\n",
    "    x=np.delete(x,nan_indices,0)\n",
    "\n",
    "    if ax is None :\n",
    "        fig , ax = plt.subplots(figsize=(4, 3), dpi= 80, facecolor='w', edgecolor='k')\n",
    "    data , x_e, y_e = np.histogram2d( x, y, bins = bins, density = True )\n",
    "    z = interpn( ( 0.5*(x_e[1:] + x_e[:-1]) , 0.5*(y_e[1:]+y_e[:-1]) ) , data , np.vstack([x,y]).T , method = \"splinef2d\", bounds_error = False)\n",
    "\n",
    "    #To be sure to plot all data\n",
    "    z[np.where(np.isnan(z))] = 0.0\n",
    "\n",
    "    # Sort the points by density, so that the densest points are plotted last\n",
    "    if sort :\n",
    "        idx = z.argsort()\n",
    "        x, y, z = x[idx], y[idx], z[idx]\n",
    "\n",
    "    ax.scatter( x, y, c=z, **kwargs,s=1 )\n",
    "    lims = [\n",
    "    np.min([ax.get_xlim(), ax.get_ylim()]),  # min of both axes\n",
    "    np.max([ax.get_xlim(), ax.get_ylim()]),  # max of both axes\n",
    "    ]\n",
    "\n",
    "    # now plot both limits against eachother\n",
    "    ax.plot(lims, lims, 'k-', alpha=0.75, zorder=0)\n",
    "    ax.set_aspect('equal')\n",
    "    ax.set_xlim(lims)\n",
    "    ax.set_ylim(lims)\n",
    "\n",
    "    plt.title(title)\n",
    "    plt.xlabel(\"Observed\")\n",
    "    plt.ylabel(\"Predicted\")\n",
    "    norm = Normalize(vmin = np.min(z), vmax = np.max(z))\n",
    "    cbar = fig.colorbar(cm.ScalarMappable(norm = norm), ax=ax)\n",
    "    cbar.ax.set_ylabel('Density')\n",
    "\n",
    "    return ax"
   ]
  },
  {
   "cell_type": "code",
   "execution_count": 27,
   "metadata": {
    "ExecuteTime": {
     "end_time": "2020-07-12T18:17:46.765625Z",
     "start_time": "2020-07-12T18:17:46.178211Z"
    }
   },
   "outputs": [
    {
     "data": {
      "text/plain": [
       "<matplotlib.axes._subplots.AxesSubplot at 0x7fce2b1da350>"
      ]
     },
     "execution_count": 27,
     "metadata": {},
     "output_type": "execute_result"
    },
    {
     "data": {
      "image/png": "[encoded data removed]",
      "text/plain": [
       "<Figure size 320x240 with 2 Axes>"
      ]
     },
     "metadata": {},
     "output_type": "display_data"
    }
   ],
   "source": [
    "density_scatter(train_y,np.squeeze(predictions_train),'Joint Training: Training',bins=[30,30])\n"
   ]
  },
  {
   "cell_type": "code",
   "execution_count": 28,
   "metadata": {
    "ExecuteTime": {
     "end_time": "2020-07-12T18:17:47.409825Z",
     "start_time": "2020-07-12T18:17:46.768739Z"
    }
   },
   "outputs": [
    {
     "data": {
      "text/plain": [
       "<matplotlib.axes._subplots.AxesSubplot at 0x7fce3e9a3e50>"
      ]
     },
     "execution_count": 28,
     "metadata": {},
     "output_type": "execute_result"
    },
    {
     "data": {
      "image/png": "[encoded data removed]",
      "text/plain": [
       "<Figure size 320x240 with 2 Axes>"
      ]
     },
     "metadata": {},
     "output_type": "display_data"
    }
   ],
   "source": [
    "density_scatter(validate_y,np.squeeze(predictions_validate),'Joint Training: Validation',bins=[30,30])"
   ]
  },
  {
   "cell_type": "code",
   "execution_count": 29,
   "metadata": {
    "ExecuteTime": {
     "end_time": "2020-07-12T18:17:47.840119Z",
     "start_time": "2020-07-12T18:17:47.415021Z"
    }
   },
   "outputs": [
    {
     "data": {
      "text/plain": [
       "<matplotlib.axes._subplots.AxesSubplot at 0x7fce2b0dad50>"
      ]
     },
     "execution_count": 29,
     "metadata": {},
     "output_type": "execute_result"
    },
    {
     "data": {
      "image/png": "[encoded data removed]",
      "text/plain": [
       "<Figure size 320x240 with 2 Axes>"
      ]
     },
     "metadata": {},
     "output_type": "display_data"
    }
   ],
   "source": [
    "density_scatter(test_y,np.squeeze(predictions_test),'Joint Training: Test',bins=[30,30])\n"
   ]
  }
 ],
 "metadata": {
  "kernelspec": {
   "display_name": "Python 3",
   "language": "python",
   "name": "python3"
  },
  "language_info": {
   "codemirror_mode": {
    "name": "ipython",
    "version": 3
   },
   "file_extension": ".py",
   "mimetype": "text/x-python",
   "name": "python",
   "nbconvert_exporter": "python",
   "pygments_lexer": "ipython3",
   "version": "3.7.6"
  }
 },
 "nbformat": 4,
 "nbformat_minor": 4
}
