{
 "cells": [
  {
   "cell_type": "code",
   "execution_count": 1,
   "metadata": {
    "ExecuteTime": {
     "end_time": "2020-07-12T18:18:59.308963Z",
     "start_time": "2020-07-12T18:18:55.276313Z"
    }
   },
   "outputs": [],
   "source": [
    "%load_ext autoreload\n",
    "%autoreload 2\n",
    "import pickle\n",
    "import numpy as np\n",
    "import pandas as pd \n",
    "import random\n",
    "import plotnine\n",
    "from plotnine import * \n",
    "np.random.seed(1234)\n",
    "random.seed(1234)\n"
   ]
  },
  {
   "cell_type": "code",
   "execution_count": 2,
   "metadata": {
    "ExecuteTime": {
     "end_time": "2020-07-12T18:19:04.368607Z",
     "start_time": "2020-07-12T18:18:59.312698Z"
    }
   },
   "outputs": [],
   "source": [
    "import tensorflow\n",
    "tensorflow.compat.v1.enable_eager_execution()\n",
    "from tensorflow.compat.v1.keras.backend import get_session\n",
    "#tensorflow.compat.v1.disable_v2_behavior()\n"
   ]
  },
  {
   "cell_type": "code",
   "execution_count": 3,
   "metadata": {
    "ExecuteTime": {
     "end_time": "2020-07-12T18:19:04.441242Z",
     "start_time": "2020-07-12T18:19:04.370721Z"
    }
   },
   "outputs": [],
   "source": [
    "#load the data \n",
    "entries=pickle.load(open('../cnn_inputs.p','rb'))\n",
    "X=entries['X']\n",
    "y=entries['y']"
   ]
  },
  {
   "cell_type": "code",
   "execution_count": 4,
   "metadata": {
    "ExecuteTime": {
     "end_time": "2020-07-12T18:19:04.500816Z",
     "start_time": "2020-07-12T18:19:04.443327Z"
    }
   },
   "outputs": [
    {
     "name": "stdout",
     "output_type": "stream",
     "text": [
      "924\n",
      "924\n",
      "['NEIL1_1', 'NEIL1_2', 'NEIL1_3', 'NEIL1_4', 'NEIL1_5', 'NEIL1_6', 'NEIL1_7', 'NEIL1_8', 'NEIL1_9', 'NEIL1_10']\n"
     ]
    }
   ],
   "source": [
    "#create train,test,validate splits \n",
    "indices=list(X.keys())\n",
    "print(len(indices))\n",
    "print(len(y.keys()))\n",
    "print(indices[0:10])\n",
    "random.shuffle(indices)\n",
    "num_items=len(indices)\n",
    "#split 70% train, 15% validate, 15% test \n",
    "num_train=int(round(0.7*num_items))\n",
    "num_validate=int(round(0.15*num_items))\n",
    "num_test=num_items-num_train-num_validate "
   ]
  },
  {
   "cell_type": "code",
   "execution_count": 5,
   "metadata": {
    "ExecuteTime": {
     "end_time": "2020-07-12T18:19:04.554312Z",
     "start_time": "2020-07-12T18:19:04.503414Z"
    }
   },
   "outputs": [
    {
     "name": "stdout",
     "output_type": "stream",
     "text": [
      "647\n",
      "139\n",
      "138\n"
     ]
    }
   ],
   "source": [
    "print(num_train)\n",
    "print(num_validate)\n",
    "print(num_test)"
   ]
  },
  {
   "cell_type": "code",
   "execution_count": 6,
   "metadata": {
    "ExecuteTime": {
     "end_time": "2020-07-12T18:19:04.613555Z",
     "start_time": "2020-07-12T18:19:04.556726Z"
    }
   },
   "outputs": [],
   "source": [
    "train_indices=indices[0:num_train]\n",
    "validate_indices=indices[num_train:num_train+num_validate]\n",
    "test_indices=indices[num_train+num_validate::]\n"
   ]
  },
  {
   "cell_type": "code",
   "execution_count": 7,
   "metadata": {
    "ExecuteTime": {
     "end_time": "2020-07-12T18:19:04.679652Z",
     "start_time": "2020-07-12T18:19:04.616963Z"
    }
   },
   "outputs": [],
   "source": [
    "train_X_seq=np.array([X[i][0] for i in train_indices])\n",
    "train_X_struct=np.array([X[i][1] for i in train_indices])\n",
    "train_X=[train_X_seq,train_X_struct]\n",
    "\n",
    "validate_X_seq=np.array([X[i][0] for i in validate_indices])\n",
    "validate_X_struct=np.array([X[i][1] for i in validate_indices])\n",
    "validate_X=[validate_X_seq,validate_X_struct]\n",
    "\n",
    "test_X_seq=np.array([X[i][0] for i in test_indices])\n",
    "test_X_struct=np.array([X[i][1] for i in test_indices])\n",
    "test_X=[test_X_seq,test_X_struct]"
   ]
  },
  {
   "cell_type": "code",
   "execution_count": 8,
   "metadata": {
    "ExecuteTime": {
     "end_time": "2020-07-12T18:19:04.742176Z",
     "start_time": "2020-07-12T18:19:04.682881Z"
    }
   },
   "outputs": [
    {
     "data": {
      "text/plain": [
       "['NEIL1_57',\n",
       " 'TTYH_BC_116',\n",
       " 'TTYH_BC_051',\n",
       " 'AJUBA_BC_032',\n",
       " 'TTYH_ECS_BC_142',\n",
       " 'AJUBA_BC_054',\n",
       " 'NEIL1_229',\n",
       " 'AJUBA_BC_192',\n",
       " 'AJUBA_BC_080',\n",
       " 'NEIL1_130',\n",
       " 'TTYH_BC_100',\n",
       " 'TTYH_BC_025',\n",
       " 'TTYH_ECS_BC_056',\n",
       " 'AJUBA_BC_036',\n",
       " 'NEIL1_125',\n",
       " 'TTYH_BC_026',\n",
       " 'AJUBA_BC_021',\n",
       " 'TTYH_BC_022',\n",
       " 'NEIL1_219',\n",
       " 'NEIL1_154',\n",
       " 'TTYH_BC_162',\n",
       " 'NEIL1_233',\n",
       " 'TTYH_ECS_BC_060',\n",
       " 'TTYH_ECS_BC_124',\n",
       " 'NEIL1_215',\n",
       " 'AJUBA_BC_214',\n",
       " 'NEIL1_38',\n",
       " 'TTYH_ECS_BC_100',\n",
       " 'TTYH_ECS_BC_147',\n",
       " 'AJUBA_BC_120',\n",
       " 'NEIL1_61',\n",
       " 'TTYH_BC_005',\n",
       " 'NEIL1_142',\n",
       " 'AJUBA_BC_244',\n",
       " 'AJUBA_BC_239',\n",
       " 'TTYH_BC_181',\n",
       " 'TTYH_ECS_BC_092',\n",
       " 'TTYH_BC_160',\n",
       " 'NEIL1_180',\n",
       " 'NEIL1_27',\n",
       " 'TTYH_ECS_BC_044',\n",
       " 'TTYH_BC_106',\n",
       " 'TTYH_ECS_BC_078',\n",
       " 'TTYH_BC_164',\n",
       " 'NEIL1_110',\n",
       " 'NEIL1_292',\n",
       " 'NEIL1_265',\n",
       " 'NEIL1_121',\n",
       " 'TTYH_BC_044',\n",
       " 'NEIL1_22',\n",
       " 'NEIL1_139',\n",
       " 'TTYH_ECS_BC_055',\n",
       " 'TTYH_BC_058',\n",
       " 'TTYH_ECS_BC_088',\n",
       " 'AJUBA_BC_160',\n",
       " 'AJUBA_BC_092',\n",
       " 'NEIL1_7',\n",
       " 'TTYH_BC_091',\n",
       " 'NEIL1_177',\n",
       " 'TTYH_ECS_BC_063',\n",
       " 'TTYH_ECS_BC_168',\n",
       " 'TTYH_BC_009',\n",
       " 'TTYH_BC_070',\n",
       " 'TTYH_BC_150',\n",
       " 'AJUBA_BC_229',\n",
       " 'NEIL1_88',\n",
       " 'TTYH_ECS_BC_057',\n",
       " 'TTYH_BC_155',\n",
       " 'TTYH_BC_148',\n",
       " 'AJUBA_BC_166',\n",
       " 'AJUBA_BC_024',\n",
       " 'NEIL1_181',\n",
       " 'AJUBA_BC_228',\n",
       " 'TTYH_BC_079',\n",
       " 'TTYH_BC_066',\n",
       " 'AJUBA_BC_124',\n",
       " 'NEIL1_171',\n",
       " 'AJUBA_BC_035',\n",
       " 'TTYH_BC_170',\n",
       " 'TTYH_ECS_BC_071',\n",
       " 'AJUBA_BC_065',\n",
       " 'AJUBA_BC_097',\n",
       " 'NEIL1_4',\n",
       " 'NEIL1_245',\n",
       " 'TTYH_BC_138',\n",
       " 'NEIL1_184',\n",
       " 'TTYH_ECS_BC_080',\n",
       " 'TTYH_ECS_BC_104',\n",
       " 'AJUBA_BC_254',\n",
       " 'AJUBA_BC_069',\n",
       " 'TTYH_BC_045',\n",
       " 'NEIL1_119',\n",
       " 'TTYH_BC_030',\n",
       " 'TTYH_ECS_BC_148',\n",
       " 'NEIL1_230',\n",
       " 'TTYH_ECS_BC_086',\n",
       " 'NEIL1_244',\n",
       " 'AJUBA_BC_258',\n",
       " 'NEIL1_270',\n",
       " 'TTYH_BC_184',\n",
       " 'AJUBA_BC_234',\n",
       " 'NEIL1_40',\n",
       " 'TTYH_BC_107',\n",
       " 'NEIL1_183',\n",
       " 'TTYH_ECS_BC_025',\n",
       " 'TTYH_BC_067',\n",
       " 'AJUBA_BC_243',\n",
       " 'AJUBA_BC_221',\n",
       " 'TTYH_ECS_BC_091',\n",
       " 'TTYH_BC_129',\n",
       " 'TTYH_BC_171',\n",
       " 'TTYH_ECS_BC_128',\n",
       " 'TTYH_BC_054',\n",
       " 'AJUBA_BC_202',\n",
       " 'NEIL1_58',\n",
       " 'NEIL1_278',\n",
       " 'TTYH_BC_089',\n",
       " 'TTYH_BC_027',\n",
       " 'NEIL1_199',\n",
       " 'NEIL1_198',\n",
       " 'TTYH_BC_048',\n",
       " 'AJUBA_BC_045',\n",
       " 'TTYH_ECS_BC_039',\n",
       " 'TTYH_ECS_BC_014',\n",
       " 'NEIL1_113',\n",
       " 'TTYH_ECS_BC_170',\n",
       " 'AJUBA_BC_201',\n",
       " 'AJUBA_BC_250',\n",
       " 'TTYH_BC_161',\n",
       " 'AJUBA_BC_208',\n",
       " 'NEIL1_190',\n",
       " 'TTYH_BC_120',\n",
       " 'TTYH_ECS_BC_169',\n",
       " 'TTYH_ECS_BC_102',\n",
       " 'AJUBA_BC_149',\n",
       " 'AJUBA_BC_091',\n",
       " 'NEIL1_82',\n",
       " 'NEIL1_23',\n",
       " 'TTYH_ECS_BC_061',\n",
       " 'NEIL1_26',\n",
       " 'AJUBA_BC_182',\n",
       " 'AJUBA_BC_099',\n",
       " 'TTYH_ECS_BC_131',\n",
       " 'TTYH_BC_099',\n",
       " 'TTYH_ECS_BC_106',\n",
       " 'AJUBA_BC_232',\n",
       " 'TTYH_BC_180',\n",
       " 'TTYH_ECS_BC_162',\n",
       " 'AJUBA_BC_096',\n",
       " 'TTYH_BC_069',\n",
       " 'AJUBA_BC_071',\n",
       " 'AJUBA_BC_185',\n",
       " 'NEIL1_105',\n",
       " 'AJUBA_BC_238',\n",
       " 'AJUBA_BC_081',\n",
       " 'TTYH_BC_113',\n",
       " 'TTYH_BC_006',\n",
       " 'TTYH_ECS_BC_099',\n",
       " 'AJUBA_BC_104',\n",
       " 'AJUBA_BC_130',\n",
       " 'NEIL1_21',\n",
       " 'NEIL1_25',\n",
       " 'NEIL1_231',\n",
       " 'AJUBA_BC_102',\n",
       " 'AJUBA_BC_135',\n",
       " 'TTYH_BC_101',\n",
       " 'TTYH_BC_153',\n",
       " 'NEIL1_189',\n",
       " 'AJUBA_BC_222',\n",
       " 'TTYH_ECS_BC_141',\n",
       " 'AJUBA_BC_042',\n",
       " 'TTYH_ECS_BC_107',\n",
       " 'TTYH_BC_007',\n",
       " 'AJUBA_BC_196',\n",
       " 'NEIL1_204',\n",
       " 'NEIL1_222',\n",
       " 'AJUBA_BC_225',\n",
       " 'TTYH_BC_168',\n",
       " 'AJUBA_BC_245',\n",
       " 'AJUBA_BC_004',\n",
       " 'TTYH_BC_060',\n",
       " 'TTYH_BC_033',\n",
       " 'NEIL1_283',\n",
       " 'AJUBA_BC_015',\n",
       " 'AJUBA_BC_164',\n",
       " 'NEIL1_291',\n",
       " 'AJUBA_BC_194',\n",
       " 'AJUBA_BC_006',\n",
       " 'TTYH_ECS_BC_084',\n",
       " 'TTYH_ECS_BC_166',\n",
       " 'TTYH_ECS_BC_146',\n",
       " 'TTYH_BC_104',\n",
       " 'NEIL1_275',\n",
       " 'NEIL1_254',\n",
       " 'AJUBA_BC_016',\n",
       " 'TTYH_BC_075',\n",
       " 'AJUBA_BC_189',\n",
       " 'AJUBA_BC_064',\n",
       " 'NEIL1_160',\n",
       " 'NEIL1_60',\n",
       " 'AJUBA_BC_156',\n",
       " 'TTYH_BC_169',\n",
       " 'AJUBA_BC_262',\n",
       " 'TTYH_BC_133',\n",
       " 'AJUBA_BC_049',\n",
       " 'TTYH_ECS_BC_034',\n",
       " 'NEIL1_260',\n",
       " 'NEIL1_12',\n",
       " 'TTYH_BC_090',\n",
       " 'TTYH_ECS_BC_130',\n",
       " 'NEIL1_187',\n",
       " 'AJUBA_BC_089',\n",
       " 'AJUBA_BC_240',\n",
       " 'TTYH_ECS_BC_132',\n",
       " 'NEIL1_131',\n",
       " 'AJUBA_BC_220',\n",
       " 'AJUBA_BC_267',\n",
       " 'NEIL1_129',\n",
       " 'TTYH_ECS_BC_072',\n",
       " 'TTYH_ECS_BC_001',\n",
       " 'TTYH_BC_052',\n",
       " 'NEIL1_259',\n",
       " 'TTYH_ECS_BC_030',\n",
       " 'TTYH_BC_149',\n",
       " 'AJUBA_BC_252',\n",
       " 'TTYH_BC_163',\n",
       " 'NEIL1_59',\n",
       " 'AJUBA_BC_248',\n",
       " 'NEIL1_192',\n",
       " 'TTYH_ECS_BC_046',\n",
       " 'NEIL1_235',\n",
       " 'TTYH_ECS_BC_029',\n",
       " 'NEIL1_185',\n",
       " 'AJUBA_BC_047',\n",
       " 'AJUBA_BC_237',\n",
       " 'TTYH_ECS_BC_054',\n",
       " 'TTYH_ECS_BC_152',\n",
       " 'NEIL1_45',\n",
       " 'AJUBA_BC_170',\n",
       " 'AJUBA_BC_086',\n",
       " 'TTYH_ECS_BC_138',\n",
       " 'TTYH_BC_105',\n",
       " 'AJUBA_BC_259',\n",
       " 'AJUBA_BC_128',\n",
       " 'NEIL1_258',\n",
       " 'AJUBA_BC_046',\n",
       " 'NEIL1_108',\n",
       " 'TTYH_BC_122',\n",
       " 'AJUBA_BC_059',\n",
       " 'TTYH_ECS_BC_020',\n",
       " 'TTYH_BC_021',\n",
       " 'AJUBA_BC_233',\n",
       " 'NEIL1_116',\n",
       " 'AJUBA_BC_132',\n",
       " 'NEIL1_237',\n",
       " 'NEIL1_64',\n",
       " 'AJUBA_BC_161',\n",
       " 'NEIL1_11',\n",
       " 'AJUBA_BC_230',\n",
       " 'TTYH_BC_157',\n",
       " 'AJUBA_BC_242',\n",
       " 'AJUBA_BC_051',\n",
       " 'AJUBA_BC_112',\n",
       " 'AJUBA_BC_213',\n",
       " 'NEIL1_216',\n",
       " 'NEIL1_255',\n",
       " 'NEIL1_217',\n",
       " 'AJUBA_BC_050',\n",
       " 'AJUBA_BC_205',\n",
       " 'TTYH_ECS_BC_137',\n",
       " 'NEIL1_226',\n",
       " 'TTYH_ECS_BC_026',\n",
       " 'NEIL1_10',\n",
       " 'AJUBA_BC_223',\n",
       " 'NEIL1_115',\n",
       " 'NEIL1_98',\n",
       " 'NEIL1_178',\n",
       " 'TTYH_BC_031',\n",
       " 'NEIL1_1',\n",
       " 'TTYH_ECS_BC_171',\n",
       " 'AJUBA_BC_107',\n",
       " 'NEIL1_109',\n",
       " 'NEIL1_290',\n",
       " 'TTYH_BC_142',\n",
       " 'TTYH_ECS_BC_139',\n",
       " 'NEIL1_112',\n",
       " 'TTYH_ECS_BC_052',\n",
       " 'TTYH_ECS_BC_144',\n",
       " 'AJUBA_BC_002',\n",
       " 'NEIL1_288',\n",
       " 'AJUBA_BC_180',\n",
       " 'AJUBA_BC_048',\n",
       " 'NEIL1_35',\n",
       " 'TTYH_BC_082',\n",
       " 'TTYH_BC_130',\n",
       " 'AJUBA_BC_241',\n",
       " 'TTYH_ECS_BC_109',\n",
       " 'NEIL1_34',\n",
       " 'AJUBA_BC_139',\n",
       " 'AJUBA_BC_218',\n",
       " 'AJUBA_BC_072',\n",
       " 'AJUBA_BC_090',\n",
       " 'AJUBA_BC_073',\n",
       " 'NEIL1_137',\n",
       " 'NEIL1_69',\n",
       " 'AJUBA_BC_211',\n",
       " 'TTYH_BC_127',\n",
       " 'NEIL1_251',\n",
       " 'AJUBA_BC_113',\n",
       " 'TTYH_BC_035',\n",
       " 'AJUBA_BC_075',\n",
       " 'TTYH_ECS_BC_085',\n",
       " 'AJUBA_BC_053',\n",
       " 'AJUBA_BC_027',\n",
       " 'AJUBA_BC_029',\n",
       " 'AJUBA_BC_014',\n",
       " 'NEIL1_74',\n",
       " 'AJUBA_BC_266',\n",
       " 'TTYH_BC_074',\n",
       " 'NEIL1_14',\n",
       " 'AJUBA_BC_040',\n",
       " 'TTYH_BC_043',\n",
       " 'AJUBA_BC_137',\n",
       " 'AJUBA_BC_106',\n",
       " 'NEIL1_266',\n",
       " 'AJUBA_BC_193',\n",
       " 'NEIL1_263',\n",
       " 'NEIL1_155',\n",
       " 'NEIL1_122',\n",
       " 'NEIL1_195',\n",
       " 'AJUBA_BC_167',\n",
       " 'NEIL1_196',\n",
       " 'TTYH_BC_038',\n",
       " 'NEIL1_126',\n",
       " 'TTYH_BC_146',\n",
       " 'NEIL1_33',\n",
       " 'AJUBA_BC_263',\n",
       " 'AJUBA_BC_085',\n",
       " 'AJUBA_BC_145',\n",
       " 'NEIL1_13',\n",
       " 'TTYH_BC_076',\n",
       " 'AJUBA_BC_190',\n",
       " 'AJUBA_BC_186',\n",
       " 'TTYH_ECS_BC_013',\n",
       " 'TTYH_ECS_BC_077',\n",
       " 'AJUBA_BC_043',\n",
       " 'AJUBA_BC_140',\n",
       " 'TTYH_BC_095',\n",
       " 'AJUBA_BC_268',\n",
       " 'AJUBA_BC_255',\n",
       " 'AJUBA_BC_163',\n",
       " 'AJUBA_BC_088',\n",
       " 'NEIL1_84',\n",
       " 'TTYH_BC_111',\n",
       " 'NEIL1_147',\n",
       " 'AJUBA_BC_168',\n",
       " 'AJUBA_BC_151',\n",
       " 'NEIL1_253',\n",
       " 'TTYH_BC_002',\n",
       " 'TTYH_BC_059',\n",
       " 'TTYH_ECS_BC_087',\n",
       " 'TTYH_ECS_BC_103',\n",
       " 'AJUBA_BC_017',\n",
       " 'NEIL1_138',\n",
       " 'TTYH_BC_186',\n",
       " 'NEIL1_173',\n",
       " 'NEIL1_257',\n",
       " 'TTYH_ECS_BC_120',\n",
       " 'TTYH_BC_175',\n",
       " 'TTYH_BC_136',\n",
       " 'NEIL1_232',\n",
       " 'TTYH_ECS_BC_161',\n",
       " 'NEIL1_100',\n",
       " 'NEIL1_80',\n",
       " 'NEIL1_128',\n",
       " 'AJUBA_BC_226',\n",
       " 'NEIL1_163',\n",
       " 'AJUBA_BC_079',\n",
       " 'NEIL1_146',\n",
       " 'AJUBA_BC_026',\n",
       " 'TTYH_ECS_BC_153',\n",
       " 'AJUBA_BC_067',\n",
       " 'NEIL1_5',\n",
       " 'TTYH_ECS_BC_075',\n",
       " 'NEIL1_193',\n",
       " 'AJUBA_BC_260',\n",
       " 'TTYH_ECS_BC_094',\n",
       " 'TTYH_ECS_BC_043',\n",
       " 'TTYH_BC_167',\n",
       " 'AJUBA_BC_055',\n",
       " 'TTYH_BC_011',\n",
       " 'NEIL1_158',\n",
       " 'AJUBA_BC_152',\n",
       " 'NEIL1_166',\n",
       " 'TTYH_ECS_BC_073',\n",
       " 'NEIL1_134',\n",
       " 'TTYH_ECS_BC_140',\n",
       " 'TTYH_ECS_BC_165',\n",
       " 'NEIL1_24',\n",
       " 'NEIL1_52',\n",
       " 'TTYH_BC_016',\n",
       " 'NEIL1_162',\n",
       " 'TTYH_ECS_BC_151',\n",
       " 'AJUBA_BC_116',\n",
       " 'NEIL1_16',\n",
       " 'TTYH_ECS_BC_049',\n",
       " 'NEIL1_103',\n",
       " 'TTYH_ECS_BC_021',\n",
       " 'TTYH_ECS_BC_160',\n",
       " 'NEIL1_194',\n",
       " 'NEIL1_89',\n",
       " 'TTYH_BC_145',\n",
       " 'AJUBA_BC_044',\n",
       " 'TTYH_ECS_BC_019',\n",
       " 'NEIL1_102',\n",
       " 'TTYH_ECS_BC_157',\n",
       " 'NEIL1_44',\n",
       " 'NEIL1_238',\n",
       " 'TTYH_BC_123',\n",
       " 'AJUBA_BC_224',\n",
       " 'AJUBA_BC_197',\n",
       " 'NEIL1_269',\n",
       " 'NEIL1_227',\n",
       " 'NEIL1_164',\n",
       " 'AJUBA_BC_200',\n",
       " 'TTYH_ECS_BC_006',\n",
       " 'TTYH_ECS_BC_068',\n",
       " 'AJUBA_BC_256',\n",
       " 'TTYH_BC_018',\n",
       " 'NEIL1_97',\n",
       " 'AJUBA_BC_209',\n",
       " 'NEIL1_208',\n",
       " 'AJUBA_BC_253',\n",
       " 'AJUBA_BC_041',\n",
       " 'AJUBA_BC_133',\n",
       " 'NEIL1_151',\n",
       " 'NEIL1_201',\n",
       " 'AJUBA_BC_198',\n",
       " 'TTYH_ECS_BC_050',\n",
       " 'TTYH_ECS_BC_155',\n",
       " 'TTYH_ECS_BC_010',\n",
       " 'NEIL1_132',\n",
       " 'TTYH_BC_102',\n",
       " 'TTYH_BC_121',\n",
       " 'AJUBA_BC_103',\n",
       " 'TTYH_ECS_BC_145',\n",
       " 'NEIL1_280',\n",
       " 'AJUBA_BC_070',\n",
       " 'TTYH_ECS_BC_093',\n",
       " 'NEIL1_241',\n",
       " 'TTYH_BC_109',\n",
       " 'NEIL1_55',\n",
       " 'NEIL1_66',\n",
       " 'TTYH_ECS_BC_154',\n",
       " 'TTYH_BC_135',\n",
       " 'NEIL1_206',\n",
       " 'TTYH_BC_143',\n",
       " 'NEIL1_271',\n",
       " 'TTYH_BC_053',\n",
       " 'TTYH_ECS_BC_133',\n",
       " 'NEIL1_53',\n",
       " 'TTYH_BC_024',\n",
       " 'AJUBA_BC_008',\n",
       " 'AJUBA_BC_207',\n",
       " 'TTYH_BC_119',\n",
       " 'TTYH_BC_081',\n",
       " 'TTYH_ECS_BC_045',\n",
       " 'TTYH_ECS_BC_008',\n",
       " 'TTYH_ECS_BC_127',\n",
       " 'NEIL1_246',\n",
       " 'TTYH_BC_131',\n",
       " 'NEIL1_247',\n",
       " 'TTYH_ECS_BC_000',\n",
       " 'TTYH_BC_014',\n",
       " 'AJUBA_BC_199',\n",
       " 'NEIL1_249',\n",
       " 'NEIL1_272',\n",
       " 'AJUBA_BC_009',\n",
       " 'TTYH_BC_141',\n",
       " 'TTYH_BC_124',\n",
       " 'TTYH_ECS_BC_143',\n",
       " 'TTYH_BC_087',\n",
       " 'AJUBA_BC_265',\n",
       " 'AJUBA_BC_057',\n",
       " 'TTYH_BC_080',\n",
       " 'TTYH_ECS_BC_115',\n",
       " 'AJUBA_BC_141',\n",
       " 'TTYH_ECS_BC_023',\n",
       " 'NEIL1_228',\n",
       " 'NEIL1_99',\n",
       " 'AJUBA_BC_153',\n",
       " 'NEIL1_210',\n",
       " 'TTYH_ECS_BC_108',\n",
       " 'AJUBA_BC_175',\n",
       " 'AJUBA_BC_062',\n",
       " 'AJUBA_BC_147',\n",
       " 'AJUBA_BC_058',\n",
       " 'TTYH_BC_174',\n",
       " 'TTYH_ECS_BC_076',\n",
       " 'NEIL1_91',\n",
       " 'TTYH_BC_037',\n",
       " 'TTYH_BC_063',\n",
       " 'TTYH_BC_072',\n",
       " 'NEIL1_140',\n",
       " 'AJUBA_BC_246',\n",
       " 'TTYH_BC_137',\n",
       " 'NEIL1_186',\n",
       " 'TTYH_ECS_BC_095',\n",
       " 'NEIL1_165',\n",
       " 'NEIL1_95',\n",
       " 'AJUBA_BC_123',\n",
       " 'AJUBA_BC_001',\n",
       " 'NEIL1_224',\n",
       " 'NEIL1_37',\n",
       " 'NEIL1_124',\n",
       " 'AJUBA_BC_215',\n",
       " 'AJUBA_BC_083',\n",
       " 'NEIL1_9',\n",
       " 'TTYH_BC_000',\n",
       " 'NEIL1_240',\n",
       " 'TTYH_BC_084',\n",
       " 'TTYH_BC_125',\n",
       " 'AJUBA_BC_095',\n",
       " 'TTYH_BC_003',\n",
       " 'AJUBA_BC_061',\n",
       " 'TTYH_BC_078',\n",
       " 'TTYH_ECS_BC_164',\n",
       " 'NEIL1_51',\n",
       " 'NEIL1_261',\n",
       " 'NEIL1_136',\n",
       " 'TTYH_ECS_BC_033',\n",
       " 'AJUBA_BC_183',\n",
       " 'NEIL1_202',\n",
       " 'NEIL1_218',\n",
       " 'TTYH_ECS_BC_105',\n",
       " 'NEIL1_77',\n",
       " 'AJUBA_BC_118',\n",
       " 'TTYH_BC_132',\n",
       " 'TTYH_ECS_BC_083',\n",
       " 'TTYH_BC_073',\n",
       " 'TTYH_ECS_BC_069',\n",
       " 'NEIL1_248',\n",
       " 'TTYH_ECS_BC_110',\n",
       " 'AJUBA_BC_261',\n",
       " 'TTYH_BC_056',\n",
       " 'AJUBA_BC_150',\n",
       " 'TTYH_ECS_BC_149',\n",
       " 'NEIL1_83',\n",
       " 'TTYH_BC_166',\n",
       " 'NEIL1_31',\n",
       " 'AJUBA_BC_023',\n",
       " 'TTYH_ECS_BC_024',\n",
       " 'TTYH_BC_096',\n",
       " 'TTYH_ECS_BC_053',\n",
       " 'TTYH_ECS_BC_172',\n",
       " 'NEIL1_203',\n",
       " 'NEIL1_234',\n",
       " 'TTYH_BC_029',\n",
       " 'AJUBA_BC_117',\n",
       " 'AJUBA_BC_176',\n",
       " 'TTYH_BC_126',\n",
       " 'TTYH_BC_085',\n",
       " 'TTYH_ECS_BC_113',\n",
       " 'TTYH_ECS_BC_126',\n",
       " 'AJUBA_BC_174',\n",
       " 'AJUBA_BC_119',\n",
       " 'AJUBA_BC_078',\n",
       " 'NEIL1_133',\n",
       " 'TTYH_BC_042',\n",
       " 'TTYH_BC_110',\n",
       " 'TTYH_ECS_BC_037',\n",
       " 'AJUBA_BC_109',\n",
       " 'NEIL1_169',\n",
       " 'NEIL1_250',\n",
       " 'TTYH_ECS_BC_064',\n",
       " 'NEIL1_150',\n",
       " 'NEIL1_70',\n",
       " 'AJUBA_BC_039',\n",
       " 'AJUBA_BC_249',\n",
       " 'AJUBA_BC_076',\n",
       " 'AJUBA_BC_005',\n",
       " 'NEIL1_167',\n",
       " 'NEIL1_236',\n",
       " 'TTYH_ECS_BC_097',\n",
       " 'TTYH_ECS_BC_156',\n",
       " 'NEIL1_19',\n",
       " 'NEIL1_85',\n",
       " 'TTYH_ECS_BC_036',\n",
       " 'TTYH_BC_064',\n",
       " 'AJUBA_BC_110',\n",
       " 'TTYH_ECS_BC_017',\n",
       " 'NEIL1_268',\n",
       " 'AJUBA_BC_105',\n",
       " 'AJUBA_BC_231',\n",
       " 'AJUBA_BC_087',\n",
       " 'TTYH_BC_152',\n",
       " 'AJUBA_BC_216',\n",
       " 'TTYH_ECS_BC_048',\n",
       " 'TTYH_BC_028',\n",
       " 'AJUBA_BC_122',\n",
       " 'NEIL1_214',\n",
       " 'NEIL1_46',\n",
       " 'AJUBA_BC_111',\n",
       " 'AJUBA_BC_012',\n",
       " 'NEIL1_30',\n",
       " 'NEIL1_141',\n",
       " 'TTYH_BC_088',\n",
       " 'AJUBA_BC_101',\n",
       " 'NEIL1_252',\n",
       " 'AJUBA_BC_138',\n",
       " 'TTYH_ECS_BC_081',\n",
       " 'AJUBA_BC_159',\n",
       " 'TTYH_ECS_BC_123',\n",
       " 'TTYH_ECS_BC_059',\n",
       " 'NEIL1_87',\n",
       " 'NEIL1_274',\n",
       " 'TTYH_BC_177',\n",
       " 'TTYH_BC_036',\n",
       " 'TTYH_BC_050',\n",
       " 'TTYH_ECS_BC_042',\n",
       " 'TTYH_BC_055',\n",
       " 'AJUBA_BC_082',\n",
       " 'TTYH_ECS_BC_136',\n",
       " 'TTYH_ECS_BC_066',\n",
       " 'AJUBA_BC_100',\n",
       " 'NEIL1_286',\n",
       " 'TTYH_ECS_BC_041',\n",
       " 'AJUBA_BC_094',\n",
       " 'AJUBA_BC_247',\n",
       " 'TTYH_BC_008',\n",
       " 'AJUBA_BC_165',\n",
       " 'TTYH_BC_046',\n",
       " 'TTYH_ECS_BC_117',\n",
       " 'AJUBA_BC_011',\n",
       " 'TTYH_BC_004',\n",
       " 'AJUBA_BC_022',\n",
       " 'TTYH_BC_047',\n",
       " 'TTYH_ECS_BC_122',\n",
       " 'NEIL1_144',\n",
       " 'AJUBA_BC_235',\n",
       " 'AJUBA_BC_157',\n",
       " 'TTYH_BC_083',\n",
       " 'AJUBA_BC_188',\n",
       " 'NEIL1_107',\n",
       " 'AJUBA_BC_158',\n",
       " 'NEIL1_29',\n",
       " 'TTYH_ECS_BC_005']"
      ]
     },
     "execution_count": 8,
     "metadata": {},
     "output_type": "execute_result"
    }
   ],
   "source": [
    "train_indices"
   ]
  },
  {
   "cell_type": "code",
   "execution_count": 9,
   "metadata": {
    "ExecuteTime": {
     "end_time": "2020-07-12T18:19:04.795214Z",
     "start_time": "2020-07-12T18:19:04.744603Z"
    }
   },
   "outputs": [],
   "source": [
    "train_y=np.asarray([y[i] for i in train_indices])\n",
    "validate_y=np.asarray([y[i] for i in validate_indices])\n",
    "test_y=np.asarray([y[i] for i in test_indices])"
   ]
  },
  {
   "cell_type": "code",
   "execution_count": 10,
   "metadata": {
    "ExecuteTime": {
     "end_time": "2020-07-12T18:19:04.848012Z",
     "start_time": "2020-07-12T18:19:04.797279Z"
    }
   },
   "outputs": [
    {
     "data": {
      "text/plain": [
       "(647, 166, 4)"
      ]
     },
     "execution_count": 10,
     "metadata": {},
     "output_type": "execute_result"
    }
   ],
   "source": [
    "train_X_seq.shape"
   ]
  },
  {
   "cell_type": "code",
   "execution_count": 11,
   "metadata": {
    "ExecuteTime": {
     "end_time": "2020-07-12T18:19:04.900607Z",
     "start_time": "2020-07-12T18:19:04.850264Z"
    }
   },
   "outputs": [
    {
     "data": {
      "text/plain": [
       "(647, 166, 6)"
      ]
     },
     "execution_count": 11,
     "metadata": {},
     "output_type": "execute_result"
    }
   ],
   "source": [
    "train_X_struct.shape"
   ]
  },
  {
   "cell_type": "code",
   "execution_count": 12,
   "metadata": {
    "ExecuteTime": {
     "end_time": "2020-07-12T18:19:04.952048Z",
     "start_time": "2020-07-12T18:19:04.902543Z"
    }
   },
   "outputs": [
    {
     "data": {
      "text/plain": [
       "(647,)"
      ]
     },
     "execution_count": 12,
     "metadata": {},
     "output_type": "execute_result"
    }
   ],
   "source": [
    "train_y.shape"
   ]
  },
  {
   "cell_type": "markdown",
   "metadata": {
    "ExecuteTime": {
     "end_time": "2020-05-30T05:32:13.111744Z",
     "start_time": "2020-05-30T05:32:13.071081Z"
    }
   },
   "source": [
    "## Create keras model "
   ]
  },
  {
   "cell_type": "code",
   "execution_count": 13,
   "metadata": {
    "ExecuteTime": {
     "end_time": "2020-07-12T18:19:05.508878Z",
     "start_time": "2020-07-12T18:19:04.953884Z"
    }
   },
   "outputs": [
    {
     "name": "stderr",
     "output_type": "stream",
     "text": [
      "Using TensorFlow backend.\n"
     ]
    }
   ],
   "source": [
    "#import keras dependencies \n",
    "import tensorflow as tf\n",
    "import keras\n",
    "from keras.models import Model\n",
    "from keras.layers import Input, Concatenate\n",
    "from keras.layers.core import  Dropout, Reshape, Dense, Activation, Flatten\n",
    "from keras.layers.convolutional import Conv1D, MaxPooling1D\n",
    "from keras.optimizers import Adadelta, SGD, RMSprop;\n",
    "import keras.losses;\n",
    "from keras.constraints import maxnorm;\n",
    "from keras.layers.normalization import BatchNormalization\n",
    "from keras.regularizers import l1, l2\n",
    "from keras import backend as K\n",
    "from kerasAC.custom_losses import * "
   ]
  },
  {
   "cell_type": "code",
   "execution_count": 14,
   "metadata": {
    "ExecuteTime": {
     "end_time": "2020-07-12T18:19:08.448428Z",
     "start_time": "2020-07-12T18:19:05.511687Z"
    }
   },
   "outputs": [],
   "source": [
    "#define a keras model \n",
    "K.set_image_data_format('channels_last')\n",
    "padding='same'\n",
    "seq_input=Input(shape=(166,4),name='seq_input')\n",
    "struct_input=Input(shape=(166,6),name='struct_input')\n",
    "x_seq=Conv1D(filters=10,kernel_size=6,input_shape=(166,4),padding=padding,name='conv_seq')(seq_input)\n",
    "x_struct=Conv1D(filters=10,kernel_size=6,input_shape=(166,6),padding=padding,name='conv_struct')(struct_input)\n",
    "x_seq=BatchNormalization(name='batch_normalization_1')(x_seq)\n",
    "x_struct=BatchNormalization(name='batch_normalization_2')(x_struct)\n",
    "x_seq=Activation('relu',name='activation_1')(x_seq)\n",
    "x_struct=Activation('relu',name='activation_2')(x_struct)\n",
    "aggregated=Concatenate(axis=-1)([x_struct,x_seq])\n",
    "x=Flatten(name='flatten1')(aggregated)\n",
    "x=Dense(8,name='dense1')(x)\n",
    "x=Activation('relu',name='activation_3')(x)\n",
    "outputs=Dense(1,name='final')(x)\n",
    "model=Model(inputs=[seq_input,struct_input],outputs=outputs)\n",
    "adam = keras.optimizers.Adam(lr=0.001, beta_1=0.9, beta_2=0.999, epsilon=1e-08)\n",
    "model.compile(optimizer=adam,loss=ambig_mean_squared_error)\n"
   ]
  },
  {
   "cell_type": "code",
   "execution_count": 15,
   "metadata": {
    "ExecuteTime": {
     "end_time": "2020-07-12T18:19:08.513909Z",
     "start_time": "2020-07-12T18:19:08.450792Z"
    }
   },
   "outputs": [
    {
     "name": "stdout",
     "output_type": "stream",
     "text": [
      "Model: \"model_1\"\n",
      "__________________________________________________________________________________________________\n",
      "Layer (type)                    Output Shape         Param #     Connected to                     \n",
      "==================================================================================================\n",
      "struct_input (InputLayer)       (None, 166, 6)       0                                            \n",
      "__________________________________________________________________________________________________\n",
      "seq_input (InputLayer)          (None, 166, 4)       0                                            \n",
      "__________________________________________________________________________________________________\n",
      "conv_struct (Conv1D)            (None, 166, 10)      370         struct_input[0][0]               \n",
      "__________________________________________________________________________________________________\n",
      "conv_seq (Conv1D)               (None, 166, 10)      250         seq_input[0][0]                  \n",
      "__________________________________________________________________________________________________\n",
      "batch_normalization_2 (BatchNor (None, 166, 10)      40          conv_struct[0][0]                \n",
      "__________________________________________________________________________________________________\n",
      "batch_normalization_1 (BatchNor (None, 166, 10)      40          conv_seq[0][0]                   \n",
      "__________________________________________________________________________________________________\n",
      "activation_2 (Activation)       (None, 166, 10)      0           batch_normalization_2[0][0]      \n",
      "__________________________________________________________________________________________________\n",
      "activation_1 (Activation)       (None, 166, 10)      0           batch_normalization_1[0][0]      \n",
      "__________________________________________________________________________________________________\n",
      "concatenate_1 (Concatenate)     (None, 166, 20)      0           activation_2[0][0]               \n",
      "                                                                 activation_1[0][0]               \n",
      "__________________________________________________________________________________________________\n",
      "flatten1 (Flatten)              (None, 3320)         0           concatenate_1[0][0]              \n",
      "__________________________________________________________________________________________________\n",
      "dense1 (Dense)                  (None, 8)            26568       flatten1[0][0]                   \n",
      "__________________________________________________________________________________________________\n",
      "activation_3 (Activation)       (None, 8)            0           dense1[0][0]                     \n",
      "__________________________________________________________________________________________________\n",
      "final (Dense)                   (None, 1)            9           activation_3[0][0]               \n",
      "==================================================================================================\n",
      "Total params: 27,277\n",
      "Trainable params: 27,237\n",
      "Non-trainable params: 40\n",
      "__________________________________________________________________________________________________\n"
     ]
    }
   ],
   "source": [
    "model.summary()"
   ]
  },
  {
   "cell_type": "markdown",
   "metadata": {},
   "source": [
    "## Train the model "
   ]
  },
  {
   "cell_type": "code",
   "execution_count": 16,
   "metadata": {
    "ExecuteTime": {
     "end_time": "2020-07-12T18:19:08.603652Z",
     "start_time": "2020-07-12T18:19:08.516207Z"
    }
   },
   "outputs": [],
   "source": [
    "from keras.callbacks import * \n",
    "from kerasAC.custom_callbacks import * \n"
   ]
  },
  {
   "cell_type": "code",
   "execution_count": 17,
   "metadata": {
    "ExecuteTime": {
     "end_time": "2020-07-12T18:19:08.702427Z",
     "start_time": "2020-07-12T18:19:08.606527Z"
    }
   },
   "outputs": [],
   "source": [
    "#define callbacks \n",
    "checkpointer = ModelCheckpoint(filepath=\"model.hdf5\", verbose=1, save_best_only=True)\n",
    "earlystopper = EarlyStopping(monitor='val_loss', patience=3, verbose=1,restore_best_weights=True)\n",
    "history=LossHistory(\"logs.batch\",['loss','val_loss'])\n",
    "csvlogger = CSVLogger(\"logs.epoch.csv\", append = False)\n",
    "reduce_lr = ReduceLROnPlateau(monitor='val_loss', factor=0.4,patience=2, min_lr=0.00000001)\n",
    "cur_callbacks=[checkpointer,earlystopper,csvlogger,reduce_lr,history]\n"
   ]
  },
  {
   "cell_type": "code",
   "execution_count": 18,
   "metadata": {
    "ExecuteTime": {
     "end_time": "2020-07-12T18:19:24.966424Z",
     "start_time": "2020-07-12T18:19:08.704613Z"
    }
   },
   "outputs": [
    {
     "name": "stdout",
     "output_type": "stream",
     "text": [
      "Train on 647 samples, validate on 139 samples\n",
      "Epoch 1/40\n",
      "647/647 [==============================] - 4s 7ms/step - loss: 0.0840 - val_loss: 0.0387\n",
      "\n",
      "Epoch 00001: val_loss improved from inf to 0.03867, saving model to model.hdf5\n",
      "Epoch 2/40\n",
      "647/647 [==============================] - 0s 367us/step - loss: 0.0264 - val_loss: 0.0379\n",
      "\n",
      "Epoch 00002: val_loss improved from 0.03867 to 0.03794, saving model to model.hdf5\n",
      "Epoch 3/40\n",
      "647/647 [==============================] - 0s 361us/step - loss: 0.0227 - val_loss: 0.0323\n",
      "\n",
      "Epoch 00003: val_loss improved from 0.03794 to 0.03233, saving model to model.hdf5\n",
      "Epoch 4/40\n",
      "647/647 [==============================] - 0s 356us/step - loss: 0.0195 - val_loss: 0.0305\n",
      "\n",
      "Epoch 00004: val_loss improved from 0.03233 to 0.03052, saving model to model.hdf5\n",
      "Epoch 5/40\n",
      "647/647 [==============================] - 0s 329us/step - loss: 0.0172 - val_loss: 0.0300\n",
      "\n",
      "Epoch 00005: val_loss improved from 0.03052 to 0.02998, saving model to model.hdf5\n",
      "Epoch 6/40\n",
      "647/647 [==============================] - 0s 298us/step - loss: 0.0163 - val_loss: 0.0261\n",
      "\n",
      "Epoch 00006: val_loss improved from 0.02998 to 0.02614, saving model to model.hdf5\n",
      "Epoch 7/40\n",
      "647/647 [==============================] - 0s 328us/step - loss: 0.0155 - val_loss: 0.0281\n",
      "\n",
      "Epoch 00007: val_loss did not improve from 0.02614\n",
      "Epoch 8/40\n",
      "647/647 [==============================] - 0s 298us/step - loss: 0.0137 - val_loss: 0.0235\n",
      "\n",
      "Epoch 00008: val_loss improved from 0.02614 to 0.02354, saving model to model.hdf5\n",
      "Epoch 9/40\n",
      "647/647 [==============================] - 0s 288us/step - loss: 0.0120 - val_loss: 0.0212\n",
      "\n",
      "Epoch 00009: val_loss improved from 0.02354 to 0.02119, saving model to model.hdf5\n",
      "Epoch 10/40\n",
      "647/647 [==============================] - 0s 316us/step - loss: 0.0144 - val_loss: 0.0199\n",
      "\n",
      "Epoch 00010: val_loss improved from 0.02119 to 0.01989, saving model to model.hdf5\n",
      "Epoch 11/40\n",
      "647/647 [==============================] - 0s 305us/step - loss: 0.0116 - val_loss: 0.0192\n",
      "\n",
      "Epoch 00011: val_loss improved from 0.01989 to 0.01916, saving model to model.hdf5\n",
      "Epoch 12/40\n",
      "647/647 [==============================] - 0s 311us/step - loss: 0.0112 - val_loss: 0.0178\n",
      "\n",
      "Epoch 00012: val_loss improved from 0.01916 to 0.01778, saving model to model.hdf5\n",
      "Epoch 13/40\n",
      "647/647 [==============================] - 0s 289us/step - loss: 0.0098 - val_loss: 0.0169\n",
      "\n",
      "Epoch 00013: val_loss improved from 0.01778 to 0.01691, saving model to model.hdf5\n",
      "Epoch 14/40\n",
      "647/647 [==============================] - 0s 294us/step - loss: 0.0104 - val_loss: 0.0176\n",
      "\n",
      "Epoch 00014: val_loss did not improve from 0.01691\n",
      "Epoch 15/40\n",
      "647/647 [==============================] - 0s 242us/step - loss: 0.0101 - val_loss: 0.0159\n",
      "\n",
      "Epoch 00015: val_loss improved from 0.01691 to 0.01588, saving model to model.hdf5\n",
      "Epoch 16/40\n",
      "647/647 [==============================] - 0s 289us/step - loss: 0.0086 - val_loss: 0.0152\n",
      "\n",
      "Epoch 00016: val_loss improved from 0.01588 to 0.01517, saving model to model.hdf5\n",
      "Epoch 17/40\n",
      "647/647 [==============================] - 0s 275us/step - loss: 0.0084 - val_loss: 0.0166\n",
      "\n",
      "Epoch 00017: val_loss did not improve from 0.01517\n",
      "Epoch 18/40\n",
      "647/647 [==============================] - 0s 280us/step - loss: 0.0086 - val_loss: 0.0140\n",
      "\n",
      "Epoch 00018: val_loss improved from 0.01517 to 0.01404, saving model to model.hdf5\n",
      "Epoch 19/40\n",
      "647/647 [==============================] - 0s 332us/step - loss: 0.0082 - val_loss: 0.0140\n",
      "\n",
      "Epoch 00019: val_loss improved from 0.01404 to 0.01395, saving model to model.hdf5\n",
      "Epoch 20/40\n",
      "647/647 [==============================] - 0s 361us/step - loss: 0.0080 - val_loss: 0.0130\n",
      "\n",
      "Epoch 00020: val_loss improved from 0.01395 to 0.01304, saving model to model.hdf5\n",
      "Epoch 21/40\n",
      "647/647 [==============================] - 0s 275us/step - loss: 0.0081 - val_loss: 0.0133\n",
      "\n",
      "Epoch 00021: val_loss did not improve from 0.01304\n",
      "Epoch 22/40\n",
      "647/647 [==============================] - 0s 275us/step - loss: 0.0086 - val_loss: 0.0124\n",
      "\n",
      "Epoch 00022: val_loss improved from 0.01304 to 0.01243, saving model to model.hdf5\n",
      "Epoch 23/40\n",
      "647/647 [==============================] - 0s 269us/step - loss: 0.0071 - val_loss: 0.0133\n",
      "\n",
      "Epoch 00023: val_loss did not improve from 0.01243\n",
      "Epoch 24/40\n",
      "647/647 [==============================] - 0s 284us/step - loss: 0.0076 - val_loss: 0.0124\n",
      "\n",
      "Epoch 00024: val_loss improved from 0.01243 to 0.01241, saving model to model.hdf5\n",
      "Epoch 25/40\n",
      "647/647 [==============================] - 0s 302us/step - loss: 0.0064 - val_loss: 0.0122\n",
      "\n",
      "Epoch 00025: val_loss improved from 0.01241 to 0.01219, saving model to model.hdf5\n",
      "Epoch 26/40\n",
      "647/647 [==============================] - 0s 311us/step - loss: 0.0065 - val_loss: 0.0118\n",
      "\n",
      "Epoch 00026: val_loss improved from 0.01219 to 0.01181, saving model to model.hdf5\n",
      "Epoch 27/40\n",
      "647/647 [==============================] - 0s 309us/step - loss: 0.0062 - val_loss: 0.0124\n",
      "\n",
      "Epoch 00027: val_loss did not improve from 0.01181\n",
      "Epoch 28/40\n",
      "647/647 [==============================] - 0s 292us/step - loss: 0.0061 - val_loss: 0.0121\n",
      "\n",
      "Epoch 00028: val_loss did not improve from 0.01181\n",
      "Epoch 29/40\n",
      "647/647 [==============================] - 0s 312us/step - loss: 0.0061 - val_loss: 0.0117\n",
      "\n",
      "Epoch 00029: val_loss improved from 0.01181 to 0.01174, saving model to model.hdf5\n",
      "Epoch 30/40\n",
      "647/647 [==============================] - 0s 292us/step - loss: 0.0059 - val_loss: 0.0115\n",
      "\n",
      "Epoch 00030: val_loss improved from 0.01174 to 0.01154, saving model to model.hdf5\n",
      "Epoch 31/40\n",
      "647/647 [==============================] - 0s 297us/step - loss: 0.0059 - val_loss: 0.0115\n",
      "\n",
      "Epoch 00031: val_loss did not improve from 0.01154\n",
      "Epoch 32/40\n",
      "647/647 [==============================] - 0s 329us/step - loss: 0.0060 - val_loss: 0.0115\n",
      "\n",
      "Epoch 00032: val_loss improved from 0.01154 to 0.01151, saving model to model.hdf5\n",
      "Epoch 33/40\n",
      "647/647 [==============================] - 0s 259us/step - loss: 0.0059 - val_loss: 0.0115\n",
      "\n",
      "Epoch 00033: val_loss did not improve from 0.01151\n",
      "Epoch 34/40\n",
      "647/647 [==============================] - 0s 310us/step - loss: 0.0058 - val_loss: 0.0115\n",
      "\n",
      "Epoch 00034: val_loss improved from 0.01151 to 0.01145, saving model to model.hdf5\n",
      "Epoch 35/40\n",
      "647/647 [==============================] - 0s 529us/step - loss: 0.0057 - val_loss: 0.0114\n",
      "\n",
      "Epoch 00035: val_loss improved from 0.01145 to 0.01143, saving model to model.hdf5\n",
      "Epoch 36/40\n",
      "647/647 [==============================] - 0s 304us/step - loss: 0.0058 - val_loss: 0.0115\n",
      "\n",
      "Epoch 00036: val_loss did not improve from 0.01143\n",
      "Epoch 37/40\n",
      "647/647 [==============================] - 0s 519us/step - loss: 0.0058 - val_loss: 0.0114\n",
      "\n",
      "Epoch 00037: val_loss improved from 0.01143 to 0.01139, saving model to model.hdf5\n",
      "Epoch 38/40\n",
      "647/647 [==============================] - 0s 401us/step - loss: 0.0057 - val_loss: 0.0115\n",
      "\n",
      "Epoch 00038: val_loss did not improve from 0.01139\n",
      "Epoch 39/40\n",
      "647/647 [==============================] - 0s 454us/step - loss: 0.0057 - val_loss: 0.0114\n",
      "\n",
      "Epoch 00039: val_loss did not improve from 0.01139\n",
      "Epoch 40/40\n",
      "647/647 [==============================] - 0s 343us/step - loss: 0.0058 - val_loss: 0.0114\n",
      "\n",
      "Epoch 00040: val_loss did not improve from 0.01139\n",
      "Restoring model weights from the end of the best epoch\n",
      "Epoch 00040: early stopping\n"
     ]
    },
    {
     "data": {
      "text/plain": [
       "<keras.callbacks.callbacks.History at 0x7f5f9233edd0>"
      ]
     },
     "execution_count": 18,
     "metadata": {},
     "output_type": "execute_result"
    }
   ],
   "source": [
    "#fit the model \n",
    "model.fit(x=train_X,\n",
    "          y=train_y,\n",
    "          batch_size=32,\n",
    "          epochs=40,\n",
    "          verbose=1,\n",
    "          callbacks=cur_callbacks,\n",
    "          validation_data=(validate_X,validate_y),\n",
    "          shuffle=True,\n",
    "          max_queue_size=100,\n",
    "          use_multiprocessing=True,\n",
    "          workers=12)\n"
   ]
  },
  {
   "cell_type": "markdown",
   "metadata": {},
   "source": [
    "## plot the loss curves "
   ]
  },
  {
   "cell_type": "code",
   "execution_count": 19,
   "metadata": {
    "ExecuteTime": {
     "end_time": "2020-07-12T18:19:25.737485Z",
     "start_time": "2020-07-12T18:19:24.971773Z"
    }
   },
   "outputs": [
    {
     "name": "stderr",
     "output_type": "stream",
     "text": [
      "/users/annashch/miniconda3/lib/python3.7/site-packages/ipykernel_launcher.py:6: SettingWithCopyWarning: \n",
      "A value is trying to be set on a copy of a slice from a DataFrame\n",
      "\n",
      "See the caveats in the documentation: https://pandas.pydata.org/pandas-docs/stable/user_guide/indexing.html#returning-a-view-versus-a-copy\n",
      "  \n",
      "/users/annashch/miniconda3/lib/python3.7/site-packages/ipykernel_launcher.py:7: SettingWithCopyWarning: \n",
      "A value is trying to be set on a copy of a slice from a DataFrame\n",
      "\n",
      "See the caveats in the documentation: https://pandas.pydata.org/pandas-docs/stable/user_guide/indexing.html#returning-a-view-versus-a-copy\n",
      "  import sys\n",
      "/users/annashch/miniconda3/lib/python3.7/site-packages/plotnine/ggplot.py:729: PlotnineWarning: Saving 6 x 6 in image.\n",
      "  from_inches(height, units), units), PlotnineWarning)\n",
      "/users/annashch/miniconda3/lib/python3.7/site-packages/plotnine/ggplot.py:730: PlotnineWarning: Filename: Loss.svg\n",
      "  warn('Filename: {}'.format(filename), PlotnineWarning)\n"
     ]
    }
   ],
   "source": [
    "## plot the losses\n",
    "losses=pd.read_csv(\"logs.epoch.csv\",header=0,sep=',')\n",
    "losses.shape\n",
    "batch_losses=pd.read_csv(\"logs.batch\",header=0,sep='\\t')\n",
    "losses=pd.melt(losses,id_vars='epoch')\n",
    "losses['variable'][losses['variable']=='loss']='TrainingLoss'\n",
    "losses['variable'][losses['variable']=='val_loss']='ValidationLoss'\n",
    "plotnine.options.figure_size = (6, 6)\n",
    "(ggplot(losses,aes(x='epoch',\n",
    "                   y='value',\n",
    "                   group='variable',\n",
    "                   color='variable'))+geom_line(size=2)+theme_bw(20)).save(\"Loss.svg\",format='svg')\n"
   ]
  },
  {
   "cell_type": "code",
   "execution_count": 20,
   "metadata": {
    "ExecuteTime": {
     "end_time": "2020-07-12T18:19:26.427789Z",
     "start_time": "2020-07-12T18:19:25.739734Z"
    }
   },
   "outputs": [
    {
     "data": {
      "image/png": "[encoded data removed]",
      "text/plain": [
       "<Figure size 600x600 with 1 Axes>"
      ]
     },
     "metadata": {},
     "output_type": "display_data"
    },
    {
     "data": {
      "text/plain": [
       "<ggplot: (8753028087301)>"
      ]
     },
     "execution_count": 20,
     "metadata": {},
     "output_type": "execute_result"
    }
   ],
   "source": [
    "batch_losses['sequence']=batch_losses.index\n",
    "plotnine.options.figure_size = (6, 6)\n",
    "\n",
    "\n",
    "(ggplot(batch_losses,aes(x=\"sequence\",y=\"loss\"))+geom_line()+ylab(\"Training Loss MSE\"))"
   ]
  },
  {
   "cell_type": "markdown",
   "metadata": {},
   "source": [
    "## get predictions"
   ]
  },
  {
   "cell_type": "code",
   "execution_count": 21,
   "metadata": {
    "ExecuteTime": {
     "end_time": "2020-07-12T18:19:26.871273Z",
     "start_time": "2020-07-12T18:19:26.430370Z"
    }
   },
   "outputs": [],
   "source": [
    "predictions_test=model.predict(test_X,batch_size=128,max_queue_size=100,use_multiprocessing=True,workers=4)"
   ]
  },
  {
   "cell_type": "code",
   "execution_count": 22,
   "metadata": {
    "ExecuteTime": {
     "end_time": "2020-07-12T18:19:26.985882Z",
     "start_time": "2020-07-12T18:19:26.874866Z"
    }
   },
   "outputs": [],
   "source": [
    "predictions_train=model.predict(train_X,batch_size=128,max_queue_size=100,use_multiprocessing=True,workers=4)"
   ]
  },
  {
   "cell_type": "code",
   "execution_count": 23,
   "metadata": {
    "ExecuteTime": {
     "end_time": "2020-07-12T18:19:27.089428Z",
     "start_time": "2020-07-12T18:19:26.990135Z"
    }
   },
   "outputs": [],
   "source": [
    "predictions_validate=model.predict(validate_X,batch_size=128,max_queue_size=100,use_multiprocessing=True,workers=4)"
   ]
  },
  {
   "cell_type": "code",
   "execution_count": 24,
   "metadata": {
    "ExecuteTime": {
     "end_time": "2020-07-12T18:19:27.289746Z",
     "start_time": "2020-07-12T18:19:27.091817Z"
    }
   },
   "outputs": [
    {
     "name": "stdout",
     "output_type": "stream",
     "text": [
      "predictions shape:(138, 1)\n",
      "true labels shape:(138, 1)\n"
     ]
    },
    {
     "data": {
      "text/plain": [
       "{'spearmanr': [SpearmanrResult(correlation=0.806032448894744, pvalue=2.1162899889633845e-31)],\n",
       " 'pearsonr': [(0.8312989803551889, 5.819954756984432e-35)],\n",
       " 'spearmanr_nonzerobins': [SpearmanrResult(correlation=0.8048688117237206, pvalue=5.071184301852175e-31)],\n",
       " 'pearsonr_nonzerobins': [(0.8302199018648173, 1.528574969870667e-34)]}"
      ]
     },
     "execution_count": 24,
     "metadata": {},
     "output_type": "execute_result"
    }
   ],
   "source": [
    "#get performance metrics \n",
    "from kerasAC.performance_metrics.regression_performance_metrics import *\n",
    "test_perf=get_performance_metrics_regression(predictions_test,np.expand_dims(test_y,axis=1))\n",
    "test_perf"
   ]
  },
  {
   "cell_type": "code",
   "execution_count": 25,
   "metadata": {
    "ExecuteTime": {
     "end_time": "2020-07-12T18:19:27.401011Z",
     "start_time": "2020-07-12T18:19:27.292368Z"
    }
   },
   "outputs": [],
   "source": [
    "test_indices_ajuba=[i for i in range(len(test_indices)) if test_indices[i].startswith(\"AJUBA\")]\n",
    "test_indices_neil1=[i for i in range(len(test_indices)) if test_indices[i].startswith('NEIL')]\n",
    "test_indices_ttyh2=[i for i in range(len(test_indices)) if test_indices[i].startswith('TTYH')]"
   ]
  },
  {
   "cell_type": "code",
   "execution_count": 26,
   "metadata": {
    "ExecuteTime": {
     "end_time": "2020-07-12T18:19:27.516851Z",
     "start_time": "2020-07-12T18:19:27.404235Z"
    }
   },
   "outputs": [
    {
     "name": "stdout",
     "output_type": "stream",
     "text": [
      "predictions shape:(39, 1)\n",
      "true labels shape:(39, 1)\n"
     ]
    },
    {
     "name": "stderr",
     "output_type": "stream",
     "text": [
      "/users/annashch/miniconda3/lib/python3.7/site-packages/numpy/lib/function_base.py:2534: RuntimeWarning: invalid value encountered in true_divide\n",
      "  c /= stddev[:, None]\n",
      "/users/annashch/miniconda3/lib/python3.7/site-packages/numpy/lib/function_base.py:2535: RuntimeWarning: invalid value encountered in true_divide\n",
      "  c /= stddev[None, :]\n",
      "/users/annashch/miniconda3/lib/python3.7/site-packages/scipy/stats/_distn_infrastructure.py:903: RuntimeWarning: invalid value encountered in greater\n",
      "  return (a < x) & (x < b)\n",
      "/users/annashch/miniconda3/lib/python3.7/site-packages/scipy/stats/_distn_infrastructure.py:903: RuntimeWarning: invalid value encountered in less\n",
      "  return (a < x) & (x < b)\n",
      "/users/annashch/miniconda3/lib/python3.7/site-packages/scipy/stats/_distn_infrastructure.py:1912: RuntimeWarning: invalid value encountered in less_equal\n",
      "  cond2 = cond0 & (x <= _a)\n",
      "/users/annashch/miniconda3/lib/python3.7/site-packages/scipy/stats/stats.py:3508: PearsonRConstantInputWarning: An input array is constant; the correlation coefficent is not defined.\n",
      "  warnings.warn(PearsonRConstantInputWarning())\n"
     ]
    },
    {
     "data": {
      "text/plain": [
       "{'spearmanr': [SpearmanrResult(correlation=nan, pvalue=nan)],\n",
       " 'pearsonr': [(nan, nan)],\n",
       " 'spearmanr_nonzerobins': [SpearmanrResult(correlation=nan, pvalue=nan)],\n",
       " 'pearsonr_nonzerobins': [(nan, nan)]}"
      ]
     },
     "execution_count": 26,
     "metadata": {},
     "output_type": "execute_result"
    }
   ],
   "source": [
    "test_labels_ajuba=[test_y[i] for i in test_indices_ajuba]\n",
    "test_pred_ajuba=[predictions_test[i][0] for i in test_indices_ajuba]\n",
    "get_performance_metrics_regression(np.expand_dims(np.asarray(test_pred_ajuba),axis=1),np.expand_dims(np.asarray(test_labels_ajuba),axis=1))"
   ]
  },
  {
   "cell_type": "code",
   "execution_count": 27,
   "metadata": {
    "ExecuteTime": {
     "end_time": "2020-07-12T18:19:27.613790Z",
     "start_time": "2020-07-12T18:19:27.519774Z"
    }
   },
   "outputs": [
    {
     "name": "stdout",
     "output_type": "stream",
     "text": [
      "predictions shape:(48, 1)\n",
      "true labels shape:(48, 1)\n"
     ]
    },
    {
     "data": {
      "text/plain": [
       "{'spearmanr': [SpearmanrResult(correlation=0.5845530169189208, pvalue=1.9932548471793737e-05)],\n",
       " 'pearsonr': [(0.5836828308036148, 2.0648263833392876e-05)],\n",
       " 'spearmanr_nonzerobins': [SpearmanrResult(correlation=0.5598735400287831, pvalue=6.365285699174148e-05)],\n",
       " 'pearsonr_nonzerobins': [(0.5634827346349275, 5.572446596183961e-05)]}"
      ]
     },
     "execution_count": 27,
     "metadata": {},
     "output_type": "execute_result"
    }
   ],
   "source": [
    "test_labels_ttyh2=[test_y[i] for i in test_indices_ttyh2]\n",
    "test_pred_ttyh2=[predictions_test[i][0] for i in test_indices_ttyh2]\n",
    "get_performance_metrics_regression(np.expand_dims(np.asarray(test_pred_ttyh2),axis=1),np.expand_dims(np.asarray(test_labels_ttyh2),axis=1))"
   ]
  },
  {
   "cell_type": "code",
   "execution_count": 28,
   "metadata": {
    "ExecuteTime": {
     "end_time": "2020-07-12T18:19:27.714441Z",
     "start_time": "2020-07-12T18:19:27.616919Z"
    }
   },
   "outputs": [
    {
     "name": "stdout",
     "output_type": "stream",
     "text": [
      "predictions shape:(51, 1)\n",
      "true labels shape:(51, 1)\n"
     ]
    },
    {
     "data": {
      "text/plain": [
       "{'spearmanr': [SpearmanrResult(correlation=0.7569198563182421, pvalue=7.473233567466502e-10)],\n",
       " 'pearsonr': [(0.777776536727918, 1.2624932976722118e-10)],\n",
       " 'spearmanr_nonzerobins': [SpearmanrResult(correlation=0.7569198563182421, pvalue=7.473233567466502e-10)],\n",
       " 'pearsonr_nonzerobins': [(0.777776536727918, 1.2624932976722118e-10)]}"
      ]
     },
     "execution_count": 28,
     "metadata": {},
     "output_type": "execute_result"
    }
   ],
   "source": [
    "test_labels_neil1=[test_y[i] for i in test_indices_neil1]\n",
    "test_pred_neil1=[predictions_test[i][0] for i in test_indices_neil1]\n",
    "get_performance_metrics_regression(np.expand_dims(np.asarray(test_pred_neil1),axis=1),np.expand_dims(np.asarray(test_labels_neil1),axis=1))"
   ]
  },
  {
   "cell_type": "code",
   "execution_count": null,
   "metadata": {},
   "outputs": [],
   "source": []
  },
  {
   "cell_type": "code",
   "execution_count": 29,
   "metadata": {
    "ExecuteTime": {
     "end_time": "2020-07-12T18:19:27.813747Z",
     "start_time": "2020-07-12T18:19:27.717416Z"
    }
   },
   "outputs": [
    {
     "name": "stdout",
     "output_type": "stream",
     "text": [
      "predictions shape:(647, 1)\n",
      "true labels shape:(647, 1)\n"
     ]
    },
    {
     "data": {
      "text/plain": [
       "{'spearmanr': [SpearmanrResult(correlation=0.8209859330982454, pvalue=1.75170627563951e-155)],\n",
       " 'pearsonr': [(0.9209792260955737, 4.323824297054622e-260)],\n",
       " 'spearmanr_nonzerobins': [SpearmanrResult(correlation=0.8230760671055086, pvalue=3.27314151312855e-155)],\n",
       " 'pearsonr_nonzerobins': [(0.9207320841234862, 8.110015003714703e-257)]}"
      ]
     },
     "execution_count": 29,
     "metadata": {},
     "output_type": "execute_result"
    }
   ],
   "source": [
    "train_perf=get_performance_metrics_regression(predictions_train,np.expand_dims(train_y,axis=1))\n",
    "train_perf"
   ]
  },
  {
   "cell_type": "code",
   "execution_count": 30,
   "metadata": {
    "ExecuteTime": {
     "end_time": "2020-07-12T18:19:27.925281Z",
     "start_time": "2020-07-12T18:19:27.817060Z"
    }
   },
   "outputs": [
    {
     "name": "stdout",
     "output_type": "stream",
     "text": [
      "predictions shape:(139, 1)\n",
      "true labels shape:(139, 1)\n"
     ]
    },
    {
     "data": {
      "text/plain": [
       "{'spearmanr': [SpearmanrResult(correlation=0.7769276754148428, pvalue=2.654398051237541e-28)],\n",
       " 'pearsonr': [(0.8373221980644928, 1.9974030057889994e-36)],\n",
       " 'spearmanr_nonzerobins': [SpearmanrResult(correlation=0.7817360705275342, pvalue=1.9393259445421817e-28)],\n",
       " 'pearsonr_nonzerobins': [(0.8358841483979146, 1.1358127155104823e-35)]}"
      ]
     },
     "execution_count": 30,
     "metadata": {},
     "output_type": "execute_result"
    }
   ],
   "source": [
    "valid_perf=get_performance_metrics_regression(predictions_validate,np.expand_dims(validate_y,axis=1))\n",
    "valid_perf"
   ]
  },
  {
   "cell_type": "code",
   "execution_count": 31,
   "metadata": {
    "ExecuteTime": {
     "end_time": "2020-07-12T18:19:28.046985Z",
     "start_time": "2020-07-12T18:19:27.928510Z"
    }
   },
   "outputs": [],
   "source": [
    "#plot the predictions \n",
    "%matplotlib inline\n",
    "import matplotlib.pyplot as plt\n",
    "from matplotlib import cm\n",
    "from matplotlib.colors import Normalize \n",
    "from scipy.interpolate import interpn\n",
    "\n",
    "def density_scatter( x , y, title, ax = None, sort = True, bins = 20, **kwargs )   :\n",
    "    \"\"\"\n",
    "    Scatter plot colored by 2d histogram\n",
    "    \"\"\"\n",
    "    nan_indices=[i[0] for i in np.argwhere(np.isnan(x))]\n",
    "    y= np.delete(y, nan_indices, 0)\n",
    "    x=np.delete(x,nan_indices,0)\n",
    "\n",
    "    if ax is None :\n",
    "        fig , ax = plt.subplots(figsize=(4, 3), dpi= 80, facecolor='w', edgecolor='k')\n",
    "    data , x_e, y_e = np.histogram2d( x, y, bins = bins, density = True )\n",
    "    z = interpn( ( 0.5*(x_e[1:] + x_e[:-1]) , 0.5*(y_e[1:]+y_e[:-1]) ) , data , np.vstack([x,y]).T , method = \"splinef2d\", bounds_error = False)\n",
    "\n",
    "    #To be sure to plot all data\n",
    "    z[np.where(np.isnan(z))] = 0.0\n",
    "\n",
    "    # Sort the points by density, so that the densest points are plotted last\n",
    "    if sort :\n",
    "        idx = z.argsort()\n",
    "        x, y, z = x[idx], y[idx], z[idx]\n",
    "\n",
    "    ax.scatter( x, y, c=z, **kwargs,s=1 )\n",
    "    lims = [\n",
    "    np.min([ax.get_xlim(), ax.get_ylim()]),  # min of both axes\n",
    "    np.max([ax.get_xlim(), ax.get_ylim()]),  # max of both axes\n",
    "    ]\n",
    "\n",
    "    # now plot both limits against eachother\n",
    "    ax.plot(lims, lims, 'k-', alpha=0.75, zorder=0)\n",
    "    ax.set_aspect('equal')\n",
    "    ax.set_xlim(lims)\n",
    "    ax.set_ylim(lims)\n",
    "\n",
    "    plt.title(title)\n",
    "    plt.xlabel(\"Observed\")\n",
    "    plt.ylabel(\"Predicted\")\n",
    "    norm = Normalize(vmin = np.min(z), vmax = np.max(z))\n",
    "    cbar = fig.colorbar(cm.ScalarMappable(norm = norm), ax=ax)\n",
    "    cbar.ax.set_ylabel('Density')\n",
    "\n",
    "    return ax"
   ]
  },
  {
   "cell_type": "code",
   "execution_count": 32,
   "metadata": {
    "ExecuteTime": {
     "end_time": "2020-07-12T18:19:28.780402Z",
     "start_time": "2020-07-12T18:19:28.050193Z"
    }
   },
   "outputs": [
    {
     "data": {
      "image/png": "[encoded data removed]",
      "text/plain": [
       "<Figure size 320x240 with 2 Axes>"
      ]
     },
     "metadata": {},
     "output_type": "display_data"
    }
   ],
   "source": [
    "density_scatter(train_y,np.squeeze(predictions_train),'Joint Training: Training',bins=[30,30])\n",
    "plt.savefig(\"training.svg\")"
   ]
  },
  {
   "cell_type": "code",
   "execution_count": 33,
   "metadata": {
    "ExecuteTime": {
     "end_time": "2020-07-12T18:19:29.062921Z",
     "start_time": "2020-07-12T18:19:28.783094Z"
    }
   },
   "outputs": [
    {
     "data": {
      "text/plain": [
       "<matplotlib.axes._subplots.AxesSubplot at 0x7f6121cf7a90>"
      ]
     },
     "execution_count": 33,
     "metadata": {},
     "output_type": "execute_result"
    },
    {
     "data": {
      "image/png": "[encoded data removed]",
      "text/plain": [
       "<Figure size 320x240 with 2 Axes>"
      ]
     },
     "metadata": {},
     "output_type": "display_data"
    }
   ],
   "source": [
    "density_scatter(validate_y,np.squeeze(predictions_validate),'Joint Training: Validation',bins=[30,30])"
   ]
  },
  {
   "cell_type": "code",
   "execution_count": 34,
   "metadata": {
    "ExecuteTime": {
     "end_time": "2020-07-12T18:19:29.427920Z",
     "start_time": "2020-07-12T18:19:29.064715Z"
    }
   },
   "outputs": [
    {
     "data": {
      "image/png": "[encoded data removed]",
      "text/plain": [
       "<Figure size 320x240 with 2 Axes>"
      ]
     },
     "metadata": {},
     "output_type": "display_data"
    }
   ],
   "source": [
    "density_scatter(test_y,np.squeeze(predictions_test),'Joint Training: Test',bins=[30,30])\n",
    "plt.savefig(\"test.svg\")"
   ]
  },
  {
   "cell_type": "code",
   "execution_count": 35,
   "metadata": {
    "ExecuteTime": {
     "end_time": "2020-07-12T18:19:29.545088Z",
     "start_time": "2020-07-12T18:19:29.429652Z"
    }
   },
   "outputs": [],
   "source": [
    "# select a set of background examples to take an expectation over\n",
    "background=train_X\n",
    "import pickle\n",
    "pickle.dump(background,open('background.random.p','wb'))\n",
    "pickle.dump(test_X,open('test_X.random.p','wb'))\n",
    "pickle.dump(test_y,open('test_y.random.p','wb'))\n",
    "pickle.dump(test_indices,open('test_indices.random.p','wb'))\n"
   ]
  },
  {
   "cell_type": "code",
   "execution_count": 36,
   "metadata": {
    "ExecuteTime": {
     "end_time": "2020-07-12T18:19:29.599303Z",
     "start_time": "2020-07-12T18:19:29.547178Z"
    }
   },
   "outputs": [],
   "source": [
    "#get preds on beal1\n",
    "beil1=pickle.load(open('../beal_inputs.p','rb'))"
   ]
  },
  {
   "cell_type": "code",
   "execution_count": 37,
   "metadata": {
    "ExecuteTime": {
     "end_time": "2020-07-12T18:19:29.651068Z",
     "start_time": "2020-07-12T18:19:29.600969Z"
    }
   },
   "outputs": [],
   "source": [
    "beil1_X=beil1['X']\n",
    "beil1_y=beil1['y']"
   ]
  },
  {
   "cell_type": "code",
   "execution_count": 38,
   "metadata": {
    "ExecuteTime": {
     "end_time": "2020-07-12T18:19:29.704666Z",
     "start_time": "2020-07-12T18:19:29.652622Z"
    }
   },
   "outputs": [
    {
     "data": {
      "text/plain": [
       "dict_keys(['HER1', 'PDR15', 'SPT6', 'SCT1', 'RSM28', 'GSY1', 'BDF2', 'GluR_B'])"
      ]
     },
     "execution_count": 38,
     "metadata": {},
     "output_type": "execute_result"
    }
   ],
   "source": [
    "beil1_y.keys()"
   ]
  },
  {
   "cell_type": "code",
   "execution_count": 39,
   "metadata": {
    "ExecuteTime": {
     "end_time": "2020-07-12T18:19:29.773555Z",
     "start_time": "2020-07-12T18:19:29.706539Z"
    }
   },
   "outputs": [],
   "source": [
    "beil1_X_0=[]\n",
    "beil1_X_1=[]\n",
    "beil1_y_all=[]\n",
    "names=[]\n",
    "for name in beil1_X: \n",
    "    names.append(name)\n",
    "    beil1_X_0.append(beil1_X[name][0])\n",
    "    beil1_X_1.append(beil1_X[name][1])\n",
    "    beil1_y_all.append(beil1_y[name])\n",
    "    \n"
   ]
  },
  {
   "cell_type": "code",
   "execution_count": 40,
   "metadata": {
    "ExecuteTime": {
     "end_time": "2020-07-12T18:19:29.834849Z",
     "start_time": "2020-07-12T18:19:29.776258Z"
    }
   },
   "outputs": [],
   "source": [
    "beil1_X_0=np.asarray(beil1_X_0)\n",
    "beil1_X_1=np.asarray(beil1_X_1)\n",
    "beil1_y_all=np.asarray(beil1_y_all)\n"
   ]
  },
  {
   "cell_type": "code",
   "execution_count": 41,
   "metadata": {
    "ExecuteTime": {
     "end_time": "2020-07-12T18:19:29.889628Z",
     "start_time": "2020-07-12T18:19:29.836536Z"
    }
   },
   "outputs": [
    {
     "data": {
      "text/plain": [
       "['HER1', 'PDR15', 'SPT6', 'SCT1', 'RSM28', 'GSY1', 'BDF2', 'GluR_B']"
      ]
     },
     "execution_count": 41,
     "metadata": {},
     "output_type": "execute_result"
    }
   ],
   "source": [
    "names"
   ]
  },
  {
   "cell_type": "code",
   "execution_count": 42,
   "metadata": {
    "ExecuteTime": {
     "end_time": "2020-07-12T18:19:29.959611Z",
     "start_time": "2020-07-12T18:19:29.891209Z"
    }
   },
   "outputs": [],
   "source": [
    "beil1_pred=model.predict([beil1_X_0,beil1_X_1],batch_size=128,max_queue_size=100,use_multiprocessing=True,workers=4)"
   ]
  },
  {
   "cell_type": "code",
   "execution_count": 43,
   "metadata": {
    "ExecuteTime": {
     "end_time": "2020-07-12T18:19:30.016085Z",
     "start_time": "2020-07-12T18:19:29.961780Z"
    }
   },
   "outputs": [
    {
     "data": {
      "text/plain": [
       "array([[0.10347357],\n",
       "       [0.04716853],\n",
       "       [0.04716853],\n",
       "       [0.04716853],\n",
       "       [0.04716853],\n",
       "       [0.04716853],\n",
       "       [0.04716853],\n",
       "       [0.04716853]], dtype=float32)"
      ]
     },
     "execution_count": 43,
     "metadata": {},
     "output_type": "execute_result"
    }
   ],
   "source": [
    "beil1_pred"
   ]
  },
  {
   "cell_type": "code",
   "execution_count": 44,
   "metadata": {
    "ExecuteTime": {
     "end_time": "2020-07-12T18:19:30.075041Z",
     "start_time": "2020-07-12T18:19:30.017704Z"
    }
   },
   "outputs": [
    {
     "data": {
      "text/plain": [
       "array([0.38, 0.4 , 0.28, 0.22, 0.26, 0.25, 0.22, 0.  ])"
      ]
     },
     "execution_count": 44,
     "metadata": {},
     "output_type": "execute_result"
    }
   ],
   "source": [
    "beil1_y_all"
   ]
  },
  {
   "cell_type": "code",
   "execution_count": 45,
   "metadata": {
    "ExecuteTime": {
     "end_time": "2020-07-12T18:19:30.134003Z",
     "start_time": "2020-07-12T18:19:30.076799Z"
    }
   },
   "outputs": [
    {
     "data": {
      "text/plain": [
       "(8, 1)"
      ]
     },
     "execution_count": 45,
     "metadata": {},
     "output_type": "execute_result"
    }
   ],
   "source": [
    "beil1_pred.shape"
   ]
  },
  {
   "cell_type": "code",
   "execution_count": 46,
   "metadata": {
    "ExecuteTime": {
     "end_time": "2020-07-12T18:19:30.191601Z",
     "start_time": "2020-07-12T18:19:30.135898Z"
    }
   },
   "outputs": [],
   "source": [
    "import plotnine\n",
    "from plotnine import *\n",
    "test_df=pd.DataFrame({'Observed':beil1_y_all,\n",
    "                     'Predicted':beil1_pred.squeeze(),\n",
    "                     'Dataset':names})"
   ]
  },
  {
   "cell_type": "code",
   "execution_count": 47,
   "metadata": {
    "ExecuteTime": {
     "end_time": "2020-07-12T18:19:30.251578Z",
     "start_time": "2020-07-12T18:19:30.193268Z"
    }
   },
   "outputs": [
    {
     "data": {
      "text/html": [
       "<div>\n",
       "<style scoped>\n",
       "    .dataframe tbody tr th:only-of-type {\n",
       "        vertical-align: middle;\n",
       "    }\n",
       "\n",
       "    .dataframe tbody tr th {\n",
       "        vertical-align: top;\n",
       "    }\n",
       "\n",
       "    .dataframe thead th {\n",
       "        text-align: right;\n",
       "    }\n",
       "</style>\n",
       "<table border=\"1\" class=\"dataframe\">\n",
       "  <thead>\n",
       "    <tr style=\"text-align: right;\">\n",
       "      <th></th>\n",
       "      <th>Observed</th>\n",
       "      <th>Predicted</th>\n",
       "      <th>Dataset</th>\n",
       "    </tr>\n",
       "  </thead>\n",
       "  <tbody>\n",
       "    <tr>\n",
       "      <th>0</th>\n",
       "      <td>0.38</td>\n",
       "      <td>0.103474</td>\n",
       "      <td>HER1</td>\n",
       "    </tr>\n",
       "    <tr>\n",
       "      <th>1</th>\n",
       "      <td>0.40</td>\n",
       "      <td>0.047169</td>\n",
       "      <td>PDR15</td>\n",
       "    </tr>\n",
       "    <tr>\n",
       "      <th>2</th>\n",
       "      <td>0.28</td>\n",
       "      <td>0.047169</td>\n",
       "      <td>SPT6</td>\n",
       "    </tr>\n",
       "    <tr>\n",
       "      <th>3</th>\n",
       "      <td>0.22</td>\n",
       "      <td>0.047169</td>\n",
       "      <td>SCT1</td>\n",
       "    </tr>\n",
       "    <tr>\n",
       "      <th>4</th>\n",
       "      <td>0.26</td>\n",
       "      <td>0.047169</td>\n",
       "      <td>RSM28</td>\n",
       "    </tr>\n",
       "    <tr>\n",
       "      <th>5</th>\n",
       "      <td>0.25</td>\n",
       "      <td>0.047169</td>\n",
       "      <td>GSY1</td>\n",
       "    </tr>\n",
       "    <tr>\n",
       "      <th>6</th>\n",
       "      <td>0.22</td>\n",
       "      <td>0.047169</td>\n",
       "      <td>BDF2</td>\n",
       "    </tr>\n",
       "    <tr>\n",
       "      <th>7</th>\n",
       "      <td>0.00</td>\n",
       "      <td>0.047169</td>\n",
       "      <td>GluR_B</td>\n",
       "    </tr>\n",
       "  </tbody>\n",
       "</table>\n",
       "</div>"
      ],
      "text/plain": [
       "   Observed  Predicted Dataset\n",
       "0      0.38   0.103474    HER1\n",
       "1      0.40   0.047169   PDR15\n",
       "2      0.28   0.047169    SPT6\n",
       "3      0.22   0.047169    SCT1\n",
       "4      0.26   0.047169   RSM28\n",
       "5      0.25   0.047169    GSY1\n",
       "6      0.22   0.047169    BDF2\n",
       "7      0.00   0.047169  GluR_B"
      ]
     },
     "execution_count": 47,
     "metadata": {},
     "output_type": "execute_result"
    }
   ],
   "source": [
    "test_df"
   ]
  },
  {
   "cell_type": "code",
   "execution_count": 48,
   "metadata": {
    "ExecuteTime": {
     "end_time": "2020-07-12T18:19:31.260381Z",
     "start_time": "2020-07-12T18:19:30.253149Z"
    }
   },
   "outputs": [
    {
     "data": {
      "image/png": "[encoded data removed]",
      "text/plain": [
       "<Figure size 400x400 with 1 Axes>"
      ]
     },
     "metadata": {},
     "output_type": "display_data"
    },
    {
     "name": "stdout",
     "output_type": "stream",
     "text": [
      "<ggplot: (8753447237433)>\n"
     ]
    },
    {
     "name": "stderr",
     "output_type": "stream",
     "text": [
      "/users/annashch/miniconda3/lib/python3.7/site-packages/plotnine/ggplot.py:729: PlotnineWarning: Saving 5 x 5 in image.\n",
      "  from_inches(height, units), units), PlotnineWarning)\n",
      "/users/annashch/miniconda3/lib/python3.7/site-packages/plotnine/ggplot.py:730: PlotnineWarning: Filename: nn_Beal.pdf\n",
      "  warn('Filename: {}'.format(filename), PlotnineWarning)\n"
     ]
    }
   ],
   "source": [
    "plotnine.options.figure_size = (4, 4)\n",
    "\n",
    "p=(ggplot(test_df, aes('Observed', 'Predicted', label='factor(Dataset)'))\n",
    " + geom_point()\n",
    " + geom_text()\n",
    " + stat_smooth(method='lm')\n",
    " + theme(legend_position=\"bottom\"))\n",
    "\n",
    "print(p)\n",
    "p.save(filename = 'nn_Beal.pdf', height=5, width=5, units = 'in', dpi=1000)\n"
   ]
  },
  {
   "cell_type": "code",
   "execution_count": null,
   "metadata": {},
   "outputs": [],
   "source": []
  },
  {
   "cell_type": "code",
   "execution_count": null,
   "metadata": {},
   "outputs": [],
   "source": []
  }
 ],
 "metadata": {
  "kernelspec": {
   "display_name": "Python 3",
   "language": "python",
   "name": "python3"
  },
  "language_info": {
   "codemirror_mode": {
    "name": "ipython",
    "version": 3
   },
   "file_extension": ".py",
   "mimetype": "text/x-python",
   "name": "python",
   "nbconvert_exporter": "python",
   "pygments_lexer": "ipython3",
   "version": "3.7.6"
  }
 },
 "nbformat": 4,
 "nbformat_minor": 4
}
