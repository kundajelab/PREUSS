{
 "cells": [
  {
   "cell_type": "markdown",
   "metadata": {
    "colab_type": "text",
    "id": "view-in-github"
   },
   "source": [
    "<a href=\"https://colab.research.google.com/github/kundajelab/adar_editing/blob/master/xgboost_with_shap/NEIL1_XGBOOST_WITH_TREESHAP.ipynb\" target=\"_parent\"><img src=\"https://colab.research.google.com/assets/colab-badge.svg\" alt=\"Open In Colab\"/></a>"
   ]
  },
  {
   "cell_type": "code",
   "execution_count": 1,
   "metadata": {
    "ExecuteTime": {
     "end_time": "2020-06-20T21:10:03.789140Z",
     "start_time": "2020-06-20T21:10:03.386033Z"
    }
   },
   "outputs": [],
   "source": [
    "%load_ext autoreload\n",
    "%autoreload 2   "
   ]
  },
  {
   "cell_type": "code",
   "execution_count": 2,
   "metadata": {
    "ExecuteTime": {
     "end_time": "2020-06-20T21:10:09.185087Z",
     "start_time": "2020-06-20T21:10:04.416889Z"
    },
    "colab": {
     "base_uri": "https://localhost:8080/",
     "height": 43
    },
    "colab_type": "code",
    "id": "zLG9LI0sk0f6",
    "outputId": "1f408075-dce1-4595-d3f8-76933d43a627"
   },
   "outputs": [],
   "source": [
    "#helper utilities for model training and interpretation \n",
    "import sys \n",
    "sys.path.append('../xgboost_with_shap/')\n",
    "\n",
    "from helpers import * \n",
    "import numpy as np\n",
    "\n",
    "from plotnine import * \n",
    "import pandas as pd \n"
   ]
  },
  {
   "cell_type": "code",
   "execution_count": 3,
   "metadata": {
    "ExecuteTime": {
     "end_time": "2020-06-20T21:10:14.735914Z",
     "start_time": "2020-06-20T21:10:14.700964Z"
    },
    "colab": {},
    "colab_type": "code",
    "id": "NvDrh9gck0jA"
   },
   "outputs": [],
   "source": [
    "data=pd.read_csv(\"../xin_feature_matrices/ajuba_bc_computational.features.csv\",header=0,sep=',')"
   ]
  },
  {
   "cell_type": "code",
   "execution_count": 4,
   "metadata": {
    "ExecuteTime": {
     "end_time": "2020-06-20T21:10:16.026129Z",
     "start_time": "2020-06-20T21:10:15.984152Z"
    }
   },
   "outputs": [
    {
     "data": {
      "text/html": [
       "<div>\n",
       "<style scoped>\n",
       "    .dataframe tbody tr th:only-of-type {\n",
       "        vertical-align: middle;\n",
       "    }\n",
       "\n",
       "    .dataframe tbody tr th {\n",
       "        vertical-align: top;\n",
       "    }\n",
       "\n",
       "    .dataframe thead th {\n",
       "        text-align: right;\n",
       "    }\n",
       "</style>\n",
       "<table border=\"1\" class=\"dataframe\">\n",
       "  <thead>\n",
       "    <tr style=\"text-align: right;\">\n",
       "      <th></th>\n",
       "      <th>rna_id</th>\n",
       "      <th>editing_value</th>\n",
       "      <th>minimum_free_energy</th>\n",
       "      <th>ensemble_free_energy</th>\n",
       "      <th>mfe_frequency</th>\n",
       "      <th>ensemble_diversity</th>\n",
       "      <th>sim_nor_score</th>\n",
       "      <th>probability_active_conf</th>\n",
       "      <th>num_mutations</th>\n",
       "      <th>mut_exist</th>\n",
       "      <th>...</th>\n",
       "      <th>d3_length_stem</th>\n",
       "      <th>d3_length_hairpin</th>\n",
       "      <th>d3_length_bulge</th>\n",
       "      <th>d3_length_internal_es</th>\n",
       "      <th>d3_length_internal_ecs</th>\n",
       "      <th>d3_5prm_cp_hairpin</th>\n",
       "      <th>d3_5prm_cp_bulge</th>\n",
       "      <th>d3_3prm_cp_bulge</th>\n",
       "      <th>d3_5prm_cp_internal</th>\n",
       "      <th>d3_3prm_cp_internal</th>\n",
       "    </tr>\n",
       "  </thead>\n",
       "  <tbody>\n",
       "    <tr>\n",
       "      <th>0</th>\n",
       "      <td>AJUBA_BC_000</td>\n",
       "      <td>0.3510</td>\n",
       "      <td>-69.4</td>\n",
       "      <td>-70.57</td>\n",
       "      <td>0.150318</td>\n",
       "      <td>4.29</td>\n",
       "      <td>1.0000</td>\n",
       "      <td>0.142274</td>\n",
       "      <td>0</td>\n",
       "      <td>0</td>\n",
       "      <td>...</td>\n",
       "      <td>6</td>\n",
       "      <td>NaN</td>\n",
       "      <td>NaN</td>\n",
       "      <td>NaN</td>\n",
       "      <td>NaN</td>\n",
       "      <td>NaN</td>\n",
       "      <td>NaN</td>\n",
       "      <td>NaN</td>\n",
       "      <td>NaN</td>\n",
       "      <td>NaN</td>\n",
       "    </tr>\n",
       "    <tr>\n",
       "      <th>1</th>\n",
       "      <td>AJUBA_BC_001</td>\n",
       "      <td>0.2810</td>\n",
       "      <td>-68.4</td>\n",
       "      <td>-69.67</td>\n",
       "      <td>0.126388</td>\n",
       "      <td>4.58</td>\n",
       "      <td>0.9150</td>\n",
       "      <td>0.120432</td>\n",
       "      <td>1</td>\n",
       "      <td>1</td>\n",
       "      <td>...</td>\n",
       "      <td>15</td>\n",
       "      <td>NaN</td>\n",
       "      <td>NaN</td>\n",
       "      <td>NaN</td>\n",
       "      <td>NaN</td>\n",
       "      <td>NaN</td>\n",
       "      <td>NaN</td>\n",
       "      <td>NaN</td>\n",
       "      <td>NaN</td>\n",
       "      <td>NaN</td>\n",
       "    </tr>\n",
       "    <tr>\n",
       "      <th>2</th>\n",
       "      <td>AJUBA_BC_002</td>\n",
       "      <td>0.2050</td>\n",
       "      <td>-66.4</td>\n",
       "      <td>-67.58</td>\n",
       "      <td>0.148275</td>\n",
       "      <td>4.33</td>\n",
       "      <td>0.9922</td>\n",
       "      <td>0.069961</td>\n",
       "      <td>1</td>\n",
       "      <td>1</td>\n",
       "      <td>...</td>\n",
       "      <td>5</td>\n",
       "      <td>NaN</td>\n",
       "      <td>NaN</td>\n",
       "      <td>NaN</td>\n",
       "      <td>NaN</td>\n",
       "      <td>NaN</td>\n",
       "      <td>NaN</td>\n",
       "      <td>NaN</td>\n",
       "      <td>NaN</td>\n",
       "      <td>NaN</td>\n",
       "    </tr>\n",
       "    <tr>\n",
       "      <th>3</th>\n",
       "      <td>AJUBA_BC_003</td>\n",
       "      <td>0.0990</td>\n",
       "      <td>-66.5</td>\n",
       "      <td>-67.71</td>\n",
       "      <td>0.139993</td>\n",
       "      <td>4.42</td>\n",
       "      <td>1.0000</td>\n",
       "      <td>0.133098</td>\n",
       "      <td>1</td>\n",
       "      <td>1</td>\n",
       "      <td>...</td>\n",
       "      <td>6</td>\n",
       "      <td>NaN</td>\n",
       "      <td>NaN</td>\n",
       "      <td>NaN</td>\n",
       "      <td>NaN</td>\n",
       "      <td>NaN</td>\n",
       "      <td>NaN</td>\n",
       "      <td>NaN</td>\n",
       "      <td>NaN</td>\n",
       "      <td>NaN</td>\n",
       "    </tr>\n",
       "    <tr>\n",
       "      <th>4</th>\n",
       "      <td>AJUBA_BC_004</td>\n",
       "      <td>0.0745</td>\n",
       "      <td>-66.4</td>\n",
       "      <td>-67.57</td>\n",
       "      <td>0.150056</td>\n",
       "      <td>4.29</td>\n",
       "      <td>1.0000</td>\n",
       "      <td>0.142274</td>\n",
       "      <td>1</td>\n",
       "      <td>1</td>\n",
       "      <td>...</td>\n",
       "      <td>6</td>\n",
       "      <td>NaN</td>\n",
       "      <td>NaN</td>\n",
       "      <td>NaN</td>\n",
       "      <td>NaN</td>\n",
       "      <td>NaN</td>\n",
       "      <td>NaN</td>\n",
       "      <td>NaN</td>\n",
       "      <td>NaN</td>\n",
       "      <td>NaN</td>\n",
       "    </tr>\n",
       "  </tbody>\n",
       "</table>\n",
       "<p>5 rows × 127 columns</p>\n",
       "</div>"
      ],
      "text/plain": [
       "         rna_id  editing_value  minimum_free_energy  ensemble_free_energy  \\\n",
       "0  AJUBA_BC_000         0.3510                -69.4                -70.57   \n",
       "1  AJUBA_BC_001         0.2810                -68.4                -69.67   \n",
       "2  AJUBA_BC_002         0.2050                -66.4                -67.58   \n",
       "3  AJUBA_BC_003         0.0990                -66.5                -67.71   \n",
       "4  AJUBA_BC_004         0.0745                -66.4                -67.57   \n",
       "\n",
       "   mfe_frequency  ensemble_diversity  sim_nor_score  probability_active_conf  \\\n",
       "0       0.150318                4.29         1.0000                 0.142274   \n",
       "1       0.126388                4.58         0.9150                 0.120432   \n",
       "2       0.148275                4.33         0.9922                 0.069961   \n",
       "3       0.139993                4.42         1.0000                 0.133098   \n",
       "4       0.150056                4.29         1.0000                 0.142274   \n",
       "\n",
       "   num_mutations  mut_exist  ... d3_length_stem  d3_length_hairpin  \\\n",
       "0              0          0  ...              6                NaN   \n",
       "1              1          1  ...             15                NaN   \n",
       "2              1          1  ...              5                NaN   \n",
       "3              1          1  ...              6                NaN   \n",
       "4              1          1  ...              6                NaN   \n",
       "\n",
       "   d3_length_bulge d3_length_internal_es d3_length_internal_ecs  \\\n",
       "0              NaN                   NaN                    NaN   \n",
       "1              NaN                   NaN                    NaN   \n",
       "2              NaN                   NaN                    NaN   \n",
       "3              NaN                   NaN                    NaN   \n",
       "4              NaN                   NaN                    NaN   \n",
       "\n",
       "  d3_5prm_cp_hairpin d3_5prm_cp_bulge d3_3prm_cp_bulge d3_5prm_cp_internal  \\\n",
       "0                NaN              NaN              NaN                 NaN   \n",
       "1                NaN              NaN              NaN                 NaN   \n",
       "2                NaN              NaN              NaN                 NaN   \n",
       "3                NaN              NaN              NaN                 NaN   \n",
       "4                NaN              NaN              NaN                 NaN   \n",
       "\n",
       "   d3_3prm_cp_internal  \n",
       "0                  NaN  \n",
       "1                  NaN  \n",
       "2                  NaN  \n",
       "3                  NaN  \n",
       "4                  NaN  \n",
       "\n",
       "[5 rows x 127 columns]"
      ]
     },
     "execution_count": 4,
     "metadata": {},
     "output_type": "execute_result"
    }
   ],
   "source": [
    "data.head()"
   ]
  },
  {
   "cell_type": "code",
   "execution_count": 5,
   "metadata": {
    "ExecuteTime": {
     "end_time": "2020-06-20T21:10:18.297303Z",
     "start_time": "2020-06-20T21:10:18.288838Z"
    },
    "colab": {},
    "colab_type": "code",
    "id": "PhUOGyKuk0jC"
   },
   "outputs": [],
   "source": [
    "#remove any null editing level values \n",
    "data=data[~data[\"editing_value\"].isnull().values]"
   ]
  },
  {
   "cell_type": "code",
   "execution_count": 6,
   "metadata": {
    "ExecuteTime": {
     "end_time": "2020-06-20T21:10:24.092411Z",
     "start_time": "2020-06-20T21:10:24.060894Z"
    }
   },
   "outputs": [],
   "source": [
    "data['editing_value']=(data['editing_value']-0.35)/np.std(data['editing_value']-0.35)"
   ]
  },
  {
   "cell_type": "code",
   "execution_count": 7,
   "metadata": {
    "ExecuteTime": {
     "end_time": "2020-06-20T21:10:25.802014Z",
     "start_time": "2020-06-20T21:10:25.076890Z"
    },
    "colab": {},
    "colab_type": "code",
    "id": "2zaHl8clk0jE"
   },
   "outputs": [
    {
     "name": "stderr",
     "output_type": "stream",
     "text": [
      "../xgboost_with_shap/helpers.py:103: SettingWithCopyWarning: \n",
      "A value is trying to be set on a copy of a slice from a DataFrame\n",
      "\n",
      "See the caveats in the documentation: https://pandas.pydata.org/pandas-docs/stable/user_guide/indexing.html#returning-a-view-versus-a-copy\n",
      "  feature[pd.isna(feature)]=\"NA\"\n",
      "../xgboost_with_shap/helpers.py:103: SettingWithCopyWarning: \n",
      "A value is trying to be set on a copy of a slice from a DataFrame\n",
      "\n",
      "See the caveats in the documentation: https://pandas.pydata.org/pandas-docs/stable/user_guide/indexing.html#returning-a-view-versus-a-copy\n",
      "  feature[pd.isna(feature)]=\"NA\"\n",
      "../xgboost_with_shap/helpers.py:103: SettingWithCopyWarning: \n",
      "A value is trying to be set on a copy of a slice from a DataFrame\n",
      "\n",
      "See the caveats in the documentation: https://pandas.pydata.org/pandas-docs/stable/user_guide/indexing.html#returning-a-view-versus-a-copy\n",
      "  feature[pd.isna(feature)]=\"NA\"\n",
      "../xgboost_with_shap/helpers.py:103: SettingWithCopyWarning: \n",
      "A value is trying to be set on a copy of a slice from a DataFrame\n",
      "\n",
      "See the caveats in the documentation: https://pandas.pydata.org/pandas-docs/stable/user_guide/indexing.html#returning-a-view-versus-a-copy\n",
      "  feature[pd.isna(feature)]=\"NA\"\n",
      "../xgboost_with_shap/helpers.py:103: SettingWithCopyWarning: \n",
      "A value is trying to be set on a copy of a slice from a DataFrame\n",
      "\n",
      "See the caveats in the documentation: https://pandas.pydata.org/pandas-docs/stable/user_guide/indexing.html#returning-a-view-versus-a-copy\n",
      "  feature[pd.isna(feature)]=\"NA\"\n",
      "../xgboost_with_shap/helpers.py:103: SettingWithCopyWarning: \n",
      "A value is trying to be set on a copy of a slice from a DataFrame\n",
      "\n",
      "See the caveats in the documentation: https://pandas.pydata.org/pandas-docs/stable/user_guide/indexing.html#returning-a-view-versus-a-copy\n",
      "  feature[pd.isna(feature)]=\"NA\"\n",
      "../xgboost_with_shap/helpers.py:103: SettingWithCopyWarning: \n",
      "A value is trying to be set on a copy of a slice from a DataFrame\n",
      "\n",
      "See the caveats in the documentation: https://pandas.pydata.org/pandas-docs/stable/user_guide/indexing.html#returning-a-view-versus-a-copy\n",
      "  feature[pd.isna(feature)]=\"NA\"\n",
      "../xgboost_with_shap/helpers.py:103: SettingWithCopyWarning: \n",
      "A value is trying to be set on a copy of a slice from a DataFrame\n",
      "\n",
      "See the caveats in the documentation: https://pandas.pydata.org/pandas-docs/stable/user_guide/indexing.html#returning-a-view-versus-a-copy\n",
      "  feature[pd.isna(feature)]=\"NA\"\n",
      "../xgboost_with_shap/helpers.py:103: SettingWithCopyWarning: \n",
      "A value is trying to be set on a copy of a slice from a DataFrame\n",
      "\n",
      "See the caveats in the documentation: https://pandas.pydata.org/pandas-docs/stable/user_guide/indexing.html#returning-a-view-versus-a-copy\n",
      "  feature[pd.isna(feature)]=\"NA\"\n",
      "../xgboost_with_shap/helpers.py:103: SettingWithCopyWarning: \n",
      "A value is trying to be set on a copy of a slice from a DataFrame\n",
      "\n",
      "See the caveats in the documentation: https://pandas.pydata.org/pandas-docs/stable/user_guide/indexing.html#returning-a-view-versus-a-copy\n",
      "  feature[pd.isna(feature)]=\"NA\"\n",
      "../xgboost_with_shap/helpers.py:103: SettingWithCopyWarning: \n",
      "A value is trying to be set on a copy of a slice from a DataFrame\n",
      "\n",
      "See the caveats in the documentation: https://pandas.pydata.org/pandas-docs/stable/user_guide/indexing.html#returning-a-view-versus-a-copy\n",
      "  feature[pd.isna(feature)]=\"NA\"\n",
      "../xgboost_with_shap/helpers.py:103: SettingWithCopyWarning: \n",
      "A value is trying to be set on a copy of a slice from a DataFrame\n",
      "\n",
      "See the caveats in the documentation: https://pandas.pydata.org/pandas-docs/stable/user_guide/indexing.html#returning-a-view-versus-a-copy\n",
      "  feature[pd.isna(feature)]=\"NA\"\n",
      "../xgboost_with_shap/helpers.py:103: SettingWithCopyWarning: \n",
      "A value is trying to be set on a copy of a slice from a DataFrame\n",
      "\n",
      "See the caveats in the documentation: https://pandas.pydata.org/pandas-docs/stable/user_guide/indexing.html#returning-a-view-versus-a-copy\n",
      "  feature[pd.isna(feature)]=\"NA\"\n",
      "../xgboost_with_shap/helpers.py:103: SettingWithCopyWarning: \n",
      "A value is trying to be set on a copy of a slice from a DataFrame\n",
      "\n",
      "See the caveats in the documentation: https://pandas.pydata.org/pandas-docs/stable/user_guide/indexing.html#returning-a-view-versus-a-copy\n",
      "  feature[pd.isna(feature)]=\"NA\"\n",
      "../xgboost_with_shap/helpers.py:103: SettingWithCopyWarning: \n",
      "A value is trying to be set on a copy of a slice from a DataFrame\n",
      "\n",
      "See the caveats in the documentation: https://pandas.pydata.org/pandas-docs/stable/user_guide/indexing.html#returning-a-view-versus-a-copy\n",
      "  feature[pd.isna(feature)]=\"NA\"\n",
      "../xgboost_with_shap/helpers.py:103: SettingWithCopyWarning: \n",
      "A value is trying to be set on a copy of a slice from a DataFrame\n",
      "\n",
      "See the caveats in the documentation: https://pandas.pydata.org/pandas-docs/stable/user_guide/indexing.html#returning-a-view-versus-a-copy\n",
      "  feature[pd.isna(feature)]=\"NA\"\n",
      "../xgboost_with_shap/helpers.py:103: SettingWithCopyWarning: \n",
      "A value is trying to be set on a copy of a slice from a DataFrame\n",
      "\n",
      "See the caveats in the documentation: https://pandas.pydata.org/pandas-docs/stable/user_guide/indexing.html#returning-a-view-versus-a-copy\n",
      "  feature[pd.isna(feature)]=\"NA\"\n",
      "../xgboost_with_shap/helpers.py:103: SettingWithCopyWarning: \n",
      "A value is trying to be set on a copy of a slice from a DataFrame\n",
      "\n",
      "See the caveats in the documentation: https://pandas.pydata.org/pandas-docs/stable/user_guide/indexing.html#returning-a-view-versus-a-copy\n",
      "  feature[pd.isna(feature)]=\"NA\"\n",
      "../xgboost_with_shap/helpers.py:103: SettingWithCopyWarning: \n",
      "A value is trying to be set on a copy of a slice from a DataFrame\n",
      "\n",
      "See the caveats in the documentation: https://pandas.pydata.org/pandas-docs/stable/user_guide/indexing.html#returning-a-view-versus-a-copy\n",
      "  feature[pd.isna(feature)]=\"NA\"\n",
      "../xgboost_with_shap/helpers.py:103: SettingWithCopyWarning: \n",
      "A value is trying to be set on a copy of a slice from a DataFrame\n",
      "\n",
      "See the caveats in the documentation: https://pandas.pydata.org/pandas-docs/stable/user_guide/indexing.html#returning-a-view-versus-a-copy\n",
      "  feature[pd.isna(feature)]=\"NA\"\n",
      "../xgboost_with_shap/helpers.py:103: SettingWithCopyWarning: \n",
      "A value is trying to be set on a copy of a slice from a DataFrame\n",
      "\n",
      "See the caveats in the documentation: https://pandas.pydata.org/pandas-docs/stable/user_guide/indexing.html#returning-a-view-versus-a-copy\n",
      "  feature[pd.isna(feature)]=\"NA\"\n",
      "../xgboost_with_shap/helpers.py:103: SettingWithCopyWarning: \n",
      "A value is trying to be set on a copy of a slice from a DataFrame\n",
      "\n",
      "See the caveats in the documentation: https://pandas.pydata.org/pandas-docs/stable/user_guide/indexing.html#returning-a-view-versus-a-copy\n",
      "  feature[pd.isna(feature)]=\"NA\"\n",
      "../xgboost_with_shap/helpers.py:103: SettingWithCopyWarning: \n",
      "A value is trying to be set on a copy of a slice from a DataFrame\n",
      "\n",
      "See the caveats in the documentation: https://pandas.pydata.org/pandas-docs/stable/user_guide/indexing.html#returning-a-view-versus-a-copy\n",
      "  feature[pd.isna(feature)]=\"NA\"\n",
      "../xgboost_with_shap/helpers.py:103: SettingWithCopyWarning: \n",
      "A value is trying to be set on a copy of a slice from a DataFrame\n",
      "\n",
      "See the caveats in the documentation: https://pandas.pydata.org/pandas-docs/stable/user_guide/indexing.html#returning-a-view-versus-a-copy\n",
      "  feature[pd.isna(feature)]=\"NA\"\n",
      "../xgboost_with_shap/helpers.py:103: SettingWithCopyWarning: \n",
      "A value is trying to be set on a copy of a slice from a DataFrame\n",
      "\n",
      "See the caveats in the documentation: https://pandas.pydata.org/pandas-docs/stable/user_guide/indexing.html#returning-a-view-versus-a-copy\n",
      "  feature[pd.isna(feature)]=\"NA\"\n",
      "../xgboost_with_shap/helpers.py:103: SettingWithCopyWarning: \n",
      "A value is trying to be set on a copy of a slice from a DataFrame\n",
      "\n",
      "See the caveats in the documentation: https://pandas.pydata.org/pandas-docs/stable/user_guide/indexing.html#returning-a-view-versus-a-copy\n",
      "  feature[pd.isna(feature)]=\"NA\"\n",
      "../xgboost_with_shap/helpers.py:103: SettingWithCopyWarning: \n",
      "A value is trying to be set on a copy of a slice from a DataFrame\n",
      "\n",
      "See the caveats in the documentation: https://pandas.pydata.org/pandas-docs/stable/user_guide/indexing.html#returning-a-view-versus-a-copy\n",
      "  feature[pd.isna(feature)]=\"NA\"\n",
      "../xgboost_with_shap/helpers.py:103: SettingWithCopyWarning: \n",
      "A value is trying to be set on a copy of a slice from a DataFrame\n",
      "\n",
      "See the caveats in the documentation: https://pandas.pydata.org/pandas-docs/stable/user_guide/indexing.html#returning-a-view-versus-a-copy\n",
      "  feature[pd.isna(feature)]=\"NA\"\n",
      "../xgboost_with_shap/helpers.py:103: SettingWithCopyWarning: \n",
      "A value is trying to be set on a copy of a slice from a DataFrame\n",
      "\n",
      "See the caveats in the documentation: https://pandas.pydata.org/pandas-docs/stable/user_guide/indexing.html#returning-a-view-versus-a-copy\n",
      "  feature[pd.isna(feature)]=\"NA\"\n",
      "../xgboost_with_shap/helpers.py:103: SettingWithCopyWarning: \n",
      "A value is trying to be set on a copy of a slice from a DataFrame\n",
      "\n",
      "See the caveats in the documentation: https://pandas.pydata.org/pandas-docs/stable/user_guide/indexing.html#returning-a-view-versus-a-copy\n",
      "  feature[pd.isna(feature)]=\"NA\"\n",
      "../xgboost_with_shap/helpers.py:103: SettingWithCopyWarning: \n",
      "A value is trying to be set on a copy of a slice from a DataFrame\n",
      "\n",
      "See the caveats in the documentation: https://pandas.pydata.org/pandas-docs/stable/user_guide/indexing.html#returning-a-view-versus-a-copy\n",
      "  feature[pd.isna(feature)]=\"NA\"\n",
      "../xgboost_with_shap/helpers.py:103: SettingWithCopyWarning: \n",
      "A value is trying to be set on a copy of a slice from a DataFrame\n",
      "\n",
      "See the caveats in the documentation: https://pandas.pydata.org/pandas-docs/stable/user_guide/indexing.html#returning-a-view-versus-a-copy\n",
      "  feature[pd.isna(feature)]=\"NA\"\n",
      "../xgboost_with_shap/helpers.py:103: SettingWithCopyWarning: \n",
      "A value is trying to be set on a copy of a slice from a DataFrame\n",
      "\n",
      "See the caveats in the documentation: https://pandas.pydata.org/pandas-docs/stable/user_guide/indexing.html#returning-a-view-versus-a-copy\n",
      "  feature[pd.isna(feature)]=\"NA\"\n"
     ]
    },
    {
     "name": "stderr",
     "output_type": "stream",
     "text": [
      "../xgboost_with_shap/helpers.py:103: SettingWithCopyWarning: \n",
      "A value is trying to be set on a copy of a slice from a DataFrame\n",
      "\n",
      "See the caveats in the documentation: https://pandas.pydata.org/pandas-docs/stable/user_guide/indexing.html#returning-a-view-versus-a-copy\n",
      "  feature[pd.isna(feature)]=\"NA\"\n",
      "../xgboost_with_shap/helpers.py:103: SettingWithCopyWarning: \n",
      "A value is trying to be set on a copy of a slice from a DataFrame\n",
      "\n",
      "See the caveats in the documentation: https://pandas.pydata.org/pandas-docs/stable/user_guide/indexing.html#returning-a-view-versus-a-copy\n",
      "  feature[pd.isna(feature)]=\"NA\"\n",
      "../xgboost_with_shap/helpers.py:103: SettingWithCopyWarning: \n",
      "A value is trying to be set on a copy of a slice from a DataFrame\n",
      "\n",
      "See the caveats in the documentation: https://pandas.pydata.org/pandas-docs/stable/user_guide/indexing.html#returning-a-view-versus-a-copy\n",
      "  feature[pd.isna(feature)]=\"NA\"\n",
      "../xgboost_with_shap/helpers.py:103: SettingWithCopyWarning: \n",
      "A value is trying to be set on a copy of a slice from a DataFrame\n",
      "\n",
      "See the caveats in the documentation: https://pandas.pydata.org/pandas-docs/stable/user_guide/indexing.html#returning-a-view-versus-a-copy\n",
      "  feature[pd.isna(feature)]=\"NA\"\n",
      "../xgboost_with_shap/helpers.py:103: SettingWithCopyWarning: \n",
      "A value is trying to be set on a copy of a slice from a DataFrame\n",
      "\n",
      "See the caveats in the documentation: https://pandas.pydata.org/pandas-docs/stable/user_guide/indexing.html#returning-a-view-versus-a-copy\n",
      "  feature[pd.isna(feature)]=\"NA\"\n",
      "../xgboost_with_shap/helpers.py:103: SettingWithCopyWarning: \n",
      "A value is trying to be set on a copy of a slice from a DataFrame\n",
      "\n",
      "See the caveats in the documentation: https://pandas.pydata.org/pandas-docs/stable/user_guide/indexing.html#returning-a-view-versus-a-copy\n",
      "  feature[pd.isna(feature)]=\"NA\"\n",
      "../xgboost_with_shap/helpers.py:103: SettingWithCopyWarning: \n",
      "A value is trying to be set on a copy of a slice from a DataFrame\n",
      "\n",
      "See the caveats in the documentation: https://pandas.pydata.org/pandas-docs/stable/user_guide/indexing.html#returning-a-view-versus-a-copy\n",
      "  feature[pd.isna(feature)]=\"NA\"\n"
     ]
    },
    {
     "name": "stdout",
     "output_type": "stream",
     "text": [
      "(482, 466)\n"
     ]
    }
   ],
   "source": [
    "data=format_for_xgboost(data)"
   ]
  },
  {
   "cell_type": "code",
   "execution_count": 8,
   "metadata": {
    "ExecuteTime": {
     "end_time": "2020-06-20T21:10:25.867559Z",
     "start_time": "2020-06-20T21:10:25.838494Z"
    }
   },
   "outputs": [
    {
     "data": {
      "text/html": [
       "<div>\n",
       "<style scoped>\n",
       "    .dataframe tbody tr th:only-of-type {\n",
       "        vertical-align: middle;\n",
       "    }\n",
       "\n",
       "    .dataframe tbody tr th {\n",
       "        vertical-align: top;\n",
       "    }\n",
       "\n",
       "    .dataframe thead th {\n",
       "        text-align: right;\n",
       "    }\n",
       "</style>\n",
       "<table border=\"1\" class=\"dataframe\">\n",
       "  <thead>\n",
       "    <tr style=\"text-align: right;\">\n",
       "      <th></th>\n",
       "      <th>rna_id:AJUBA_BC_000</th>\n",
       "      <th>rna_id:AJUBA_BC_001</th>\n",
       "      <th>rna_id:AJUBA_BC_002</th>\n",
       "      <th>rna_id:AJUBA_BC_003</th>\n",
       "      <th>rna_id:AJUBA_BC_004</th>\n",
       "      <th>rna_id:AJUBA_BC_005</th>\n",
       "      <th>rna_id:AJUBA_BC_006</th>\n",
       "      <th>rna_id:AJUBA_BC_007</th>\n",
       "      <th>rna_id:AJUBA_BC_008</th>\n",
       "      <th>rna_id:AJUBA_BC_009</th>\n",
       "      <th>...</th>\n",
       "      <th>d3_length_stem</th>\n",
       "      <th>d3_length_hairpin</th>\n",
       "      <th>d3_length_bulge</th>\n",
       "      <th>d3_length_internal_es</th>\n",
       "      <th>d3_length_internal_ecs</th>\n",
       "      <th>d3_5prm_cp_hairpin</th>\n",
       "      <th>d3_5prm_cp_bulge</th>\n",
       "      <th>d3_3prm_cp_bulge</th>\n",
       "      <th>d3_5prm_cp_internal</th>\n",
       "      <th>d3_3prm_cp_internal</th>\n",
       "    </tr>\n",
       "  </thead>\n",
       "  <tbody>\n",
       "    <tr>\n",
       "      <th>0</th>\n",
       "      <td>1.0</td>\n",
       "      <td>0.0</td>\n",
       "      <td>0.0</td>\n",
       "      <td>0.0</td>\n",
       "      <td>0.0</td>\n",
       "      <td>0.0</td>\n",
       "      <td>0.0</td>\n",
       "      <td>0.0</td>\n",
       "      <td>0.0</td>\n",
       "      <td>0.0</td>\n",
       "      <td>...</td>\n",
       "      <td>6</td>\n",
       "      <td>NaN</td>\n",
       "      <td>NaN</td>\n",
       "      <td>NaN</td>\n",
       "      <td>NaN</td>\n",
       "      <td>NaN</td>\n",
       "      <td>NaN</td>\n",
       "      <td>NaN</td>\n",
       "      <td>NaN</td>\n",
       "      <td>NaN</td>\n",
       "    </tr>\n",
       "    <tr>\n",
       "      <th>1</th>\n",
       "      <td>0.0</td>\n",
       "      <td>1.0</td>\n",
       "      <td>0.0</td>\n",
       "      <td>0.0</td>\n",
       "      <td>0.0</td>\n",
       "      <td>0.0</td>\n",
       "      <td>0.0</td>\n",
       "      <td>0.0</td>\n",
       "      <td>0.0</td>\n",
       "      <td>0.0</td>\n",
       "      <td>...</td>\n",
       "      <td>15</td>\n",
       "      <td>NaN</td>\n",
       "      <td>NaN</td>\n",
       "      <td>NaN</td>\n",
       "      <td>NaN</td>\n",
       "      <td>NaN</td>\n",
       "      <td>NaN</td>\n",
       "      <td>NaN</td>\n",
       "      <td>NaN</td>\n",
       "      <td>NaN</td>\n",
       "    </tr>\n",
       "    <tr>\n",
       "      <th>2</th>\n",
       "      <td>0.0</td>\n",
       "      <td>0.0</td>\n",
       "      <td>1.0</td>\n",
       "      <td>0.0</td>\n",
       "      <td>0.0</td>\n",
       "      <td>0.0</td>\n",
       "      <td>0.0</td>\n",
       "      <td>0.0</td>\n",
       "      <td>0.0</td>\n",
       "      <td>0.0</td>\n",
       "      <td>...</td>\n",
       "      <td>5</td>\n",
       "      <td>NaN</td>\n",
       "      <td>NaN</td>\n",
       "      <td>NaN</td>\n",
       "      <td>NaN</td>\n",
       "      <td>NaN</td>\n",
       "      <td>NaN</td>\n",
       "      <td>NaN</td>\n",
       "      <td>NaN</td>\n",
       "      <td>NaN</td>\n",
       "    </tr>\n",
       "    <tr>\n",
       "      <th>3</th>\n",
       "      <td>0.0</td>\n",
       "      <td>0.0</td>\n",
       "      <td>0.0</td>\n",
       "      <td>1.0</td>\n",
       "      <td>0.0</td>\n",
       "      <td>0.0</td>\n",
       "      <td>0.0</td>\n",
       "      <td>0.0</td>\n",
       "      <td>0.0</td>\n",
       "      <td>0.0</td>\n",
       "      <td>...</td>\n",
       "      <td>6</td>\n",
       "      <td>NaN</td>\n",
       "      <td>NaN</td>\n",
       "      <td>NaN</td>\n",
       "      <td>NaN</td>\n",
       "      <td>NaN</td>\n",
       "      <td>NaN</td>\n",
       "      <td>NaN</td>\n",
       "      <td>NaN</td>\n",
       "      <td>NaN</td>\n",
       "    </tr>\n",
       "    <tr>\n",
       "      <th>4</th>\n",
       "      <td>0.0</td>\n",
       "      <td>0.0</td>\n",
       "      <td>0.0</td>\n",
       "      <td>0.0</td>\n",
       "      <td>1.0</td>\n",
       "      <td>0.0</td>\n",
       "      <td>0.0</td>\n",
       "      <td>0.0</td>\n",
       "      <td>0.0</td>\n",
       "      <td>0.0</td>\n",
       "      <td>...</td>\n",
       "      <td>6</td>\n",
       "      <td>NaN</td>\n",
       "      <td>NaN</td>\n",
       "      <td>NaN</td>\n",
       "      <td>NaN</td>\n",
       "      <td>NaN</td>\n",
       "      <td>NaN</td>\n",
       "      <td>NaN</td>\n",
       "      <td>NaN</td>\n",
       "      <td>NaN</td>\n",
       "    </tr>\n",
       "  </tbody>\n",
       "</table>\n",
       "<p>5 rows × 466 columns</p>\n",
       "</div>"
      ],
      "text/plain": [
       "   rna_id:AJUBA_BC_000  rna_id:AJUBA_BC_001  rna_id:AJUBA_BC_002  \\\n",
       "0                  1.0                  0.0                  0.0   \n",
       "1                  0.0                  1.0                  0.0   \n",
       "2                  0.0                  0.0                  1.0   \n",
       "3                  0.0                  0.0                  0.0   \n",
       "4                  0.0                  0.0                  0.0   \n",
       "\n",
       "   rna_id:AJUBA_BC_003  rna_id:AJUBA_BC_004  rna_id:AJUBA_BC_005  \\\n",
       "0                  0.0                  0.0                  0.0   \n",
       "1                  0.0                  0.0                  0.0   \n",
       "2                  0.0                  0.0                  0.0   \n",
       "3                  1.0                  0.0                  0.0   \n",
       "4                  0.0                  1.0                  0.0   \n",
       "\n",
       "   rna_id:AJUBA_BC_006  rna_id:AJUBA_BC_007  rna_id:AJUBA_BC_008  \\\n",
       "0                  0.0                  0.0                  0.0   \n",
       "1                  0.0                  0.0                  0.0   \n",
       "2                  0.0                  0.0                  0.0   \n",
       "3                  0.0                  0.0                  0.0   \n",
       "4                  0.0                  0.0                  0.0   \n",
       "\n",
       "   rna_id:AJUBA_BC_009  ...  d3_length_stem  d3_length_hairpin  \\\n",
       "0                  0.0  ...               6                NaN   \n",
       "1                  0.0  ...              15                NaN   \n",
       "2                  0.0  ...               5                NaN   \n",
       "3                  0.0  ...               6                NaN   \n",
       "4                  0.0  ...               6                NaN   \n",
       "\n",
       "   d3_length_bulge  d3_length_internal_es  d3_length_internal_ecs  \\\n",
       "0              NaN                    NaN                     NaN   \n",
       "1              NaN                    NaN                     NaN   \n",
       "2              NaN                    NaN                     NaN   \n",
       "3              NaN                    NaN                     NaN   \n",
       "4              NaN                    NaN                     NaN   \n",
       "\n",
       "   d3_5prm_cp_hairpin  d3_5prm_cp_bulge  d3_3prm_cp_bulge  \\\n",
       "0                 NaN               NaN               NaN   \n",
       "1                 NaN               NaN               NaN   \n",
       "2                 NaN               NaN               NaN   \n",
       "3                 NaN               NaN               NaN   \n",
       "4                 NaN               NaN               NaN   \n",
       "\n",
       "   d3_5prm_cp_internal  d3_3prm_cp_internal  \n",
       "0                  NaN                  NaN  \n",
       "1                  NaN                  NaN  \n",
       "2                  NaN                  NaN  \n",
       "3                  NaN                  NaN  \n",
       "4                  NaN                  NaN  \n",
       "\n",
       "[5 rows x 466 columns]"
      ]
     },
     "execution_count": 8,
     "metadata": {},
     "output_type": "execute_result"
    }
   ],
   "source": [
    "data.head()"
   ]
  },
  {
   "cell_type": "code",
   "execution_count": 9,
   "metadata": {
    "ExecuteTime": {
     "end_time": "2020-06-20T21:10:33.398796Z",
     "start_time": "2020-06-20T21:10:33.392323Z"
    },
    "colab": {},
    "colab_type": "code",
    "id": "_mpqMOf-k0jH"
   },
   "outputs": [],
   "source": [
    "feat_to_plot=open(\"ajuba_top_feat.txt\",'r').read().strip().split('\\n')"
   ]
  },
  {
   "cell_type": "code",
   "execution_count": 10,
   "metadata": {
    "ExecuteTime": {
     "end_time": "2020-06-20T21:10:34.494761Z",
     "start_time": "2020-06-20T21:10:34.479117Z"
    }
   },
   "outputs": [],
   "source": [
    "data=data[['editing_value']+feat_to_plot]"
   ]
  },
  {
   "cell_type": "code",
   "execution_count": 11,
   "metadata": {
    "ExecuteTime": {
     "end_time": "2020-06-20T21:10:35.005204Z",
     "start_time": "2020-06-20T21:10:34.994003Z"
    }
   },
   "outputs": [],
   "source": [
    "high_levels=data[data['editing_value']>=1]\n",
    "low_levels=data[data['editing_value']<= -2]\n",
    "remaining_levels=data[(data['editing_value']>-2) & (data['editing_value']<1)]"
   ]
  },
  {
   "cell_type": "code",
   "execution_count": 12,
   "metadata": {
    "ExecuteTime": {
     "end_time": "2020-06-20T21:10:35.650252Z",
     "start_time": "2020-06-20T21:10:35.643585Z"
    }
   },
   "outputs": [
    {
     "data": {
      "text/plain": [
       "(1, 21)"
      ]
     },
     "execution_count": 12,
     "metadata": {},
     "output_type": "execute_result"
    }
   ],
   "source": [
    "high_levels.shape"
   ]
  },
  {
   "cell_type": "code",
   "execution_count": 13,
   "metadata": {
    "ExecuteTime": {
     "end_time": "2020-06-20T21:10:36.687683Z",
     "start_time": "2020-06-20T21:10:36.661226Z"
    }
   },
   "outputs": [],
   "source": [
    "m_high_levels=pd.melt(high_levels)\n",
    "m_high_levels['Group']='High'\n",
    "m_low_levels=pd.melt(low_levels)\n",
    "m_low_levels['Group']='Low'\n",
    "m_remaining=pd.melt(remaining_levels)\n",
    "m_remaining['Group']=\"Other\"\n",
    "all_df=pd.concat((m_high_levels,m_low_levels,m_remaining),axis=0)"
   ]
  },
  {
   "cell_type": "code",
   "execution_count": 16,
   "metadata": {
    "ExecuteTime": {
     "end_time": "2020-06-20T21:28:02.625552Z",
     "start_time": "2020-06-20T21:27:49.192767Z"
    }
   },
   "outputs": [
    {
     "name": "stderr",
     "output_type": "stream",
     "text": [
      "/users/annashch/miniconda3/lib/python3.7/site-packages/plotnine/layer.py:360: PlotnineWarning: stat_boxplot : Removed 137 rows containing non-finite values.\n",
      "  data = self.stat.compute_layer(data, params, layout)\n"
     ]
    },
    {
     "data": {
      "image/png": "[encoded data removed]",
      "text/plain": [
       "<Figure size 1000x400 with 1 Axes>"
      ]
     },
     "metadata": {},
     "output_type": "display_data"
    },
    {
     "name": "stdout",
     "output_type": "stream",
     "text": [
      "<ggplot: (8780481010617)>\n"
     ]
    },
    {
     "name": "stderr",
     "output_type": "stream",
     "text": [
      "/users/annashch/miniconda3/lib/python3.7/site-packages/plotnine/ggplot.py:729: PlotnineWarning: Saving 10 x 3.5 in image.\n",
      "  from_inches(height, units), units), PlotnineWarning)\n",
      "/users/annashch/miniconda3/lib/python3.7/site-packages/plotnine/ggplot.py:730: PlotnineWarning: Filename: AJUBA.editing.outlier.features.svg\n",
      "  warn('Filename: {}'.format(filename), PlotnineWarning)\n",
      "/users/annashch/miniconda3/lib/python3.7/site-packages/plotnine/layer.py:360: PlotnineWarning: stat_boxplot : Removed 137 rows containing non-finite values.\n",
      "  data = self.stat.compute_layer(data, params, layout)\n"
     ]
    }
   ],
   "source": [
    "import plotnine\n",
    "plotnine.options.figure_size = (10, 4)\n",
    "\n",
    "p=(ggplot(all_df, aes('variable', 'value',color='Group'))\n",
    " + geom_boxplot()\n",
    " + ggtitle(\"AJUBA\")\n",
    " + xlab(\"Feature\")\n",
    " + ylab(\"Values\")\n",
    " + scale_color_manual(values=['#e41a1c','#377eb8','#4daf4a'],labels=[\"High (Z>=1)\",\"Low (Z<=-2)\",\"Other (-2<Z<1)\"])\n",
    " + theme_bw()\n",
    " + theme(axis_text_x=element_text(rotation=90, hjust=1)))\n",
    "print(p)\n",
    "ggsave(plot=p, filename='AJUBA.editing.outlier.features.svg',width=10,height=3.5,units='in')\n"
   ]
  },
  {
   "cell_type": "code",
   "execution_count": 15,
   "metadata": {
    "ExecuteTime": {
     "end_time": "2020-06-20T21:11:01.007987Z",
     "start_time": "2020-06-20T21:10:53.895724Z"
    }
   },
   "outputs": [
    {
     "name": "stderr",
     "output_type": "stream",
     "text": [
      "/users/annashch/miniconda3/lib/python3.7/site-packages/plotnine/ggplot.py:729: PlotnineWarning: Saving 10 x 3.5 in image.\n",
      "  from_inches(height, units), units), PlotnineWarning)\n",
      "/users/annashch/miniconda3/lib/python3.7/site-packages/plotnine/ggplot.py:730: PlotnineWarning: Filename: AJUBA.editing.outlier.features.svg\n",
      "  warn('Filename: {}'.format(filename), PlotnineWarning)\n",
      "/users/annashch/miniconda3/lib/python3.7/site-packages/plotnine/layer.py:360: PlotnineWarning: stat_boxplot : Removed 137 rows containing non-finite values.\n",
      "  data = self.stat.compute_layer(data, params, layout)\n"
     ]
    }
   ],
   "source": []
  },
  {
   "cell_type": "code",
   "execution_count": null,
   "metadata": {},
   "outputs": [],
   "source": []
  }
 ],
 "metadata": {
  "colab": {
   "include_colab_link": true,
   "name": "NEIL1_XGBOOST_WITH_TREESHAP.ipynb",
   "provenance": [],
   "toc_visible": true,
   "version": "0.3.2"
  },
  "kernelspec": {
   "display_name": "Python 3",
   "language": "python",
   "name": "python3"
  },
  "language_info": {
   "codemirror_mode": {
    "name": "ipython",
    "version": 3
   },
   "file_extension": ".py",
   "mimetype": "text/x-python",
   "name": "python",
   "nbconvert_exporter": "python",
   "pygments_lexer": "ipython3",
   "version": "3.7.6"
  }
 },
 "nbformat": 4,
 "nbformat_minor": 1
}
