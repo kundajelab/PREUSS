{
 "cells": [
  {
   "cell_type": "markdown",
   "metadata": {
    "colab_type": "text",
    "id": "view-in-github"
   },
   "source": [
    "<a href=\"https://colab.research.google.com/github/kundajelab/adar_editing/blob/master/xgboost_with_shap/NEIL1_XGBOOST_WITH_TREESHAP.ipynb\" target=\"_parent\"><img src=\"https://colab.research.google.com/assets/colab-badge.svg\" alt=\"Open In Colab\"/></a>"
   ]
  },
  {
   "cell_type": "code",
   "execution_count": 1,
   "metadata": {
    "ExecuteTime": {
     "end_time": "2020-06-20T20:59:40.984787Z",
     "start_time": "2020-06-20T20:59:40.576746Z"
    }
   },
   "outputs": [],
   "source": [
    "%load_ext autoreload\n",
    "%autoreload 2   "
   ]
  },
  {
   "cell_type": "code",
   "execution_count": 2,
   "metadata": {
    "ExecuteTime": {
     "end_time": "2020-06-20T20:59:46.651366Z",
     "start_time": "2020-06-20T20:59:41.578943Z"
    },
    "colab": {
     "base_uri": "https://localhost:8080/",
     "height": 43
    },
    "colab_type": "code",
    "id": "zLG9LI0sk0f6",
    "outputId": "1f408075-dce1-4595-d3f8-76933d43a627"
   },
   "outputs": [],
   "source": [
    "#helper utilities for model training and interpretation \n",
    "import sys \n",
    "sys.path.append('../xgboost_with_shap/')\n",
    "\n",
    "from helpers import * \n",
    "import numpy as np\n",
    "\n",
    "from plotnine import * \n",
    "import pandas as pd \n"
   ]
  },
  {
   "cell_type": "code",
   "execution_count": 9,
   "metadata": {
    "ExecuteTime": {
     "end_time": "2020-06-20T21:08:03.172317Z",
     "start_time": "2020-06-20T21:08:03.140724Z"
    },
    "colab": {},
    "colab_type": "code",
    "id": "NvDrh9gck0jA"
   },
   "outputs": [],
   "source": [
    "data=pd.read_csv(\"../xin_feature_matrices/ttyh2_computational.features.csv\",header=0,sep=',')"
   ]
  },
  {
   "cell_type": "code",
   "execution_count": 10,
   "metadata": {
    "ExecuteTime": {
     "end_time": "2020-06-20T21:08:03.335610Z",
     "start_time": "2020-06-20T21:08:03.299295Z"
    }
   },
   "outputs": [
    {
     "data": {
      "text/html": [
       "<div>\n",
       "<style scoped>\n",
       "    .dataframe tbody tr th:only-of-type {\n",
       "        vertical-align: middle;\n",
       "    }\n",
       "\n",
       "    .dataframe tbody tr th {\n",
       "        vertical-align: top;\n",
       "    }\n",
       "\n",
       "    .dataframe thead th {\n",
       "        text-align: right;\n",
       "    }\n",
       "</style>\n",
       "<table border=\"1\" class=\"dataframe\">\n",
       "  <thead>\n",
       "    <tr style=\"text-align: right;\">\n",
       "      <th></th>\n",
       "      <th>rna_id</th>\n",
       "      <th>editing_value</th>\n",
       "      <th>minimum_free_energy</th>\n",
       "      <th>ensemble_free_energy</th>\n",
       "      <th>mfe_frequency</th>\n",
       "      <th>ensemble_diversity</th>\n",
       "      <th>sim_nor_score</th>\n",
       "      <th>probability_active_conf</th>\n",
       "      <th>num_mutations</th>\n",
       "      <th>mut_exist</th>\n",
       "      <th>...</th>\n",
       "      <th>d3_length_stem</th>\n",
       "      <th>d3_length_hairpin</th>\n",
       "      <th>d3_length_bulge</th>\n",
       "      <th>d3_length_internal_es</th>\n",
       "      <th>d3_length_internal_ecs</th>\n",
       "      <th>d3_5prm_cp_hairpin</th>\n",
       "      <th>d3_5prm_cp_bulge</th>\n",
       "      <th>d3_3prm_cp_bulge</th>\n",
       "      <th>d3_5prm_cp_internal</th>\n",
       "      <th>d3_3prm_cp_internal</th>\n",
       "    </tr>\n",
       "  </thead>\n",
       "  <tbody>\n",
       "    <tr>\n",
       "      <th>0</th>\n",
       "      <td>TTYH_BC_000</td>\n",
       "      <td>0.3060</td>\n",
       "      <td>-86.5</td>\n",
       "      <td>-87.05</td>\n",
       "      <td>0.406642</td>\n",
       "      <td>2.91</td>\n",
       "      <td>1.0000</td>\n",
       "      <td>0.399850</td>\n",
       "      <td>0</td>\n",
       "      <td>0</td>\n",
       "      <td>...</td>\n",
       "      <td>20.0</td>\n",
       "      <td>NaN</td>\n",
       "      <td>NaN</td>\n",
       "      <td>NaN</td>\n",
       "      <td>NaN</td>\n",
       "      <td>NaN</td>\n",
       "      <td>NaN</td>\n",
       "      <td>NaN</td>\n",
       "      <td>NaN</td>\n",
       "      <td>NaN</td>\n",
       "    </tr>\n",
       "    <tr>\n",
       "      <th>1</th>\n",
       "      <td>TTYH_BC_001</td>\n",
       "      <td>0.2755</td>\n",
       "      <td>-79.9</td>\n",
       "      <td>-80.48</td>\n",
       "      <td>0.388526</td>\n",
       "      <td>3.04</td>\n",
       "      <td>0.9011</td>\n",
       "      <td>0.190174</td>\n",
       "      <td>1</td>\n",
       "      <td>1</td>\n",
       "      <td>...</td>\n",
       "      <td>20.0</td>\n",
       "      <td>NaN</td>\n",
       "      <td>NaN</td>\n",
       "      <td>NaN</td>\n",
       "      <td>NaN</td>\n",
       "      <td>NaN</td>\n",
       "      <td>NaN</td>\n",
       "      <td>NaN</td>\n",
       "      <td>NaN</td>\n",
       "      <td>NaN</td>\n",
       "    </tr>\n",
       "    <tr>\n",
       "      <th>2</th>\n",
       "      <td>TTYH_BC_002</td>\n",
       "      <td>0.3245</td>\n",
       "      <td>-79.6</td>\n",
       "      <td>-80.17</td>\n",
       "      <td>0.398008</td>\n",
       "      <td>3.02</td>\n",
       "      <td>0.9037</td>\n",
       "      <td>0.193371</td>\n",
       "      <td>1</td>\n",
       "      <td>1</td>\n",
       "      <td>...</td>\n",
       "      <td>20.0</td>\n",
       "      <td>NaN</td>\n",
       "      <td>NaN</td>\n",
       "      <td>NaN</td>\n",
       "      <td>NaN</td>\n",
       "      <td>NaN</td>\n",
       "      <td>NaN</td>\n",
       "      <td>NaN</td>\n",
       "      <td>NaN</td>\n",
       "      <td>NaN</td>\n",
       "    </tr>\n",
       "    <tr>\n",
       "      <th>3</th>\n",
       "      <td>TTYH_BC_003</td>\n",
       "      <td>0.3885</td>\n",
       "      <td>-79.9</td>\n",
       "      <td>-80.78</td>\n",
       "      <td>0.241542</td>\n",
       "      <td>3.57</td>\n",
       "      <td>0.9866</td>\n",
       "      <td>0.115347</td>\n",
       "      <td>1</td>\n",
       "      <td>1</td>\n",
       "      <td>...</td>\n",
       "      <td>20.0</td>\n",
       "      <td>NaN</td>\n",
       "      <td>NaN</td>\n",
       "      <td>NaN</td>\n",
       "      <td>NaN</td>\n",
       "      <td>NaN</td>\n",
       "      <td>NaN</td>\n",
       "      <td>NaN</td>\n",
       "      <td>NaN</td>\n",
       "      <td>NaN</td>\n",
       "    </tr>\n",
       "    <tr>\n",
       "      <th>4</th>\n",
       "      <td>TTYH_BC_004</td>\n",
       "      <td>0.2045</td>\n",
       "      <td>-85.8</td>\n",
       "      <td>-86.11</td>\n",
       "      <td>0.608203</td>\n",
       "      <td>2.66</td>\n",
       "      <td>0.9054</td>\n",
       "      <td>0.298253</td>\n",
       "      <td>1</td>\n",
       "      <td>1</td>\n",
       "      <td>...</td>\n",
       "      <td>20.0</td>\n",
       "      <td>NaN</td>\n",
       "      <td>NaN</td>\n",
       "      <td>NaN</td>\n",
       "      <td>NaN</td>\n",
       "      <td>NaN</td>\n",
       "      <td>NaN</td>\n",
       "      <td>NaN</td>\n",
       "      <td>NaN</td>\n",
       "      <td>NaN</td>\n",
       "    </tr>\n",
       "  </tbody>\n",
       "</table>\n",
       "<p>5 rows × 127 columns</p>\n",
       "</div>"
      ],
      "text/plain": [
       "        rna_id  editing_value  minimum_free_energy  ensemble_free_energy  \\\n",
       "0  TTYH_BC_000         0.3060                -86.5                -87.05   \n",
       "1  TTYH_BC_001         0.2755                -79.9                -80.48   \n",
       "2  TTYH_BC_002         0.3245                -79.6                -80.17   \n",
       "3  TTYH_BC_003         0.3885                -79.9                -80.78   \n",
       "4  TTYH_BC_004         0.2045                -85.8                -86.11   \n",
       "\n",
       "   mfe_frequency  ensemble_diversity  sim_nor_score  probability_active_conf  \\\n",
       "0       0.406642                2.91         1.0000                 0.399850   \n",
       "1       0.388526                3.04         0.9011                 0.190174   \n",
       "2       0.398008                3.02         0.9037                 0.193371   \n",
       "3       0.241542                3.57         0.9866                 0.115347   \n",
       "4       0.608203                2.66         0.9054                 0.298253   \n",
       "\n",
       "   num_mutations  mut_exist  ... d3_length_stem  d3_length_hairpin  \\\n",
       "0              0          0  ...           20.0                NaN   \n",
       "1              1          1  ...           20.0                NaN   \n",
       "2              1          1  ...           20.0                NaN   \n",
       "3              1          1  ...           20.0                NaN   \n",
       "4              1          1  ...           20.0                NaN   \n",
       "\n",
       "   d3_length_bulge d3_length_internal_es d3_length_internal_ecs  \\\n",
       "0              NaN                   NaN                    NaN   \n",
       "1              NaN                   NaN                    NaN   \n",
       "2              NaN                   NaN                    NaN   \n",
       "3              NaN                   NaN                    NaN   \n",
       "4              NaN                   NaN                    NaN   \n",
       "\n",
       "  d3_5prm_cp_hairpin d3_5prm_cp_bulge d3_3prm_cp_bulge d3_5prm_cp_internal  \\\n",
       "0                NaN              NaN              NaN                 NaN   \n",
       "1                NaN              NaN              NaN                 NaN   \n",
       "2                NaN              NaN              NaN                 NaN   \n",
       "3                NaN              NaN              NaN                 NaN   \n",
       "4                NaN              NaN              NaN                 NaN   \n",
       "\n",
       "   d3_3prm_cp_internal  \n",
       "0                  NaN  \n",
       "1                  NaN  \n",
       "2                  NaN  \n",
       "3                  NaN  \n",
       "4                  NaN  \n",
       "\n",
       "[5 rows x 127 columns]"
      ]
     },
     "execution_count": 10,
     "metadata": {},
     "output_type": "execute_result"
    }
   ],
   "source": [
    "data.head()"
   ]
  },
  {
   "cell_type": "code",
   "execution_count": 11,
   "metadata": {
    "ExecuteTime": {
     "end_time": "2020-06-20T21:08:03.488326Z",
     "start_time": "2020-06-20T21:08:03.482063Z"
    },
    "colab": {},
    "colab_type": "code",
    "id": "PhUOGyKuk0jC"
   },
   "outputs": [],
   "source": [
    "#remove any null editing level values \n",
    "data=data[~data[\"editing_value\"].isnull().values]"
   ]
  },
  {
   "cell_type": "code",
   "execution_count": 12,
   "metadata": {
    "ExecuteTime": {
     "end_time": "2020-06-20T21:08:03.657899Z",
     "start_time": "2020-06-20T21:08:03.649336Z"
    }
   },
   "outputs": [],
   "source": [
    "data['editing_value']=(data['editing_value']-0.33)/np.std(data['editing_value']-0.33)"
   ]
  },
  {
   "cell_type": "code",
   "execution_count": 13,
   "metadata": {
    "ExecuteTime": {
     "end_time": "2020-06-20T21:08:04.475683Z",
     "start_time": "2020-06-20T21:08:03.835760Z"
    },
    "colab": {},
    "colab_type": "code",
    "id": "2zaHl8clk0jE"
   },
   "outputs": [
    {
     "name": "stderr",
     "output_type": "stream",
     "text": [
      "../xgboost_with_shap/helpers.py:103: SettingWithCopyWarning: \n",
      "A value is trying to be set on a copy of a slice from a DataFrame\n",
      "\n",
      "See the caveats in the documentation: https://pandas.pydata.org/pandas-docs/stable/user_guide/indexing.html#returning-a-view-versus-a-copy\n",
      "  feature[pd.isna(feature)]=\"NA\"\n",
      "../xgboost_with_shap/helpers.py:103: SettingWithCopyWarning: \n",
      "A value is trying to be set on a copy of a slice from a DataFrame\n",
      "\n",
      "See the caveats in the documentation: https://pandas.pydata.org/pandas-docs/stable/user_guide/indexing.html#returning-a-view-versus-a-copy\n",
      "  feature[pd.isna(feature)]=\"NA\"\n",
      "../xgboost_with_shap/helpers.py:103: SettingWithCopyWarning: \n",
      "A value is trying to be set on a copy of a slice from a DataFrame\n",
      "\n",
      "See the caveats in the documentation: https://pandas.pydata.org/pandas-docs/stable/user_guide/indexing.html#returning-a-view-versus-a-copy\n",
      "  feature[pd.isna(feature)]=\"NA\"\n",
      "../xgboost_with_shap/helpers.py:103: SettingWithCopyWarning: \n",
      "A value is trying to be set on a copy of a slice from a DataFrame\n",
      "\n",
      "See the caveats in the documentation: https://pandas.pydata.org/pandas-docs/stable/user_guide/indexing.html#returning-a-view-versus-a-copy\n",
      "  feature[pd.isna(feature)]=\"NA\"\n",
      "../xgboost_with_shap/helpers.py:103: SettingWithCopyWarning: \n",
      "A value is trying to be set on a copy of a slice from a DataFrame\n",
      "\n",
      "See the caveats in the documentation: https://pandas.pydata.org/pandas-docs/stable/user_guide/indexing.html#returning-a-view-versus-a-copy\n",
      "  feature[pd.isna(feature)]=\"NA\"\n",
      "../xgboost_with_shap/helpers.py:103: SettingWithCopyWarning: \n",
      "A value is trying to be set on a copy of a slice from a DataFrame\n",
      "\n",
      "See the caveats in the documentation: https://pandas.pydata.org/pandas-docs/stable/user_guide/indexing.html#returning-a-view-versus-a-copy\n",
      "  feature[pd.isna(feature)]=\"NA\"\n",
      "../xgboost_with_shap/helpers.py:103: SettingWithCopyWarning: \n",
      "A value is trying to be set on a copy of a slice from a DataFrame\n",
      "\n",
      "See the caveats in the documentation: https://pandas.pydata.org/pandas-docs/stable/user_guide/indexing.html#returning-a-view-versus-a-copy\n",
      "  feature[pd.isna(feature)]=\"NA\"\n",
      "../xgboost_with_shap/helpers.py:103: SettingWithCopyWarning: \n",
      "A value is trying to be set on a copy of a slice from a DataFrame\n",
      "\n",
      "See the caveats in the documentation: https://pandas.pydata.org/pandas-docs/stable/user_guide/indexing.html#returning-a-view-versus-a-copy\n",
      "  feature[pd.isna(feature)]=\"NA\"\n",
      "../xgboost_with_shap/helpers.py:103: SettingWithCopyWarning: \n",
      "A value is trying to be set on a copy of a slice from a DataFrame\n",
      "\n",
      "See the caveats in the documentation: https://pandas.pydata.org/pandas-docs/stable/user_guide/indexing.html#returning-a-view-versus-a-copy\n",
      "  feature[pd.isna(feature)]=\"NA\"\n",
      "../xgboost_with_shap/helpers.py:103: SettingWithCopyWarning: \n",
      "A value is trying to be set on a copy of a slice from a DataFrame\n",
      "\n",
      "See the caveats in the documentation: https://pandas.pydata.org/pandas-docs/stable/user_guide/indexing.html#returning-a-view-versus-a-copy\n",
      "  feature[pd.isna(feature)]=\"NA\"\n",
      "../xgboost_with_shap/helpers.py:103: SettingWithCopyWarning: \n",
      "A value is trying to be set on a copy of a slice from a DataFrame\n",
      "\n",
      "See the caveats in the documentation: https://pandas.pydata.org/pandas-docs/stable/user_guide/indexing.html#returning-a-view-versus-a-copy\n",
      "  feature[pd.isna(feature)]=\"NA\"\n",
      "../xgboost_with_shap/helpers.py:103: SettingWithCopyWarning: \n",
      "A value is trying to be set on a copy of a slice from a DataFrame\n",
      "\n",
      "See the caveats in the documentation: https://pandas.pydata.org/pandas-docs/stable/user_guide/indexing.html#returning-a-view-versus-a-copy\n",
      "  feature[pd.isna(feature)]=\"NA\"\n",
      "../xgboost_with_shap/helpers.py:103: SettingWithCopyWarning: \n",
      "A value is trying to be set on a copy of a slice from a DataFrame\n",
      "\n",
      "See the caveats in the documentation: https://pandas.pydata.org/pandas-docs/stable/user_guide/indexing.html#returning-a-view-versus-a-copy\n",
      "  feature[pd.isna(feature)]=\"NA\"\n",
      "../xgboost_with_shap/helpers.py:103: SettingWithCopyWarning: \n",
      "A value is trying to be set on a copy of a slice from a DataFrame\n",
      "\n",
      "See the caveats in the documentation: https://pandas.pydata.org/pandas-docs/stable/user_guide/indexing.html#returning-a-view-versus-a-copy\n",
      "  feature[pd.isna(feature)]=\"NA\"\n",
      "../xgboost_with_shap/helpers.py:103: SettingWithCopyWarning: \n",
      "A value is trying to be set on a copy of a slice from a DataFrame\n",
      "\n",
      "See the caveats in the documentation: https://pandas.pydata.org/pandas-docs/stable/user_guide/indexing.html#returning-a-view-versus-a-copy\n",
      "  feature[pd.isna(feature)]=\"NA\"\n",
      "../xgboost_with_shap/helpers.py:103: SettingWithCopyWarning: \n",
      "A value is trying to be set on a copy of a slice from a DataFrame\n",
      "\n",
      "See the caveats in the documentation: https://pandas.pydata.org/pandas-docs/stable/user_guide/indexing.html#returning-a-view-versus-a-copy\n",
      "  feature[pd.isna(feature)]=\"NA\"\n",
      "../xgboost_with_shap/helpers.py:103: SettingWithCopyWarning: \n",
      "A value is trying to be set on a copy of a slice from a DataFrame\n",
      "\n",
      "See the caveats in the documentation: https://pandas.pydata.org/pandas-docs/stable/user_guide/indexing.html#returning-a-view-versus-a-copy\n",
      "  feature[pd.isna(feature)]=\"NA\"\n",
      "../xgboost_with_shap/helpers.py:103: SettingWithCopyWarning: \n",
      "A value is trying to be set on a copy of a slice from a DataFrame\n",
      "\n",
      "See the caveats in the documentation: https://pandas.pydata.org/pandas-docs/stable/user_guide/indexing.html#returning-a-view-versus-a-copy\n",
      "  feature[pd.isna(feature)]=\"NA\"\n",
      "../xgboost_with_shap/helpers.py:103: SettingWithCopyWarning: \n",
      "A value is trying to be set on a copy of a slice from a DataFrame\n",
      "\n",
      "See the caveats in the documentation: https://pandas.pydata.org/pandas-docs/stable/user_guide/indexing.html#returning-a-view-versus-a-copy\n",
      "  feature[pd.isna(feature)]=\"NA\"\n",
      "../xgboost_with_shap/helpers.py:103: SettingWithCopyWarning: \n",
      "A value is trying to be set on a copy of a slice from a DataFrame\n",
      "\n",
      "See the caveats in the documentation: https://pandas.pydata.org/pandas-docs/stable/user_guide/indexing.html#returning-a-view-versus-a-copy\n",
      "  feature[pd.isna(feature)]=\"NA\"\n",
      "../xgboost_with_shap/helpers.py:103: SettingWithCopyWarning: \n",
      "A value is trying to be set on a copy of a slice from a DataFrame\n",
      "\n",
      "See the caveats in the documentation: https://pandas.pydata.org/pandas-docs/stable/user_guide/indexing.html#returning-a-view-versus-a-copy\n",
      "  feature[pd.isna(feature)]=\"NA\"\n",
      "../xgboost_with_shap/helpers.py:103: SettingWithCopyWarning: \n",
      "A value is trying to be set on a copy of a slice from a DataFrame\n",
      "\n",
      "See the caveats in the documentation: https://pandas.pydata.org/pandas-docs/stable/user_guide/indexing.html#returning-a-view-versus-a-copy\n",
      "  feature[pd.isna(feature)]=\"NA\"\n",
      "../xgboost_with_shap/helpers.py:103: SettingWithCopyWarning: \n",
      "A value is trying to be set on a copy of a slice from a DataFrame\n",
      "\n",
      "See the caveats in the documentation: https://pandas.pydata.org/pandas-docs/stable/user_guide/indexing.html#returning-a-view-versus-a-copy\n",
      "  feature[pd.isna(feature)]=\"NA\"\n",
      "../xgboost_with_shap/helpers.py:103: SettingWithCopyWarning: \n",
      "A value is trying to be set on a copy of a slice from a DataFrame\n",
      "\n",
      "See the caveats in the documentation: https://pandas.pydata.org/pandas-docs/stable/user_guide/indexing.html#returning-a-view-versus-a-copy\n",
      "  feature[pd.isna(feature)]=\"NA\"\n",
      "../xgboost_with_shap/helpers.py:103: SettingWithCopyWarning: \n",
      "A value is trying to be set on a copy of a slice from a DataFrame\n",
      "\n",
      "See the caveats in the documentation: https://pandas.pydata.org/pandas-docs/stable/user_guide/indexing.html#returning-a-view-versus-a-copy\n",
      "  feature[pd.isna(feature)]=\"NA\"\n",
      "../xgboost_with_shap/helpers.py:103: SettingWithCopyWarning: \n",
      "A value is trying to be set on a copy of a slice from a DataFrame\n",
      "\n",
      "See the caveats in the documentation: https://pandas.pydata.org/pandas-docs/stable/user_guide/indexing.html#returning-a-view-versus-a-copy\n",
      "  feature[pd.isna(feature)]=\"NA\"\n",
      "../xgboost_with_shap/helpers.py:103: SettingWithCopyWarning: \n",
      "A value is trying to be set on a copy of a slice from a DataFrame\n",
      "\n",
      "See the caveats in the documentation: https://pandas.pydata.org/pandas-docs/stable/user_guide/indexing.html#returning-a-view-versus-a-copy\n",
      "  feature[pd.isna(feature)]=\"NA\"\n",
      "../xgboost_with_shap/helpers.py:103: SettingWithCopyWarning: \n",
      "A value is trying to be set on a copy of a slice from a DataFrame\n",
      "\n",
      "See the caveats in the documentation: https://pandas.pydata.org/pandas-docs/stable/user_guide/indexing.html#returning-a-view-versus-a-copy\n",
      "  feature[pd.isna(feature)]=\"NA\"\n",
      "../xgboost_with_shap/helpers.py:103: SettingWithCopyWarning: \n",
      "A value is trying to be set on a copy of a slice from a DataFrame\n",
      "\n",
      "See the caveats in the documentation: https://pandas.pydata.org/pandas-docs/stable/user_guide/indexing.html#returning-a-view-versus-a-copy\n",
      "  feature[pd.isna(feature)]=\"NA\"\n",
      "../xgboost_with_shap/helpers.py:103: SettingWithCopyWarning: \n",
      "A value is trying to be set on a copy of a slice from a DataFrame\n",
      "\n",
      "See the caveats in the documentation: https://pandas.pydata.org/pandas-docs/stable/user_guide/indexing.html#returning-a-view-versus-a-copy\n",
      "  feature[pd.isna(feature)]=\"NA\"\n",
      "../xgboost_with_shap/helpers.py:103: SettingWithCopyWarning: \n",
      "A value is trying to be set on a copy of a slice from a DataFrame\n",
      "\n",
      "See the caveats in the documentation: https://pandas.pydata.org/pandas-docs/stable/user_guide/indexing.html#returning-a-view-versus-a-copy\n",
      "  feature[pd.isna(feature)]=\"NA\"\n"
     ]
    },
    {
     "name": "stdout",
     "output_type": "stream",
     "text": [
      "(601, 553)\n"
     ]
    },
    {
     "name": "stderr",
     "output_type": "stream",
     "text": [
      "../xgboost_with_shap/helpers.py:103: SettingWithCopyWarning: \n",
      "A value is trying to be set on a copy of a slice from a DataFrame\n",
      "\n",
      "See the caveats in the documentation: https://pandas.pydata.org/pandas-docs/stable/user_guide/indexing.html#returning-a-view-versus-a-copy\n",
      "  feature[pd.isna(feature)]=\"NA\"\n",
      "../xgboost_with_shap/helpers.py:103: SettingWithCopyWarning: \n",
      "A value is trying to be set on a copy of a slice from a DataFrame\n",
      "\n",
      "See the caveats in the documentation: https://pandas.pydata.org/pandas-docs/stable/user_guide/indexing.html#returning-a-view-versus-a-copy\n",
      "  feature[pd.isna(feature)]=\"NA\"\n",
      "../xgboost_with_shap/helpers.py:103: SettingWithCopyWarning: \n",
      "A value is trying to be set on a copy of a slice from a DataFrame\n",
      "\n",
      "See the caveats in the documentation: https://pandas.pydata.org/pandas-docs/stable/user_guide/indexing.html#returning-a-view-versus-a-copy\n",
      "  feature[pd.isna(feature)]=\"NA\"\n",
      "../xgboost_with_shap/helpers.py:103: SettingWithCopyWarning: \n",
      "A value is trying to be set on a copy of a slice from a DataFrame\n",
      "\n",
      "See the caveats in the documentation: https://pandas.pydata.org/pandas-docs/stable/user_guide/indexing.html#returning-a-view-versus-a-copy\n",
      "  feature[pd.isna(feature)]=\"NA\"\n",
      "../xgboost_with_shap/helpers.py:103: SettingWithCopyWarning: \n",
      "A value is trying to be set on a copy of a slice from a DataFrame\n",
      "\n",
      "See the caveats in the documentation: https://pandas.pydata.org/pandas-docs/stable/user_guide/indexing.html#returning-a-view-versus-a-copy\n",
      "  feature[pd.isna(feature)]=\"NA\"\n",
      "../xgboost_with_shap/helpers.py:103: SettingWithCopyWarning: \n",
      "A value is trying to be set on a copy of a slice from a DataFrame\n",
      "\n",
      "See the caveats in the documentation: https://pandas.pydata.org/pandas-docs/stable/user_guide/indexing.html#returning-a-view-versus-a-copy\n",
      "  feature[pd.isna(feature)]=\"NA\"\n",
      "../xgboost_with_shap/helpers.py:103: SettingWithCopyWarning: \n",
      "A value is trying to be set on a copy of a slice from a DataFrame\n",
      "\n",
      "See the caveats in the documentation: https://pandas.pydata.org/pandas-docs/stable/user_guide/indexing.html#returning-a-view-versus-a-copy\n",
      "  feature[pd.isna(feature)]=\"NA\"\n",
      "../xgboost_with_shap/helpers.py:103: SettingWithCopyWarning: \n",
      "A value is trying to be set on a copy of a slice from a DataFrame\n",
      "\n",
      "See the caveats in the documentation: https://pandas.pydata.org/pandas-docs/stable/user_guide/indexing.html#returning-a-view-versus-a-copy\n",
      "  feature[pd.isna(feature)]=\"NA\"\n",
      "../xgboost_with_shap/helpers.py:103: SettingWithCopyWarning: \n",
      "A value is trying to be set on a copy of a slice from a DataFrame\n",
      "\n",
      "See the caveats in the documentation: https://pandas.pydata.org/pandas-docs/stable/user_guide/indexing.html#returning-a-view-versus-a-copy\n",
      "  feature[pd.isna(feature)]=\"NA\"\n",
      "../xgboost_with_shap/helpers.py:103: SettingWithCopyWarning: \n",
      "A value is trying to be set on a copy of a slice from a DataFrame\n",
      "\n",
      "See the caveats in the documentation: https://pandas.pydata.org/pandas-docs/stable/user_guide/indexing.html#returning-a-view-versus-a-copy\n",
      "  feature[pd.isna(feature)]=\"NA\"\n"
     ]
    }
   ],
   "source": [
    "data=format_for_xgboost(data)"
   ]
  },
  {
   "cell_type": "code",
   "execution_count": 14,
   "metadata": {
    "ExecuteTime": {
     "end_time": "2020-06-20T21:08:04.500422Z",
     "start_time": "2020-06-20T21:08:04.477789Z"
    }
   },
   "outputs": [
    {
     "data": {
      "text/html": [
       "<div>\n",
       "<style scoped>\n",
       "    .dataframe tbody tr th:only-of-type {\n",
       "        vertical-align: middle;\n",
       "    }\n",
       "\n",
       "    .dataframe tbody tr th {\n",
       "        vertical-align: top;\n",
       "    }\n",
       "\n",
       "    .dataframe thead th {\n",
       "        text-align: right;\n",
       "    }\n",
       "</style>\n",
       "<table border=\"1\" class=\"dataframe\">\n",
       "  <thead>\n",
       "    <tr style=\"text-align: right;\">\n",
       "      <th></th>\n",
       "      <th>rna_id:TTYH_BC_000</th>\n",
       "      <th>rna_id:TTYH_BC_001</th>\n",
       "      <th>rna_id:TTYH_BC_002</th>\n",
       "      <th>rna_id:TTYH_BC_003</th>\n",
       "      <th>rna_id:TTYH_BC_004</th>\n",
       "      <th>rna_id:TTYH_BC_005</th>\n",
       "      <th>rna_id:TTYH_BC_006</th>\n",
       "      <th>rna_id:TTYH_BC_007</th>\n",
       "      <th>rna_id:TTYH_BC_008</th>\n",
       "      <th>rna_id:TTYH_BC_009</th>\n",
       "      <th>...</th>\n",
       "      <th>d3_length_stem</th>\n",
       "      <th>d3_length_hairpin</th>\n",
       "      <th>d3_length_bulge</th>\n",
       "      <th>d3_length_internal_es</th>\n",
       "      <th>d3_length_internal_ecs</th>\n",
       "      <th>d3_5prm_cp_hairpin</th>\n",
       "      <th>d3_5prm_cp_bulge:G:C</th>\n",
       "      <th>d3_3prm_cp_bulge:G:C</th>\n",
       "      <th>d3_5prm_cp_internal</th>\n",
       "      <th>d3_3prm_cp_internal</th>\n",
       "    </tr>\n",
       "  </thead>\n",
       "  <tbody>\n",
       "    <tr>\n",
       "      <th>0</th>\n",
       "      <td>1.0</td>\n",
       "      <td>0.0</td>\n",
       "      <td>0.0</td>\n",
       "      <td>0.0</td>\n",
       "      <td>0.0</td>\n",
       "      <td>0.0</td>\n",
       "      <td>0.0</td>\n",
       "      <td>0.0</td>\n",
       "      <td>0.0</td>\n",
       "      <td>0.0</td>\n",
       "      <td>...</td>\n",
       "      <td>20.0</td>\n",
       "      <td>NaN</td>\n",
       "      <td>NaN</td>\n",
       "      <td>NaN</td>\n",
       "      <td>NaN</td>\n",
       "      <td>NaN</td>\n",
       "      <td>0.0</td>\n",
       "      <td>0.0</td>\n",
       "      <td>NaN</td>\n",
       "      <td>NaN</td>\n",
       "    </tr>\n",
       "    <tr>\n",
       "      <th>1</th>\n",
       "      <td>0.0</td>\n",
       "      <td>1.0</td>\n",
       "      <td>0.0</td>\n",
       "      <td>0.0</td>\n",
       "      <td>0.0</td>\n",
       "      <td>0.0</td>\n",
       "      <td>0.0</td>\n",
       "      <td>0.0</td>\n",
       "      <td>0.0</td>\n",
       "      <td>0.0</td>\n",
       "      <td>...</td>\n",
       "      <td>20.0</td>\n",
       "      <td>NaN</td>\n",
       "      <td>NaN</td>\n",
       "      <td>NaN</td>\n",
       "      <td>NaN</td>\n",
       "      <td>NaN</td>\n",
       "      <td>0.0</td>\n",
       "      <td>0.0</td>\n",
       "      <td>NaN</td>\n",
       "      <td>NaN</td>\n",
       "    </tr>\n",
       "    <tr>\n",
       "      <th>2</th>\n",
       "      <td>0.0</td>\n",
       "      <td>0.0</td>\n",
       "      <td>1.0</td>\n",
       "      <td>0.0</td>\n",
       "      <td>0.0</td>\n",
       "      <td>0.0</td>\n",
       "      <td>0.0</td>\n",
       "      <td>0.0</td>\n",
       "      <td>0.0</td>\n",
       "      <td>0.0</td>\n",
       "      <td>...</td>\n",
       "      <td>20.0</td>\n",
       "      <td>NaN</td>\n",
       "      <td>NaN</td>\n",
       "      <td>NaN</td>\n",
       "      <td>NaN</td>\n",
       "      <td>NaN</td>\n",
       "      <td>0.0</td>\n",
       "      <td>0.0</td>\n",
       "      <td>NaN</td>\n",
       "      <td>NaN</td>\n",
       "    </tr>\n",
       "    <tr>\n",
       "      <th>3</th>\n",
       "      <td>0.0</td>\n",
       "      <td>0.0</td>\n",
       "      <td>0.0</td>\n",
       "      <td>1.0</td>\n",
       "      <td>0.0</td>\n",
       "      <td>0.0</td>\n",
       "      <td>0.0</td>\n",
       "      <td>0.0</td>\n",
       "      <td>0.0</td>\n",
       "      <td>0.0</td>\n",
       "      <td>...</td>\n",
       "      <td>20.0</td>\n",
       "      <td>NaN</td>\n",
       "      <td>NaN</td>\n",
       "      <td>NaN</td>\n",
       "      <td>NaN</td>\n",
       "      <td>NaN</td>\n",
       "      <td>0.0</td>\n",
       "      <td>0.0</td>\n",
       "      <td>NaN</td>\n",
       "      <td>NaN</td>\n",
       "    </tr>\n",
       "    <tr>\n",
       "      <th>4</th>\n",
       "      <td>0.0</td>\n",
       "      <td>0.0</td>\n",
       "      <td>0.0</td>\n",
       "      <td>0.0</td>\n",
       "      <td>1.0</td>\n",
       "      <td>0.0</td>\n",
       "      <td>0.0</td>\n",
       "      <td>0.0</td>\n",
       "      <td>0.0</td>\n",
       "      <td>0.0</td>\n",
       "      <td>...</td>\n",
       "      <td>20.0</td>\n",
       "      <td>NaN</td>\n",
       "      <td>NaN</td>\n",
       "      <td>NaN</td>\n",
       "      <td>NaN</td>\n",
       "      <td>NaN</td>\n",
       "      <td>0.0</td>\n",
       "      <td>0.0</td>\n",
       "      <td>NaN</td>\n",
       "      <td>NaN</td>\n",
       "    </tr>\n",
       "  </tbody>\n",
       "</table>\n",
       "<p>5 rows × 553 columns</p>\n",
       "</div>"
      ],
      "text/plain": [
       "   rna_id:TTYH_BC_000  rna_id:TTYH_BC_001  rna_id:TTYH_BC_002  \\\n",
       "0                 1.0                 0.0                 0.0   \n",
       "1                 0.0                 1.0                 0.0   \n",
       "2                 0.0                 0.0                 1.0   \n",
       "3                 0.0                 0.0                 0.0   \n",
       "4                 0.0                 0.0                 0.0   \n",
       "\n",
       "   rna_id:TTYH_BC_003  rna_id:TTYH_BC_004  rna_id:TTYH_BC_005  \\\n",
       "0                 0.0                 0.0                 0.0   \n",
       "1                 0.0                 0.0                 0.0   \n",
       "2                 0.0                 0.0                 0.0   \n",
       "3                 1.0                 0.0                 0.0   \n",
       "4                 0.0                 1.0                 0.0   \n",
       "\n",
       "   rna_id:TTYH_BC_006  rna_id:TTYH_BC_007  rna_id:TTYH_BC_008  \\\n",
       "0                 0.0                 0.0                 0.0   \n",
       "1                 0.0                 0.0                 0.0   \n",
       "2                 0.0                 0.0                 0.0   \n",
       "3                 0.0                 0.0                 0.0   \n",
       "4                 0.0                 0.0                 0.0   \n",
       "\n",
       "   rna_id:TTYH_BC_009  ...  d3_length_stem  d3_length_hairpin  \\\n",
       "0                 0.0  ...            20.0                NaN   \n",
       "1                 0.0  ...            20.0                NaN   \n",
       "2                 0.0  ...            20.0                NaN   \n",
       "3                 0.0  ...            20.0                NaN   \n",
       "4                 0.0  ...            20.0                NaN   \n",
       "\n",
       "   d3_length_bulge  d3_length_internal_es  d3_length_internal_ecs  \\\n",
       "0              NaN                    NaN                     NaN   \n",
       "1              NaN                    NaN                     NaN   \n",
       "2              NaN                    NaN                     NaN   \n",
       "3              NaN                    NaN                     NaN   \n",
       "4              NaN                    NaN                     NaN   \n",
       "\n",
       "   d3_5prm_cp_hairpin  d3_5prm_cp_bulge:G:C  d3_3prm_cp_bulge:G:C  \\\n",
       "0                 NaN                   0.0                   0.0   \n",
       "1                 NaN                   0.0                   0.0   \n",
       "2                 NaN                   0.0                   0.0   \n",
       "3                 NaN                   0.0                   0.0   \n",
       "4                 NaN                   0.0                   0.0   \n",
       "\n",
       "   d3_5prm_cp_internal  d3_3prm_cp_internal  \n",
       "0                  NaN                  NaN  \n",
       "1                  NaN                  NaN  \n",
       "2                  NaN                  NaN  \n",
       "3                  NaN                  NaN  \n",
       "4                  NaN                  NaN  \n",
       "\n",
       "[5 rows x 553 columns]"
      ]
     },
     "execution_count": 14,
     "metadata": {},
     "output_type": "execute_result"
    }
   ],
   "source": [
    "data.head()"
   ]
  },
  {
   "cell_type": "code",
   "execution_count": 15,
   "metadata": {
    "ExecuteTime": {
     "end_time": "2020-06-20T21:08:15.016690Z",
     "start_time": "2020-06-20T21:08:15.010203Z"
    },
    "colab": {},
    "colab_type": "code",
    "id": "_mpqMOf-k0jH"
   },
   "outputs": [],
   "source": [
    "feat_to_plot=open(\"ttyh2_top_feat.txt\",'r').read().strip().split('\\n')"
   ]
  },
  {
   "cell_type": "code",
   "execution_count": 16,
   "metadata": {
    "ExecuteTime": {
     "end_time": "2020-06-20T21:08:16.109892Z",
     "start_time": "2020-06-20T21:08:16.094162Z"
    }
   },
   "outputs": [],
   "source": [
    "data=data[['editing_value']+feat_to_plot]"
   ]
  },
  {
   "cell_type": "code",
   "execution_count": 17,
   "metadata": {
    "ExecuteTime": {
     "end_time": "2020-06-20T21:08:18.870350Z",
     "start_time": "2020-06-20T21:08:18.856860Z"
    }
   },
   "outputs": [],
   "source": [
    "high_levels=data[data['editing_value']>=1]\n",
    "low_levels=data[data['editing_value']<= -2]\n",
    "remaining_levels=data[(data['editing_value']>-2) & (data['editing_value']<1)]"
   ]
  },
  {
   "cell_type": "code",
   "execution_count": 18,
   "metadata": {
    "ExecuteTime": {
     "end_time": "2020-06-20T21:08:19.847666Z",
     "start_time": "2020-06-20T21:08:19.840116Z"
    }
   },
   "outputs": [
    {
     "data": {
      "text/plain": [
       "(8, 21)"
      ]
     },
     "execution_count": 18,
     "metadata": {},
     "output_type": "execute_result"
    }
   ],
   "source": [
    "high_levels.shape"
   ]
  },
  {
   "cell_type": "code",
   "execution_count": 19,
   "metadata": {
    "ExecuteTime": {
     "end_time": "2020-06-20T21:08:22.885577Z",
     "start_time": "2020-06-20T21:08:22.854559Z"
    }
   },
   "outputs": [],
   "source": [
    "m_high_levels=pd.melt(high_levels)\n",
    "m_high_levels['Group']='High'\n",
    "m_low_levels=pd.melt(low_levels)\n",
    "m_low_levels['Group']='Low'\n",
    "m_remaining=pd.melt(remaining_levels)\n",
    "m_remaining['Group']=\"Other\"\n",
    "all_df=pd.concat((m_high_levels,m_low_levels,m_remaining),axis=0)"
   ]
  },
  {
   "cell_type": "code",
   "execution_count": 22,
   "metadata": {
    "ExecuteTime": {
     "end_time": "2020-06-20T21:27:03.292514Z",
     "start_time": "2020-06-20T21:26:49.440738Z"
    }
   },
   "outputs": [
    {
     "name": "stderr",
     "output_type": "stream",
     "text": [
      "/users/annashch/miniconda3/lib/python3.7/site-packages/plotnine/layer.py:360: PlotnineWarning: stat_boxplot : Removed 88 rows containing non-finite values.\n",
      "  data = self.stat.compute_layer(data, params, layout)\n"
     ]
    },
    {
     "data": {
      "image/png": "[encoded data removed]",
      "text/plain": [
       "<Figure size 1000x400 with 1 Axes>"
      ]
     },
     "metadata": {},
     "output_type": "display_data"
    },
    {
     "name": "stdout",
     "output_type": "stream",
     "text": [
      "<ggplot: (8783563728361)>\n"
     ]
    },
    {
     "name": "stderr",
     "output_type": "stream",
     "text": [
      "/users/annashch/miniconda3/lib/python3.7/site-packages/plotnine/ggplot.py:729: PlotnineWarning: Saving 10 x 3.5 in image.\n",
      "  from_inches(height, units), units), PlotnineWarning)\n",
      "/users/annashch/miniconda3/lib/python3.7/site-packages/plotnine/ggplot.py:730: PlotnineWarning: Filename: TTYH2.editing.outlier.features.svg\n",
      "  warn('Filename: {}'.format(filename), PlotnineWarning)\n",
      "/users/annashch/miniconda3/lib/python3.7/site-packages/plotnine/layer.py:360: PlotnineWarning: stat_boxplot : Removed 88 rows containing non-finite values.\n",
      "  data = self.stat.compute_layer(data, params, layout)\n"
     ]
    }
   ],
   "source": [
    "import plotnine\n",
    "plotnine.options.figure_size = (10, 4)\n",
    "\n",
    "p=(ggplot(all_df, aes('variable', 'value',color='Group'))\n",
    " + geom_boxplot()\n",
    " + ggtitle(\"TTYH2\")\n",
    " + xlab(\"Feature\")\n",
    " + ylab(\"Values\")\n",
    " + scale_color_manual(values=['#e41a1c','#377eb8','#4daf4a'],labels=[\"High (Z>=1)\",\"Low (Z<=-2)\",\"Other (-2<Z<1)\"])\n",
    " + theme_bw()\n",
    " + theme(axis_text_x=element_text(rotation=90, hjust=1)))\n",
    "print(p)\n",
    "ggsave(plot=p, filename='TTYH2.editing.outlier.features.svg',width=10,height=3.5,units='in')\n"
   ]
  },
  {
   "cell_type": "code",
   "execution_count": 21,
   "metadata": {
    "ExecuteTime": {
     "end_time": "2020-06-20T21:09:39.986619Z",
     "start_time": "2020-06-20T21:09:33.085678Z"
    }
   },
   "outputs": [
    {
     "name": "stderr",
     "output_type": "stream",
     "text": [
      "/users/annashch/miniconda3/lib/python3.7/site-packages/plotnine/ggplot.py:729: PlotnineWarning: Saving 10 x 3.5 in image.\n",
      "  from_inches(height, units), units), PlotnineWarning)\n",
      "/users/annashch/miniconda3/lib/python3.7/site-packages/plotnine/ggplot.py:730: PlotnineWarning: Filename: TTYH2.editing.outlier.features.svg\n",
      "  warn('Filename: {}'.format(filename), PlotnineWarning)\n",
      "/users/annashch/miniconda3/lib/python3.7/site-packages/plotnine/layer.py:360: PlotnineWarning: stat_boxplot : Removed 88 rows containing non-finite values.\n",
      "  data = self.stat.compute_layer(data, params, layout)\n"
     ]
    }
   ],
   "source": []
  },
  {
   "cell_type": "code",
   "execution_count": null,
   "metadata": {},
   "outputs": [],
   "source": []
  }
 ],
 "metadata": {
  "colab": {
   "include_colab_link": true,
   "name": "NEIL1_XGBOOST_WITH_TREESHAP.ipynb",
   "provenance": [],
   "toc_visible": true,
   "version": "0.3.2"
  },
  "kernelspec": {
   "display_name": "Python 3",
   "language": "python",
   "name": "python3"
  },
  "language_info": {
   "codemirror_mode": {
    "name": "ipython",
    "version": 3
   },
   "file_extension": ".py",
   "mimetype": "text/x-python",
   "name": "python",
   "nbconvert_exporter": "python",
   "pygments_lexer": "ipython3",
   "version": "3.7.6"
  }
 },
 "nbformat": 4,
 "nbformat_minor": 1
}
