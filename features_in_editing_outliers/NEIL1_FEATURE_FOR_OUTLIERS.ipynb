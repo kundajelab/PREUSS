{
 "cells": [
  {
   "cell_type": "markdown",
   "metadata": {
    "colab_type": "text",
    "id": "view-in-github"
   },
   "source": [
    "<a href=\"https://colab.research.google.com/github/kundajelab/adar_editing/blob/master/xgboost_with_shap/NEIL1_XGBOOST_WITH_TREESHAP.ipynb\" target=\"_parent\"><img src=\"https://colab.research.google.com/assets/colab-badge.svg\" alt=\"Open In Colab\"/></a>"
   ]
  },
  {
   "cell_type": "code",
   "execution_count": 1,
   "metadata": {
    "ExecuteTime": {
     "end_time": "2020-06-20T20:51:40.014946Z",
     "start_time": "2020-06-20T20:51:39.993625Z"
    }
   },
   "outputs": [],
   "source": [
    "%load_ext autoreload\n",
    "%autoreload 2   "
   ]
  },
  {
   "cell_type": "code",
   "execution_count": 2,
   "metadata": {
    "ExecuteTime": {
     "end_time": "2020-06-20T20:51:44.342101Z",
     "start_time": "2020-06-20T20:51:40.017128Z"
    },
    "colab": {
     "base_uri": "https://localhost:8080/",
     "height": 43
    },
    "colab_type": "code",
    "id": "zLG9LI0sk0f6",
    "outputId": "1f408075-dce1-4595-d3f8-76933d43a627"
   },
   "outputs": [],
   "source": [
    "#helper utilities for model training and interpretation \n",
    "import sys \n",
    "sys.path.append('../xgboost_with_shap/')\n",
    "\n",
    "from helpers import * \n",
    "import numpy as np\n",
    "\n",
    "from plotnine import * \n",
    "import pandas as pd \n"
   ]
  },
  {
   "cell_type": "code",
   "execution_count": 3,
   "metadata": {
    "ExecuteTime": {
     "end_time": "2020-06-20T20:51:44.369004Z",
     "start_time": "2020-06-20T20:51:44.345017Z"
    },
    "colab": {},
    "colab_type": "code",
    "id": "NvDrh9gck0jA"
   },
   "outputs": [],
   "source": [
    "data=pd.read_csv(\"../xin_feature_matrices/neil1_computational.features.csv\",header=0,sep=',')"
   ]
  },
  {
   "cell_type": "code",
   "execution_count": 4,
   "metadata": {
    "ExecuteTime": {
     "end_time": "2020-06-20T20:51:44.402325Z",
     "start_time": "2020-06-20T20:51:44.371387Z"
    }
   },
   "outputs": [
    {
     "data": {
      "text/html": [
       "<div>\n",
       "<style scoped>\n",
       "    .dataframe tbody tr th:only-of-type {\n",
       "        vertical-align: middle;\n",
       "    }\n",
       "\n",
       "    .dataframe tbody tr th {\n",
       "        vertical-align: top;\n",
       "    }\n",
       "\n",
       "    .dataframe thead th {\n",
       "        text-align: right;\n",
       "    }\n",
       "</style>\n",
       "<table border=\"1\" class=\"dataframe\">\n",
       "  <thead>\n",
       "    <tr style=\"text-align: right;\">\n",
       "      <th></th>\n",
       "      <th>rna_id</th>\n",
       "      <th>editing_value</th>\n",
       "      <th>minimum_free_energy</th>\n",
       "      <th>ensemble_free_energy</th>\n",
       "      <th>mfe_frequency</th>\n",
       "      <th>ensemble_diversity</th>\n",
       "      <th>sim_nor_score</th>\n",
       "      <th>probability_active_conf</th>\n",
       "      <th>num_mutations</th>\n",
       "      <th>mut_exist</th>\n",
       "      <th>...</th>\n",
       "      <th>d3_length_stem</th>\n",
       "      <th>d3_length_hairpin</th>\n",
       "      <th>d3_length_bulge</th>\n",
       "      <th>d3_length_internal_es</th>\n",
       "      <th>d3_length_internal_ecs</th>\n",
       "      <th>d3_5prm_cp_hairpin</th>\n",
       "      <th>d3_5prm_cp_bulge</th>\n",
       "      <th>d3_3prm_cp_bulge</th>\n",
       "      <th>d3_5prm_cp_internal</th>\n",
       "      <th>d3_3prm_cp_internal</th>\n",
       "    </tr>\n",
       "  </thead>\n",
       "  <tbody>\n",
       "    <tr>\n",
       "      <th>0</th>\n",
       "      <td>1</td>\n",
       "      <td>0.58</td>\n",
       "      <td>-40.1</td>\n",
       "      <td>-41.29</td>\n",
       "      <td>0.143877</td>\n",
       "      <td>29.39</td>\n",
       "      <td>0.7426</td>\n",
       "      <td>0.137610</td>\n",
       "      <td>1</td>\n",
       "      <td>1</td>\n",
       "      <td>...</td>\n",
       "      <td>9</td>\n",
       "      <td>NaN</td>\n",
       "      <td>NaN</td>\n",
       "      <td>NaN</td>\n",
       "      <td>NaN</td>\n",
       "      <td>NaN</td>\n",
       "      <td>NaN</td>\n",
       "      <td>NaN</td>\n",
       "      <td>NaN</td>\n",
       "      <td>NaN</td>\n",
       "    </tr>\n",
       "    <tr>\n",
       "      <th>1</th>\n",
       "      <td>2</td>\n",
       "      <td>0.46</td>\n",
       "      <td>-38.5</td>\n",
       "      <td>-39.30</td>\n",
       "      <td>0.274518</td>\n",
       "      <td>10.93</td>\n",
       "      <td>0.9125</td>\n",
       "      <td>0.131799</td>\n",
       "      <td>1</td>\n",
       "      <td>1</td>\n",
       "      <td>...</td>\n",
       "      <td>5</td>\n",
       "      <td>NaN</td>\n",
       "      <td>NaN</td>\n",
       "      <td>NaN</td>\n",
       "      <td>NaN</td>\n",
       "      <td>NaN</td>\n",
       "      <td>NaN</td>\n",
       "      <td>NaN</td>\n",
       "      <td>NaN</td>\n",
       "      <td>NaN</td>\n",
       "    </tr>\n",
       "    <tr>\n",
       "      <th>2</th>\n",
       "      <td>3</td>\n",
       "      <td>0.49</td>\n",
       "      <td>-39.1</td>\n",
       "      <td>-40.32</td>\n",
       "      <td>0.138271</td>\n",
       "      <td>28.24</td>\n",
       "      <td>0.9301</td>\n",
       "      <td>0.065449</td>\n",
       "      <td>1</td>\n",
       "      <td>1</td>\n",
       "      <td>...</td>\n",
       "      <td>5</td>\n",
       "      <td>NaN</td>\n",
       "      <td>NaN</td>\n",
       "      <td>NaN</td>\n",
       "      <td>NaN</td>\n",
       "      <td>NaN</td>\n",
       "      <td>NaN</td>\n",
       "      <td>NaN</td>\n",
       "      <td>NaN</td>\n",
       "      <td>NaN</td>\n",
       "    </tr>\n",
       "    <tr>\n",
       "      <th>3</th>\n",
       "      <td>4</td>\n",
       "      <td>0.48</td>\n",
       "      <td>-44.1</td>\n",
       "      <td>-44.78</td>\n",
       "      <td>0.331605</td>\n",
       "      <td>4.19</td>\n",
       "      <td>1.0000</td>\n",
       "      <td>0.321958</td>\n",
       "      <td>1</td>\n",
       "      <td>1</td>\n",
       "      <td>...</td>\n",
       "      <td>5</td>\n",
       "      <td>NaN</td>\n",
       "      <td>NaN</td>\n",
       "      <td>NaN</td>\n",
       "      <td>NaN</td>\n",
       "      <td>NaN</td>\n",
       "      <td>NaN</td>\n",
       "      <td>NaN</td>\n",
       "      <td>NaN</td>\n",
       "      <td>NaN</td>\n",
       "    </tr>\n",
       "    <tr>\n",
       "      <th>4</th>\n",
       "      <td>5</td>\n",
       "      <td>0.59</td>\n",
       "      <td>-40.8</td>\n",
       "      <td>-41.45</td>\n",
       "      <td>0.346702</td>\n",
       "      <td>8.25</td>\n",
       "      <td>0.7400</td>\n",
       "      <td>0.169233</td>\n",
       "      <td>1</td>\n",
       "      <td>1</td>\n",
       "      <td>...</td>\n",
       "      <td>9</td>\n",
       "      <td>NaN</td>\n",
       "      <td>NaN</td>\n",
       "      <td>NaN</td>\n",
       "      <td>NaN</td>\n",
       "      <td>NaN</td>\n",
       "      <td>NaN</td>\n",
       "      <td>NaN</td>\n",
       "      <td>NaN</td>\n",
       "      <td>NaN</td>\n",
       "    </tr>\n",
       "  </tbody>\n",
       "</table>\n",
       "<p>5 rows × 127 columns</p>\n",
       "</div>"
      ],
      "text/plain": [
       "   rna_id  editing_value  minimum_free_energy  ensemble_free_energy  \\\n",
       "0       1           0.58                -40.1                -41.29   \n",
       "1       2           0.46                -38.5                -39.30   \n",
       "2       3           0.49                -39.1                -40.32   \n",
       "3       4           0.48                -44.1                -44.78   \n",
       "4       5           0.59                -40.8                -41.45   \n",
       "\n",
       "   mfe_frequency  ensemble_diversity  sim_nor_score  probability_active_conf  \\\n",
       "0       0.143877               29.39         0.7426                 0.137610   \n",
       "1       0.274518               10.93         0.9125                 0.131799   \n",
       "2       0.138271               28.24         0.9301                 0.065449   \n",
       "3       0.331605                4.19         1.0000                 0.321958   \n",
       "4       0.346702                8.25         0.7400                 0.169233   \n",
       "\n",
       "   num_mutations  mut_exist  ... d3_length_stem  d3_length_hairpin  \\\n",
       "0              1          1  ...              9                NaN   \n",
       "1              1          1  ...              5                NaN   \n",
       "2              1          1  ...              5                NaN   \n",
       "3              1          1  ...              5                NaN   \n",
       "4              1          1  ...              9                NaN   \n",
       "\n",
       "   d3_length_bulge d3_length_internal_es d3_length_internal_ecs  \\\n",
       "0              NaN                   NaN                    NaN   \n",
       "1              NaN                   NaN                    NaN   \n",
       "2              NaN                   NaN                    NaN   \n",
       "3              NaN                   NaN                    NaN   \n",
       "4              NaN                   NaN                    NaN   \n",
       "\n",
       "  d3_5prm_cp_hairpin d3_5prm_cp_bulge d3_3prm_cp_bulge d3_5prm_cp_internal  \\\n",
       "0                NaN              NaN              NaN                 NaN   \n",
       "1                NaN              NaN              NaN                 NaN   \n",
       "2                NaN              NaN              NaN                 NaN   \n",
       "3                NaN              NaN              NaN                 NaN   \n",
       "4                NaN              NaN              NaN                 NaN   \n",
       "\n",
       "   d3_3prm_cp_internal  \n",
       "0                  NaN  \n",
       "1                  NaN  \n",
       "2                  NaN  \n",
       "3                  NaN  \n",
       "4                  NaN  \n",
       "\n",
       "[5 rows x 127 columns]"
      ]
     },
     "execution_count": 4,
     "metadata": {},
     "output_type": "execute_result"
    }
   ],
   "source": [
    "data.head()"
   ]
  },
  {
   "cell_type": "code",
   "execution_count": 5,
   "metadata": {
    "ExecuteTime": {
     "end_time": "2020-06-20T20:51:44.410150Z",
     "start_time": "2020-06-20T20:51:44.404186Z"
    },
    "colab": {},
    "colab_type": "code",
    "id": "PhUOGyKuk0jC"
   },
   "outputs": [],
   "source": [
    "#remove any null editing level values \n",
    "data=data[~data[\"editing_value\"].isnull().values]"
   ]
  },
  {
   "cell_type": "code",
   "execution_count": 6,
   "metadata": {
    "ExecuteTime": {
     "end_time": "2020-06-20T20:51:44.444350Z",
     "start_time": "2020-06-20T20:51:44.413144Z"
    }
   },
   "outputs": [],
   "source": [
    "data['editing_value']=(data['editing_value']-0.64)/np.std(data['editing_value']-0.64)"
   ]
  },
  {
   "cell_type": "code",
   "execution_count": 7,
   "metadata": {
    "ExecuteTime": {
     "end_time": "2020-06-20T20:51:44.966014Z",
     "start_time": "2020-06-20T20:51:44.446819Z"
    },
    "colab": {},
    "colab_type": "code",
    "id": "2zaHl8clk0jE"
   },
   "outputs": [
    {
     "name": "stderr",
     "output_type": "stream",
     "text": [
      "../xgboost_with_shap/helpers.py:103: SettingWithCopyWarning: \n",
      "A value is trying to be set on a copy of a slice from a DataFrame\n",
      "\n",
      "See the caveats in the documentation: https://pandas.pydata.org/pandas-docs/stable/user_guide/indexing.html#returning-a-view-versus-a-copy\n",
      "  feature[pd.isna(feature)]=\"NA\"\n",
      "../xgboost_with_shap/helpers.py:103: SettingWithCopyWarning: \n",
      "A value is trying to be set on a copy of a slice from a DataFrame\n",
      "\n",
      "See the caveats in the documentation: https://pandas.pydata.org/pandas-docs/stable/user_guide/indexing.html#returning-a-view-versus-a-copy\n",
      "  feature[pd.isna(feature)]=\"NA\"\n",
      "../xgboost_with_shap/helpers.py:103: SettingWithCopyWarning: \n",
      "A value is trying to be set on a copy of a slice from a DataFrame\n",
      "\n",
      "See the caveats in the documentation: https://pandas.pydata.org/pandas-docs/stable/user_guide/indexing.html#returning-a-view-versus-a-copy\n",
      "  feature[pd.isna(feature)]=\"NA\"\n",
      "../xgboost_with_shap/helpers.py:103: SettingWithCopyWarning: \n",
      "A value is trying to be set on a copy of a slice from a DataFrame\n",
      "\n",
      "See the caveats in the documentation: https://pandas.pydata.org/pandas-docs/stable/user_guide/indexing.html#returning-a-view-versus-a-copy\n",
      "  feature[pd.isna(feature)]=\"NA\"\n",
      "../xgboost_with_shap/helpers.py:103: SettingWithCopyWarning: \n",
      "A value is trying to be set on a copy of a slice from a DataFrame\n",
      "\n",
      "See the caveats in the documentation: https://pandas.pydata.org/pandas-docs/stable/user_guide/indexing.html#returning-a-view-versus-a-copy\n",
      "  feature[pd.isna(feature)]=\"NA\"\n",
      "../xgboost_with_shap/helpers.py:103: SettingWithCopyWarning: \n",
      "A value is trying to be set on a copy of a slice from a DataFrame\n",
      "\n",
      "See the caveats in the documentation: https://pandas.pydata.org/pandas-docs/stable/user_guide/indexing.html#returning-a-view-versus-a-copy\n",
      "  feature[pd.isna(feature)]=\"NA\"\n",
      "../xgboost_with_shap/helpers.py:103: SettingWithCopyWarning: \n",
      "A value is trying to be set on a copy of a slice from a DataFrame\n",
      "\n",
      "See the caveats in the documentation: https://pandas.pydata.org/pandas-docs/stable/user_guide/indexing.html#returning-a-view-versus-a-copy\n",
      "  feature[pd.isna(feature)]=\"NA\"\n",
      "../xgboost_with_shap/helpers.py:103: SettingWithCopyWarning: \n",
      "A value is trying to be set on a copy of a slice from a DataFrame\n",
      "\n",
      "See the caveats in the documentation: https://pandas.pydata.org/pandas-docs/stable/user_guide/indexing.html#returning-a-view-versus-a-copy\n",
      "  feature[pd.isna(feature)]=\"NA\"\n",
      "../xgboost_with_shap/helpers.py:103: SettingWithCopyWarning: \n",
      "A value is trying to be set on a copy of a slice from a DataFrame\n",
      "\n",
      "See the caveats in the documentation: https://pandas.pydata.org/pandas-docs/stable/user_guide/indexing.html#returning-a-view-versus-a-copy\n",
      "  feature[pd.isna(feature)]=\"NA\"\n",
      "../xgboost_with_shap/helpers.py:103: SettingWithCopyWarning: \n",
      "A value is trying to be set on a copy of a slice from a DataFrame\n",
      "\n",
      "See the caveats in the documentation: https://pandas.pydata.org/pandas-docs/stable/user_guide/indexing.html#returning-a-view-versus-a-copy\n",
      "  feature[pd.isna(feature)]=\"NA\"\n",
      "../xgboost_with_shap/helpers.py:103: SettingWithCopyWarning: \n",
      "A value is trying to be set on a copy of a slice from a DataFrame\n",
      "\n",
      "See the caveats in the documentation: https://pandas.pydata.org/pandas-docs/stable/user_guide/indexing.html#returning-a-view-versus-a-copy\n",
      "  feature[pd.isna(feature)]=\"NA\"\n",
      "../xgboost_with_shap/helpers.py:103: SettingWithCopyWarning: \n",
      "A value is trying to be set on a copy of a slice from a DataFrame\n",
      "\n",
      "See the caveats in the documentation: https://pandas.pydata.org/pandas-docs/stable/user_guide/indexing.html#returning-a-view-versus-a-copy\n",
      "  feature[pd.isna(feature)]=\"NA\"\n",
      "../xgboost_with_shap/helpers.py:103: SettingWithCopyWarning: \n",
      "A value is trying to be set on a copy of a slice from a DataFrame\n",
      "\n",
      "See the caveats in the documentation: https://pandas.pydata.org/pandas-docs/stable/user_guide/indexing.html#returning-a-view-versus-a-copy\n",
      "  feature[pd.isna(feature)]=\"NA\"\n",
      "../xgboost_with_shap/helpers.py:103: SettingWithCopyWarning: \n",
      "A value is trying to be set on a copy of a slice from a DataFrame\n",
      "\n",
      "See the caveats in the documentation: https://pandas.pydata.org/pandas-docs/stable/user_guide/indexing.html#returning-a-view-versus-a-copy\n",
      "  feature[pd.isna(feature)]=\"NA\"\n",
      "../xgboost_with_shap/helpers.py:103: SettingWithCopyWarning: \n",
      "A value is trying to be set on a copy of a slice from a DataFrame\n",
      "\n",
      "See the caveats in the documentation: https://pandas.pydata.org/pandas-docs/stable/user_guide/indexing.html#returning-a-view-versus-a-copy\n",
      "  feature[pd.isna(feature)]=\"NA\"\n",
      "../xgboost_with_shap/helpers.py:103: SettingWithCopyWarning: \n",
      "A value is trying to be set on a copy of a slice from a DataFrame\n",
      "\n",
      "See the caveats in the documentation: https://pandas.pydata.org/pandas-docs/stable/user_guide/indexing.html#returning-a-view-versus-a-copy\n",
      "  feature[pd.isna(feature)]=\"NA\"\n",
      "../xgboost_with_shap/helpers.py:103: SettingWithCopyWarning: \n",
      "A value is trying to be set on a copy of a slice from a DataFrame\n",
      "\n",
      "See the caveats in the documentation: https://pandas.pydata.org/pandas-docs/stable/user_guide/indexing.html#returning-a-view-versus-a-copy\n",
      "  feature[pd.isna(feature)]=\"NA\"\n",
      "../xgboost_with_shap/helpers.py:103: SettingWithCopyWarning: \n",
      "A value is trying to be set on a copy of a slice from a DataFrame\n",
      "\n",
      "See the caveats in the documentation: https://pandas.pydata.org/pandas-docs/stable/user_guide/indexing.html#returning-a-view-versus-a-copy\n",
      "  feature[pd.isna(feature)]=\"NA\"\n",
      "../xgboost_with_shap/helpers.py:103: SettingWithCopyWarning: \n",
      "A value is trying to be set on a copy of a slice from a DataFrame\n",
      "\n",
      "See the caveats in the documentation: https://pandas.pydata.org/pandas-docs/stable/user_guide/indexing.html#returning-a-view-versus-a-copy\n",
      "  feature[pd.isna(feature)]=\"NA\"\n",
      "../xgboost_with_shap/helpers.py:103: SettingWithCopyWarning: \n",
      "A value is trying to be set on a copy of a slice from a DataFrame\n",
      "\n",
      "See the caveats in the documentation: https://pandas.pydata.org/pandas-docs/stable/user_guide/indexing.html#returning-a-view-versus-a-copy\n",
      "  feature[pd.isna(feature)]=\"NA\"\n",
      "../xgboost_with_shap/helpers.py:103: SettingWithCopyWarning: \n",
      "A value is trying to be set on a copy of a slice from a DataFrame\n",
      "\n",
      "See the caveats in the documentation: https://pandas.pydata.org/pandas-docs/stable/user_guide/indexing.html#returning-a-view-versus-a-copy\n",
      "  feature[pd.isna(feature)]=\"NA\"\n",
      "../xgboost_with_shap/helpers.py:103: SettingWithCopyWarning: \n",
      "A value is trying to be set on a copy of a slice from a DataFrame\n",
      "\n",
      "See the caveats in the documentation: https://pandas.pydata.org/pandas-docs/stable/user_guide/indexing.html#returning-a-view-versus-a-copy\n",
      "  feature[pd.isna(feature)]=\"NA\"\n",
      "../xgboost_with_shap/helpers.py:103: SettingWithCopyWarning: \n",
      "A value is trying to be set on a copy of a slice from a DataFrame\n",
      "\n",
      "See the caveats in the documentation: https://pandas.pydata.org/pandas-docs/stable/user_guide/indexing.html#returning-a-view-versus-a-copy\n",
      "  feature[pd.isna(feature)]=\"NA\"\n",
      "../xgboost_with_shap/helpers.py:103: SettingWithCopyWarning: \n",
      "A value is trying to be set on a copy of a slice from a DataFrame\n",
      "\n",
      "See the caveats in the documentation: https://pandas.pydata.org/pandas-docs/stable/user_guide/indexing.html#returning-a-view-versus-a-copy\n",
      "  feature[pd.isna(feature)]=\"NA\"\n",
      "../xgboost_with_shap/helpers.py:103: SettingWithCopyWarning: \n",
      "A value is trying to be set on a copy of a slice from a DataFrame\n",
      "\n",
      "See the caveats in the documentation: https://pandas.pydata.org/pandas-docs/stable/user_guide/indexing.html#returning-a-view-versus-a-copy\n",
      "  feature[pd.isna(feature)]=\"NA\"\n",
      "../xgboost_with_shap/helpers.py:103: SettingWithCopyWarning: \n",
      "A value is trying to be set on a copy of a slice from a DataFrame\n",
      "\n",
      "See the caveats in the documentation: https://pandas.pydata.org/pandas-docs/stable/user_guide/indexing.html#returning-a-view-versus-a-copy\n",
      "  feature[pd.isna(feature)]=\"NA\"\n",
      "../xgboost_with_shap/helpers.py:103: SettingWithCopyWarning: \n",
      "A value is trying to be set on a copy of a slice from a DataFrame\n",
      "\n",
      "See the caveats in the documentation: https://pandas.pydata.org/pandas-docs/stable/user_guide/indexing.html#returning-a-view-versus-a-copy\n",
      "  feature[pd.isna(feature)]=\"NA\"\n",
      "../xgboost_with_shap/helpers.py:103: SettingWithCopyWarning: \n",
      "A value is trying to be set on a copy of a slice from a DataFrame\n",
      "\n",
      "See the caveats in the documentation: https://pandas.pydata.org/pandas-docs/stable/user_guide/indexing.html#returning-a-view-versus-a-copy\n",
      "  feature[pd.isna(feature)]=\"NA\"\n",
      "../xgboost_with_shap/helpers.py:103: SettingWithCopyWarning: \n",
      "A value is trying to be set on a copy of a slice from a DataFrame\n",
      "\n",
      "See the caveats in the documentation: https://pandas.pydata.org/pandas-docs/stable/user_guide/indexing.html#returning-a-view-versus-a-copy\n",
      "  feature[pd.isna(feature)]=\"NA\"\n",
      "../xgboost_with_shap/helpers.py:103: SettingWithCopyWarning: \n",
      "A value is trying to be set on a copy of a slice from a DataFrame\n",
      "\n",
      "See the caveats in the documentation: https://pandas.pydata.org/pandas-docs/stable/user_guide/indexing.html#returning-a-view-versus-a-copy\n",
      "  feature[pd.isna(feature)]=\"NA\"\n",
      "../xgboost_with_shap/helpers.py:103: SettingWithCopyWarning: \n",
      "A value is trying to be set on a copy of a slice from a DataFrame\n",
      "\n",
      "See the caveats in the documentation: https://pandas.pydata.org/pandas-docs/stable/user_guide/indexing.html#returning-a-view-versus-a-copy\n",
      "  feature[pd.isna(feature)]=\"NA\"\n"
     ]
    },
    {
     "name": "stdout",
     "output_type": "stream",
     "text": [
      "(434, 203)\n"
     ]
    },
    {
     "name": "stderr",
     "output_type": "stream",
     "text": [
      "../xgboost_with_shap/helpers.py:103: SettingWithCopyWarning: \n",
      "A value is trying to be set on a copy of a slice from a DataFrame\n",
      "\n",
      "See the caveats in the documentation: https://pandas.pydata.org/pandas-docs/stable/user_guide/indexing.html#returning-a-view-versus-a-copy\n",
      "  feature[pd.isna(feature)]=\"NA\"\n",
      "../xgboost_with_shap/helpers.py:103: SettingWithCopyWarning: \n",
      "A value is trying to be set on a copy of a slice from a DataFrame\n",
      "\n",
      "See the caveats in the documentation: https://pandas.pydata.org/pandas-docs/stable/user_guide/indexing.html#returning-a-view-versus-a-copy\n",
      "  feature[pd.isna(feature)]=\"NA\"\n"
     ]
    }
   ],
   "source": [
    "data=format_for_xgboost(data)"
   ]
  },
  {
   "cell_type": "code",
   "execution_count": 8,
   "metadata": {
    "ExecuteTime": {
     "end_time": "2020-06-20T20:51:44.988614Z",
     "start_time": "2020-06-20T20:51:44.968147Z"
    }
   },
   "outputs": [
    {
     "data": {
      "text/html": [
       "<div>\n",
       "<style scoped>\n",
       "    .dataframe tbody tr th:only-of-type {\n",
       "        vertical-align: middle;\n",
       "    }\n",
       "\n",
       "    .dataframe tbody tr th {\n",
       "        vertical-align: top;\n",
       "    }\n",
       "\n",
       "    .dataframe thead th {\n",
       "        text-align: right;\n",
       "    }\n",
       "</style>\n",
       "<table border=\"1\" class=\"dataframe\">\n",
       "  <thead>\n",
       "    <tr style=\"text-align: right;\">\n",
       "      <th></th>\n",
       "      <th>rna_id</th>\n",
       "      <th>editing_value</th>\n",
       "      <th>minimum_free_energy</th>\n",
       "      <th>ensemble_free_energy</th>\n",
       "      <th>mfe_frequency</th>\n",
       "      <th>ensemble_diversity</th>\n",
       "      <th>sim_nor_score</th>\n",
       "      <th>probability_active_conf</th>\n",
       "      <th>num_mutations</th>\n",
       "      <th>mut_exist</th>\n",
       "      <th>...</th>\n",
       "      <th>d3_length_stem</th>\n",
       "      <th>d3_length_hairpin</th>\n",
       "      <th>d3_length_bulge</th>\n",
       "      <th>d3_length_internal_es</th>\n",
       "      <th>d3_length_internal_ecs</th>\n",
       "      <th>d3_5prm_cp_hairpin</th>\n",
       "      <th>d3_5prm_cp_bulge</th>\n",
       "      <th>d3_3prm_cp_bulge</th>\n",
       "      <th>d3_5prm_cp_internal</th>\n",
       "      <th>d3_3prm_cp_internal</th>\n",
       "    </tr>\n",
       "  </thead>\n",
       "  <tbody>\n",
       "    <tr>\n",
       "      <th>0</th>\n",
       "      <td>1</td>\n",
       "      <td>-0.248570</td>\n",
       "      <td>-40.1</td>\n",
       "      <td>-41.29</td>\n",
       "      <td>0.143877</td>\n",
       "      <td>29.39</td>\n",
       "      <td>0.7426</td>\n",
       "      <td>0.137610</td>\n",
       "      <td>1</td>\n",
       "      <td>1</td>\n",
       "      <td>...</td>\n",
       "      <td>9</td>\n",
       "      <td>NaN</td>\n",
       "      <td>NaN</td>\n",
       "      <td>NaN</td>\n",
       "      <td>NaN</td>\n",
       "      <td>NaN</td>\n",
       "      <td>NaN</td>\n",
       "      <td>NaN</td>\n",
       "      <td>NaN</td>\n",
       "      <td>NaN</td>\n",
       "    </tr>\n",
       "    <tr>\n",
       "      <th>1</th>\n",
       "      <td>2</td>\n",
       "      <td>-0.745710</td>\n",
       "      <td>-38.5</td>\n",
       "      <td>-39.30</td>\n",
       "      <td>0.274518</td>\n",
       "      <td>10.93</td>\n",
       "      <td>0.9125</td>\n",
       "      <td>0.131799</td>\n",
       "      <td>1</td>\n",
       "      <td>1</td>\n",
       "      <td>...</td>\n",
       "      <td>5</td>\n",
       "      <td>NaN</td>\n",
       "      <td>NaN</td>\n",
       "      <td>NaN</td>\n",
       "      <td>NaN</td>\n",
       "      <td>NaN</td>\n",
       "      <td>NaN</td>\n",
       "      <td>NaN</td>\n",
       "      <td>NaN</td>\n",
       "      <td>NaN</td>\n",
       "    </tr>\n",
       "    <tr>\n",
       "      <th>2</th>\n",
       "      <td>3</td>\n",
       "      <td>-0.621425</td>\n",
       "      <td>-39.1</td>\n",
       "      <td>-40.32</td>\n",
       "      <td>0.138271</td>\n",
       "      <td>28.24</td>\n",
       "      <td>0.9301</td>\n",
       "      <td>0.065449</td>\n",
       "      <td>1</td>\n",
       "      <td>1</td>\n",
       "      <td>...</td>\n",
       "      <td>5</td>\n",
       "      <td>NaN</td>\n",
       "      <td>NaN</td>\n",
       "      <td>NaN</td>\n",
       "      <td>NaN</td>\n",
       "      <td>NaN</td>\n",
       "      <td>NaN</td>\n",
       "      <td>NaN</td>\n",
       "      <td>NaN</td>\n",
       "      <td>NaN</td>\n",
       "    </tr>\n",
       "    <tr>\n",
       "      <th>3</th>\n",
       "      <td>4</td>\n",
       "      <td>-0.662853</td>\n",
       "      <td>-44.1</td>\n",
       "      <td>-44.78</td>\n",
       "      <td>0.331605</td>\n",
       "      <td>4.19</td>\n",
       "      <td>1.0000</td>\n",
       "      <td>0.321958</td>\n",
       "      <td>1</td>\n",
       "      <td>1</td>\n",
       "      <td>...</td>\n",
       "      <td>5</td>\n",
       "      <td>NaN</td>\n",
       "      <td>NaN</td>\n",
       "      <td>NaN</td>\n",
       "      <td>NaN</td>\n",
       "      <td>NaN</td>\n",
       "      <td>NaN</td>\n",
       "      <td>NaN</td>\n",
       "      <td>NaN</td>\n",
       "      <td>NaN</td>\n",
       "    </tr>\n",
       "    <tr>\n",
       "      <th>4</th>\n",
       "      <td>5</td>\n",
       "      <td>-0.207142</td>\n",
       "      <td>-40.8</td>\n",
       "      <td>-41.45</td>\n",
       "      <td>0.346702</td>\n",
       "      <td>8.25</td>\n",
       "      <td>0.7400</td>\n",
       "      <td>0.169233</td>\n",
       "      <td>1</td>\n",
       "      <td>1</td>\n",
       "      <td>...</td>\n",
       "      <td>9</td>\n",
       "      <td>NaN</td>\n",
       "      <td>NaN</td>\n",
       "      <td>NaN</td>\n",
       "      <td>NaN</td>\n",
       "      <td>NaN</td>\n",
       "      <td>NaN</td>\n",
       "      <td>NaN</td>\n",
       "      <td>NaN</td>\n",
       "      <td>NaN</td>\n",
       "    </tr>\n",
       "  </tbody>\n",
       "</table>\n",
       "<p>5 rows × 203 columns</p>\n",
       "</div>"
      ],
      "text/plain": [
       "   rna_id  editing_value  minimum_free_energy  ensemble_free_energy  \\\n",
       "0       1      -0.248570                -40.1                -41.29   \n",
       "1       2      -0.745710                -38.5                -39.30   \n",
       "2       3      -0.621425                -39.1                -40.32   \n",
       "3       4      -0.662853                -44.1                -44.78   \n",
       "4       5      -0.207142                -40.8                -41.45   \n",
       "\n",
       "   mfe_frequency  ensemble_diversity  sim_nor_score  probability_active_conf  \\\n",
       "0       0.143877               29.39         0.7426                 0.137610   \n",
       "1       0.274518               10.93         0.9125                 0.131799   \n",
       "2       0.138271               28.24         0.9301                 0.065449   \n",
       "3       0.331605                4.19         1.0000                 0.321958   \n",
       "4       0.346702                8.25         0.7400                 0.169233   \n",
       "\n",
       "   num_mutations  mut_exist  ...  d3_length_stem  d3_length_hairpin  \\\n",
       "0              1          1  ...               9                NaN   \n",
       "1              1          1  ...               5                NaN   \n",
       "2              1          1  ...               5                NaN   \n",
       "3              1          1  ...               5                NaN   \n",
       "4              1          1  ...               9                NaN   \n",
       "\n",
       "   d3_length_bulge  d3_length_internal_es  d3_length_internal_ecs  \\\n",
       "0              NaN                    NaN                     NaN   \n",
       "1              NaN                    NaN                     NaN   \n",
       "2              NaN                    NaN                     NaN   \n",
       "3              NaN                    NaN                     NaN   \n",
       "4              NaN                    NaN                     NaN   \n",
       "\n",
       "   d3_5prm_cp_hairpin  d3_5prm_cp_bulge  d3_3prm_cp_bulge  \\\n",
       "0                 NaN               NaN               NaN   \n",
       "1                 NaN               NaN               NaN   \n",
       "2                 NaN               NaN               NaN   \n",
       "3                 NaN               NaN               NaN   \n",
       "4                 NaN               NaN               NaN   \n",
       "\n",
       "   d3_5prm_cp_internal  d3_3prm_cp_internal  \n",
       "0                  NaN                  NaN  \n",
       "1                  NaN                  NaN  \n",
       "2                  NaN                  NaN  \n",
       "3                  NaN                  NaN  \n",
       "4                  NaN                  NaN  \n",
       "\n",
       "[5 rows x 203 columns]"
      ]
     },
     "execution_count": 8,
     "metadata": {},
     "output_type": "execute_result"
    }
   ],
   "source": [
    "data.head()"
   ]
  },
  {
   "cell_type": "code",
   "execution_count": 9,
   "metadata": {
    "ExecuteTime": {
     "end_time": "2020-06-20T20:51:44.995505Z",
     "start_time": "2020-06-20T20:51:44.990113Z"
    },
    "colab": {},
    "colab_type": "code",
    "id": "_mpqMOf-k0jH"
   },
   "outputs": [],
   "source": [
    "feat_to_plot=open(\"neil1_top_feat.txt\",'r').read().strip().split('\\n')"
   ]
  },
  {
   "cell_type": "code",
   "execution_count": 10,
   "metadata": {
    "ExecuteTime": {
     "end_time": "2020-06-20T20:51:45.010192Z",
     "start_time": "2020-06-20T20:51:44.996830Z"
    }
   },
   "outputs": [],
   "source": [
    "data=data[['editing_value']+feat_to_plot]"
   ]
  },
  {
   "cell_type": "code",
   "execution_count": 16,
   "metadata": {
    "ExecuteTime": {
     "end_time": "2020-06-20T20:52:17.085336Z",
     "start_time": "2020-06-20T20:52:17.071326Z"
    }
   },
   "outputs": [],
   "source": [
    "high_levels=data[data['editing_value']>=1]\n",
    "low_levels=data[data['editing_value']<= -2]\n",
    "remaining_levels=data[(data['editing_value']>-2) & (data['editing_value']<1)]"
   ]
  },
  {
   "cell_type": "code",
   "execution_count": 17,
   "metadata": {
    "ExecuteTime": {
     "end_time": "2020-06-20T20:52:17.549777Z",
     "start_time": "2020-06-20T20:52:17.541585Z"
    }
   },
   "outputs": [
    {
     "data": {
      "text/plain": [
       "(1, 21)"
      ]
     },
     "execution_count": 17,
     "metadata": {},
     "output_type": "execute_result"
    }
   ],
   "source": [
    "high_levels.shape"
   ]
  },
  {
   "cell_type": "code",
   "execution_count": 18,
   "metadata": {
    "ExecuteTime": {
     "end_time": "2020-06-20T20:52:18.283114Z",
     "start_time": "2020-06-20T20:52:18.256464Z"
    }
   },
   "outputs": [],
   "source": [
    "m_high_levels=pd.melt(high_levels)\n",
    "m_high_levels['Group']='High'\n",
    "m_low_levels=pd.melt(low_levels)\n",
    "m_low_levels['Group']='Low'\n",
    "m_remaining=pd.melt(remaining_levels)\n",
    "m_remaining['Group']=\"Other\"\n",
    "all_df=pd.concat((m_high_levels,m_low_levels,m_remaining),axis=0)"
   ]
  },
  {
   "cell_type": "code",
   "execution_count": 24,
   "metadata": {
    "ExecuteTime": {
     "end_time": "2020-06-20T21:26:31.825924Z",
     "start_time": "2020-06-20T21:26:18.262075Z"
    }
   },
   "outputs": [
    {
     "name": "stderr",
     "output_type": "stream",
     "text": [
      "/users/annashch/miniconda3/lib/python3.7/site-packages/plotnine/layer.py:360: PlotnineWarning: stat_boxplot : Removed 185 rows containing non-finite values.\n",
      "  data = self.stat.compute_layer(data, params, layout)\n"
     ]
    },
    {
     "data": {
      "image/png": "[encoded data removed]",
      "text/plain": [
       "<Figure size 1000x350 with 1 Axes>"
      ]
     },
     "metadata": {},
     "output_type": "display_data"
    },
    {
     "name": "stdout",
     "output_type": "stream",
     "text": [
      "<ggplot: (8752877671101)>\n"
     ]
    },
    {
     "name": "stderr",
     "output_type": "stream",
     "text": [
      "/users/annashch/miniconda3/lib/python3.7/site-packages/plotnine/ggplot.py:729: PlotnineWarning: Saving 10 x 3.5 in image.\n",
      "  from_inches(height, units), units), PlotnineWarning)\n",
      "/users/annashch/miniconda3/lib/python3.7/site-packages/plotnine/ggplot.py:730: PlotnineWarning: Filename: NEIL1.editing.outlier.features.svg\n",
      "  warn('Filename: {}'.format(filename), PlotnineWarning)\n",
      "/users/annashch/miniconda3/lib/python3.7/site-packages/plotnine/layer.py:360: PlotnineWarning: stat_boxplot : Removed 185 rows containing non-finite values.\n",
      "  data = self.stat.compute_layer(data, params, layout)\n"
     ]
    }
   ],
   "source": [
    "import plotnine\n",
    "plotnine.options.figure_size = (10, 3.5)\n",
    "\n",
    "p=(ggplot(all_df, aes('variable', 'value',color='Group'))\n",
    " + geom_boxplot()\n",
    " + ggtitle(\"NEIL1\")\n",
    " + xlab(\"Feature\")\n",
    " + ylab(\"Values\")\n",
    " + scale_color_manual(values=['#e41a1c','#377eb8','#4daf4a'],labels=[\"High (Z>=1)\",\"Low (Z<=-2)\",\"Other (-2<Z<1)\"])\n",
    " + theme_bw()\n",
    " + theme(axis_text_x=element_text(rotation=90, hjust=1)))\n",
    "print(p)\n",
    "ggsave(plot=p, filename='NEIL1.editing.outlier.features.svg',width=10,height=3.5,units='in')\n"
   ]
  },
  {
   "cell_type": "code",
   "execution_count": null,
   "metadata": {},
   "outputs": [],
   "source": []
  }
 ],
 "metadata": {
  "colab": {
   "include_colab_link": true,
   "name": "NEIL1_XGBOOST_WITH_TREESHAP.ipynb",
   "provenance": [],
   "toc_visible": true,
   "version": "0.3.2"
  },
  "kernelspec": {
   "display_name": "Python 3",
   "language": "python",
   "name": "python3"
  },
  "language_info": {
   "codemirror_mode": {
    "name": "ipython",
    "version": 3
   },
   "file_extension": ".py",
   "mimetype": "text/x-python",
   "name": "python",
   "nbconvert_exporter": "python",
   "pygments_lexer": "ipython3",
   "version": "3.7.6"
  }
 },
 "nbformat": 4,
 "nbformat_minor": 1
}
